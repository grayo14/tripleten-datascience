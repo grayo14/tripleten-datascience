{
 "cells": [
  {
   "cell_type": "markdown",
   "metadata": {},
   "source": [
    "# Descripción del proyecto\n",
    "\n",
    "La compañía Sweet Lift Taxi ha recopilado datos históricos sobre pedidos de taxis en los aeropuertos. Para atraer a más conductores durante las horas pico, necesitamos predecir la cantidad de pedidos de taxis para la próxima hora. Construye un modelo para dicha predicción.\n",
    "\n",
    "**=> <u>\"La métrica RECM en el conjunto de prueba no debe ser superior a 48.\"</u>**\n",
    "\n",
    "## Instrucciones del proyecto.\n",
    "\n",
    "1. Descarga los datos y haz el remuestreo por una hora.\n",
    "2. Analiza los datos\n",
    "3. Entrena diferentes modelos con diferentes hiperparámetros. La muestra de prueba debe ser el 10% del conjunto de datos inicial.4. Prueba los datos usando la muestra de prueba y proporciona una conclusión.\n",
    "\n",
    "## Descripción de los datos\n",
    "\n",
    "Los datos se almacenan en el archivo `taxi.csv`. \t\n",
    "El número de pedidos está en la columna `num_orders`."
   ]
  },
  {
   "cell_type": "markdown",
   "metadata": {},
   "source": [
    "## Preparación"
   ]
  },
  {
   "cell_type": "markdown",
   "metadata": {},
   "source": [
    "Primero, cargaremos las librerías a utilizar y analizaremos el dataset con el cual vamos a trabajar."
   ]
  },
  {
   "cell_type": "code",
   "execution_count": 1,
   "metadata": {},
   "outputs": [],
   "source": [
    "# cargar librerías\n",
    "\n",
    "import pandas as pd\n",
    "import datetime as dt\n",
    "\n",
    "from statsmodels.tsa.seasonal import seasonal_decompose\n",
    "import matplotlib.pyplot as plt\n",
    "\n",
    "from sklearn.model_selection import train_test_split\n",
    "from sklearn.linear_model import LinearRegression\n",
    "from sklearn.metrics import mean_squared_error\n",
    "\n",
    "from sklearn.ensemble import RandomForestRegressor\n",
    "from sklearn.tree import DecisionTreeRegressor"
   ]
  },
  {
   "cell_type": "code",
   "execution_count": 2,
   "metadata": {},
   "outputs": [],
   "source": [
    "# cargar dataset\n",
    "\n",
    "data = pd.read_csv(\n",
    "    '/datasets/taxi.csv', index_col=[0], parse_dates=[0]\n",
    ")"
   ]
  },
  {
   "cell_type": "code",
   "execution_count": 3,
   "metadata": {},
   "outputs": [
    {
     "data": {
      "text/html": [
       "<div>\n",
       "<style scoped>\n",
       "    .dataframe tbody tr th:only-of-type {\n",
       "        vertical-align: middle;\n",
       "    }\n",
       "\n",
       "    .dataframe tbody tr th {\n",
       "        vertical-align: top;\n",
       "    }\n",
       "\n",
       "    .dataframe thead th {\n",
       "        text-align: right;\n",
       "    }\n",
       "</style>\n",
       "<table border=\"1\" class=\"dataframe\">\n",
       "  <thead>\n",
       "    <tr style=\"text-align: right;\">\n",
       "      <th></th>\n",
       "      <th>num_orders</th>\n",
       "    </tr>\n",
       "    <tr>\n",
       "      <th>datetime</th>\n",
       "      <th></th>\n",
       "    </tr>\n",
       "  </thead>\n",
       "  <tbody>\n",
       "    <tr>\n",
       "      <th>2018-03-01 00:00:00</th>\n",
       "      <td>9</td>\n",
       "    </tr>\n",
       "    <tr>\n",
       "      <th>2018-03-01 00:10:00</th>\n",
       "      <td>14</td>\n",
       "    </tr>\n",
       "    <tr>\n",
       "      <th>2018-03-01 00:20:00</th>\n",
       "      <td>28</td>\n",
       "    </tr>\n",
       "    <tr>\n",
       "      <th>2018-03-01 00:30:00</th>\n",
       "      <td>20</td>\n",
       "    </tr>\n",
       "    <tr>\n",
       "      <th>2018-03-01 00:40:00</th>\n",
       "      <td>32</td>\n",
       "    </tr>\n",
       "    <tr>\n",
       "      <th>2018-03-01 00:50:00</th>\n",
       "      <td>21</td>\n",
       "    </tr>\n",
       "    <tr>\n",
       "      <th>2018-03-01 01:00:00</th>\n",
       "      <td>7</td>\n",
       "    </tr>\n",
       "    <tr>\n",
       "      <th>2018-03-01 01:10:00</th>\n",
       "      <td>5</td>\n",
       "    </tr>\n",
       "    <tr>\n",
       "      <th>2018-03-01 01:20:00</th>\n",
       "      <td>17</td>\n",
       "    </tr>\n",
       "    <tr>\n",
       "      <th>2018-03-01 01:30:00</th>\n",
       "      <td>12</td>\n",
       "    </tr>\n",
       "  </tbody>\n",
       "</table>\n",
       "</div>"
      ],
      "text/plain": [
       "                     num_orders\n",
       "datetime                       \n",
       "2018-03-01 00:00:00           9\n",
       "2018-03-01 00:10:00          14\n",
       "2018-03-01 00:20:00          28\n",
       "2018-03-01 00:30:00          20\n",
       "2018-03-01 00:40:00          32\n",
       "2018-03-01 00:50:00          21\n",
       "2018-03-01 01:00:00           7\n",
       "2018-03-01 01:10:00           5\n",
       "2018-03-01 01:20:00          17\n",
       "2018-03-01 01:30:00          12"
      ]
     },
     "execution_count": 3,
     "metadata": {},
     "output_type": "execute_result"
    }
   ],
   "source": [
    "# mostrar dataset\n",
    "\n",
    "data.head(10)"
   ]
  },
  {
   "cell_type": "code",
   "execution_count": 4,
   "metadata": {},
   "outputs": [
    {
     "name": "stdout",
     "output_type": "stream",
     "text": [
      "True\n"
     ]
    }
   ],
   "source": [
    "# revisar si los índices están ordenados\n",
    "\n",
    "print(data.index.is_monotonic)"
   ]
  },
  {
   "cell_type": "code",
   "execution_count": 5,
   "metadata": {},
   "outputs": [
    {
     "name": "stdout",
     "output_type": "stream",
     "text": [
      "<class 'pandas.core.frame.DataFrame'>\n",
      "DatetimeIndex: 26496 entries, 2018-03-01 00:00:00 to 2018-08-31 23:50:00\n",
      "Data columns (total 1 columns):\n",
      " #   Column      Non-Null Count  Dtype\n",
      "---  ------      --------------  -----\n",
      " 0   num_orders  26496 non-null  int64\n",
      "dtypes: int64(1)\n",
      "memory usage: 414.0 KB\n"
     ]
    }
   ],
   "source": [
    "# revisar info\n",
    "\n",
    "data.info()"
   ]
  },
  {
   "cell_type": "code",
   "execution_count": 6,
   "metadata": {},
   "outputs": [
    {
     "data": {
      "text/plain": [
       "DatetimeIndex(['2018-03-01 00:00:00', '2018-03-01 00:10:00',\n",
       "               '2018-03-01 00:20:00', '2018-03-01 00:30:00',\n",
       "               '2018-03-01 00:40:00', '2018-03-01 00:50:00',\n",
       "               '2018-03-01 01:00:00', '2018-03-01 01:10:00',\n",
       "               '2018-03-01 01:20:00', '2018-03-01 01:30:00',\n",
       "               ...\n",
       "               '2018-08-31 22:20:00', '2018-08-31 22:30:00',\n",
       "               '2018-08-31 22:40:00', '2018-08-31 22:50:00',\n",
       "               '2018-08-31 23:00:00', '2018-08-31 23:10:00',\n",
       "               '2018-08-31 23:20:00', '2018-08-31 23:30:00',\n",
       "               '2018-08-31 23:40:00', '2018-08-31 23:50:00'],\n",
       "              dtype='datetime64[ns]', name='datetime', length=26496, freq=None)"
      ]
     },
     "execution_count": 6,
     "metadata": {},
     "output_type": "execute_result"
    }
   ],
   "source": [
    "# mostrar índices\n",
    "\n",
    "data.index"
   ]
  },
  {
   "cell_type": "markdown",
   "metadata": {},
   "source": [
    "Ahora entendemos con qué tipo de dataset estamos trabajando y verificado que no contiene valores nulos, podemos comenzar con el proyecto.\n",
    "\n",
    "El siguiente paso, graficaremos el comportamiento de la variable objetivo en distintos periodos de tiempo, en horas, días y en meses. Luego, agruparemos los índices en intervalos de 1 hora, con la suma total de los taxis solicitados dentro de cada hora."
   ]
  },
  {
   "cell_type": "code",
   "execution_count": 7,
   "metadata": {},
   "outputs": [],
   "source": [
    "# crear función para graficar por periodos de tiempo\n",
    "\n",
    "time_periods = ['1H','1D','1M']\n",
    "\n",
    "def plot_taxi_periods(periods,df):\n",
    "    for period in periods:\n",
    "        df.resample(period).sum().plot(figsize=[10,5], title=f'Taxis Solicitados por: {period}')"
   ]
  },
  {
   "cell_type": "code",
   "execution_count": 8,
   "metadata": {},
   "outputs": [
    {
     "data": {
      "image/png": "[encoded data removed]",
      "text/plain": [
       "<Figure size 1000x500 with 1 Axes>"
      ]
     },
     "metadata": {},
     "output_type": "display_data"
    },
    {
     "data": {
      "image/png": "[encoded data removed]",
      "text/plain": [
       "<Figure size 1000x500 with 1 Axes>"
      ]
     },
     "metadata": {},
     "output_type": "display_data"
    },
    {
     "data": {
      "image/png": "[encoded data removed]",
      "text/plain": [
       "<Figure size 1000x500 with 1 Axes>"
      ]
     },
     "metadata": {},
     "output_type": "display_data"
    }
   ],
   "source": [
    "# ejecutar y probar función\n",
    "\n",
    "plot_taxi_periods(time_periods,data)"
   ]
  },
  {
   "cell_type": "code",
   "execution_count": 9,
   "metadata": {},
   "outputs": [
    {
     "data": {
      "text/plain": [
       "<AxesSubplot:title={'center':'Taxis Solicitados por: Hora'}, xlabel='datetime'>"
      ]
     },
     "execution_count": 9,
     "metadata": {},
     "output_type": "execute_result"
    },
    {
     "data": {
      "image/png": "[encoded data removed]",
      "text/plain": [
       "<Figure size 1000x500 with 1 Axes>"
      ]
     },
     "metadata": {},
     "output_type": "display_data"
    }
   ],
   "source": [
    "# remuestrar los índices en intervalos de 1 hora '1H' con la suma de los taxis solicitados\n",
    "# comprobar remuestreo y graficar\n",
    "\n",
    "data = data.resample('1H').sum()\n",
    "data.plot(figsize=[10,5], title='Taxis Solicitados por: Hora')"
   ]
  },
  {
   "cell_type": "code",
   "execution_count": 10,
   "metadata": {},
   "outputs": [
    {
     "data": {
      "text/html": [
       "<div>\n",
       "<style scoped>\n",
       "    .dataframe tbody tr th:only-of-type {\n",
       "        vertical-align: middle;\n",
       "    }\n",
       "\n",
       "    .dataframe tbody tr th {\n",
       "        vertical-align: top;\n",
       "    }\n",
       "\n",
       "    .dataframe thead th {\n",
       "        text-align: right;\n",
       "    }\n",
       "</style>\n",
       "<table border=\"1\" class=\"dataframe\">\n",
       "  <thead>\n",
       "    <tr style=\"text-align: right;\">\n",
       "      <th></th>\n",
       "      <th>num_orders</th>\n",
       "    </tr>\n",
       "    <tr>\n",
       "      <th>datetime</th>\n",
       "      <th></th>\n",
       "    </tr>\n",
       "  </thead>\n",
       "  <tbody>\n",
       "    <tr>\n",
       "      <th>2018-03-01 00:00:00</th>\n",
       "      <td>124</td>\n",
       "    </tr>\n",
       "    <tr>\n",
       "      <th>2018-03-01 01:00:00</th>\n",
       "      <td>85</td>\n",
       "    </tr>\n",
       "    <tr>\n",
       "      <th>2018-03-01 02:00:00</th>\n",
       "      <td>71</td>\n",
       "    </tr>\n",
       "    <tr>\n",
       "      <th>2018-03-01 03:00:00</th>\n",
       "      <td>66</td>\n",
       "    </tr>\n",
       "    <tr>\n",
       "      <th>2018-03-01 04:00:00</th>\n",
       "      <td>43</td>\n",
       "    </tr>\n",
       "  </tbody>\n",
       "</table>\n",
       "</div>"
      ],
      "text/plain": [
       "                     num_orders\n",
       "datetime                       \n",
       "2018-03-01 00:00:00         124\n",
       "2018-03-01 01:00:00          85\n",
       "2018-03-01 02:00:00          71\n",
       "2018-03-01 03:00:00          66\n",
       "2018-03-01 04:00:00          43"
      ]
     },
     "execution_count": 10,
     "metadata": {},
     "output_type": "execute_result"
    }
   ],
   "source": [
    "# revisemos cómo queda la tabla\n",
    "\n",
    "data.head()"
   ]
  },
  {
   "cell_type": "markdown",
   "metadata": {},
   "source": [
    "Con estos primeros gráficos, podemos ver claramente que hay un incremento sostenido en la cantidad de taxis solicitados durante el año 2018."
   ]
  },
  {
   "cell_type": "code",
   "execution_count": null,
   "metadata": {},
   "outputs": [],
   "source": []
  },
  {
   "cell_type": "code",
   "execution_count": null,
   "metadata": {},
   "outputs": [],
   "source": []
  },
  {
   "cell_type": "markdown",
   "metadata": {},
   "source": [
    "## Análisis"
   ]
  },
  {
   "cell_type": "markdown",
   "metadata": {},
   "source": [
    "Analicemos la estacionalidad, tendencias y residuales de los datos."
   ]
  },
  {
   "cell_type": "code",
   "execution_count": 11,
   "metadata": {},
   "outputs": [
    {
     "data": {
      "image/png": "[encoded data removed]",
      "text/plain": [
       "<Figure size 1200x500 with 1 Axes>"
      ]
     },
     "metadata": {},
     "output_type": "display_data"
    }
   ],
   "source": [
    "# estacionalidad, tendencia y residual\n",
    "\n",
    "decomposed = seasonal_decompose(data)\n",
    "plt.figure(figsize=[12,5])\n",
    "decomposed.seasonal.plot()\n",
    "decomposed.trend.plot()\n",
    "decomposed.resid.plot()\n",
    "plt.title('Comparación de Estacionalidad, Tendencia y Residual de los datos')\n",
    "plt.legend()\n",
    "plt.show()"
   ]
  },
  {
   "cell_type": "markdown",
   "metadata": {},
   "source": [
    "Podemos observar que los datos muestran una estacionalidad y tendencia bien claras, por lo que los datos están listos para entrenar y probar modelos de regresión para la prediccón de la variable objetivo."
   ]
  },
  {
   "cell_type": "code",
   "execution_count": null,
   "metadata": {},
   "outputs": [],
   "source": []
  },
  {
   "cell_type": "markdown",
   "metadata": {},
   "source": [
    "## Formación"
   ]
  },
  {
   "cell_type": "markdown",
   "metadata": {},
   "source": [
    "Crearemos algunas características adicionales del índice de fechas, agregaremos desfases la media móvil para mejorar el entrenamiento y calidad de la predicción del posterior modelo."
   ]
  },
  {
   "cell_type": "code",
   "execution_count": 12,
   "metadata": {},
   "outputs": [],
   "source": [
    "# crear función que cree las características que necesitamos\n",
    "\n",
    "def make_features(df, max_lag, rolling_mean_size):\n",
    "    df['year'] = df.index.year\n",
    "    df['month'] = df.index.month\n",
    "    df['day'] = df.index.day\n",
    "    df['dayofweek'] = df.index.dayofweek\n",
    "    \n",
    "    for lag in range(1, max_lag + 1):\n",
    "        df['lag_{}'.format(lag)] = df['num_orders'].shift(lag)\n",
    "\n",
    "    df['rolling_mean'] = (df['num_orders'].shift().rolling(rolling_mean_size).mean())\n",
    "    df['rolling_syd'] = (df['num_orders'].shift().rolling(rolling_mean_size).std())\n",
    "\n",
    "    return df"
   ]
  },
  {
   "cell_type": "code",
   "execution_count": 13,
   "metadata": {},
   "outputs": [
    {
     "data": {
      "text/html": [
       "<div>\n",
       "<style scoped>\n",
       "    .dataframe tbody tr th:only-of-type {\n",
       "        vertical-align: middle;\n",
       "    }\n",
       "\n",
       "    .dataframe tbody tr th {\n",
       "        vertical-align: top;\n",
       "    }\n",
       "\n",
       "    .dataframe thead th {\n",
       "        text-align: right;\n",
       "    }\n",
       "</style>\n",
       "<table border=\"1\" class=\"dataframe\">\n",
       "  <thead>\n",
       "    <tr style=\"text-align: right;\">\n",
       "      <th></th>\n",
       "      <th>num_orders</th>\n",
       "      <th>year</th>\n",
       "      <th>month</th>\n",
       "      <th>day</th>\n",
       "      <th>dayofweek</th>\n",
       "      <th>lag_1</th>\n",
       "      <th>lag_2</th>\n",
       "      <th>lag_3</th>\n",
       "      <th>lag_4</th>\n",
       "      <th>lag_5</th>\n",
       "      <th>...</th>\n",
       "      <th>lag_18</th>\n",
       "      <th>lag_19</th>\n",
       "      <th>lag_20</th>\n",
       "      <th>lag_21</th>\n",
       "      <th>lag_22</th>\n",
       "      <th>lag_23</th>\n",
       "      <th>lag_24</th>\n",
       "      <th>lag_25</th>\n",
       "      <th>rolling_mean</th>\n",
       "      <th>rolling_syd</th>\n",
       "    </tr>\n",
       "    <tr>\n",
       "      <th>datetime</th>\n",
       "      <th></th>\n",
       "      <th></th>\n",
       "      <th></th>\n",
       "      <th></th>\n",
       "      <th></th>\n",
       "      <th></th>\n",
       "      <th></th>\n",
       "      <th></th>\n",
       "      <th></th>\n",
       "      <th></th>\n",
       "      <th></th>\n",
       "      <th></th>\n",
       "      <th></th>\n",
       "      <th></th>\n",
       "      <th></th>\n",
       "      <th></th>\n",
       "      <th></th>\n",
       "      <th></th>\n",
       "      <th></th>\n",
       "      <th></th>\n",
       "      <th></th>\n",
       "    </tr>\n",
       "  </thead>\n",
       "  <tbody>\n",
       "    <tr>\n",
       "      <th>2018-03-04 00:00:00</th>\n",
       "      <td>75</td>\n",
       "      <td>2018</td>\n",
       "      <td>3</td>\n",
       "      <td>4</td>\n",
       "      <td>6</td>\n",
       "      <td>43.0</td>\n",
       "      <td>63.0</td>\n",
       "      <td>48.0</td>\n",
       "      <td>83.0</td>\n",
       "      <td>30.0</td>\n",
       "      <td>...</td>\n",
       "      <td>9.0</td>\n",
       "      <td>15.0</td>\n",
       "      <td>44.0</td>\n",
       "      <td>64.0</td>\n",
       "      <td>25.0</td>\n",
       "      <td>108.0</td>\n",
       "      <td>163.0</td>\n",
       "      <td>72.0</td>\n",
       "      <td>57.777778</td>\n",
       "      <td>31.488081</td>\n",
       "    </tr>\n",
       "    <tr>\n",
       "      <th>2018-03-04 01:00:00</th>\n",
       "      <td>60</td>\n",
       "      <td>2018</td>\n",
       "      <td>3</td>\n",
       "      <td>4</td>\n",
       "      <td>6</td>\n",
       "      <td>75.0</td>\n",
       "      <td>43.0</td>\n",
       "      <td>63.0</td>\n",
       "      <td>48.0</td>\n",
       "      <td>83.0</td>\n",
       "      <td>...</td>\n",
       "      <td>17.0</td>\n",
       "      <td>9.0</td>\n",
       "      <td>15.0</td>\n",
       "      <td>44.0</td>\n",
       "      <td>64.0</td>\n",
       "      <td>25.0</td>\n",
       "      <td>108.0</td>\n",
       "      <td>163.0</td>\n",
       "      <td>57.097222</td>\n",
       "      <td>30.552269</td>\n",
       "    </tr>\n",
       "    <tr>\n",
       "      <th>2018-03-04 02:00:00</th>\n",
       "      <td>26</td>\n",
       "      <td>2018</td>\n",
       "      <td>3</td>\n",
       "      <td>4</td>\n",
       "      <td>6</td>\n",
       "      <td>60.0</td>\n",
       "      <td>75.0</td>\n",
       "      <td>43.0</td>\n",
       "      <td>63.0</td>\n",
       "      <td>48.0</td>\n",
       "      <td>...</td>\n",
       "      <td>56.0</td>\n",
       "      <td>17.0</td>\n",
       "      <td>9.0</td>\n",
       "      <td>15.0</td>\n",
       "      <td>44.0</td>\n",
       "      <td>64.0</td>\n",
       "      <td>25.0</td>\n",
       "      <td>108.0</td>\n",
       "      <td>56.750000</td>\n",
       "      <td>30.372221</td>\n",
       "    </tr>\n",
       "    <tr>\n",
       "      <th>2018-03-04 03:00:00</th>\n",
       "      <td>42</td>\n",
       "      <td>2018</td>\n",
       "      <td>3</td>\n",
       "      <td>4</td>\n",
       "      <td>6</td>\n",
       "      <td>26.0</td>\n",
       "      <td>60.0</td>\n",
       "      <td>75.0</td>\n",
       "      <td>43.0</td>\n",
       "      <td>63.0</td>\n",
       "      <td>...</td>\n",
       "      <td>73.0</td>\n",
       "      <td>56.0</td>\n",
       "      <td>17.0</td>\n",
       "      <td>9.0</td>\n",
       "      <td>15.0</td>\n",
       "      <td>44.0</td>\n",
       "      <td>64.0</td>\n",
       "      <td>25.0</td>\n",
       "      <td>56.125000</td>\n",
       "      <td>30.537411</td>\n",
       "    </tr>\n",
       "    <tr>\n",
       "      <th>2018-03-04 04:00:00</th>\n",
       "      <td>27</td>\n",
       "      <td>2018</td>\n",
       "      <td>3</td>\n",
       "      <td>4</td>\n",
       "      <td>6</td>\n",
       "      <td>42.0</td>\n",
       "      <td>26.0</td>\n",
       "      <td>60.0</td>\n",
       "      <td>75.0</td>\n",
       "      <td>43.0</td>\n",
       "      <td>...</td>\n",
       "      <td>52.0</td>\n",
       "      <td>73.0</td>\n",
       "      <td>56.0</td>\n",
       "      <td>17.0</td>\n",
       "      <td>9.0</td>\n",
       "      <td>15.0</td>\n",
       "      <td>44.0</td>\n",
       "      <td>64.0</td>\n",
       "      <td>55.791667</td>\n",
       "      <td>30.559080</td>\n",
       "    </tr>\n",
       "  </tbody>\n",
       "</table>\n",
       "<p>5 rows × 32 columns</p>\n",
       "</div>"
      ],
      "text/plain": [
       "                     num_orders  year  month  day  dayofweek  lag_1  lag_2  \\\n",
       "datetime                                                                     \n",
       "2018-03-04 00:00:00          75  2018      3    4          6   43.0   63.0   \n",
       "2018-03-04 01:00:00          60  2018      3    4          6   75.0   43.0   \n",
       "2018-03-04 02:00:00          26  2018      3    4          6   60.0   75.0   \n",
       "2018-03-04 03:00:00          42  2018      3    4          6   26.0   60.0   \n",
       "2018-03-04 04:00:00          27  2018      3    4          6   42.0   26.0   \n",
       "\n",
       "                     lag_3  lag_4  lag_5  ...  lag_18  lag_19  lag_20  lag_21  \\\n",
       "datetime                                  ...                                   \n",
       "2018-03-04 00:00:00   48.0   83.0   30.0  ...     9.0    15.0    44.0    64.0   \n",
       "2018-03-04 01:00:00   63.0   48.0   83.0  ...    17.0     9.0    15.0    44.0   \n",
       "2018-03-04 02:00:00   43.0   63.0   48.0  ...    56.0    17.0     9.0    15.0   \n",
       "2018-03-04 03:00:00   75.0   43.0   63.0  ...    73.0    56.0    17.0     9.0   \n",
       "2018-03-04 04:00:00   60.0   75.0   43.0  ...    52.0    73.0    56.0    17.0   \n",
       "\n",
       "                     lag_22  lag_23  lag_24  lag_25  rolling_mean  rolling_syd  \n",
       "datetime                                                                        \n",
       "2018-03-04 00:00:00    25.0   108.0   163.0    72.0     57.777778    31.488081  \n",
       "2018-03-04 01:00:00    64.0    25.0   108.0   163.0     57.097222    30.552269  \n",
       "2018-03-04 02:00:00    44.0    64.0    25.0   108.0     56.750000    30.372221  \n",
       "2018-03-04 03:00:00    15.0    44.0    64.0    25.0     56.125000    30.537411  \n",
       "2018-03-04 04:00:00     9.0    15.0    44.0    64.0     55.791667    30.559080  \n",
       "\n",
       "[5 rows x 32 columns]"
      ]
     },
     "execution_count": 13,
     "metadata": {},
     "output_type": "execute_result"
    }
   ],
   "source": [
    "# aplicar función al dataset y ver resultados\n",
    "\n",
    "new_data = make_features(data, 25, 72).dropna()\n",
    "new_data.head(5)"
   ]
  },
  {
   "cell_type": "markdown",
   "metadata": {},
   "source": [
    "Separemos los datos en los conjuntos de entrenamiento y de prueba en la proporción 90:10."
   ]
  },
  {
   "cell_type": "code",
   "execution_count": 14,
   "metadata": {},
   "outputs": [],
   "source": [
    "# separar datos en train y test\n",
    "\n",
    "train, test = train_test_split(new_data, test_size=0.1, shuffle=False, random_state=1234)"
   ]
  },
  {
   "cell_type": "code",
   "execution_count": 15,
   "metadata": {},
   "outputs": [
    {
     "name": "stdout",
     "output_type": "stream",
     "text": [
      "Máxima fecha de entrenamiento 2018-08-13 20:00:00\n",
      "Mínima fecha de prueba 2018-08-13 21:00:00\n",
      "¿¿Las fechas de prueba son mayores a las de entrenamiento?? True\n"
     ]
    }
   ],
   "source": [
    "# verificar que los conjuntos no se crucen temporalmente\n",
    "\n",
    "print('Máxima fecha de entrenamiento',train.index.max())\n",
    "print('Mínima fecha de prueba',test.index.min())\n",
    "print('¿¿Las fechas de prueba son mayores a las de entrenamiento??',test.index.min()>train.index.max())"
   ]
  },
  {
   "cell_type": "code",
   "execution_count": 16,
   "metadata": {},
   "outputs": [],
   "source": [
    "# definir características y objetivo\n",
    "\n",
    "X_train = train.drop('num_orders',1)\n",
    "y_train = train['num_orders']\n",
    "\n",
    "X_test = test.drop('num_orders',1)\n",
    "y_test = test['num_orders']"
   ]
  },
  {
   "cell_type": "markdown",
   "metadata": {},
   "source": [
    "## Prueba"
   ]
  },
  {
   "cell_type": "markdown",
   "metadata": {},
   "source": [
    "Ahora podemos crear un modelo de regresión lineal para predecir el número de taxis en la próxima hora y evaluar la calidad de esa predicción."
   ]
  },
  {
   "cell_type": "code",
   "execution_count": 17,
   "metadata": {},
   "outputs": [],
   "source": [
    "# crear modelo de regresión lineal, entrenarlo y predecir número de taxis\n",
    "\n",
    "model_lr = LinearRegression()\n",
    "model_lr.fit(X_train,y_train)\n",
    "\n",
    "pred_y_train = model_lr.predict(X_train)\n",
    "pred_y_test = model_lr.predict(X_test)"
   ]
  },
  {
   "cell_type": "code",
   "execution_count": 18,
   "metadata": {},
   "outputs": [
    {
     "name": "stdout",
     "output_type": "stream",
     "text": [
      "RMSE Train: 25.79686268033564\n",
      "RMSE Test: 45.539256725322744\n"
     ]
    }
   ],
   "source": [
    "# evaluar calidad de la predicción\n",
    "\n",
    "rmse_train = mean_squared_error(y_train,pred_y_train) ** 0.5\n",
    "rmse_test = mean_squared_error(y_test,pred_y_test) ** 0.5\n",
    "\n",
    "print('RMSE Train:', rmse_train)\n",
    "print('RMSE Test:', rmse_test)\n"
   ]
  },
  {
   "cell_type": "markdown",
   "metadata": {},
   "source": [
    "Vamos a entrenar y evaluar un modelo de Bosque Aleatorio de Regresión."
   ]
  },
  {
   "cell_type": "code",
   "execution_count": 19,
   "metadata": {},
   "outputs": [],
   "source": [
    "# modelo de bosque aleatorio de regresión\n",
    "\n",
    "model_rfr = RandomForestRegressor(n_estimators=200, max_depth=19, random_state=1234)\n",
    "model_rfr.fit(X_train, y_train)\n",
    "\n",
    "pred_y_train_rfr = model_rfr.predict(X_train)\n",
    "pred_y_test_rfr = model_rfr.predict(X_test)"
   ]
  },
  {
   "cell_type": "code",
   "execution_count": 20,
   "metadata": {},
   "outputs": [
    {
     "name": "stdout",
     "output_type": "stream",
     "text": [
      "RMSE Train: 8.860226239815566\n",
      "RMSE Test: 42.96690659085197\n"
     ]
    }
   ],
   "source": [
    "# evaluar calidad del modelo\n",
    "\n",
    "rmse_rfr_train = mean_squared_error(y_train,pred_y_train_rfr) ** 0.5\n",
    "rmse_rfr_test = mean_squared_error(y_test,pred_y_test_rfr) ** 0.5\n",
    "\n",
    "print('RMSE Train:', rmse_rfr_train)\n",
    "print('RMSE Test:', rmse_rfr_test)"
   ]
  },
  {
   "cell_type": "markdown",
   "metadata": {},
   "source": [
    "Ahora evaluaremos un modelo de Regresión de Árbol de Decisión."
   ]
  },
  {
   "cell_type": "code",
   "execution_count": 21,
   "metadata": {},
   "outputs": [],
   "source": [
    "# modelo de regresión de árbol de decisión\n",
    "\n",
    "model_dtr = DecisionTreeRegressor(max_depth=11, random_state=1234)\n",
    "model_dtr.fit(X_train, y_train)\n",
    "\n",
    "pred_y_train_dtr = model_dtr.predict(X_train)\n",
    "pred_y_test_dtr = model_dtr.predict(X_test)"
   ]
  },
  {
   "cell_type": "code",
   "execution_count": 22,
   "metadata": {},
   "outputs": [
    {
     "name": "stdout",
     "output_type": "stream",
     "text": [
      "RMSE Train: 14.86304932780133\n",
      "RMSE Test: 66.7725831944925\n"
     ]
    }
   ],
   "source": [
    "# evaluar calidad del modelo\n",
    "\n",
    "rmse_dtr_train = mean_squared_error(y_train,pred_y_train_dtr) ** 0.5\n",
    "rmse_dtr_test = mean_squared_error(y_test,pred_y_test_dtr) ** 0.5\n",
    "\n",
    "print('RMSE Train:', rmse_dtr_train)\n",
    "print('RMSE Test:', rmse_dtr_test)"
   ]
  },
  {
   "cell_type": "markdown",
   "metadata": {},
   "source": [
    "# Conclusión\n",
    "\n",
    "Luego preparar y analizar los datos para entrenar diferentes modelos de regresión, modificando los hiperparámetros de desfases y tamaño de la media móvil, obtuvimos que el modelo que tuvo la mejor predicción según la métrica del RMSE fue el Bosque Aleatorio de Regresión con un RMSE de 42.97 bastante menos que el objetivo de 48.\n",
    "\n",
    "Por lo tanto, es el modelo seleccionado para hacer la predicción de la cantidad de taxis que se necesitarán en la próxima hora en los aeropuertos."
   ]
  },
  {
   "cell_type": "code",
   "execution_count": null,
   "metadata": {},
   "outputs": [],
   "source": []
  },
  {
   "cell_type": "code",
   "execution_count": null,
   "metadata": {},
   "outputs": [],
   "source": []
  },
  {
   "cell_type": "markdown",
   "metadata": {},
   "source": [
    "# Lista de revisión"
   ]
  },
  {
   "cell_type": "markdown",
   "metadata": {},
   "source": [
    "- [x]  \t\n",
    "Jupyter Notebook está abierto.\n",
    "- [ ]  El código no tiene errores\n",
    "- [ ]  Las celdas con el código han sido colocadas en el orden de ejecución.\n",
    "- [ ]  \t\n",
    "Los datos han sido descargados y preparados.\n",
    "- [ ]  Se ha realizado el paso 2: los datos han sido analizados\n",
    "- [ ]  Se entrenó el modelo y se seleccionaron los hiperparámetros\n",
    "- [ ]  Se han evaluado los modelos. Se expuso una conclusión\n",
    "- [ ] La *RECM* para el conjunto de prueba no es más de 48"
   ]
  }
 ],
 "metadata": {
  "ExecuteTimeLog": [
   {
    "duration": 444,
    "start_time": "2024-07-19T08:25:59.862Z"
   },
   {
    "duration": 61,
    "start_time": "2024-07-19T08:35:57.771Z"
   },
   {
    "duration": 20,
    "start_time": "2024-07-19T08:36:04.985Z"
   },
   {
    "duration": 30,
    "start_time": "2024-07-19T08:36:15.618Z"
   },
   {
    "duration": 11,
    "start_time": "2024-07-19T08:36:16.405Z"
   },
   {
    "duration": 3,
    "start_time": "2024-07-19T08:37:30.638Z"
   },
   {
    "duration": 34,
    "start_time": "2024-07-19T08:37:30.944Z"
   },
   {
    "duration": 10,
    "start_time": "2024-07-19T08:37:31.597Z"
   },
   {
    "duration": 3,
    "start_time": "2024-07-19T08:43:25.904Z"
   },
   {
    "duration": 29,
    "start_time": "2024-07-19T08:43:34.827Z"
   },
   {
    "duration": 9,
    "start_time": "2024-07-19T08:43:45.780Z"
   },
   {
    "duration": 365,
    "start_time": "2024-07-19T08:47:21.734Z"
   },
   {
    "duration": 5,
    "start_time": "2024-07-19T08:47:40.100Z"
   },
   {
    "duration": 4,
    "start_time": "2024-07-19T08:48:58.886Z"
   },
   {
    "duration": 13,
    "start_time": "2024-07-19T08:49:06.078Z"
   },
   {
    "duration": 658,
    "start_time": "2024-07-19T09:01:09.829Z"
   },
   {
    "duration": 54,
    "start_time": "2024-07-19T09:01:58.254Z"
   },
   {
    "duration": 51,
    "start_time": "2024-07-19T09:02:28.670Z"
   },
   {
    "duration": 21,
    "start_time": "2024-07-19T09:02:31.675Z"
   },
   {
    "duration": 4166,
    "start_time": "2024-07-19T09:02:46.040Z"
   },
   {
    "duration": 71,
    "start_time": "2024-07-19T09:03:16.004Z"
   },
   {
    "duration": 22,
    "start_time": "2024-07-19T09:04:36.796Z"
   },
   {
    "duration": 34,
    "start_time": "2024-07-19T09:05:14.793Z"
   },
   {
    "duration": 3,
    "start_time": "2024-07-19T09:05:16.594Z"
   },
   {
    "duration": 31,
    "start_time": "2024-07-19T09:05:16.923Z"
   },
   {
    "duration": 8,
    "start_time": "2024-07-19T09:05:17.892Z"
   },
   {
    "duration": 4,
    "start_time": "2024-07-19T09:05:19.817Z"
   },
   {
    "duration": 16,
    "start_time": "2024-07-19T09:05:24.608Z"
   },
   {
    "duration": 30,
    "start_time": "2024-07-19T09:05:30.168Z"
   },
   {
    "duration": 21,
    "start_time": "2024-07-19T09:05:45.181Z"
   },
   {
    "duration": 210,
    "start_time": "2024-07-19T09:09:02.864Z"
   },
   {
    "duration": 10,
    "start_time": "2024-07-19T09:11:14.850Z"
   },
   {
    "duration": 4,
    "start_time": "2024-07-19T09:11:24.744Z"
   },
   {
    "duration": 42,
    "start_time": "2024-07-19T09:11:24.753Z"
   },
   {
    "duration": 10,
    "start_time": "2024-07-19T09:11:24.799Z"
   },
   {
    "duration": 9,
    "start_time": "2024-07-19T09:11:35.102Z"
   },
   {
    "duration": 4,
    "start_time": "2024-07-19T09:11:39.020Z"
   },
   {
    "duration": 14,
    "start_time": "2024-07-19T09:11:41.662Z"
   },
   {
    "duration": 4,
    "start_time": "2024-07-19T09:18:10.035Z"
   },
   {
    "duration": 23,
    "start_time": "2024-07-19T09:18:38.031Z"
   },
   {
    "duration": 18,
    "start_time": "2024-07-19T09:18:53.766Z"
   },
   {
    "duration": 6,
    "start_time": "2024-07-19T09:19:01.533Z"
   },
   {
    "duration": 21,
    "start_time": "2024-07-19T09:21:29.254Z"
   },
   {
    "duration": 23,
    "start_time": "2024-07-19T09:21:49.049Z"
   },
   {
    "duration": 12,
    "start_time": "2024-07-19T09:22:07.323Z"
   },
   {
    "duration": 10,
    "start_time": "2024-07-19T09:22:23.697Z"
   },
   {
    "duration": 134,
    "start_time": "2024-07-19T09:22:28.259Z"
   },
   {
    "duration": 49,
    "start_time": "2024-07-19T09:22:41.910Z"
   },
   {
    "duration": 9,
    "start_time": "2024-07-19T09:22:46.139Z"
   },
   {
    "duration": 438,
    "start_time": "2024-07-19T09:25:04.790Z"
   },
   {
    "duration": 13,
    "start_time": "2024-07-19T09:25:28.635Z"
   },
   {
    "duration": 3,
    "start_time": "2024-07-19T09:25:52.777Z"
   },
   {
    "duration": 32,
    "start_time": "2024-07-19T09:25:52.785Z"
   },
   {
    "duration": 9,
    "start_time": "2024-07-19T09:25:52.820Z"
   },
   {
    "duration": 4,
    "start_time": "2024-07-19T09:25:53.116Z"
   },
   {
    "duration": 22,
    "start_time": "2024-07-19T09:25:53.124Z"
   },
   {
    "duration": 7,
    "start_time": "2024-07-19T09:25:53.149Z"
   },
   {
    "duration": 10,
    "start_time": "2024-07-19T09:25:53.160Z"
   },
   {
    "duration": 8,
    "start_time": "2024-07-19T09:25:58.029Z"
   },
   {
    "duration": 13,
    "start_time": "2024-07-19T09:25:59.543Z"
   },
   {
    "duration": 169,
    "start_time": "2024-07-19T09:26:46.419Z"
   },
   {
    "duration": 4,
    "start_time": "2024-07-19T09:26:53.121Z"
   },
   {
    "duration": 39,
    "start_time": "2024-07-19T09:26:53.129Z"
   },
   {
    "duration": 10,
    "start_time": "2024-07-19T09:26:53.171Z"
   },
   {
    "duration": 5,
    "start_time": "2024-07-19T09:26:53.185Z"
   },
   {
    "duration": 42,
    "start_time": "2024-07-19T09:26:53.194Z"
   },
   {
    "duration": 6,
    "start_time": "2024-07-19T09:26:53.238Z"
   },
   {
    "duration": 8,
    "start_time": "2024-07-19T09:26:53.249Z"
   },
   {
    "duration": 19,
    "start_time": "2024-07-19T09:26:53.261Z"
   },
   {
    "duration": 27,
    "start_time": "2024-07-19T09:27:08.471Z"
   },
   {
    "duration": 9,
    "start_time": "2024-07-19T09:27:19.407Z"
   },
   {
    "duration": 69,
    "start_time": "2024-07-19T09:27:24.508Z"
   },
   {
    "duration": 457,
    "start_time": "2024-07-19T09:28:12.346Z"
   },
   {
    "duration": 41,
    "start_time": "2024-07-19T09:28:12.807Z"
   },
   {
    "duration": 16,
    "start_time": "2024-07-19T09:28:12.851Z"
   },
   {
    "duration": 5,
    "start_time": "2024-07-19T09:28:12.870Z"
   },
   {
    "duration": 13,
    "start_time": "2024-07-19T09:28:12.879Z"
   },
   {
    "duration": 17,
    "start_time": "2024-07-19T09:28:19.555Z"
   },
   {
    "duration": 642,
    "start_time": "2024-07-19T09:29:01.379Z"
   },
   {
    "duration": 3,
    "start_time": "2024-07-19T09:29:09.552Z"
   },
   {
    "duration": 32,
    "start_time": "2024-07-19T09:29:09.559Z"
   },
   {
    "duration": 9,
    "start_time": "2024-07-19T09:29:09.595Z"
   },
   {
    "duration": 5,
    "start_time": "2024-07-19T09:29:09.607Z"
   },
   {
    "duration": 25,
    "start_time": "2024-07-19T09:29:09.615Z"
   },
   {
    "duration": 373,
    "start_time": "2024-07-19T09:29:09.645Z"
   },
   {
    "duration": 379,
    "start_time": "2024-07-19T09:34:35.492Z"
   },
   {
    "duration": 9,
    "start_time": "2024-07-19T09:34:41.883Z"
   },
   {
    "duration": 4,
    "start_time": "2024-07-19T09:38:11.369Z"
   },
   {
    "duration": 40,
    "start_time": "2024-07-19T09:38:24.749Z"
   },
   {
    "duration": 202,
    "start_time": "2024-07-19T09:38:49.602Z"
   },
   {
    "duration": 694,
    "start_time": "2024-07-19T09:39:51.269Z"
   },
   {
    "duration": 4,
    "start_time": "2024-07-19T09:40:32.872Z"
   },
   {
    "duration": 32,
    "start_time": "2024-07-19T09:40:32.881Z"
   },
   {
    "duration": 9,
    "start_time": "2024-07-19T09:40:32.915Z"
   },
   {
    "duration": 7,
    "start_time": "2024-07-19T09:40:32.927Z"
   },
   {
    "duration": 14,
    "start_time": "2024-07-19T09:40:32.938Z"
   },
   {
    "duration": 358,
    "start_time": "2024-07-19T09:40:32.955Z"
   },
   {
    "duration": 37,
    "start_time": "2024-07-19T09:40:43.002Z"
   },
   {
    "duration": 131,
    "start_time": "2024-07-19T09:41:14.979Z"
   },
   {
    "duration": 11,
    "start_time": "2024-07-19T09:41:39.584Z"
   },
   {
    "duration": 3,
    "start_time": "2024-07-19T09:41:58.134Z"
   },
   {
    "duration": 34,
    "start_time": "2024-07-19T09:41:58.144Z"
   },
   {
    "duration": 10,
    "start_time": "2024-07-19T09:41:58.181Z"
   },
   {
    "duration": 4,
    "start_time": "2024-07-19T09:41:58.195Z"
   },
   {
    "duration": 15,
    "start_time": "2024-07-19T09:41:58.230Z"
   },
   {
    "duration": 451,
    "start_time": "2024-07-19T09:41:58.249Z"
   },
   {
    "duration": 49,
    "start_time": "2024-07-19T09:41:58.704Z"
   },
   {
    "duration": 8,
    "start_time": "2024-07-19T09:42:12.993Z"
   },
   {
    "duration": 15,
    "start_time": "2024-07-19T09:42:29.859Z"
   },
   {
    "duration": 10,
    "start_time": "2024-07-19T09:42:45.137Z"
   },
   {
    "duration": 9,
    "start_time": "2024-07-19T09:44:25.709Z"
   },
   {
    "duration": 51,
    "start_time": "2024-07-19T09:46:22.320Z"
   },
   {
    "duration": 4,
    "start_time": "2024-07-19T09:51:23.521Z"
   },
   {
    "duration": 32,
    "start_time": "2024-07-19T09:51:23.529Z"
   },
   {
    "duration": 9,
    "start_time": "2024-07-19T09:51:23.564Z"
   },
   {
    "duration": 9,
    "start_time": "2024-07-19T09:51:23.576Z"
   },
   {
    "duration": 13,
    "start_time": "2024-07-19T09:51:23.588Z"
   },
   {
    "duration": 375,
    "start_time": "2024-07-19T09:51:23.632Z"
   },
   {
    "duration": 8,
    "start_time": "2024-07-19T09:51:27.344Z"
   },
   {
    "duration": 37,
    "start_time": "2024-07-19T10:03:53.495Z"
   },
   {
    "duration": 50,
    "start_time": "2024-07-19T10:04:06.736Z"
   },
   {
    "duration": 4,
    "start_time": "2024-07-19T10:04:10.169Z"
   },
   {
    "duration": 33,
    "start_time": "2024-07-19T10:04:10.177Z"
   },
   {
    "duration": 11,
    "start_time": "2024-07-19T10:04:10.213Z"
   },
   {
    "duration": 5,
    "start_time": "2024-07-19T10:04:10.228Z"
   },
   {
    "duration": 15,
    "start_time": "2024-07-19T10:04:10.237Z"
   },
   {
    "duration": 407,
    "start_time": "2024-07-19T10:04:10.255Z"
   },
   {
    "duration": 39,
    "start_time": "2024-07-19T10:04:10.665Z"
   },
   {
    "duration": 155,
    "start_time": "2024-07-19T10:04:24.205Z"
   },
   {
    "duration": 68,
    "start_time": "2024-07-19T10:04:44.424Z"
   },
   {
    "duration": 181,
    "start_time": "2024-07-19T10:06:36.911Z"
   },
   {
    "duration": 22,
    "start_time": "2024-07-19T10:07:02.794Z"
   },
   {
    "duration": 33,
    "start_time": "2024-07-19T10:07:26.813Z"
   },
   {
    "duration": 6,
    "start_time": "2024-07-19T10:07:30.311Z"
   },
   {
    "duration": 38,
    "start_time": "2024-07-19T10:07:30.321Z"
   },
   {
    "duration": 14,
    "start_time": "2024-07-19T10:07:30.362Z"
   },
   {
    "duration": 11,
    "start_time": "2024-07-19T10:07:30.379Z"
   },
   {
    "duration": 37,
    "start_time": "2024-07-19T10:07:30.396Z"
   },
   {
    "duration": 368,
    "start_time": "2024-07-19T10:07:30.436Z"
   },
   {
    "duration": 40,
    "start_time": "2024-07-19T10:07:30.807Z"
   },
   {
    "duration": 8,
    "start_time": "2024-07-19T10:09:13.914Z"
   },
   {
    "duration": 6,
    "start_time": "2024-07-19T10:09:26.254Z"
   },
   {
    "duration": 43,
    "start_time": "2024-07-19T10:09:26.265Z"
   },
   {
    "duration": 23,
    "start_time": "2024-07-19T10:09:26.311Z"
   },
   {
    "duration": 8,
    "start_time": "2024-07-19T10:09:26.340Z"
   },
   {
    "duration": 22,
    "start_time": "2024-07-19T10:09:26.354Z"
   },
   {
    "duration": 49,
    "start_time": "2024-07-19T10:09:26.384Z"
   },
   {
    "duration": 433,
    "start_time": "2024-07-19T13:53:19.182Z"
   },
   {
    "duration": 47,
    "start_time": "2024-07-19T13:53:20.300Z"
   },
   {
    "duration": 15,
    "start_time": "2024-07-19T13:53:22.246Z"
   },
   {
    "duration": 4,
    "start_time": "2024-07-19T13:53:24.050Z"
   },
   {
    "duration": 16,
    "start_time": "2024-07-19T13:53:28.740Z"
   },
   {
    "duration": 6,
    "start_time": "2024-07-19T13:53:31.640Z"
   },
   {
    "duration": 4272,
    "start_time": "2024-07-19T13:53:57.420Z"
   },
   {
    "duration": 10,
    "start_time": "2024-07-19T13:54:35.506Z"
   },
   {
    "duration": 570,
    "start_time": "2024-07-19T13:58:38.746Z"
   },
   {
    "duration": 14,
    "start_time": "2024-07-19T14:00:00.373Z"
   },
   {
    "duration": 15,
    "start_time": "2024-07-19T14:08:23.166Z"
   },
   {
    "duration": 6,
    "start_time": "2024-07-19T15:39:15.029Z"
   },
   {
    "duration": 1067,
    "start_time": "2024-07-19T15:39:53.700Z"
   },
   {
    "duration": 365,
    "start_time": "2024-07-19T15:40:44.723Z"
   },
   {
    "duration": 10,
    "start_time": "2024-07-19T15:41:42.627Z"
   },
   {
    "duration": 673,
    "start_time": "2024-07-19T15:48:38.384Z"
   },
   {
    "duration": 15,
    "start_time": "2024-07-19T15:49:49.213Z"
   },
   {
    "duration": 529,
    "start_time": "2024-07-19T15:50:43.115Z"
   },
   {
    "duration": 553,
    "start_time": "2024-07-19T15:52:59.436Z"
   },
   {
    "duration": 571,
    "start_time": "2024-07-19T15:53:23.092Z"
   },
   {
    "duration": 660,
    "start_time": "2024-07-19T15:53:55.316Z"
   },
   {
    "duration": 453,
    "start_time": "2024-07-19T15:54:18.633Z"
   },
   {
    "duration": 608,
    "start_time": "2024-07-19T15:54:24.755Z"
   },
   {
    "duration": 518,
    "start_time": "2024-07-19T15:54:33.510Z"
   },
   {
    "duration": 712,
    "start_time": "2024-07-19T15:55:14.118Z"
   },
   {
    "duration": 579,
    "start_time": "2024-07-19T15:55:28.873Z"
   },
   {
    "duration": 535,
    "start_time": "2024-07-19T15:55:37.748Z"
   },
   {
    "duration": 722,
    "start_time": "2024-07-19T15:56:52.734Z"
   },
   {
    "duration": 539,
    "start_time": "2024-07-19T15:57:07.121Z"
   },
   {
    "duration": 547,
    "start_time": "2024-07-19T15:57:15.737Z"
   },
   {
    "duration": 5149,
    "start_time": "2024-07-22T05:57:17.114Z"
   },
   {
    "duration": 48,
    "start_time": "2024-07-22T05:57:22.267Z"
   },
   {
    "duration": 16,
    "start_time": "2024-07-22T05:57:22.317Z"
   },
   {
    "duration": 5,
    "start_time": "2024-07-22T05:57:25.539Z"
   },
   {
    "duration": 13,
    "start_time": "2024-07-22T05:57:31.114Z"
   },
   {
    "duration": 6,
    "start_time": "2024-07-22T05:57:32.848Z"
   },
   {
    "duration": 5,
    "start_time": "2024-07-22T05:57:42.506Z"
   },
   {
    "duration": 1013,
    "start_time": "2024-07-22T05:58:36.752Z"
   },
   {
    "duration": 5,
    "start_time": "2024-07-22T05:59:12.575Z"
   },
   {
    "duration": 925,
    "start_time": "2024-07-22T05:59:13.717Z"
   },
   {
    "duration": 444,
    "start_time": "2024-07-22T05:59:35.072Z"
   },
   {
    "duration": 8,
    "start_time": "2024-07-22T06:00:11.866Z"
   },
   {
    "duration": 533,
    "start_time": "2024-07-22T06:28:57.542Z"
   },
   {
    "duration": 220,
    "start_time": "2024-07-22T07:49:08.710Z"
   },
   {
    "duration": 6,
    "start_time": "2024-07-22T07:51:22.323Z"
   },
   {
    "duration": 5,
    "start_time": "2024-07-22T07:56:11.018Z"
   },
   {
    "duration": 6,
    "start_time": "2024-07-22T07:57:12.804Z"
   },
   {
    "duration": 5,
    "start_time": "2024-07-22T07:57:13.546Z"
   },
   {
    "duration": 5,
    "start_time": "2024-07-22T07:58:34.870Z"
   },
   {
    "duration": 5,
    "start_time": "2024-07-22T07:58:50.196Z"
   },
   {
    "duration": 5,
    "start_time": "2024-07-22T08:31:12.203Z"
   },
   {
    "duration": 484,
    "start_time": "2024-07-22T08:32:35.100Z"
   },
   {
    "duration": 5,
    "start_time": "2024-07-22T08:32:58.118Z"
   },
   {
    "duration": 26,
    "start_time": "2024-07-22T08:33:00.293Z"
   },
   {
    "duration": 26,
    "start_time": "2024-07-22T08:33:24.455Z"
   },
   {
    "duration": 6,
    "start_time": "2024-07-22T08:34:22.677Z"
   },
   {
    "duration": 21,
    "start_time": "2024-07-22T08:34:27.697Z"
   },
   {
    "duration": 23,
    "start_time": "2024-07-22T08:34:40.308Z"
   },
   {
    "duration": 27,
    "start_time": "2024-07-22T08:35:23.459Z"
   },
   {
    "duration": 22,
    "start_time": "2024-07-22T08:35:35.058Z"
   },
   {
    "duration": 6,
    "start_time": "2024-07-22T08:36:17.294Z"
   },
   {
    "duration": 5,
    "start_time": "2024-07-22T08:36:20.713Z"
   },
   {
    "duration": 6,
    "start_time": "2024-07-22T08:39:18.544Z"
   },
   {
    "duration": 27,
    "start_time": "2024-07-22T08:41:23.369Z"
   },
   {
    "duration": 25,
    "start_time": "2024-07-22T08:41:54.747Z"
   },
   {
    "duration": 37,
    "start_time": "2024-07-22T08:42:11.109Z"
   },
   {
    "duration": 186,
    "start_time": "2024-07-22T08:44:53.752Z"
   },
   {
    "duration": 6,
    "start_time": "2024-07-22T08:45:31.529Z"
   },
   {
    "duration": 7,
    "start_time": "2024-07-22T08:45:58.240Z"
   },
   {
    "duration": 8,
    "start_time": "2024-07-22T08:48:43.041Z"
   },
   {
    "duration": 25,
    "start_time": "2024-07-22T08:51:16.041Z"
   },
   {
    "duration": 7,
    "start_time": "2024-07-22T08:51:21.824Z"
   },
   {
    "duration": 6,
    "start_time": "2024-07-22T08:51:23.327Z"
   },
   {
    "duration": 7,
    "start_time": "2024-07-22T08:51:24.232Z"
   },
   {
    "duration": 22,
    "start_time": "2024-07-22T08:51:27.482Z"
   },
   {
    "duration": 7,
    "start_time": "2024-07-22T08:51:28.919Z"
   },
   {
    "duration": 26,
    "start_time": "2024-07-22T08:51:56.461Z"
   },
   {
    "duration": 6,
    "start_time": "2024-07-22T08:52:06.838Z"
   },
   {
    "duration": 5,
    "start_time": "2024-07-22T08:52:07.090Z"
   },
   {
    "duration": 6,
    "start_time": "2024-07-22T08:52:07.929Z"
   },
   {
    "duration": 32,
    "start_time": "2024-07-22T08:52:10.107Z"
   },
   {
    "duration": 7,
    "start_time": "2024-07-22T08:52:11.321Z"
   },
   {
    "duration": 27,
    "start_time": "2024-07-22T08:52:35.397Z"
   },
   {
    "duration": 6,
    "start_time": "2024-07-22T08:52:40.200Z"
   },
   {
    "duration": 5,
    "start_time": "2024-07-22T08:52:42.467Z"
   },
   {
    "duration": 7,
    "start_time": "2024-07-22T08:52:44.135Z"
   },
   {
    "duration": 21,
    "start_time": "2024-07-22T08:52:46.366Z"
   },
   {
    "duration": 7,
    "start_time": "2024-07-22T08:52:48.424Z"
   },
   {
    "duration": 25,
    "start_time": "2024-07-22T08:53:01.248Z"
   },
   {
    "duration": 6,
    "start_time": "2024-07-22T08:53:02.244Z"
   },
   {
    "duration": 5,
    "start_time": "2024-07-22T08:53:02.661Z"
   },
   {
    "duration": 7,
    "start_time": "2024-07-22T08:53:03.325Z"
   },
   {
    "duration": 14,
    "start_time": "2024-07-22T08:53:04.572Z"
   },
   {
    "duration": 7,
    "start_time": "2024-07-22T08:53:05.569Z"
   },
   {
    "duration": 1373,
    "start_time": "2024-07-22T08:53:28.834Z"
   },
   {
    "duration": 37,
    "start_time": "2024-07-22T08:53:30.210Z"
   },
   {
    "duration": 13,
    "start_time": "2024-07-22T08:53:30.250Z"
   },
   {
    "duration": 5,
    "start_time": "2024-07-22T08:53:30.267Z"
   },
   {
    "duration": 13,
    "start_time": "2024-07-22T08:53:30.276Z"
   },
   {
    "duration": 43,
    "start_time": "2024-07-22T08:53:30.292Z"
   },
   {
    "duration": 5,
    "start_time": "2024-07-22T08:53:30.338Z"
   },
   {
    "duration": 1030,
    "start_time": "2024-07-22T08:53:30.347Z"
   },
   {
    "duration": 393,
    "start_time": "2024-07-22T08:53:31.380Z"
   },
   {
    "duration": 11,
    "start_time": "2024-07-22T08:53:31.780Z"
   },
   {
    "duration": 577,
    "start_time": "2024-07-22T08:53:31.795Z"
   },
   {
    "duration": 6,
    "start_time": "2024-07-22T08:53:32.376Z"
   },
   {
    "duration": 57,
    "start_time": "2024-07-22T08:53:32.387Z"
   },
   {
    "duration": 5,
    "start_time": "2024-07-22T08:53:32.449Z"
   },
   {
    "duration": 6,
    "start_time": "2024-07-22T08:53:32.458Z"
   },
   {
    "duration": 8,
    "start_time": "2024-07-22T08:53:32.467Z"
   },
   {
    "duration": 55,
    "start_time": "2024-07-22T08:53:32.477Z"
   },
   {
    "duration": 11,
    "start_time": "2024-07-22T08:53:32.534Z"
   },
   {
    "duration": 26,
    "start_time": "2024-07-22T08:54:14.136Z"
   },
   {
    "duration": 5,
    "start_time": "2024-07-22T08:55:15.384Z"
   },
   {
    "duration": 33,
    "start_time": "2024-07-22T08:55:15.394Z"
   },
   {
    "duration": 9,
    "start_time": "2024-07-22T08:55:15.430Z"
   },
   {
    "duration": 4,
    "start_time": "2024-07-22T08:55:15.443Z"
   },
   {
    "duration": 13,
    "start_time": "2024-07-22T08:55:15.452Z"
   },
   {
    "duration": 6,
    "start_time": "2024-07-22T08:55:15.468Z"
   },
   {
    "duration": 5,
    "start_time": "2024-07-22T08:55:15.477Z"
   },
   {
    "duration": 952,
    "start_time": "2024-07-22T08:55:15.532Z"
   },
   {
    "duration": 463,
    "start_time": "2024-07-22T08:55:16.486Z"
   },
   {
    "duration": 9,
    "start_time": "2024-07-22T08:55:16.953Z"
   },
   {
    "duration": 532,
    "start_time": "2024-07-22T08:55:16.964Z"
   },
   {
    "duration": 6,
    "start_time": "2024-07-22T08:55:17.499Z"
   },
   {
    "duration": 46,
    "start_time": "2024-07-22T08:55:17.508Z"
   },
   {
    "duration": 5,
    "start_time": "2024-07-22T08:55:17.561Z"
   },
   {
    "duration": 6,
    "start_time": "2024-07-22T08:55:17.568Z"
   },
   {
    "duration": 7,
    "start_time": "2024-07-22T08:55:17.577Z"
   },
   {
    "duration": 15,
    "start_time": "2024-07-22T08:55:17.630Z"
   },
   {
    "duration": 6,
    "start_time": "2024-07-22T08:55:17.648Z"
   },
   {
    "duration": 5,
    "start_time": "2024-07-22T08:55:46.766Z"
   },
   {
    "duration": 30,
    "start_time": "2024-07-22T08:55:46.776Z"
   },
   {
    "duration": 11,
    "start_time": "2024-07-22T08:55:46.809Z"
   },
   {
    "duration": 10,
    "start_time": "2024-07-22T08:55:46.823Z"
   },
   {
    "duration": 14,
    "start_time": "2024-07-22T08:55:46.838Z"
   },
   {
    "duration": 7,
    "start_time": "2024-07-22T08:55:46.855Z"
   },
   {
    "duration": 8,
    "start_time": "2024-07-22T08:55:46.866Z"
   },
   {
    "duration": 953,
    "start_time": "2024-07-22T08:55:46.877Z"
   },
   {
    "duration": 389,
    "start_time": "2024-07-22T08:55:47.833Z"
   },
   {
    "duration": 9,
    "start_time": "2024-07-22T08:55:48.229Z"
   },
   {
    "duration": 621,
    "start_time": "2024-07-22T08:55:48.242Z"
   },
   {
    "duration": 9,
    "start_time": "2024-07-22T08:55:48.866Z"
   },
   {
    "duration": 30,
    "start_time": "2024-07-22T08:55:48.878Z"
   },
   {
    "duration": 6,
    "start_time": "2024-07-22T08:55:48.933Z"
   },
   {
    "duration": 6,
    "start_time": "2024-07-22T08:55:48.942Z"
   },
   {
    "duration": 6,
    "start_time": "2024-07-22T08:55:48.953Z"
   },
   {
    "duration": 70,
    "start_time": "2024-07-22T08:55:48.962Z"
   },
   {
    "duration": 9,
    "start_time": "2024-07-22T08:55:49.035Z"
   },
   {
    "duration": 4,
    "start_time": "2024-07-22T08:57:36.135Z"
   },
   {
    "duration": 30,
    "start_time": "2024-07-22T08:57:36.143Z"
   },
   {
    "duration": 9,
    "start_time": "2024-07-22T08:57:36.176Z"
   },
   {
    "duration": 5,
    "start_time": "2024-07-22T08:57:36.188Z"
   },
   {
    "duration": 14,
    "start_time": "2024-07-22T08:57:36.233Z"
   },
   {
    "duration": 6,
    "start_time": "2024-07-22T08:57:36.250Z"
   },
   {
    "duration": 5,
    "start_time": "2024-07-22T08:57:36.260Z"
   },
   {
    "duration": 967,
    "start_time": "2024-07-22T08:57:36.268Z"
   },
   {
    "duration": 385,
    "start_time": "2024-07-22T08:57:37.238Z"
   },
   {
    "duration": 14,
    "start_time": "2024-07-22T08:57:37.625Z"
   },
   {
    "duration": 558,
    "start_time": "2024-07-22T08:57:37.642Z"
   },
   {
    "duration": 6,
    "start_time": "2024-07-22T08:57:38.203Z"
   },
   {
    "duration": 1441,
    "start_time": "2024-07-22T08:57:51.635Z"
   },
   {
    "duration": 32,
    "start_time": "2024-07-22T08:57:53.079Z"
   },
   {
    "duration": 25,
    "start_time": "2024-07-22T08:57:53.113Z"
   },
   {
    "duration": 5,
    "start_time": "2024-07-22T08:57:53.141Z"
   },
   {
    "duration": 15,
    "start_time": "2024-07-22T08:57:53.151Z"
   },
   {
    "duration": 7,
    "start_time": "2024-07-22T08:57:53.169Z"
   },
   {
    "duration": 51,
    "start_time": "2024-07-22T08:57:53.179Z"
   },
   {
    "duration": 1023,
    "start_time": "2024-07-22T08:57:53.233Z"
   },
   {
    "duration": 395,
    "start_time": "2024-07-22T08:57:54.259Z"
   },
   {
    "duration": 11,
    "start_time": "2024-07-22T08:57:54.658Z"
   },
   {
    "duration": 553,
    "start_time": "2024-07-22T08:57:54.673Z"
   },
   {
    "duration": 6,
    "start_time": "2024-07-22T08:57:55.231Z"
   },
   {
    "duration": 40,
    "start_time": "2024-07-22T08:57:55.240Z"
   },
   {
    "duration": 5,
    "start_time": "2024-07-22T08:57:55.286Z"
   },
   {
    "duration": 37,
    "start_time": "2024-07-22T08:57:55.294Z"
   },
   {
    "duration": 8,
    "start_time": "2024-07-22T08:57:55.335Z"
   },
   {
    "duration": 89,
    "start_time": "2024-07-22T08:57:55.346Z"
   },
   {
    "duration": 6,
    "start_time": "2024-07-22T08:57:55.438Z"
   },
   {
    "duration": 34,
    "start_time": "2024-07-22T09:37:40.030Z"
   },
   {
    "duration": 1142,
    "start_time": "2024-07-22T09:43:18.701Z"
   },
   {
    "duration": 6,
    "start_time": "2024-07-22T09:45:46.566Z"
   },
   {
    "duration": 1196,
    "start_time": "2024-07-22T09:46:13.570Z"
   },
   {
    "duration": 7,
    "start_time": "2024-07-22T09:46:15.627Z"
   },
   {
    "duration": 3381,
    "start_time": "2024-07-22T09:46:21.364Z"
   },
   {
    "duration": 7,
    "start_time": "2024-07-22T09:46:25.772Z"
   },
   {
    "duration": 3430,
    "start_time": "2024-07-22T09:46:40.949Z"
   },
   {
    "duration": 6,
    "start_time": "2024-07-22T09:46:46.320Z"
   },
   {
    "duration": 5,
    "start_time": "2024-07-22T09:54:08.530Z"
   },
   {
    "duration": 64,
    "start_time": "2024-07-22T09:56:11.906Z"
   },
   {
    "duration": 8,
    "start_time": "2024-07-22T09:56:12.930Z"
   },
   {
    "duration": 45,
    "start_time": "2024-07-22T09:56:22.654Z"
   },
   {
    "duration": 6,
    "start_time": "2024-07-22T09:56:23.550Z"
   },
   {
    "duration": 5,
    "start_time": "2024-07-22T10:09:04.866Z"
   },
   {
    "duration": 38,
    "start_time": "2024-07-22T10:09:04.882Z"
   },
   {
    "duration": 9,
    "start_time": "2024-07-22T10:09:04.923Z"
   },
   {
    "duration": 5,
    "start_time": "2024-07-22T10:09:04.936Z"
   },
   {
    "duration": 13,
    "start_time": "2024-07-22T10:09:04.944Z"
   },
   {
    "duration": 7,
    "start_time": "2024-07-22T10:09:04.962Z"
   },
   {
    "duration": 6,
    "start_time": "2024-07-22T10:09:04.972Z"
   },
   {
    "duration": 1014,
    "start_time": "2024-07-22T10:09:05.029Z"
   },
   {
    "duration": 374,
    "start_time": "2024-07-22T10:09:06.047Z"
   },
   {
    "duration": 9,
    "start_time": "2024-07-22T10:09:06.432Z"
   },
   {
    "duration": 576,
    "start_time": "2024-07-22T10:09:06.443Z"
   },
   {
    "duration": 11,
    "start_time": "2024-07-22T10:09:07.022Z"
   },
   {
    "duration": 26,
    "start_time": "2024-07-22T10:09:07.037Z"
   },
   {
    "duration": 6,
    "start_time": "2024-07-22T10:09:07.065Z"
   },
   {
    "duration": 6,
    "start_time": "2024-07-22T10:09:07.077Z"
   },
   {
    "duration": 50,
    "start_time": "2024-07-22T10:09:07.085Z"
   },
   {
    "duration": 14,
    "start_time": "2024-07-22T10:09:07.138Z"
   },
   {
    "duration": 7,
    "start_time": "2024-07-22T10:09:07.155Z"
   },
   {
    "duration": 1828,
    "start_time": "2024-07-22T10:09:07.164Z"
   },
   {
    "duration": 7,
    "start_time": "2024-07-22T10:09:08.995Z"
   },
   {
    "duration": 44,
    "start_time": "2024-07-22T10:09:09.004Z"
   },
   {
    "duration": 7,
    "start_time": "2024-07-22T10:09:09.050Z"
   },
   {
    "duration": 6,
    "start_time": "2024-07-22T10:09:42.834Z"
   },
   {
    "duration": 32,
    "start_time": "2024-07-22T10:09:42.845Z"
   },
   {
    "duration": 9,
    "start_time": "2024-07-22T10:09:42.880Z"
   },
   {
    "duration": 4,
    "start_time": "2024-07-22T10:09:42.931Z"
   },
   {
    "duration": 14,
    "start_time": "2024-07-22T10:09:42.938Z"
   },
   {
    "duration": 7,
    "start_time": "2024-07-22T10:09:42.954Z"
   },
   {
    "duration": 5,
    "start_time": "2024-07-22T10:09:42.964Z"
   },
   {
    "duration": 961,
    "start_time": "2024-07-22T10:09:42.972Z"
   },
   {
    "duration": 381,
    "start_time": "2024-07-22T10:09:43.936Z"
   },
   {
    "duration": 8,
    "start_time": "2024-07-22T10:09:44.332Z"
   },
   {
    "duration": 633,
    "start_time": "2024-07-22T10:09:44.344Z"
   },
   {
    "duration": 7,
    "start_time": "2024-07-22T10:09:44.980Z"
   },
   {
    "duration": 44,
    "start_time": "2024-07-22T10:09:44.990Z"
   },
   {
    "duration": 8,
    "start_time": "2024-07-22T10:09:45.037Z"
   },
   {
    "duration": 7,
    "start_time": "2024-07-22T10:09:45.048Z"
   },
   {
    "duration": 7,
    "start_time": "2024-07-22T10:09:45.058Z"
   },
   {
    "duration": 12,
    "start_time": "2024-07-22T10:09:45.068Z"
   },
   {
    "duration": 7,
    "start_time": "2024-07-22T10:09:45.131Z"
   },
   {
    "duration": 1438,
    "start_time": "2024-07-22T10:09:45.141Z"
   },
   {
    "duration": 6,
    "start_time": "2024-07-22T10:09:46.582Z"
   },
   {
    "duration": 43,
    "start_time": "2024-07-22T10:09:46.591Z"
   },
   {
    "duration": 7,
    "start_time": "2024-07-22T10:09:46.637Z"
   },
   {
    "duration": 5,
    "start_time": "2024-07-22T10:10:11.048Z"
   },
   {
    "duration": 29,
    "start_time": "2024-07-22T10:10:11.058Z"
   },
   {
    "duration": 9,
    "start_time": "2024-07-22T10:10:11.089Z"
   },
   {
    "duration": 4,
    "start_time": "2024-07-22T10:10:11.102Z"
   },
   {
    "duration": 13,
    "start_time": "2024-07-22T10:10:11.132Z"
   },
   {
    "duration": 6,
    "start_time": "2024-07-22T10:10:11.148Z"
   },
   {
    "duration": 5,
    "start_time": "2024-07-22T10:10:11.158Z"
   },
   {
    "duration": 990,
    "start_time": "2024-07-22T10:10:11.166Z"
   },
   {
    "duration": 398,
    "start_time": "2024-07-22T10:10:12.159Z"
   },
   {
    "duration": 8,
    "start_time": "2024-07-22T10:10:12.561Z"
   },
   {
    "duration": 565,
    "start_time": "2024-07-22T10:10:12.573Z"
   },
   {
    "duration": 10,
    "start_time": "2024-07-22T10:10:13.140Z"
   },
   {
    "duration": 32,
    "start_time": "2024-07-22T10:10:13.153Z"
   },
   {
    "duration": 6,
    "start_time": "2024-07-22T10:10:13.190Z"
   },
   {
    "duration": 5,
    "start_time": "2024-07-22T10:10:13.231Z"
   },
   {
    "duration": 9,
    "start_time": "2024-07-22T10:10:13.239Z"
   },
   {
    "duration": 18,
    "start_time": "2024-07-22T10:10:13.251Z"
   },
   {
    "duration": 12,
    "start_time": "2024-07-22T10:10:13.332Z"
   },
   {
    "duration": 2940,
    "start_time": "2024-07-22T10:10:13.347Z"
   },
   {
    "duration": 6,
    "start_time": "2024-07-22T10:10:16.290Z"
   },
   {
    "duration": 59,
    "start_time": "2024-07-22T10:10:16.300Z"
   },
   {
    "duration": 7,
    "start_time": "2024-07-22T10:10:16.361Z"
   },
   {
    "duration": 4,
    "start_time": "2024-07-22T10:11:00.426Z"
   },
   {
    "duration": 32,
    "start_time": "2024-07-22T10:11:00.439Z"
   },
   {
    "duration": 9,
    "start_time": "2024-07-22T10:11:00.475Z"
   },
   {
    "duration": 4,
    "start_time": "2024-07-22T10:11:00.488Z"
   },
   {
    "duration": 13,
    "start_time": "2024-07-22T10:11:00.530Z"
   },
   {
    "duration": 6,
    "start_time": "2024-07-22T10:11:00.549Z"
   },
   {
    "duration": 6,
    "start_time": "2024-07-22T10:11:00.557Z"
   },
   {
    "duration": 1022,
    "start_time": "2024-07-22T10:11:00.565Z"
   },
   {
    "duration": 399,
    "start_time": "2024-07-22T10:11:01.590Z"
   },
   {
    "duration": 12,
    "start_time": "2024-07-22T10:11:01.992Z"
   },
   {
    "duration": 571,
    "start_time": "2024-07-22T10:11:02.007Z"
   },
   {
    "duration": 6,
    "start_time": "2024-07-22T10:11:02.581Z"
   },
   {
    "duration": 59,
    "start_time": "2024-07-22T10:11:02.591Z"
   },
   {
    "duration": 6,
    "start_time": "2024-07-22T10:11:02.653Z"
   },
   {
    "duration": 6,
    "start_time": "2024-07-22T10:11:02.664Z"
   },
   {
    "duration": 8,
    "start_time": "2024-07-22T10:11:02.673Z"
   },
   {
    "duration": 57,
    "start_time": "2024-07-22T10:11:02.684Z"
   },
   {
    "duration": 92,
    "start_time": "2024-07-22T10:11:02.743Z"
   },
   {
    "duration": 2948,
    "start_time": "2024-07-22T10:11:02.841Z"
   },
   {
    "duration": 7,
    "start_time": "2024-07-22T10:11:05.792Z"
   },
   {
    "duration": 56,
    "start_time": "2024-07-22T10:11:05.802Z"
   },
   {
    "duration": 7,
    "start_time": "2024-07-22T10:11:05.860Z"
   },
   {
    "duration": 56,
    "start_time": "2024-07-22T10:11:48.860Z"
   },
   {
    "duration": 6,
    "start_time": "2024-07-22T10:11:49.770Z"
   },
   {
    "duration": 2871,
    "start_time": "2024-07-22T10:11:58.076Z"
   },
   {
    "duration": 9,
    "start_time": "2024-07-22T10:12:00.950Z"
   },
   {
    "duration": 303,
    "start_time": "2024-07-22T10:12:07.852Z"
   },
   {
    "duration": 7,
    "start_time": "2024-07-22T10:12:10.203Z"
   },
   {
    "duration": 40,
    "start_time": "2024-07-22T10:12:19.994Z"
   },
   {
    "duration": 7,
    "start_time": "2024-07-22T10:12:20.820Z"
   },
   {
    "duration": 25,
    "start_time": "2024-07-22T10:12:28.650Z"
   },
   {
    "duration": 7,
    "start_time": "2024-07-22T10:12:29.863Z"
   },
   {
    "duration": 33,
    "start_time": "2024-07-22T10:12:34.121Z"
   },
   {
    "duration": 7,
    "start_time": "2024-07-22T10:12:35.018Z"
   },
   {
    "duration": 42,
    "start_time": "2024-07-22T10:12:39.350Z"
   },
   {
    "duration": 7,
    "start_time": "2024-07-22T10:12:40.242Z"
   },
   {
    "duration": 43,
    "start_time": "2024-07-22T10:12:43.689Z"
   },
   {
    "duration": 8,
    "start_time": "2024-07-22T10:12:45.154Z"
   },
   {
    "duration": 42,
    "start_time": "2024-07-22T10:12:49.676Z"
   },
   {
    "duration": 7,
    "start_time": "2024-07-22T10:12:50.715Z"
   },
   {
    "duration": 39,
    "start_time": "2024-07-22T10:12:57.475Z"
   },
   {
    "duration": 6,
    "start_time": "2024-07-22T10:12:57.660Z"
   },
   {
    "duration": 42,
    "start_time": "2024-07-22T10:13:02.919Z"
   },
   {
    "duration": 7,
    "start_time": "2024-07-22T10:13:03.923Z"
   },
   {
    "duration": 332,
    "start_time": "2024-07-22T10:13:11.191Z"
   },
   {
    "duration": 7,
    "start_time": "2024-07-22T10:13:14.647Z"
   },
   {
    "duration": 522,
    "start_time": "2024-07-22T10:13:23.022Z"
   },
   {
    "duration": 7,
    "start_time": "2024-07-22T10:13:24.562Z"
   },
   {
    "duration": 560,
    "start_time": "2024-07-22T10:13:29.697Z"
   },
   {
    "duration": 7,
    "start_time": "2024-07-22T10:13:30.915Z"
   },
   {
    "duration": 1027,
    "start_time": "2024-07-22T10:13:37.498Z"
   },
   {
    "duration": 7,
    "start_time": "2024-07-22T10:13:38.611Z"
   },
   {
    "duration": 2062,
    "start_time": "2024-07-22T10:13:44.223Z"
   },
   {
    "duration": 6,
    "start_time": "2024-07-22T10:13:46.288Z"
   },
   {
    "duration": 3064,
    "start_time": "2024-07-22T10:13:53.572Z"
   },
   {
    "duration": 7,
    "start_time": "2024-07-22T10:13:56.638Z"
   },
   {
    "duration": 2840,
    "start_time": "2024-07-22T10:14:02.206Z"
   },
   {
    "duration": 7,
    "start_time": "2024-07-22T10:14:07.809Z"
   },
   {
    "duration": 3067,
    "start_time": "2024-07-22T10:14:13.350Z"
   },
   {
    "duration": 10,
    "start_time": "2024-07-22T10:14:16.420Z"
   },
   {
    "duration": 4191,
    "start_time": "2024-07-22T10:14:26.435Z"
   },
   {
    "duration": 7,
    "start_time": "2024-07-22T10:14:30.629Z"
   },
   {
    "duration": 4274,
    "start_time": "2024-07-22T10:14:36.902Z"
   },
   {
    "duration": 7,
    "start_time": "2024-07-22T10:14:41.179Z"
   },
   {
    "duration": 4267,
    "start_time": "2024-07-22T10:14:46.696Z"
   },
   {
    "duration": 6,
    "start_time": "2024-07-22T10:14:51.655Z"
   },
   {
    "duration": 4210,
    "start_time": "2024-07-22T10:14:58.602Z"
   },
   {
    "duration": 7,
    "start_time": "2024-07-22T10:15:03.613Z"
   },
   {
    "duration": 7,
    "start_time": "2024-07-22T10:16:26.942Z"
   },
   {
    "duration": 41,
    "start_time": "2024-07-22T10:16:34.162Z"
   },
   {
    "duration": 6,
    "start_time": "2024-07-22T10:16:38.154Z"
   },
   {
    "duration": 5,
    "start_time": "2024-07-22T10:16:39.378Z"
   },
   {
    "duration": 7,
    "start_time": "2024-07-22T10:16:40.876Z"
   },
   {
    "duration": 22,
    "start_time": "2024-07-22T10:16:44.337Z"
   },
   {
    "duration": 6,
    "start_time": "2024-07-22T10:16:45.418Z"
   },
   {
    "duration": 6387,
    "start_time": "2024-07-22T10:16:58.607Z"
   },
   {
    "duration": 7,
    "start_time": "2024-07-22T10:17:06.277Z"
   },
   {
    "duration": 60,
    "start_time": "2024-07-22T10:17:12.933Z"
   },
   {
    "duration": 7,
    "start_time": "2024-07-22T10:17:15.594Z"
   },
   {
    "duration": 4762,
    "start_time": "2024-07-22T10:17:49.194Z"
   },
   {
    "duration": 7,
    "start_time": "2024-07-22T10:17:56.070Z"
   },
   {
    "duration": 6028,
    "start_time": "2024-07-22T10:18:01.574Z"
   },
   {
    "duration": 6,
    "start_time": "2024-07-22T10:18:08.698Z"
   },
   {
    "duration": 8331,
    "start_time": "2024-07-22T10:18:18.743Z"
   },
   {
    "duration": 6,
    "start_time": "2024-07-22T10:18:30.632Z"
   },
   {
    "duration": 12501,
    "start_time": "2024-07-22T10:18:39.052Z"
   },
   {
    "duration": 8,
    "start_time": "2024-07-22T10:18:55.553Z"
   },
   {
    "duration": 12716,
    "start_time": "2024-07-22T10:19:02.414Z"
   },
   {
    "duration": 7,
    "start_time": "2024-07-22T10:19:35.469Z"
   },
   {
    "duration": 12758,
    "start_time": "2024-07-22T10:19:40.453Z"
   },
   {
    "duration": 7,
    "start_time": "2024-07-22T10:19:56.847Z"
   },
   {
    "duration": 12842,
    "start_time": "2024-07-22T10:20:03.939Z"
   },
   {
    "duration": 7,
    "start_time": "2024-07-22T10:20:16.785Z"
   },
   {
    "duration": 12953,
    "start_time": "2024-07-22T10:20:24.999Z"
   },
   {
    "duration": 7,
    "start_time": "2024-07-22T10:20:39.300Z"
   },
   {
    "duration": 10787,
    "start_time": "2024-07-22T10:20:46.465Z"
   },
   {
    "duration": 6,
    "start_time": "2024-07-22T10:21:08.451Z"
   },
   {
    "duration": 17279,
    "start_time": "2024-07-22T10:21:15.240Z"
   },
   {
    "duration": 7,
    "start_time": "2024-07-22T10:21:34.829Z"
   },
   {
    "duration": 12709,
    "start_time": "2024-07-22T10:21:40.512Z"
   },
   {
    "duration": 7,
    "start_time": "2024-07-22T10:21:54.915Z"
   },
   {
    "duration": 6362,
    "start_time": "2024-07-22T10:22:11.669Z"
   },
   {
    "duration": 7,
    "start_time": "2024-07-22T10:22:31.021Z"
   },
   {
    "duration": 8193,
    "start_time": "2024-07-22T10:22:38.659Z"
   },
   {
    "duration": 6,
    "start_time": "2024-07-22T10:22:46.855Z"
   },
   {
    "duration": 8210,
    "start_time": "2024-07-22T10:22:57.717Z"
   },
   {
    "duration": 6,
    "start_time": "2024-07-22T10:23:07.023Z"
   },
   {
    "duration": 8402,
    "start_time": "2024-07-22T10:23:13.468Z"
   },
   {
    "duration": 6,
    "start_time": "2024-07-22T10:23:24.534Z"
   },
   {
    "duration": 10551,
    "start_time": "2024-07-22T10:23:33.382Z"
   },
   {
    "duration": 9,
    "start_time": "2024-07-22T10:23:47.430Z"
   },
   {
    "duration": 12647,
    "start_time": "2024-07-22T10:23:57.012Z"
   },
   {
    "duration": 9,
    "start_time": "2024-07-22T10:24:12.931Z"
   },
   {
    "duration": 8421,
    "start_time": "2024-07-22T10:24:19.493Z"
   },
   {
    "duration": 7,
    "start_time": "2024-07-22T10:24:33.233Z"
   },
   {
    "duration": 44,
    "start_time": "2024-07-22T10:25:41.241Z"
   },
   {
    "duration": 5,
    "start_time": "2024-07-22T10:25:51.912Z"
   },
   {
    "duration": 6,
    "start_time": "2024-07-22T10:25:52.983Z"
   },
   {
    "duration": 7,
    "start_time": "2024-07-22T10:25:53.917Z"
   },
   {
    "duration": 29,
    "start_time": "2024-07-22T10:25:57.084Z"
   },
   {
    "duration": 7,
    "start_time": "2024-07-22T10:26:03.588Z"
   },
   {
    "duration": 11122,
    "start_time": "2024-07-22T10:26:07.196Z"
   },
   {
    "duration": 15,
    "start_time": "2024-07-22T10:26:18.321Z"
   },
   {
    "duration": 74,
    "start_time": "2024-07-22T10:26:23.885Z"
   },
   {
    "duration": 6,
    "start_time": "2024-07-22T10:26:25.724Z"
   },
   {
    "duration": 42,
    "start_time": "2024-07-22T10:26:42.129Z"
   },
   {
    "duration": 6,
    "start_time": "2024-07-22T10:26:46.002Z"
   },
   {
    "duration": 5,
    "start_time": "2024-07-22T10:26:47.443Z"
   },
   {
    "duration": 7,
    "start_time": "2024-07-22T10:26:48.149Z"
   },
   {
    "duration": 25,
    "start_time": "2024-07-22T10:26:50.988Z"
   },
   {
    "duration": 6,
    "start_time": "2024-07-22T10:26:54.184Z"
   },
   {
    "duration": 11047,
    "start_time": "2024-07-22T10:26:56.236Z"
   },
   {
    "duration": 7,
    "start_time": "2024-07-22T10:27:07.286Z"
   },
   {
    "duration": 75,
    "start_time": "2024-07-22T10:27:19.521Z"
   },
   {
    "duration": 7,
    "start_time": "2024-07-22T10:27:20.529Z"
   },
   {
    "duration": 40,
    "start_time": "2024-07-22T10:27:42.477Z"
   },
   {
    "duration": 6,
    "start_time": "2024-07-22T10:27:46.018Z"
   },
   {
    "duration": 6,
    "start_time": "2024-07-22T10:27:46.943Z"
   },
   {
    "duration": 7,
    "start_time": "2024-07-22T10:27:47.972Z"
   },
   {
    "duration": 25,
    "start_time": "2024-07-22T10:27:50.394Z"
   },
   {
    "duration": 7,
    "start_time": "2024-07-22T10:27:52.633Z"
   },
   {
    "duration": 11020,
    "start_time": "2024-07-22T10:27:58.344Z"
   },
   {
    "duration": 7,
    "start_time": "2024-07-22T10:28:13.649Z"
   },
   {
    "duration": 75,
    "start_time": "2024-07-22T10:28:16.328Z"
   },
   {
    "duration": 6,
    "start_time": "2024-07-22T10:28:17.210Z"
   },
   {
    "duration": 51,
    "start_time": "2024-07-22T10:28:32.907Z"
   },
   {
    "duration": 7,
    "start_time": "2024-07-22T10:28:34.978Z"
   },
   {
    "duration": 5,
    "start_time": "2024-07-22T10:28:37.254Z"
   },
   {
    "duration": 6,
    "start_time": "2024-07-22T10:28:38.316Z"
   },
   {
    "duration": 23,
    "start_time": "2024-07-22T10:28:40.843Z"
   },
   {
    "duration": 8,
    "start_time": "2024-07-22T10:28:42.730Z"
   },
   {
    "duration": 13783,
    "start_time": "2024-07-22T10:28:50.253Z"
   },
   {
    "duration": 7,
    "start_time": "2024-07-22T10:29:04.040Z"
   },
   {
    "duration": 91,
    "start_time": "2024-07-22T10:29:14.891Z"
   },
   {
    "duration": 6,
    "start_time": "2024-07-22T10:29:16.716Z"
   },
   {
    "duration": 50,
    "start_time": "2024-07-22T10:29:30.379Z"
   },
   {
    "duration": 6,
    "start_time": "2024-07-22T10:29:33.228Z"
   },
   {
    "duration": 6,
    "start_time": "2024-07-22T10:29:33.967Z"
   },
   {
    "duration": 6,
    "start_time": "2024-07-22T10:29:34.660Z"
   },
   {
    "duration": 24,
    "start_time": "2024-07-22T10:29:36.352Z"
   },
   {
    "duration": 7,
    "start_time": "2024-07-22T10:29:37.954Z"
   },
   {
    "duration": 16286,
    "start_time": "2024-07-22T10:29:39.988Z"
   },
   {
    "duration": 6,
    "start_time": "2024-07-22T10:29:56.278Z"
   },
   {
    "duration": 108,
    "start_time": "2024-07-22T10:30:05.404Z"
   },
   {
    "duration": 7,
    "start_time": "2024-07-22T10:30:06.631Z"
   },
   {
    "duration": 1344,
    "start_time": "2024-07-22T10:34:42.883Z"
   },
   {
    "duration": 33,
    "start_time": "2024-07-22T10:34:44.232Z"
   },
   {
    "duration": 14,
    "start_time": "2024-07-22T10:34:44.268Z"
   },
   {
    "duration": 4,
    "start_time": "2024-07-22T10:34:44.286Z"
   },
   {
    "duration": 109,
    "start_time": "2024-07-22T10:34:44.293Z"
   },
   {
    "duration": 7,
    "start_time": "2024-07-22T10:34:44.405Z"
   },
   {
    "duration": 17,
    "start_time": "2024-07-22T10:34:44.415Z"
   },
   {
    "duration": 974,
    "start_time": "2024-07-22T10:34:44.436Z"
   },
   {
    "duration": 379,
    "start_time": "2024-07-22T10:34:45.413Z"
   },
   {
    "duration": 9,
    "start_time": "2024-07-22T10:34:45.797Z"
   },
   {
    "duration": 559,
    "start_time": "2024-07-22T10:34:45.809Z"
   },
   {
    "duration": 7,
    "start_time": "2024-07-22T10:34:46.371Z"
   },
   {
    "duration": 93,
    "start_time": "2024-07-22T10:34:46.382Z"
   },
   {
    "duration": 6,
    "start_time": "2024-07-22T10:34:46.478Z"
   },
   {
    "duration": 6,
    "start_time": "2024-07-22T10:34:46.486Z"
   },
   {
    "duration": 8,
    "start_time": "2024-07-22T10:34:46.495Z"
   },
   {
    "duration": 108,
    "start_time": "2024-07-22T10:34:46.532Z"
   },
   {
    "duration": 93,
    "start_time": "2024-07-22T10:34:46.643Z"
   },
   {
    "duration": 16392,
    "start_time": "2024-07-22T10:34:46.739Z"
   },
   {
    "duration": 7,
    "start_time": "2024-07-22T10:35:03.135Z"
   },
   {
    "duration": 131,
    "start_time": "2024-07-22T10:35:03.145Z"
   },
   {
    "duration": 7,
    "start_time": "2024-07-22T10:35:03.279Z"
   }
  ],
  "kernelspec": {
   "display_name": "Python 3 (ipykernel)",
   "language": "python",
   "name": "python3"
  },
  "language_info": {
   "codemirror_mode": {
    "name": "ipython",
    "version": 3
   },
   "file_extension": ".py",
   "mimetype": "text/x-python",
   "name": "python",
   "nbconvert_exporter": "python",
   "pygments_lexer": "ipython3",
   "version": "3.9.19"
  },
  "toc": {
   "base_numbering": 1,
   "nav_menu": {},
   "number_sections": true,
   "sideBar": true,
   "skip_h1_title": true,
   "title_cell": "Table of Contents",
   "title_sidebar": "Contents",
   "toc_cell": false,
   "toc_position": {},
   "toc_section_display": true,
   "toc_window_display": false
  }
 },
 "nbformat": 4,
 "nbformat_minor": 2
}
