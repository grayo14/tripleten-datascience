{
 "cells": [
  {
   "cell_type": "markdown",
   "metadata": {},
   "source": [
    "# Hola Gastón! <a class=\"tocSkip\"></a>\n",
    "\n",
    "Mi nombre es Oscar Flores y tengo el gusto de revisar tu proyecto. Si tienes algún comentario que quieras agregar en tus respuestas te puedes referir a mi como Oscar, no hay problema que me trates de tú.\n",
    "\n",
    "Si veo un error en la primera revisión solamente lo señalaré y dejaré que tú encuentres de qué se trata y cómo arreglarlo. Debo prepararte para que te desempeñes como especialista en Data, en un trabajo real, el responsable a cargo tuyo hará lo mismo. Si aún tienes dificultades para resolver esta tarea, te daré indicaciones más precisas en una siguiente iteración.\n",
    "\n",
    "Te dejaré mis comentarios más abajo - **por favor, no los muevas, modifiques o borres**\n",
    "\n",
    "Comenzaré mis comentarios con un resumen de los puntos que están bien, aquellos que debes corregir y aquellos que puedes mejorar. Luego deberás revisar todo el notebook para leer mis comentarios, los cuales estarán en rectángulos de color verde, amarillo o rojo como siguen:\n",
    "\n",
    "<div class=\"alert alert-block alert-success\">\n",
    "<b>Comentario de Reviewer</b> <a class=\"tocSkip\"></a>\n",
    "    \n",
    "Muy bien! Toda la respuesta fue lograda satisfactoriamente.\n",
    "</div>\n",
    "\n",
    "<div class=\"alert alert-block alert-warning\">\n",
    "<b>Comentario de Reviewer</b> <a class=\"tocSkip\"></a>\n",
    "\n",
    "Existen detalles a mejorar. Existen recomendaciones.\n",
    "</div>\n",
    "\n",
    "<div class=\"alert alert-block alert-danger\">\n",
    "\n",
    "<b>Comentario de Reviewer</b> <a class=\"tocSkip\"></a>\n",
    "\n",
    "Se necesitan correcciones en el bloque. El trabajo no puede ser aceptado con comentarios en rojo sin solucionar.\n",
    "</div>\n",
    "\n",
    "Cualquier comentario que quieras agregar entre iteraciones de revisión lo puedes hacer de la siguiente manera:\n",
    "\n",
    "<div class=\"alert alert-block alert-info\">\n",
    "<b>Respuesta estudiante.</b> <a class=\"tocSkip\"></a>\n",
    "</div>\n",
    "\n",
    "Mucho éxito en el proyecto!"
   ]
  },
  {
   "cell_type": "markdown",
   "metadata": {},
   "source": [
    "## Resumen de la revisión 1 <a class=\"tocSkip\"></a>"
   ]
  },
  {
   "cell_type": "markdown",
   "metadata": {},
   "source": [
    "<div class=\"alert alert-block alert-danger\">\n",
    "<b>Comentario de Revisor</b> <a class=\"tocSkip\"></a>\n",
    "\n",
    "Muy bien con la primera parte Gastón, el análisis realizado es en detalle y permitirá entrenar correctamente los modelos. Sin embargo, falta seleccionar o modificar la data de tal forma que al generar las columnas adicionales con OHE no tengamos data con demasiadas dimensiones. Una vez hecha esta corrección revisaré los modelos.\n",
    "    \n",
    "Saludos!    \n",
    "\n",
    "</div>"
   ]
  },
  {
   "cell_type": "markdown",
   "metadata": {},
   "source": [
    "-----"
   ]
  },
  {
   "cell_type": "markdown",
   "metadata": {},
   "source": [
    "El servicio de venta de autos usados Rusty Bargain está desarrollando una aplicación para atraer nuevos clientes. Gracias a esa app, puedes averiguar rápidamente el valor de mercado de tu coche. Tienes acceso al historial: especificaciones técnicas, versiones de equipamiento y precios. Tienes que crear un modelo que determine el valor de mercado.\n",
    "A Rusty Bargain le interesa:\n",
    "- la calidad de la predicción;\n",
    "- la velocidad de la predicción;\n",
    "- el tiempo requerido para el entrenamiento"
   ]
  },
  {
   "cell_type": "markdown",
   "metadata": {},
   "source": [
    "## Preparación de datos"
   ]
  },
  {
   "cell_type": "code",
   "execution_count": 1,
   "metadata": {},
   "outputs": [
    {
     "name": "stdout",
     "output_type": "stream",
     "text": [
      "Requirement already satisfied: mlxtend in /opt/conda/envs/python3/lib/python3.9/site-packages (0.23.1)\n",
      "Note: you may need to restart the kernel to use updated packages.\n"
     ]
    }
   ],
   "source": [
    "pip install mlxtend --upgrade --no-deps\n"
   ]
  },
  {
   "cell_type": "code",
   "execution_count": 2,
   "metadata": {},
   "outputs": [
    {
     "name": "stdout",
     "output_type": "stream",
     "text": [
      "CPU times: user 3 µs, sys: 0 ns, total: 3 µs\n",
      "Wall time: 5.96 µs\n"
     ]
    }
   ],
   "source": [
    "# importar librerías\n",
    "\n",
    "%time\n",
    "\n",
    "import numpy as np\n",
    "import pandas as pd\n",
    "import matplotlib.pyplot as plt\n",
    "\n",
    "import seaborn as sns\n",
    "import math\n",
    "import random\n",
    "\n",
    "from mlxtend.feature_selection import SequentialFeatureSelector as sfs\n",
    "\n",
    "#from sklearn.feature_selection import SequentialFeatureSelector as sfs\n",
    "\n",
    "from sklearn.model_selection import train_test_split\n",
    "from sklearn.metrics import mean_squared_error, SCORERS\n",
    "from sklearn.linear_model import LinearRegression\n",
    "from sklearn.ensemble import RandomForestRegressor\n",
    "\n",
    "from catboost import CatBoostRegressor\n",
    "from lightgbm import LGBMRegressor\n"
   ]
  },
  {
   "cell_type": "code",
   "execution_count": 3,
   "metadata": {},
   "outputs": [
    {
     "data": {
      "text/html": [
       "<div>\n",
       "<style scoped>\n",
       "    .dataframe tbody tr th:only-of-type {\n",
       "        vertical-align: middle;\n",
       "    }\n",
       "\n",
       "    .dataframe tbody tr th {\n",
       "        vertical-align: top;\n",
       "    }\n",
       "\n",
       "    .dataframe thead th {\n",
       "        text-align: right;\n",
       "    }\n",
       "</style>\n",
       "<table border=\"1\" class=\"dataframe\">\n",
       "  <thead>\n",
       "    <tr style=\"text-align: right;\">\n",
       "      <th></th>\n",
       "      <th>DateCrawled</th>\n",
       "      <th>Price</th>\n",
       "      <th>VehicleType</th>\n",
       "      <th>RegistrationYear</th>\n",
       "      <th>Gearbox</th>\n",
       "      <th>Power</th>\n",
       "      <th>Model</th>\n",
       "      <th>Mileage</th>\n",
       "      <th>RegistrationMonth</th>\n",
       "      <th>FuelType</th>\n",
       "      <th>Brand</th>\n",
       "      <th>NotRepaired</th>\n",
       "      <th>DateCreated</th>\n",
       "      <th>NumberOfPictures</th>\n",
       "      <th>PostalCode</th>\n",
       "      <th>LastSeen</th>\n",
       "    </tr>\n",
       "  </thead>\n",
       "  <tbody>\n",
       "    <tr>\n",
       "      <th>0</th>\n",
       "      <td>24/03/2016 11:52</td>\n",
       "      <td>480</td>\n",
       "      <td>NaN</td>\n",
       "      <td>1993</td>\n",
       "      <td>manual</td>\n",
       "      <td>0</td>\n",
       "      <td>golf</td>\n",
       "      <td>150000</td>\n",
       "      <td>0</td>\n",
       "      <td>petrol</td>\n",
       "      <td>volkswagen</td>\n",
       "      <td>NaN</td>\n",
       "      <td>24/03/2016 00:00</td>\n",
       "      <td>0</td>\n",
       "      <td>70435</td>\n",
       "      <td>07/04/2016 03:16</td>\n",
       "    </tr>\n",
       "    <tr>\n",
       "      <th>1</th>\n",
       "      <td>24/03/2016 10:58</td>\n",
       "      <td>18300</td>\n",
       "      <td>coupe</td>\n",
       "      <td>2011</td>\n",
       "      <td>manual</td>\n",
       "      <td>190</td>\n",
       "      <td>NaN</td>\n",
       "      <td>125000</td>\n",
       "      <td>5</td>\n",
       "      <td>gasoline</td>\n",
       "      <td>audi</td>\n",
       "      <td>yes</td>\n",
       "      <td>24/03/2016 00:00</td>\n",
       "      <td>0</td>\n",
       "      <td>66954</td>\n",
       "      <td>07/04/2016 01:46</td>\n",
       "    </tr>\n",
       "    <tr>\n",
       "      <th>2</th>\n",
       "      <td>14/03/2016 12:52</td>\n",
       "      <td>9800</td>\n",
       "      <td>suv</td>\n",
       "      <td>2004</td>\n",
       "      <td>auto</td>\n",
       "      <td>163</td>\n",
       "      <td>grand</td>\n",
       "      <td>125000</td>\n",
       "      <td>8</td>\n",
       "      <td>gasoline</td>\n",
       "      <td>jeep</td>\n",
       "      <td>NaN</td>\n",
       "      <td>14/03/2016 00:00</td>\n",
       "      <td>0</td>\n",
       "      <td>90480</td>\n",
       "      <td>05/04/2016 12:47</td>\n",
       "    </tr>\n",
       "    <tr>\n",
       "      <th>3</th>\n",
       "      <td>17/03/2016 16:54</td>\n",
       "      <td>1500</td>\n",
       "      <td>small</td>\n",
       "      <td>2001</td>\n",
       "      <td>manual</td>\n",
       "      <td>75</td>\n",
       "      <td>golf</td>\n",
       "      <td>150000</td>\n",
       "      <td>6</td>\n",
       "      <td>petrol</td>\n",
       "      <td>volkswagen</td>\n",
       "      <td>no</td>\n",
       "      <td>17/03/2016 00:00</td>\n",
       "      <td>0</td>\n",
       "      <td>91074</td>\n",
       "      <td>17/03/2016 17:40</td>\n",
       "    </tr>\n",
       "    <tr>\n",
       "      <th>4</th>\n",
       "      <td>31/03/2016 17:25</td>\n",
       "      <td>3600</td>\n",
       "      <td>small</td>\n",
       "      <td>2008</td>\n",
       "      <td>manual</td>\n",
       "      <td>69</td>\n",
       "      <td>fabia</td>\n",
       "      <td>90000</td>\n",
       "      <td>7</td>\n",
       "      <td>gasoline</td>\n",
       "      <td>skoda</td>\n",
       "      <td>no</td>\n",
       "      <td>31/03/2016 00:00</td>\n",
       "      <td>0</td>\n",
       "      <td>60437</td>\n",
       "      <td>06/04/2016 10:17</td>\n",
       "    </tr>\n",
       "  </tbody>\n",
       "</table>\n",
       "</div>"
      ],
      "text/plain": [
       "        DateCrawled  Price VehicleType  RegistrationYear Gearbox  Power  \\\n",
       "0  24/03/2016 11:52    480         NaN              1993  manual      0   \n",
       "1  24/03/2016 10:58  18300       coupe              2011  manual    190   \n",
       "2  14/03/2016 12:52   9800         suv              2004    auto    163   \n",
       "3  17/03/2016 16:54   1500       small              2001  manual     75   \n",
       "4  31/03/2016 17:25   3600       small              2008  manual     69   \n",
       "\n",
       "   Model  Mileage  RegistrationMonth  FuelType       Brand NotRepaired  \\\n",
       "0   golf   150000                  0    petrol  volkswagen         NaN   \n",
       "1    NaN   125000                  5  gasoline        audi         yes   \n",
       "2  grand   125000                  8  gasoline        jeep         NaN   \n",
       "3   golf   150000                  6    petrol  volkswagen          no   \n",
       "4  fabia    90000                  7  gasoline       skoda          no   \n",
       "\n",
       "        DateCreated  NumberOfPictures  PostalCode          LastSeen  \n",
       "0  24/03/2016 00:00                 0       70435  07/04/2016 03:16  \n",
       "1  24/03/2016 00:00                 0       66954  07/04/2016 01:46  \n",
       "2  14/03/2016 00:00                 0       90480  05/04/2016 12:47  \n",
       "3  17/03/2016 00:00                 0       91074  17/03/2016 17:40  \n",
       "4  31/03/2016 00:00                 0       60437  06/04/2016 10:17  "
      ]
     },
     "execution_count": 3,
     "metadata": {},
     "output_type": "execute_result"
    }
   ],
   "source": [
    "# cargar datos y mostrarlos\n",
    "\n",
    "df = pd.read_csv('/datasets/car_data.csv')\n",
    "df.head()"
   ]
  },
  {
   "cell_type": "code",
   "execution_count": 4,
   "metadata": {},
   "outputs": [
    {
     "name": "stdout",
     "output_type": "stream",
     "text": [
      "<class 'pandas.core.frame.DataFrame'>\n",
      "RangeIndex: 354369 entries, 0 to 354368\n",
      "Data columns (total 16 columns):\n",
      " #   Column             Non-Null Count   Dtype \n",
      "---  ------             --------------   ----- \n",
      " 0   DateCrawled        354369 non-null  object\n",
      " 1   Price              354369 non-null  int64 \n",
      " 2   VehicleType        316879 non-null  object\n",
      " 3   RegistrationYear   354369 non-null  int64 \n",
      " 4   Gearbox            334536 non-null  object\n",
      " 5   Power              354369 non-null  int64 \n",
      " 6   Model              334664 non-null  object\n",
      " 7   Mileage            354369 non-null  int64 \n",
      " 8   RegistrationMonth  354369 non-null  int64 \n",
      " 9   FuelType           321474 non-null  object\n",
      " 10  Brand              354369 non-null  object\n",
      " 11  NotRepaired        283215 non-null  object\n",
      " 12  DateCreated        354369 non-null  object\n",
      " 13  NumberOfPictures   354369 non-null  int64 \n",
      " 14  PostalCode         354369 non-null  int64 \n",
      " 15  LastSeen           354369 non-null  object\n",
      "dtypes: int64(7), object(9)\n",
      "memory usage: 43.3+ MB\n",
      "--------------------------------------------------\n"
     ]
    },
    {
     "data": {
      "text/html": [
       "<div>\n",
       "<style scoped>\n",
       "    .dataframe tbody tr th:only-of-type {\n",
       "        vertical-align: middle;\n",
       "    }\n",
       "\n",
       "    .dataframe tbody tr th {\n",
       "        vertical-align: top;\n",
       "    }\n",
       "\n",
       "    .dataframe thead th {\n",
       "        text-align: right;\n",
       "    }\n",
       "</style>\n",
       "<table border=\"1\" class=\"dataframe\">\n",
       "  <thead>\n",
       "    <tr style=\"text-align: right;\">\n",
       "      <th></th>\n",
       "      <th>Price</th>\n",
       "      <th>RegistrationYear</th>\n",
       "      <th>Power</th>\n",
       "      <th>Mileage</th>\n",
       "      <th>RegistrationMonth</th>\n",
       "      <th>NumberOfPictures</th>\n",
       "      <th>PostalCode</th>\n",
       "    </tr>\n",
       "  </thead>\n",
       "  <tbody>\n",
       "    <tr>\n",
       "      <th>count</th>\n",
       "      <td>354369.000000</td>\n",
       "      <td>354369.000000</td>\n",
       "      <td>354369.000000</td>\n",
       "      <td>354369.000000</td>\n",
       "      <td>354369.000000</td>\n",
       "      <td>354369.0</td>\n",
       "      <td>354369.000000</td>\n",
       "    </tr>\n",
       "    <tr>\n",
       "      <th>mean</th>\n",
       "      <td>4416.656776</td>\n",
       "      <td>2004.234448</td>\n",
       "      <td>110.094337</td>\n",
       "      <td>128211.172535</td>\n",
       "      <td>5.714645</td>\n",
       "      <td>0.0</td>\n",
       "      <td>50508.689087</td>\n",
       "    </tr>\n",
       "    <tr>\n",
       "      <th>std</th>\n",
       "      <td>4514.158514</td>\n",
       "      <td>90.227958</td>\n",
       "      <td>189.850405</td>\n",
       "      <td>37905.341530</td>\n",
       "      <td>3.726421</td>\n",
       "      <td>0.0</td>\n",
       "      <td>25783.096248</td>\n",
       "    </tr>\n",
       "    <tr>\n",
       "      <th>min</th>\n",
       "      <td>0.000000</td>\n",
       "      <td>1000.000000</td>\n",
       "      <td>0.000000</td>\n",
       "      <td>5000.000000</td>\n",
       "      <td>0.000000</td>\n",
       "      <td>0.0</td>\n",
       "      <td>1067.000000</td>\n",
       "    </tr>\n",
       "    <tr>\n",
       "      <th>25%</th>\n",
       "      <td>1050.000000</td>\n",
       "      <td>1999.000000</td>\n",
       "      <td>69.000000</td>\n",
       "      <td>125000.000000</td>\n",
       "      <td>3.000000</td>\n",
       "      <td>0.0</td>\n",
       "      <td>30165.000000</td>\n",
       "    </tr>\n",
       "    <tr>\n",
       "      <th>50%</th>\n",
       "      <td>2700.000000</td>\n",
       "      <td>2003.000000</td>\n",
       "      <td>105.000000</td>\n",
       "      <td>150000.000000</td>\n",
       "      <td>6.000000</td>\n",
       "      <td>0.0</td>\n",
       "      <td>49413.000000</td>\n",
       "    </tr>\n",
       "    <tr>\n",
       "      <th>75%</th>\n",
       "      <td>6400.000000</td>\n",
       "      <td>2008.000000</td>\n",
       "      <td>143.000000</td>\n",
       "      <td>150000.000000</td>\n",
       "      <td>9.000000</td>\n",
       "      <td>0.0</td>\n",
       "      <td>71083.000000</td>\n",
       "    </tr>\n",
       "    <tr>\n",
       "      <th>max</th>\n",
       "      <td>20000.000000</td>\n",
       "      <td>9999.000000</td>\n",
       "      <td>20000.000000</td>\n",
       "      <td>150000.000000</td>\n",
       "      <td>12.000000</td>\n",
       "      <td>0.0</td>\n",
       "      <td>99998.000000</td>\n",
       "    </tr>\n",
       "  </tbody>\n",
       "</table>\n",
       "</div>"
      ],
      "text/plain": [
       "               Price  RegistrationYear          Power        Mileage  \\\n",
       "count  354369.000000     354369.000000  354369.000000  354369.000000   \n",
       "mean     4416.656776       2004.234448     110.094337  128211.172535   \n",
       "std      4514.158514         90.227958     189.850405   37905.341530   \n",
       "min         0.000000       1000.000000       0.000000    5000.000000   \n",
       "25%      1050.000000       1999.000000      69.000000  125000.000000   \n",
       "50%      2700.000000       2003.000000     105.000000  150000.000000   \n",
       "75%      6400.000000       2008.000000     143.000000  150000.000000   \n",
       "max     20000.000000       9999.000000   20000.000000  150000.000000   \n",
       "\n",
       "       RegistrationMonth  NumberOfPictures     PostalCode  \n",
       "count      354369.000000          354369.0  354369.000000  \n",
       "mean            5.714645               0.0   50508.689087  \n",
       "std             3.726421               0.0   25783.096248  \n",
       "min             0.000000               0.0    1067.000000  \n",
       "25%             3.000000               0.0   30165.000000  \n",
       "50%             6.000000               0.0   49413.000000  \n",
       "75%             9.000000               0.0   71083.000000  \n",
       "max            12.000000               0.0   99998.000000  "
      ]
     },
     "metadata": {},
     "output_type": "display_data"
    },
    {
     "name": "stdout",
     "output_type": "stream",
     "text": [
      "--------------------------------------------------\n"
     ]
    },
    {
     "data": {
      "text/html": [
       "<div>\n",
       "<style scoped>\n",
       "    .dataframe tbody tr th:only-of-type {\n",
       "        vertical-align: middle;\n",
       "    }\n",
       "\n",
       "    .dataframe tbody tr th {\n",
       "        vertical-align: top;\n",
       "    }\n",
       "\n",
       "    .dataframe thead th {\n",
       "        text-align: right;\n",
       "    }\n",
       "</style>\n",
       "<table border=\"1\" class=\"dataframe\">\n",
       "  <thead>\n",
       "    <tr style=\"text-align: right;\">\n",
       "      <th></th>\n",
       "      <th>DateCrawled</th>\n",
       "      <th>VehicleType</th>\n",
       "      <th>Gearbox</th>\n",
       "      <th>Model</th>\n",
       "      <th>FuelType</th>\n",
       "      <th>Brand</th>\n",
       "      <th>NotRepaired</th>\n",
       "      <th>DateCreated</th>\n",
       "      <th>LastSeen</th>\n",
       "    </tr>\n",
       "  </thead>\n",
       "  <tbody>\n",
       "    <tr>\n",
       "      <th>count</th>\n",
       "      <td>354369</td>\n",
       "      <td>316879</td>\n",
       "      <td>334536</td>\n",
       "      <td>334664</td>\n",
       "      <td>321474</td>\n",
       "      <td>354369</td>\n",
       "      <td>283215</td>\n",
       "      <td>354369</td>\n",
       "      <td>354369</td>\n",
       "    </tr>\n",
       "    <tr>\n",
       "      <th>unique</th>\n",
       "      <td>15470</td>\n",
       "      <td>8</td>\n",
       "      <td>2</td>\n",
       "      <td>250</td>\n",
       "      <td>7</td>\n",
       "      <td>40</td>\n",
       "      <td>2</td>\n",
       "      <td>109</td>\n",
       "      <td>18592</td>\n",
       "    </tr>\n",
       "    <tr>\n",
       "      <th>top</th>\n",
       "      <td>05/03/2016 14:25</td>\n",
       "      <td>sedan</td>\n",
       "      <td>manual</td>\n",
       "      <td>golf</td>\n",
       "      <td>petrol</td>\n",
       "      <td>volkswagen</td>\n",
       "      <td>no</td>\n",
       "      <td>03/04/2016 00:00</td>\n",
       "      <td>07/04/2016 07:16</td>\n",
       "    </tr>\n",
       "    <tr>\n",
       "      <th>freq</th>\n",
       "      <td>66</td>\n",
       "      <td>91457</td>\n",
       "      <td>268251</td>\n",
       "      <td>29232</td>\n",
       "      <td>216352</td>\n",
       "      <td>77013</td>\n",
       "      <td>247161</td>\n",
       "      <td>13719</td>\n",
       "      <td>654</td>\n",
       "    </tr>\n",
       "  </tbody>\n",
       "</table>\n",
       "</div>"
      ],
      "text/plain": [
       "             DateCrawled VehicleType Gearbox   Model FuelType       Brand  \\\n",
       "count             354369      316879  334536  334664   321474      354369   \n",
       "unique             15470           8       2     250        7          40   \n",
       "top     05/03/2016 14:25       sedan  manual    golf   petrol  volkswagen   \n",
       "freq                  66       91457  268251   29232   216352       77013   \n",
       "\n",
       "       NotRepaired       DateCreated          LastSeen  \n",
       "count       283215            354369            354369  \n",
       "unique           2               109             18592  \n",
       "top             no  03/04/2016 00:00  07/04/2016 07:16  \n",
       "freq        247161             13719               654  "
      ]
     },
     "metadata": {},
     "output_type": "display_data"
    }
   ],
   "source": [
    "# revisar info general\n",
    "\n",
    "df.info()\n",
    "print('-'*50)\n",
    "display(df.describe())\n",
    "print('-'*50)\n",
    "display(df.describe(include='object'))"
   ]
  },
  {
   "cell_type": "markdown",
   "metadata": {},
   "source": [
    "Tenemos 5 características con varios valores nulos que debemos tratar antes de crear y entrenar un modelo de ML."
   ]
  },
  {
   "cell_type": "markdown",
   "metadata": {},
   "source": [
    "Al ver la información general del dataset y sus primeras filas, nos damos cuenta de varias cosas que podemos corregir para que el desarrollo y entrenamiento de un modelo de ML sea más preciso en sus predicciones.\n",
    "\n",
    "1. Podemos eliminar las columnas o características que no aportan valor al modelo: `DateCrawled`, `DateCreated`, `NumberOfPictures`, `PostalCode`, `LastSeen`.\n",
    "2. Limpiar los datos de la columna `RegistrationYear`.\n",
    "3. Debemos identificar los valores ausentes y reemplazarlos o eliminarlos según corresponda.\n",
    "4. Debemos buscar y eliminar los datos duplicados.\n",
    "5. Analizar variables numéricas, en especial la variable objetivo `Price`, en la que debemos gestionar los autos con precio = 0, eliminar o reemplazar."
   ]
  },
  {
   "cell_type": "markdown",
   "metadata": {},
   "source": [
    "<div class=\"alert alert-block alert-success\">\n",
    "<b>Comentario de Revisor</b> <a class=\"tocSkip\"></a>\n",
    "\n",
    "Bien, correcto con estos comentarios, efectivamente tenemos variables que no tienen valor predictivo y por otro lado variables que se deben corregir\n",
    "\n",
    "</div>"
   ]
  },
  {
   "cell_type": "markdown",
   "metadata": {},
   "source": [
    "Primero, vamor a dejar una copia del dataset original, en caso de necesitarlo más adelante, por ejemplo, para comparar resultados."
   ]
  },
  {
   "cell_type": "code",
   "execution_count": 5,
   "metadata": {},
   "outputs": [],
   "source": [
    "# copiar y guardar el df original en una nueva variable\n",
    "\n",
    "df_original = df.copy()"
   ]
  },
  {
   "cell_type": "markdown",
   "metadata": {},
   "source": [
    "**1) Eliminar columnas**"
   ]
  },
  {
   "cell_type": "code",
   "execution_count": 6,
   "metadata": {},
   "outputs": [
    {
     "data": {
      "text/html": [
       "<div>\n",
       "<style scoped>\n",
       "    .dataframe tbody tr th:only-of-type {\n",
       "        vertical-align: middle;\n",
       "    }\n",
       "\n",
       "    .dataframe tbody tr th {\n",
       "        vertical-align: top;\n",
       "    }\n",
       "\n",
       "    .dataframe thead th {\n",
       "        text-align: right;\n",
       "    }\n",
       "</style>\n",
       "<table border=\"1\" class=\"dataframe\">\n",
       "  <thead>\n",
       "    <tr style=\"text-align: right;\">\n",
       "      <th></th>\n",
       "      <th>Price</th>\n",
       "      <th>VehicleType</th>\n",
       "      <th>RegistrationYear</th>\n",
       "      <th>Gearbox</th>\n",
       "      <th>Power</th>\n",
       "      <th>Model</th>\n",
       "      <th>Mileage</th>\n",
       "      <th>FuelType</th>\n",
       "      <th>Brand</th>\n",
       "      <th>NotRepaired</th>\n",
       "    </tr>\n",
       "  </thead>\n",
       "  <tbody>\n",
       "    <tr>\n",
       "      <th>0</th>\n",
       "      <td>480</td>\n",
       "      <td>NaN</td>\n",
       "      <td>1993</td>\n",
       "      <td>manual</td>\n",
       "      <td>0</td>\n",
       "      <td>golf</td>\n",
       "      <td>150000</td>\n",
       "      <td>petrol</td>\n",
       "      <td>volkswagen</td>\n",
       "      <td>NaN</td>\n",
       "    </tr>\n",
       "    <tr>\n",
       "      <th>1</th>\n",
       "      <td>18300</td>\n",
       "      <td>coupe</td>\n",
       "      <td>2011</td>\n",
       "      <td>manual</td>\n",
       "      <td>190</td>\n",
       "      <td>NaN</td>\n",
       "      <td>125000</td>\n",
       "      <td>gasoline</td>\n",
       "      <td>audi</td>\n",
       "      <td>yes</td>\n",
       "    </tr>\n",
       "    <tr>\n",
       "      <th>2</th>\n",
       "      <td>9800</td>\n",
       "      <td>suv</td>\n",
       "      <td>2004</td>\n",
       "      <td>auto</td>\n",
       "      <td>163</td>\n",
       "      <td>grand</td>\n",
       "      <td>125000</td>\n",
       "      <td>gasoline</td>\n",
       "      <td>jeep</td>\n",
       "      <td>NaN</td>\n",
       "    </tr>\n",
       "    <tr>\n",
       "      <th>3</th>\n",
       "      <td>1500</td>\n",
       "      <td>small</td>\n",
       "      <td>2001</td>\n",
       "      <td>manual</td>\n",
       "      <td>75</td>\n",
       "      <td>golf</td>\n",
       "      <td>150000</td>\n",
       "      <td>petrol</td>\n",
       "      <td>volkswagen</td>\n",
       "      <td>no</td>\n",
       "    </tr>\n",
       "    <tr>\n",
       "      <th>4</th>\n",
       "      <td>3600</td>\n",
       "      <td>small</td>\n",
       "      <td>2008</td>\n",
       "      <td>manual</td>\n",
       "      <td>69</td>\n",
       "      <td>fabia</td>\n",
       "      <td>90000</td>\n",
       "      <td>gasoline</td>\n",
       "      <td>skoda</td>\n",
       "      <td>no</td>\n",
       "    </tr>\n",
       "  </tbody>\n",
       "</table>\n",
       "</div>"
      ],
      "text/plain": [
       "   Price VehicleType  RegistrationYear Gearbox  Power  Model  Mileage  \\\n",
       "0    480         NaN              1993  manual      0   golf   150000   \n",
       "1  18300       coupe              2011  manual    190    NaN   125000   \n",
       "2   9800         suv              2004    auto    163  grand   125000   \n",
       "3   1500       small              2001  manual     75   golf   150000   \n",
       "4   3600       small              2008  manual     69  fabia    90000   \n",
       "\n",
       "   FuelType       Brand NotRepaired  \n",
       "0    petrol  volkswagen         NaN  \n",
       "1  gasoline        audi         yes  \n",
       "2  gasoline        jeep         NaN  \n",
       "3    petrol  volkswagen          no  \n",
       "4  gasoline       skoda          no  "
      ]
     },
     "execution_count": 6,
     "metadata": {},
     "output_type": "execute_result"
    }
   ],
   "source": [
    "# eliminar columnas y comprobar\n",
    "\n",
    "df = df.drop(['DateCrawled', 'DateCreated', 'NumberOfPictures', 'PostalCode', 'LastSeen', 'RegistrationMonth'],1)\n",
    "df.head()"
   ]
  },
  {
   "cell_type": "markdown",
   "metadata": {},
   "source": [
    "<div class=\"alert alert-block alert-success\">\n",
    "<b>Comentario de Revisor</b> <a class=\"tocSkip\"></a>\n",
    "\n",
    "Bien, correcto\n",
    "\n",
    "</div>"
   ]
  },
  {
   "cell_type": "markdown",
   "metadata": {},
   "source": [
    "**2) Limpiar columna `RegistrationYear`**\n",
    "\n",
    "Viendo la tabla con las descripciones de las características numéricas, notamos que la variable `RegistrationYear` tiene algunos años muy antiguos o de años futuros, lo cual asumimos que son datos mal ingresados o erróneos, vamos a analizarlos un poco más."
   ]
  },
  {
   "cell_type": "code",
   "execution_count": 7,
   "metadata": {
    "scrolled": false
   },
   "outputs": [
    {
     "data": {
      "text/plain": [
       "array([1000, 1001, 1039, 1111, 1200, 1234, 1253, 1255, 1300, 1400, 1500,\n",
       "       1600, 1602, 1688, 1800, 1910, 1915, 1919, 1920, 1923, 1925, 1927,\n",
       "       1928, 1929, 1930, 1931, 1932, 1933, 1934, 1935, 1936, 1937, 1938,\n",
       "       1940, 1941, 1942, 1943, 1944, 1945, 1946, 1947, 1948, 1949, 1950,\n",
       "       1951, 1952, 1953, 1954, 1955, 1956, 1957, 1958, 1959, 1960, 1961,\n",
       "       1962, 1963, 1964, 1965, 1966, 1967, 1968, 1969, 1970, 1971, 1972,\n",
       "       1973, 1974, 1975, 1976, 1977, 1978, 1979, 1980, 1981, 1982, 1983,\n",
       "       1984, 1985, 1986, 1987, 1988, 1989, 1990, 1991, 1992, 1993, 1994,\n",
       "       1995, 1996, 1997, 1998, 1999, 2000, 2001, 2002, 2003, 2004, 2005,\n",
       "       2006, 2007, 2008, 2009, 2010, 2011, 2012, 2013, 2014, 2015, 2016,\n",
       "       2017, 2018, 2019, 2066, 2200, 2222, 2290, 2500, 2800, 2900, 3000,\n",
       "       3200, 3500, 3700, 3800, 4000, 4100, 4500, 4800, 5000, 5300, 5555,\n",
       "       5600, 5900, 5911, 6000, 6500, 7000, 7100, 7500, 7800, 8000, 8200,\n",
       "       8455, 8500, 8888, 9000, 9229, 9450, 9996, 9999])"
      ]
     },
     "execution_count": 7,
     "metadata": {},
     "output_type": "execute_result"
    }
   ],
   "source": [
    "# revisemos los años de registro\n",
    "\n",
    "df['RegistrationYear'].sort_values().unique()"
   ]
  },
  {
   "cell_type": "code",
   "execution_count": 8,
   "metadata": {},
   "outputs": [
    {
     "data": {
      "text/plain": [
       "171"
      ]
     },
     "execution_count": 8,
     "metadata": {},
     "output_type": "execute_result"
    }
   ],
   "source": [
    "# veamos cuántos registros están fuera del intervalo [1910,2019]\n",
    "\n",
    "df[(df['RegistrationYear'] < 1910) | (df['RegistrationYear'] > 2019)]['RegistrationYear'].value_counts().sum()"
   ]
  },
  {
   "cell_type": "markdown",
   "metadata": {},
   "source": [
    "Consideraremos registros válidos entre los años 1910 y 2019, el resto los eliminaremos, ya que no son relevantes y son pocos casos, 171 de +350.000."
   ]
  },
  {
   "cell_type": "code",
   "execution_count": 9,
   "metadata": {},
   "outputs": [
    {
     "data": {
      "text/plain": [
       "array([1910, 1915, 1919, 1920, 1923, 1925, 1927, 1928, 1929, 1930, 1931,\n",
       "       1932, 1933, 1934, 1935, 1936, 1937, 1938, 1940, 1941, 1942, 1943,\n",
       "       1944, 1945, 1946, 1947, 1948, 1949, 1950, 1951, 1952, 1953, 1954,\n",
       "       1955, 1956, 1957, 1958, 1959, 1960, 1961, 1962, 1963, 1964, 1965,\n",
       "       1966, 1967, 1968, 1969, 1970, 1971, 1972, 1973, 1974, 1975, 1976,\n",
       "       1977, 1978, 1979, 1980, 1981, 1982, 1983, 1984, 1985, 1986, 1987,\n",
       "       1988, 1989, 1990, 1991, 1992, 1993, 1994, 1995, 1996, 1997, 1998,\n",
       "       1999, 2000, 2001, 2002, 2003, 2004, 2005, 2006, 2007, 2008, 2009,\n",
       "       2010, 2011, 2012, 2013, 2014, 2015, 2016, 2017, 2018, 2019])"
      ]
     },
     "execution_count": 9,
     "metadata": {},
     "output_type": "execute_result"
    }
   ],
   "source": [
    "# filtrar dataframe por los años de registro válidos y comprobar\n",
    "\n",
    "df = df[(df['RegistrationYear'] >= 1910) & (df['RegistrationYear'] <= 2019)].reset_index(drop=True)\n",
    "df['RegistrationYear'].sort_values().unique()"
   ]
  },
  {
   "cell_type": "code",
   "execution_count": 10,
   "metadata": {},
   "outputs": [
    {
     "name": "stdout",
     "output_type": "stream",
     "text": [
      "<class 'pandas.core.frame.DataFrame'>\n",
      "RangeIndex: 354198 entries, 0 to 354197\n",
      "Data columns (total 10 columns):\n",
      " #   Column            Non-Null Count   Dtype \n",
      "---  ------            --------------   ----- \n",
      " 0   Price             354198 non-null  int64 \n",
      " 1   VehicleType       316879 non-null  object\n",
      " 2   RegistrationYear  354198 non-null  int64 \n",
      " 3   Gearbox           334503 non-null  object\n",
      " 4   Power             354198 non-null  int64 \n",
      " 5   Model             334568 non-null  object\n",
      " 6   Mileage           354198 non-null  int64 \n",
      " 7   FuelType          321431 non-null  object\n",
      " 8   Brand             354198 non-null  object\n",
      " 9   NotRepaired       283191 non-null  object\n",
      "dtypes: int64(4), object(6)\n",
      "memory usage: 27.0+ MB\n"
     ]
    }
   ],
   "source": [
    "# mostrar resumen de los datos\n",
    "\n",
    "df.info()"
   ]
  },
  {
   "cell_type": "markdown",
   "metadata": {},
   "source": [
    "<div class=\"alert alert-block alert-success\">\n",
    "<b>Comentario de Revisor</b> <a class=\"tocSkip\"></a>\n",
    "\n",
    "Muy bien!\n",
    "\n",
    "</div>"
   ]
  },
  {
   "cell_type": "markdown",
   "metadata": {},
   "source": [
    "**3) Gestionar Columnas con Valores Nulos**"
   ]
  },
  {
   "cell_type": "markdown",
   "metadata": {},
   "source": [
    "Veamos cómo se distribuyen los valores de las características con valores nulos."
   ]
  },
  {
   "cell_type": "code",
   "execution_count": 11,
   "metadata": {},
   "outputs": [
    {
     "name": "stdout",
     "output_type": "stream",
     "text": [
      "VehicleType : 37319 ,  10.54%\n",
      "sedan          91457\n",
      "small          79831\n",
      "wagon          65166\n",
      "bus            28775\n",
      "convertible    20203\n",
      "coupe          16163\n",
      "suv            11996\n",
      "other           3288\n",
      "Name: VehicleType, dtype: int64\n",
      "_________________________\n",
      "Gearbox : 19695 ,  5.56%\n",
      "manual    268225\n",
      "auto       66278\n",
      "Name: Gearbox, dtype: int64\n",
      "_________________________\n",
      "Model : 19630 ,  5.54%\n",
      "golf                  29218\n",
      "other                 24403\n",
      "3er                   19756\n",
      "polo                  13063\n",
      "corsa                 12564\n",
      "                      ...  \n",
      "serie_2                   8\n",
      "rangerover                4\n",
      "serie_3                   4\n",
      "serie_1                   2\n",
      "range_rover_evoque        2\n",
      "Name: Model, Length: 250, dtype: int64\n",
      "_________________________\n",
      "FuelType : 32767 ,  9.25%\n",
      "petrol      216318\n",
      "gasoline     98713\n",
      "lpg           5310\n",
      "cng            564\n",
      "hybrid         233\n",
      "other          203\n",
      "electric        90\n",
      "Name: FuelType, dtype: int64\n",
      "_________________________\n",
      "NotRepaired : 71007 ,  20.05%\n",
      "no     247146\n",
      "yes     36045\n",
      "Name: NotRepaired, dtype: int64\n",
      "_________________________\n"
     ]
    }
   ],
   "source": [
    "# identificar columnas con valores vacíos y la distribución de sus valores no nulos\n",
    "\n",
    "for col in df.columns:\n",
    "    \n",
    "    if df[col].isna().sum() > 0:\n",
    "        print(col,':', df[col].isna().sum(),',',f'{df[col].isna().sum()/df[col].shape[0]: .2%}')\n",
    "        print(df[col].value_counts())\n",
    "        print('_'*25)"
   ]
  },
  {
   "cell_type": "markdown",
   "metadata": {},
   "source": [
    "Comenzaremos por las columnas que tienen solo 2 valores categóricos, `NotRepaired` y `Gearbox`, en las cuales reemplazaremos los valores nulos por el valor que más se repite, equivalente a reemplazar por la moda."
   ]
  },
  {
   "cell_type": "code",
   "execution_count": 12,
   "metadata": {},
   "outputs": [],
   "source": [
    "# comencemos reemplazando los valores vacíos por 'no' y 'manual', respectivamente,\n",
    "# asumiendo que si no hay datos, entonces no fueron reparados o son autos manuales\n",
    "\n",
    "columns_mode = ['NotRepaired','Gearbox']\n",
    "\n",
    "def replace_mode(df,columns):\n",
    "    for col in columns:\n",
    "        df[col] = df[col].fillna(df[col].mode()[0])\n",
    "        print(df[col].value_counts())\n",
    "        print('_'*25)\n",
    "        print('Registros Totales:',f'{df[col].count():,}')\n",
    "        print()\n",
    "\n"
   ]
  },
  {
   "cell_type": "markdown",
   "metadata": {},
   "source": [
    "<div class=\"alert alert-block alert-success\">\n",
    "<b>Comentario de Revisor</b> <a class=\"tocSkip\"></a>\n",
    "\n",
    "Ok, de acuerdo\n",
    "\n",
    "</div>"
   ]
  },
  {
   "cell_type": "code",
   "execution_count": 13,
   "metadata": {
    "scrolled": true
   },
   "outputs": [
    {
     "name": "stdout",
     "output_type": "stream",
     "text": [
      "no     318153\n",
      "yes     36045\n",
      "Name: NotRepaired, dtype: int64\n",
      "_________________________\n",
      "Registros Totales: 354,198\n",
      "\n",
      "manual    287920\n",
      "auto       66278\n",
      "Name: Gearbox, dtype: int64\n",
      "_________________________\n",
      "Registros Totales: 354,198\n",
      "\n"
     ]
    }
   ],
   "source": [
    "# comprobar\n",
    "\n",
    "replace_mode(df,columns_mode)"
   ]
  },
  {
   "cell_type": "code",
   "execution_count": 14,
   "metadata": {},
   "outputs": [
    {
     "data": {
      "text/plain": [
       "(354198, 10)"
      ]
     },
     "execution_count": 14,
     "metadata": {},
     "output_type": "execute_result"
    }
   ],
   "source": [
    "df.shape"
   ]
  },
  {
   "cell_type": "markdown",
   "metadata": {},
   "source": [
    "Para las columnas `VehicleType` y `FuelType`, notamos que los valores se concentran en 2 o 3 opciones, por lo que reemplazaremos los valores nulos por un valor aleatorio entre los que más se repiten."
   ]
  },
  {
   "cell_type": "code",
   "execution_count": 15,
   "metadata": {},
   "outputs": [],
   "source": [
    "# crear listas con los valores que más se repiten en cada columna, top 3 y top 2, respectivamente\n",
    "# ordenados de mayor a menor según su frecuencia\n",
    "\n",
    "vtype_top = df['VehicleType'].value_counts().head(3).index\n",
    "fuel_top = df['FuelType'].value_counts().head(2).index"
   ]
  },
  {
   "cell_type": "code",
   "execution_count": 16,
   "metadata": {},
   "outputs": [
    {
     "name": "stdout",
     "output_type": "stream",
     "text": [
      "Index(['sedan', 'small', 'wagon'], dtype='object')\n",
      "Index(['petrol', 'gasoline'], dtype='object')\n"
     ]
    }
   ],
   "source": [
    "# mostrar listas\n",
    "\n",
    "print(vtype_top)\n",
    "print(fuel_top)"
   ]
  },
  {
   "cell_type": "code",
   "execution_count": 17,
   "metadata": {
    "scrolled": true
   },
   "outputs": [],
   "source": [
    "# crear listas con los indices con valores nulos de cada columna\n",
    "\n",
    "vtype_index = df[df['VehicleType'].isna()].index\n",
    "fuel_index = df[df['FuelType'].isna()].index"
   ]
  },
  {
   "cell_type": "code",
   "execution_count": 18,
   "metadata": {},
   "outputs": [],
   "source": [
    "# crear función para reemplazar aleatoriamente por uno de los valores de la lista\n",
    "\n",
    "def replace_random(column,col_top,null_indexs):\n",
    "    column.loc[null_indexs] = np.random.choice(col_top,len(null_indexs))\n",
    "    \n",
    "    print(column.value_counts())\n",
    "    print('Registros Totales:',column.count())\n",
    "    print('_'*25)"
   ]
  },
  {
   "cell_type": "code",
   "execution_count": 19,
   "metadata": {},
   "outputs": [
    {
     "name": "stdout",
     "output_type": "stream",
     "text": [
      "sedan          103845\n",
      "small           92336\n",
      "wagon           77592\n",
      "bus             28775\n",
      "convertible     20203\n",
      "coupe           16163\n",
      "suv             11996\n",
      "other            3288\n",
      "Name: VehicleType, dtype: int64\n",
      "Registros Totales: 354198\n",
      "_________________________\n",
      "petrol      232664\n",
      "gasoline    115134\n",
      "lpg           5310\n",
      "cng            564\n",
      "hybrid         233\n",
      "other          203\n",
      "electric        90\n",
      "Name: FuelType, dtype: int64\n",
      "Registros Totales: 354198\n",
      "_________________________\n"
     ]
    },
    {
     "name": "stderr",
     "output_type": "stream",
     "text": [
      "/opt/conda/envs/python3/lib/python3.9/site-packages/pandas/core/indexing.py:1637: SettingWithCopyWarning: \n",
      "A value is trying to be set on a copy of a slice from a DataFrame\n",
      "\n",
      "See the caveats in the documentation: https://pandas.pydata.org/pandas-docs/stable/user_guide/indexing.html#returning-a-view-versus-a-copy\n",
      "  self._setitem_single_block(indexer, value, name)\n"
     ]
    }
   ],
   "source": [
    "# comprobar\n",
    "\n",
    "replace_random(df['VehicleType'],vtype_top,vtype_index)\n",
    "replace_random(df['FuelType'],fuel_top,fuel_index)"
   ]
  },
  {
   "cell_type": "markdown",
   "metadata": {},
   "source": [
    "Por último, para la columna `Model`, eliminaremos los valores nulos que tiene, ya que representan poco más del 5% de los registros y no debería afectar en mayor medida al modelo."
   ]
  },
  {
   "cell_type": "code",
   "execution_count": 20,
   "metadata": {},
   "outputs": [
    {
     "data": {
      "text/html": [
       "<div>\n",
       "<style scoped>\n",
       "    .dataframe tbody tr th:only-of-type {\n",
       "        vertical-align: middle;\n",
       "    }\n",
       "\n",
       "    .dataframe tbody tr th {\n",
       "        vertical-align: top;\n",
       "    }\n",
       "\n",
       "    .dataframe thead th {\n",
       "        text-align: right;\n",
       "    }\n",
       "</style>\n",
       "<table border=\"1\" class=\"dataframe\">\n",
       "  <thead>\n",
       "    <tr style=\"text-align: right;\">\n",
       "      <th></th>\n",
       "      <th>Price</th>\n",
       "      <th>VehicleType</th>\n",
       "      <th>RegistrationYear</th>\n",
       "      <th>Gearbox</th>\n",
       "      <th>Power</th>\n",
       "      <th>Model</th>\n",
       "      <th>Mileage</th>\n",
       "      <th>FuelType</th>\n",
       "      <th>Brand</th>\n",
       "      <th>NotRepaired</th>\n",
       "    </tr>\n",
       "  </thead>\n",
       "  <tbody>\n",
       "    <tr>\n",
       "      <th>0</th>\n",
       "      <td>480</td>\n",
       "      <td>wagon</td>\n",
       "      <td>1993</td>\n",
       "      <td>manual</td>\n",
       "      <td>0</td>\n",
       "      <td>golf</td>\n",
       "      <td>150000</td>\n",
       "      <td>petrol</td>\n",
       "      <td>volkswagen</td>\n",
       "      <td>no</td>\n",
       "    </tr>\n",
       "    <tr>\n",
       "      <th>1</th>\n",
       "      <td>9800</td>\n",
       "      <td>suv</td>\n",
       "      <td>2004</td>\n",
       "      <td>auto</td>\n",
       "      <td>163</td>\n",
       "      <td>grand</td>\n",
       "      <td>125000</td>\n",
       "      <td>gasoline</td>\n",
       "      <td>jeep</td>\n",
       "      <td>no</td>\n",
       "    </tr>\n",
       "    <tr>\n",
       "      <th>2</th>\n",
       "      <td>1500</td>\n",
       "      <td>small</td>\n",
       "      <td>2001</td>\n",
       "      <td>manual</td>\n",
       "      <td>75</td>\n",
       "      <td>golf</td>\n",
       "      <td>150000</td>\n",
       "      <td>petrol</td>\n",
       "      <td>volkswagen</td>\n",
       "      <td>no</td>\n",
       "    </tr>\n",
       "    <tr>\n",
       "      <th>3</th>\n",
       "      <td>3600</td>\n",
       "      <td>small</td>\n",
       "      <td>2008</td>\n",
       "      <td>manual</td>\n",
       "      <td>69</td>\n",
       "      <td>fabia</td>\n",
       "      <td>90000</td>\n",
       "      <td>gasoline</td>\n",
       "      <td>skoda</td>\n",
       "      <td>no</td>\n",
       "    </tr>\n",
       "    <tr>\n",
       "      <th>4</th>\n",
       "      <td>650</td>\n",
       "      <td>sedan</td>\n",
       "      <td>1995</td>\n",
       "      <td>manual</td>\n",
       "      <td>102</td>\n",
       "      <td>3er</td>\n",
       "      <td>150000</td>\n",
       "      <td>petrol</td>\n",
       "      <td>bmw</td>\n",
       "      <td>yes</td>\n",
       "    </tr>\n",
       "    <tr>\n",
       "      <th>...</th>\n",
       "      <td>...</td>\n",
       "      <td>...</td>\n",
       "      <td>...</td>\n",
       "      <td>...</td>\n",
       "      <td>...</td>\n",
       "      <td>...</td>\n",
       "      <td>...</td>\n",
       "      <td>...</td>\n",
       "      <td>...</td>\n",
       "      <td>...</td>\n",
       "    </tr>\n",
       "    <tr>\n",
       "      <th>334563</th>\n",
       "      <td>1150</td>\n",
       "      <td>bus</td>\n",
       "      <td>2000</td>\n",
       "      <td>manual</td>\n",
       "      <td>0</td>\n",
       "      <td>zafira</td>\n",
       "      <td>150000</td>\n",
       "      <td>petrol</td>\n",
       "      <td>opel</td>\n",
       "      <td>no</td>\n",
       "    </tr>\n",
       "    <tr>\n",
       "      <th>334564</th>\n",
       "      <td>0</td>\n",
       "      <td>small</td>\n",
       "      <td>2005</td>\n",
       "      <td>manual</td>\n",
       "      <td>0</td>\n",
       "      <td>colt</td>\n",
       "      <td>150000</td>\n",
       "      <td>petrol</td>\n",
       "      <td>mitsubishi</td>\n",
       "      <td>yes</td>\n",
       "    </tr>\n",
       "    <tr>\n",
       "      <th>334565</th>\n",
       "      <td>1199</td>\n",
       "      <td>convertible</td>\n",
       "      <td>2000</td>\n",
       "      <td>auto</td>\n",
       "      <td>101</td>\n",
       "      <td>fortwo</td>\n",
       "      <td>125000</td>\n",
       "      <td>petrol</td>\n",
       "      <td>smart</td>\n",
       "      <td>no</td>\n",
       "    </tr>\n",
       "    <tr>\n",
       "      <th>334566</th>\n",
       "      <td>9200</td>\n",
       "      <td>bus</td>\n",
       "      <td>1996</td>\n",
       "      <td>manual</td>\n",
       "      <td>102</td>\n",
       "      <td>transporter</td>\n",
       "      <td>150000</td>\n",
       "      <td>gasoline</td>\n",
       "      <td>volkswagen</td>\n",
       "      <td>no</td>\n",
       "    </tr>\n",
       "    <tr>\n",
       "      <th>334567</th>\n",
       "      <td>3400</td>\n",
       "      <td>wagon</td>\n",
       "      <td>2002</td>\n",
       "      <td>manual</td>\n",
       "      <td>100</td>\n",
       "      <td>golf</td>\n",
       "      <td>150000</td>\n",
       "      <td>gasoline</td>\n",
       "      <td>volkswagen</td>\n",
       "      <td>no</td>\n",
       "    </tr>\n",
       "  </tbody>\n",
       "</table>\n",
       "<p>334568 rows × 10 columns</p>\n",
       "</div>"
      ],
      "text/plain": [
       "        Price  VehicleType  RegistrationYear Gearbox  Power        Model  \\\n",
       "0         480        wagon              1993  manual      0         golf   \n",
       "1        9800          suv              2004    auto    163        grand   \n",
       "2        1500        small              2001  manual     75         golf   \n",
       "3        3600        small              2008  manual     69        fabia   \n",
       "4         650        sedan              1995  manual    102          3er   \n",
       "...       ...          ...               ...     ...    ...          ...   \n",
       "334563   1150          bus              2000  manual      0       zafira   \n",
       "334564      0        small              2005  manual      0         colt   \n",
       "334565   1199  convertible              2000    auto    101       fortwo   \n",
       "334566   9200          bus              1996  manual    102  transporter   \n",
       "334567   3400        wagon              2002  manual    100         golf   \n",
       "\n",
       "        Mileage  FuelType       Brand NotRepaired  \n",
       "0        150000    petrol  volkswagen          no  \n",
       "1        125000  gasoline        jeep          no  \n",
       "2        150000    petrol  volkswagen          no  \n",
       "3         90000  gasoline       skoda          no  \n",
       "4        150000    petrol         bmw         yes  \n",
       "...         ...       ...         ...         ...  \n",
       "334563   150000    petrol        opel          no  \n",
       "334564   150000    petrol  mitsubishi         yes  \n",
       "334565   125000    petrol       smart          no  \n",
       "334566   150000  gasoline  volkswagen          no  \n",
       "334567   150000  gasoline  volkswagen          no  \n",
       "\n",
       "[334568 rows x 10 columns]"
      ]
     },
     "execution_count": 20,
     "metadata": {},
     "output_type": "execute_result"
    }
   ],
   "source": [
    "df = df[~df['Model'].isna()].reset_index(drop=True)\n",
    "df"
   ]
  },
  {
   "cell_type": "markdown",
   "metadata": {},
   "source": [
    "<div class=\"alert alert-block alert-success\">\n",
    "<b>Comentario de Revisor</b> <a class=\"tocSkip\"></a>\n",
    "\n",
    "Buen trabajo en esta parte\n",
    "\n",
    "</div>"
   ]
  },
  {
   "cell_type": "markdown",
   "metadata": {},
   "source": [
    "**4) Eliminar Duplicados**"
   ]
  },
  {
   "cell_type": "code",
   "execution_count": 21,
   "metadata": {},
   "outputs": [
    {
     "data": {
      "text/plain": [
       "51665"
      ]
     },
     "execution_count": 21,
     "metadata": {},
     "output_type": "execute_result"
    }
   ],
   "source": [
    "df.duplicated().sum()"
   ]
  },
  {
   "cell_type": "code",
   "execution_count": 22,
   "metadata": {
    "scrolled": true
   },
   "outputs": [
    {
     "name": "stdout",
     "output_type": "stream",
     "text": [
      "<class 'pandas.core.frame.DataFrame'>\n",
      "RangeIndex: 282903 entries, 0 to 282902\n",
      "Data columns (total 10 columns):\n",
      " #   Column            Non-Null Count   Dtype \n",
      "---  ------            --------------   ----- \n",
      " 0   Price             282903 non-null  int64 \n",
      " 1   VehicleType       282903 non-null  object\n",
      " 2   RegistrationYear  282903 non-null  int64 \n",
      " 3   Gearbox           282903 non-null  object\n",
      " 4   Power             282903 non-null  int64 \n",
      " 5   Model             282903 non-null  object\n",
      " 6   Mileage           282903 non-null  int64 \n",
      " 7   FuelType          282903 non-null  object\n",
      " 8   Brand             282903 non-null  object\n",
      " 9   NotRepaired       282903 non-null  object\n",
      "dtypes: int64(4), object(6)\n",
      "memory usage: 21.6+ MB\n"
     ]
    }
   ],
   "source": [
    "df.drop_duplicates(inplace=True, ignore_index=True)\n",
    "df.info()"
   ]
  },
  {
   "cell_type": "markdown",
   "metadata": {},
   "source": [
    "**Notar que al reemplazar tantos valores nulos, era muy probable que aumentaran los registros duplicados, los cuales deben ser eliminados.**"
   ]
  },
  {
   "cell_type": "markdown",
   "metadata": {},
   "source": [
    "<div class=\"alert alert-block alert-success\">\n",
    "<b>Comentario de Revisor</b> <a class=\"tocSkip\"></a>\n",
    "\n",
    "Ok, bien\n",
    "\n",
    "</div>"
   ]
  },
  {
   "cell_type": "markdown",
   "metadata": {},
   "source": [
    "**5) Analizar Variables Numéricas**"
   ]
  },
  {
   "cell_type": "code",
   "execution_count": 23,
   "metadata": {
    "scrolled": true
   },
   "outputs": [
    {
     "data": {
      "text/plain": [
       "4"
      ]
     },
     "execution_count": 23,
     "metadata": {},
     "output_type": "execute_result"
    }
   ],
   "source": [
    "# cantidad de variables numéricas\n",
    "\n",
    "(df.dtypes == 'int64').sum()"
   ]
  },
  {
   "cell_type": "code",
   "execution_count": 24,
   "metadata": {},
   "outputs": [
    {
     "data": {
      "image/png": "[encoded data removed]",
      "text/plain": [
       "<Figure size 1200x500 with 4 Axes>"
      ]
     },
     "metadata": {},
     "output_type": "display_data"
    }
   ],
   "source": [
    "# mostrar boxplot de las variables para buscar valores atípicos\n",
    "\n",
    "fig, axs = plt.subplots(1,4, figsize=(12,5))\n",
    "fig.suptitle('Boxplots de las Variables')\n",
    "\n",
    "ax_idx = 0\n",
    "\n",
    "for col in df.columns:    \n",
    "    if df[col].dtypes == 'int64':\n",
    "\n",
    "        sns.boxplot(data=df[col], ax = axs[ax_idx])\n",
    "        axs[ax_idx].set_title(col)\n",
    "        ax_idx += 1\n"
   ]
  },
  {
   "cell_type": "code",
   "execution_count": 25,
   "metadata": {},
   "outputs": [
    {
     "data": {
      "text/plain": [
       "7014"
      ]
     },
     "execution_count": 25,
     "metadata": {},
     "output_type": "execute_result"
    }
   ],
   "source": [
    "# ver cuántos autos tienen precio = 0\n",
    "\n",
    "df[df['Price'] == 0]['Price'].count()"
   ]
  },
  {
   "cell_type": "markdown",
   "metadata": {},
   "source": [
    "Como son pocos casos con respecto al dataset, los vamos a eliminar."
   ]
  },
  {
   "cell_type": "markdown",
   "metadata": {},
   "source": [
    "<div class=\"alert alert-block alert-success\">\n",
    "<b>Comentario de Revisor</b> <a class=\"tocSkip\"></a>\n",
    "\n",
    "Bien, de acuerdo\n",
    "\n",
    "</div>"
   ]
  },
  {
   "cell_type": "code",
   "execution_count": 26,
   "metadata": {},
   "outputs": [
    {
     "name": "stdout",
     "output_type": "stream",
     "text": [
      "<class 'pandas.core.frame.DataFrame'>\n",
      "RangeIndex: 275889 entries, 0 to 275888\n",
      "Data columns (total 10 columns):\n",
      " #   Column            Non-Null Count   Dtype \n",
      "---  ------            --------------   ----- \n",
      " 0   Price             275889 non-null  int64 \n",
      " 1   VehicleType       275889 non-null  object\n",
      " 2   RegistrationYear  275889 non-null  int64 \n",
      " 3   Gearbox           275889 non-null  object\n",
      " 4   Power             275889 non-null  int64 \n",
      " 5   Model             275889 non-null  object\n",
      " 6   Mileage           275889 non-null  int64 \n",
      " 7   FuelType          275889 non-null  object\n",
      " 8   Brand             275889 non-null  object\n",
      " 9   NotRepaired       275889 non-null  object\n",
      "dtypes: int64(4), object(6)\n",
      "memory usage: 21.0+ MB\n"
     ]
    }
   ],
   "source": [
    "# filtrar por autos con precio > 0\n",
    "\n",
    "df = df[df['Price'] > 0].reset_index(drop=True)\n",
    "df.info()"
   ]
  },
  {
   "cell_type": "markdown",
   "metadata": {},
   "source": [
    "Analicemos la columna `Power`."
   ]
  },
  {
   "cell_type": "code",
   "execution_count": 27,
   "metadata": {},
   "outputs": [
    {
     "data": {
      "text/plain": [
       "0        0.099971\n",
       "75       0.061666\n",
       "150      0.041325\n",
       "60       0.040567\n",
       "140      0.036957\n",
       "           ...   \n",
       "4507     0.000004\n",
       "409      0.000004\n",
       "1432     0.000004\n",
       "4400     0.000004\n",
       "17019    0.000004\n",
       "Name: Power, Length: 669, dtype: float64"
      ]
     },
     "execution_count": 27,
     "metadata": {},
     "output_type": "execute_result"
    }
   ],
   "source": [
    "# mostremos la distribución de sus datos\n",
    "\n",
    "df['Power'].value_counts(normalize=True)"
   ]
  },
  {
   "cell_type": "markdown",
   "metadata": {},
   "source": [
    "Como el 10% de los datos tienen Power = 0, los reemplazaremos por el promedio, asumiendo que sería extraño que se vendan tantos autos con Potencia = 0."
   ]
  },
  {
   "cell_type": "code",
   "execution_count": 28,
   "metadata": {},
   "outputs": [
    {
     "data": {
      "text/html": [
       "<div>\n",
       "<style scoped>\n",
       "    .dataframe tbody tr th:only-of-type {\n",
       "        vertical-align: middle;\n",
       "    }\n",
       "\n",
       "    .dataframe tbody tr th {\n",
       "        vertical-align: top;\n",
       "    }\n",
       "\n",
       "    .dataframe thead th {\n",
       "        text-align: right;\n",
       "    }\n",
       "</style>\n",
       "<table border=\"1\" class=\"dataframe\">\n",
       "  <thead>\n",
       "    <tr style=\"text-align: right;\">\n",
       "      <th></th>\n",
       "      <th>Price</th>\n",
       "      <th>VehicleType</th>\n",
       "      <th>RegistrationYear</th>\n",
       "      <th>Gearbox</th>\n",
       "      <th>Power</th>\n",
       "      <th>Model</th>\n",
       "      <th>Mileage</th>\n",
       "      <th>FuelType</th>\n",
       "      <th>Brand</th>\n",
       "      <th>NotRepaired</th>\n",
       "    </tr>\n",
       "  </thead>\n",
       "  <tbody>\n",
       "    <tr>\n",
       "      <th>0</th>\n",
       "      <td>480</td>\n",
       "      <td>wagon</td>\n",
       "      <td>1993</td>\n",
       "      <td>manual</td>\n",
       "      <td>113</td>\n",
       "      <td>golf</td>\n",
       "      <td>150000</td>\n",
       "      <td>petrol</td>\n",
       "      <td>volkswagen</td>\n",
       "      <td>no</td>\n",
       "    </tr>\n",
       "    <tr>\n",
       "      <th>1</th>\n",
       "      <td>9800</td>\n",
       "      <td>suv</td>\n",
       "      <td>2004</td>\n",
       "      <td>auto</td>\n",
       "      <td>163</td>\n",
       "      <td>grand</td>\n",
       "      <td>125000</td>\n",
       "      <td>gasoline</td>\n",
       "      <td>jeep</td>\n",
       "      <td>no</td>\n",
       "    </tr>\n",
       "    <tr>\n",
       "      <th>2</th>\n",
       "      <td>1500</td>\n",
       "      <td>small</td>\n",
       "      <td>2001</td>\n",
       "      <td>manual</td>\n",
       "      <td>75</td>\n",
       "      <td>golf</td>\n",
       "      <td>150000</td>\n",
       "      <td>petrol</td>\n",
       "      <td>volkswagen</td>\n",
       "      <td>no</td>\n",
       "    </tr>\n",
       "    <tr>\n",
       "      <th>3</th>\n",
       "      <td>3600</td>\n",
       "      <td>small</td>\n",
       "      <td>2008</td>\n",
       "      <td>manual</td>\n",
       "      <td>69</td>\n",
       "      <td>fabia</td>\n",
       "      <td>90000</td>\n",
       "      <td>gasoline</td>\n",
       "      <td>skoda</td>\n",
       "      <td>no</td>\n",
       "    </tr>\n",
       "    <tr>\n",
       "      <th>4</th>\n",
       "      <td>650</td>\n",
       "      <td>sedan</td>\n",
       "      <td>1995</td>\n",
       "      <td>manual</td>\n",
       "      <td>102</td>\n",
       "      <td>3er</td>\n",
       "      <td>150000</td>\n",
       "      <td>petrol</td>\n",
       "      <td>bmw</td>\n",
       "      <td>yes</td>\n",
       "    </tr>\n",
       "  </tbody>\n",
       "</table>\n",
       "</div>"
      ],
      "text/plain": [
       "   Price VehicleType  RegistrationYear Gearbox  Power  Model  Mileage  \\\n",
       "0    480       wagon              1993  manual    113   golf   150000   \n",
       "1   9800         suv              2004    auto    163  grand   125000   \n",
       "2   1500       small              2001  manual     75   golf   150000   \n",
       "3   3600       small              2008  manual     69  fabia    90000   \n",
       "4    650       sedan              1995  manual    102    3er   150000   \n",
       "\n",
       "   FuelType       Brand NotRepaired  \n",
       "0    petrol  volkswagen          no  \n",
       "1  gasoline        jeep          no  \n",
       "2    petrol  volkswagen          no  \n",
       "3  gasoline       skoda          no  \n",
       "4    petrol         bmw         yes  "
      ]
     },
     "execution_count": 28,
     "metadata": {},
     "output_type": "execute_result"
    }
   ],
   "source": [
    "# reemplacemos por la media\n",
    "\n",
    "df['Power'] = df['Power'].replace(0,int(df['Power'].mean()))\n",
    "df.head()"
   ]
  },
  {
   "cell_type": "markdown",
   "metadata": {},
   "source": [
    "La última columna `Mileage` la dejaremos tal como está, ya que no tiene valores 0."
   ]
  },
  {
   "cell_type": "markdown",
   "metadata": {},
   "source": [
    "<div class=\"alert alert-block alert-success\">\n",
    "<b>Comentario de Revisor</b> <a class=\"tocSkip\"></a>\n",
    "\n",
    "Muy buen trabajo en esta primera parte, importante revisar la data para poder generar modelos adecuados\n",
    "\n",
    "</div>"
   ]
  },
  {
   "cell_type": "code",
   "execution_count": null,
   "metadata": {},
   "outputs": [],
   "source": []
  },
  {
   "cell_type": "markdown",
   "metadata": {},
   "source": [
    "## Entrenamiento del modelo "
   ]
  },
  {
   "cell_type": "markdown",
   "metadata": {},
   "source": [
    "Antes de dividir el dataset en los conjuntos de entrenamiento y de prueba, debemos preparar los datos para poder entrenar los modelos, cambiando las variables categóricas en variables numéricas."
   ]
  },
  {
   "cell_type": "markdown",
   "metadata": {},
   "source": [
    "Analizar variables categóricas"
   ]
  },
  {
   "cell_type": "code",
   "execution_count": 29,
   "metadata": {},
   "outputs": [
    {
     "data": {
      "text/html": [
       "<div>\n",
       "<style scoped>\n",
       "    .dataframe tbody tr th:only-of-type {\n",
       "        vertical-align: middle;\n",
       "    }\n",
       "\n",
       "    .dataframe tbody tr th {\n",
       "        vertical-align: top;\n",
       "    }\n",
       "\n",
       "    .dataframe thead th {\n",
       "        text-align: right;\n",
       "    }\n",
       "</style>\n",
       "<table border=\"1\" class=\"dataframe\">\n",
       "  <thead>\n",
       "    <tr style=\"text-align: right;\">\n",
       "      <th></th>\n",
       "      <th>VehicleType</th>\n",
       "      <th>Gearbox</th>\n",
       "      <th>Model</th>\n",
       "      <th>FuelType</th>\n",
       "      <th>Brand</th>\n",
       "      <th>NotRepaired</th>\n",
       "    </tr>\n",
       "  </thead>\n",
       "  <tbody>\n",
       "    <tr>\n",
       "      <th>count</th>\n",
       "      <td>275889</td>\n",
       "      <td>275889</td>\n",
       "      <td>275889</td>\n",
       "      <td>275889</td>\n",
       "      <td>275889</td>\n",
       "      <td>275889</td>\n",
       "    </tr>\n",
       "    <tr>\n",
       "      <th>unique</th>\n",
       "      <td>8</td>\n",
       "      <td>2</td>\n",
       "      <td>250</td>\n",
       "      <td>7</td>\n",
       "      <td>39</td>\n",
       "      <td>2</td>\n",
       "    </tr>\n",
       "    <tr>\n",
       "      <th>top</th>\n",
       "      <td>sedan</td>\n",
       "      <td>manual</td>\n",
       "      <td>other</td>\n",
       "      <td>petrol</td>\n",
       "      <td>volkswagen</td>\n",
       "      <td>no</td>\n",
       "    </tr>\n",
       "    <tr>\n",
       "      <th>freq</th>\n",
       "      <td>80134</td>\n",
       "      <td>221552</td>\n",
       "      <td>22048</td>\n",
       "      <td>180134</td>\n",
       "      <td>56570</td>\n",
       "      <td>246368</td>\n",
       "    </tr>\n",
       "  </tbody>\n",
       "</table>\n",
       "</div>"
      ],
      "text/plain": [
       "       VehicleType Gearbox   Model FuelType       Brand NotRepaired\n",
       "count       275889  275889  275889   275889      275889      275889\n",
       "unique           8       2     250        7          39           2\n",
       "top          sedan  manual   other   petrol  volkswagen          no\n",
       "freq         80134  221552   22048   180134       56570      246368"
      ]
     },
     "execution_count": 29,
     "metadata": {},
     "output_type": "execute_result"
    }
   ],
   "source": [
    "# descripción de las variables categóricas\n",
    "\n",
    "df.describe(include='object')"
   ]
  },
  {
   "cell_type": "markdown",
   "metadata": {},
   "source": [
    "La variable `Model` es la que tiene la mayor cantidad de datos únicos, por lo que analizaremos su distribución."
   ]
  },
  {
   "cell_type": "code",
   "execution_count": 30,
   "metadata": {},
   "outputs": [
    {
     "data": {
      "text/plain": [
       "<AxesSubplot:>"
      ]
     },
     "execution_count": 30,
     "metadata": {},
     "output_type": "execute_result"
    },
    {
     "data": {
      "image/png": "[encoded data removed]",
      "text/plain": [
       "<Figure size 1500x500 with 1 Axes>"
      ]
     },
     "metadata": {},
     "output_type": "display_data"
    }
   ],
   "source": [
    "# graficar distribución de la columna 'Model'\n",
    "\n",
    "model_dist_q = df['Model'].value_counts()\n",
    "model_dist_perc = df['Model'].value_counts(normalize=True).round(4)*100\n",
    "\n",
    "model_dist_perc.plot(x=model_dist_perc.index,figsize=(15,5))"
   ]
  },
  {
   "cell_type": "code",
   "execution_count": 31,
   "metadata": {},
   "outputs": [
    {
     "data": {
      "text/plain": [
       "Index(['other', 'golf', '3er', 'polo', 'corsa', 'astra', 'a4', 'passat',\n",
       "       'c_klasse', '5er',\n",
       "       ...\n",
       "       'samara', 'gl', 'elefantino', 'i3', 'serie_2', 'kalina', 'rangerover',\n",
       "       'serie_3', 'serie_1', 'range_rover_evoque'],\n",
       "      dtype='object', length=250)"
      ]
     },
     "execution_count": 31,
     "metadata": {},
     "output_type": "execute_result"
    }
   ],
   "source": [
    "model_dist_perc.index"
   ]
  },
  {
   "cell_type": "code",
   "execution_count": 32,
   "metadata": {},
   "outputs": [],
   "source": [
    "# identificar el 50% de las categorías\n",
    "\n",
    "init = 0\n",
    "acum = []\n",
    "\n",
    "for l in model_dist_perc:\n",
    "    init +=l\n",
    "    if init > 50:\n",
    "        break\n",
    "    \n",
    "    acum.append(round(init,2))   "
   ]
  },
  {
   "cell_type": "code",
   "execution_count": 33,
   "metadata": {},
   "outputs": [
    {
     "name": "stdout",
     "output_type": "stream",
     "text": [
      "[7.99, 15.95, 21.62, 25.09, 28.28, 31.47, 34.29, 37.07, 39.54, 41.82, 43.9, 45.73, 47.5, 49.24]\n",
      "Cantidad de Modelos de Auto: 14\n"
     ]
    }
   ],
   "source": [
    "# mostrar porcentajes acumulados y cuántos modelos representan el 50% del total de registros\n",
    "\n",
    "print(acum)\n",
    "print('Cantidad de Modelos de Auto:',len(acum))\n"
   ]
  },
  {
   "cell_type": "markdown",
   "metadata": {},
   "source": [
    "Vemos que solo 14 modelos de auto representan el 50% de los registros, lo que hace que la columna `Model` tenga mucha dispersión o variabilidad, por lo que no es significativa para entrenar un modelo de ML para predecir el precio de un auto.\n",
    "\n",
    "Por lo tanto, procedemos a eliminar esta característica, para ajustar más el conjunto de entrenamiento y agilizar su entrenamiento."
   ]
  },
  {
   "cell_type": "code",
   "execution_count": 34,
   "metadata": {},
   "outputs": [
    {
     "data": {
      "text/html": [
       "<div>\n",
       "<style scoped>\n",
       "    .dataframe tbody tr th:only-of-type {\n",
       "        vertical-align: middle;\n",
       "    }\n",
       "\n",
       "    .dataframe tbody tr th {\n",
       "        vertical-align: top;\n",
       "    }\n",
       "\n",
       "    .dataframe thead th {\n",
       "        text-align: right;\n",
       "    }\n",
       "</style>\n",
       "<table border=\"1\" class=\"dataframe\">\n",
       "  <thead>\n",
       "    <tr style=\"text-align: right;\">\n",
       "      <th></th>\n",
       "      <th>Price</th>\n",
       "      <th>VehicleType</th>\n",
       "      <th>RegistrationYear</th>\n",
       "      <th>Gearbox</th>\n",
       "      <th>Power</th>\n",
       "      <th>Mileage</th>\n",
       "      <th>FuelType</th>\n",
       "      <th>Brand</th>\n",
       "      <th>NotRepaired</th>\n",
       "    </tr>\n",
       "  </thead>\n",
       "  <tbody>\n",
       "    <tr>\n",
       "      <th>0</th>\n",
       "      <td>480</td>\n",
       "      <td>wagon</td>\n",
       "      <td>1993</td>\n",
       "      <td>manual</td>\n",
       "      <td>113</td>\n",
       "      <td>150000</td>\n",
       "      <td>petrol</td>\n",
       "      <td>volkswagen</td>\n",
       "      <td>no</td>\n",
       "    </tr>\n",
       "    <tr>\n",
       "      <th>1</th>\n",
       "      <td>9800</td>\n",
       "      <td>suv</td>\n",
       "      <td>2004</td>\n",
       "      <td>auto</td>\n",
       "      <td>163</td>\n",
       "      <td>125000</td>\n",
       "      <td>gasoline</td>\n",
       "      <td>jeep</td>\n",
       "      <td>no</td>\n",
       "    </tr>\n",
       "    <tr>\n",
       "      <th>2</th>\n",
       "      <td>1500</td>\n",
       "      <td>small</td>\n",
       "      <td>2001</td>\n",
       "      <td>manual</td>\n",
       "      <td>75</td>\n",
       "      <td>150000</td>\n",
       "      <td>petrol</td>\n",
       "      <td>volkswagen</td>\n",
       "      <td>no</td>\n",
       "    </tr>\n",
       "    <tr>\n",
       "      <th>3</th>\n",
       "      <td>3600</td>\n",
       "      <td>small</td>\n",
       "      <td>2008</td>\n",
       "      <td>manual</td>\n",
       "      <td>69</td>\n",
       "      <td>90000</td>\n",
       "      <td>gasoline</td>\n",
       "      <td>skoda</td>\n",
       "      <td>no</td>\n",
       "    </tr>\n",
       "    <tr>\n",
       "      <th>4</th>\n",
       "      <td>650</td>\n",
       "      <td>sedan</td>\n",
       "      <td>1995</td>\n",
       "      <td>manual</td>\n",
       "      <td>102</td>\n",
       "      <td>150000</td>\n",
       "      <td>petrol</td>\n",
       "      <td>bmw</td>\n",
       "      <td>yes</td>\n",
       "    </tr>\n",
       "  </tbody>\n",
       "</table>\n",
       "</div>"
      ],
      "text/plain": [
       "   Price VehicleType  RegistrationYear Gearbox  Power  Mileage  FuelType  \\\n",
       "0    480       wagon              1993  manual    113   150000    petrol   \n",
       "1   9800         suv              2004    auto    163   125000  gasoline   \n",
       "2   1500       small              2001  manual     75   150000    petrol   \n",
       "3   3600       small              2008  manual     69    90000  gasoline   \n",
       "4    650       sedan              1995  manual    102   150000    petrol   \n",
       "\n",
       "        Brand NotRepaired  \n",
       "0  volkswagen          no  \n",
       "1        jeep          no  \n",
       "2  volkswagen          no  \n",
       "3       skoda          no  \n",
       "4         bmw         yes  "
      ]
     },
     "execution_count": 34,
     "metadata": {},
     "output_type": "execute_result"
    }
   ],
   "source": [
    "# eliminar columna 'Model'\n",
    "\n",
    "df = df.drop('Model',axis=1)\n",
    "df.head()"
   ]
  },
  {
   "cell_type": "code",
   "execution_count": 35,
   "metadata": {},
   "outputs": [
    {
     "data": {
      "text/plain": [
       "(275889, 9)"
      ]
     },
     "execution_count": 35,
     "metadata": {},
     "output_type": "execute_result"
    }
   ],
   "source": [
    "df.shape"
   ]
  },
  {
   "cell_type": "markdown",
   "metadata": {},
   "source": [
    "Por lo tanto, quedamos con 9 columnas, de las cuales 5 son categóricas, 3 numéricas y la columna objetivo.\n",
    "Ahora podemos aplicar OHE para convertir las variables categóricas en numéricas y entrenar los modelos."
   ]
  },
  {
   "cell_type": "code",
   "execution_count": 36,
   "metadata": {},
   "outputs": [
    {
     "data": {
      "text/plain": [
       "(275889, 57)"
      ]
     },
     "execution_count": 36,
     "metadata": {},
     "output_type": "execute_result"
    }
   ],
   "source": [
    "# usar get dummies para convertir las variables categóricas en 0s y 1s.\n",
    "\n",
    "df_dummy = pd.get_dummies(df, drop_first = True)\n",
    "df_dummy.shape"
   ]
  },
  {
   "cell_type": "code",
   "execution_count": 37,
   "metadata": {},
   "outputs": [
    {
     "data": {
      "text/html": [
       "<div>\n",
       "<style scoped>\n",
       "    .dataframe tbody tr th:only-of-type {\n",
       "        vertical-align: middle;\n",
       "    }\n",
       "\n",
       "    .dataframe tbody tr th {\n",
       "        vertical-align: top;\n",
       "    }\n",
       "\n",
       "    .dataframe thead th {\n",
       "        text-align: right;\n",
       "    }\n",
       "</style>\n",
       "<table border=\"1\" class=\"dataframe\">\n",
       "  <thead>\n",
       "    <tr style=\"text-align: right;\">\n",
       "      <th></th>\n",
       "      <th>Price</th>\n",
       "      <th>RegistrationYear</th>\n",
       "      <th>Power</th>\n",
       "      <th>Mileage</th>\n",
       "      <th>VehicleType_convertible</th>\n",
       "      <th>VehicleType_coupe</th>\n",
       "      <th>VehicleType_other</th>\n",
       "      <th>VehicleType_sedan</th>\n",
       "      <th>VehicleType_small</th>\n",
       "      <th>VehicleType_suv</th>\n",
       "      <th>...</th>\n",
       "      <th>Brand_seat</th>\n",
       "      <th>Brand_skoda</th>\n",
       "      <th>Brand_smart</th>\n",
       "      <th>Brand_subaru</th>\n",
       "      <th>Brand_suzuki</th>\n",
       "      <th>Brand_toyota</th>\n",
       "      <th>Brand_trabant</th>\n",
       "      <th>Brand_volkswagen</th>\n",
       "      <th>Brand_volvo</th>\n",
       "      <th>NotRepaired_yes</th>\n",
       "    </tr>\n",
       "  </thead>\n",
       "  <tbody>\n",
       "    <tr>\n",
       "      <th>0</th>\n",
       "      <td>480</td>\n",
       "      <td>1993</td>\n",
       "      <td>113</td>\n",
       "      <td>150000</td>\n",
       "      <td>0</td>\n",
       "      <td>0</td>\n",
       "      <td>0</td>\n",
       "      <td>0</td>\n",
       "      <td>0</td>\n",
       "      <td>0</td>\n",
       "      <td>...</td>\n",
       "      <td>0</td>\n",
       "      <td>0</td>\n",
       "      <td>0</td>\n",
       "      <td>0</td>\n",
       "      <td>0</td>\n",
       "      <td>0</td>\n",
       "      <td>0</td>\n",
       "      <td>1</td>\n",
       "      <td>0</td>\n",
       "      <td>0</td>\n",
       "    </tr>\n",
       "    <tr>\n",
       "      <th>1</th>\n",
       "      <td>9800</td>\n",
       "      <td>2004</td>\n",
       "      <td>163</td>\n",
       "      <td>125000</td>\n",
       "      <td>0</td>\n",
       "      <td>0</td>\n",
       "      <td>0</td>\n",
       "      <td>0</td>\n",
       "      <td>0</td>\n",
       "      <td>1</td>\n",
       "      <td>...</td>\n",
       "      <td>0</td>\n",
       "      <td>0</td>\n",
       "      <td>0</td>\n",
       "      <td>0</td>\n",
       "      <td>0</td>\n",
       "      <td>0</td>\n",
       "      <td>0</td>\n",
       "      <td>0</td>\n",
       "      <td>0</td>\n",
       "      <td>0</td>\n",
       "    </tr>\n",
       "    <tr>\n",
       "      <th>2</th>\n",
       "      <td>1500</td>\n",
       "      <td>2001</td>\n",
       "      <td>75</td>\n",
       "      <td>150000</td>\n",
       "      <td>0</td>\n",
       "      <td>0</td>\n",
       "      <td>0</td>\n",
       "      <td>0</td>\n",
       "      <td>1</td>\n",
       "      <td>0</td>\n",
       "      <td>...</td>\n",
       "      <td>0</td>\n",
       "      <td>0</td>\n",
       "      <td>0</td>\n",
       "      <td>0</td>\n",
       "      <td>0</td>\n",
       "      <td>0</td>\n",
       "      <td>0</td>\n",
       "      <td>1</td>\n",
       "      <td>0</td>\n",
       "      <td>0</td>\n",
       "    </tr>\n",
       "    <tr>\n",
       "      <th>3</th>\n",
       "      <td>3600</td>\n",
       "      <td>2008</td>\n",
       "      <td>69</td>\n",
       "      <td>90000</td>\n",
       "      <td>0</td>\n",
       "      <td>0</td>\n",
       "      <td>0</td>\n",
       "      <td>0</td>\n",
       "      <td>1</td>\n",
       "      <td>0</td>\n",
       "      <td>...</td>\n",
       "      <td>0</td>\n",
       "      <td>1</td>\n",
       "      <td>0</td>\n",
       "      <td>0</td>\n",
       "      <td>0</td>\n",
       "      <td>0</td>\n",
       "      <td>0</td>\n",
       "      <td>0</td>\n",
       "      <td>0</td>\n",
       "      <td>0</td>\n",
       "    </tr>\n",
       "    <tr>\n",
       "      <th>4</th>\n",
       "      <td>650</td>\n",
       "      <td>1995</td>\n",
       "      <td>102</td>\n",
       "      <td>150000</td>\n",
       "      <td>0</td>\n",
       "      <td>0</td>\n",
       "      <td>0</td>\n",
       "      <td>1</td>\n",
       "      <td>0</td>\n",
       "      <td>0</td>\n",
       "      <td>...</td>\n",
       "      <td>0</td>\n",
       "      <td>0</td>\n",
       "      <td>0</td>\n",
       "      <td>0</td>\n",
       "      <td>0</td>\n",
       "      <td>0</td>\n",
       "      <td>0</td>\n",
       "      <td>0</td>\n",
       "      <td>0</td>\n",
       "      <td>1</td>\n",
       "    </tr>\n",
       "  </tbody>\n",
       "</table>\n",
       "<p>5 rows × 57 columns</p>\n",
       "</div>"
      ],
      "text/plain": [
       "   Price  RegistrationYear  Power  Mileage  VehicleType_convertible  \\\n",
       "0    480              1993    113   150000                        0   \n",
       "1   9800              2004    163   125000                        0   \n",
       "2   1500              2001     75   150000                        0   \n",
       "3   3600              2008     69    90000                        0   \n",
       "4    650              1995    102   150000                        0   \n",
       "\n",
       "   VehicleType_coupe  VehicleType_other  VehicleType_sedan  VehicleType_small  \\\n",
       "0                  0                  0                  0                  0   \n",
       "1                  0                  0                  0                  0   \n",
       "2                  0                  0                  0                  1   \n",
       "3                  0                  0                  0                  1   \n",
       "4                  0                  0                  1                  0   \n",
       "\n",
       "   VehicleType_suv  ...  Brand_seat  Brand_skoda  Brand_smart  Brand_subaru  \\\n",
       "0                0  ...           0            0            0             0   \n",
       "1                1  ...           0            0            0             0   \n",
       "2                0  ...           0            0            0             0   \n",
       "3                0  ...           0            1            0             0   \n",
       "4                0  ...           0            0            0             0   \n",
       "\n",
       "   Brand_suzuki  Brand_toyota  Brand_trabant  Brand_volkswagen  Brand_volvo  \\\n",
       "0             0             0              0                 1            0   \n",
       "1             0             0              0                 0            0   \n",
       "2             0             0              0                 1            0   \n",
       "3             0             0              0                 0            0   \n",
       "4             0             0              0                 0            0   \n",
       "\n",
       "   NotRepaired_yes  \n",
       "0                0  \n",
       "1                0  \n",
       "2                0  \n",
       "3                0  \n",
       "4                1  \n",
       "\n",
       "[5 rows x 57 columns]"
      ]
     },
     "execution_count": 37,
     "metadata": {},
     "output_type": "execute_result"
    }
   ],
   "source": [
    "df_dummy.head()"
   ]
  },
  {
   "cell_type": "markdown",
   "metadata": {},
   "source": [
    "Luego de aplicar el método dummy, obtenemos un dataset con +300 filas, por lo que debemos identificar cuáles son realmente importantes para el modelo, eliminando las que no aporten valor para que sea más eficiente."
   ]
  },
  {
   "cell_type": "markdown",
   "metadata": {},
   "source": [
    "<div class=\"alert alert-block alert-success\">\n",
    "<b>Comentario de Revisor</b> <a class=\"tocSkip\"></a>\n",
    "\n",
    "Efectivamente, tener demasiadas columnas solo perjudicará a los modelos\n",
    "\n",
    "</div>"
   ]
  },
  {
   "cell_type": "markdown",
   "metadata": {},
   "source": [
    "<div class=\"alert alert-block alert-danger\">\n",
    "<b>Comentario de Revisor</b> <a class=\"tocSkip\"></a>\n",
    "\n",
    "Me parece que aquí falta la acción mencionada, de eliminar las columnas. Te recomiendo considerar no usar las features originales que generan más columnas con el OHE.\n",
    "    \n",
    "Antes de revisar los modelos es necesario corregir esto.    \n",
    "\n",
    "</div>"
   ]
  },
  {
   "cell_type": "markdown",
   "metadata": {},
   "source": [
    "Ahora, debemos dividir nuestro dataset en los conjuntos de entrenamiento y de prueba."
   ]
  },
  {
   "cell_type": "code",
   "execution_count": 38,
   "metadata": {},
   "outputs": [],
   "source": [
    "# dividir dataset en train (X) and test (y)\n",
    "\n",
    "X = df_dummy.drop('Price',1)\n",
    "y = df_dummy['Price']\n",
    "\n",
    "X_train, X_test, y_train, y_test = train_test_split(\n",
    "    X, y, test_size=0.3, random_state=42\n",
    ")"
   ]
  },
  {
   "cell_type": "markdown",
   "metadata": {},
   "source": [
    "Aplicaremos el método de Forward Feature Selection para seleccionar las variables más relevantes para entrenar un modelo de regresión lineal, evaluaremos su calidad con RMSE y lo compararemos con el RMSE de un modelo entrenado con el conjunto dummy."
   ]
  },
  {
   "cell_type": "code",
   "execution_count": 39,
   "metadata": {
    "scrolled": true
   },
   "outputs": [],
   "source": [
    "# sorted(SCORERS.keys())"
   ]
  },
  {
   "cell_type": "code",
   "execution_count": 41,
   "metadata": {
    "scrolled": true
   },
   "outputs": [
    {
     "name": "stdout",
     "output_type": "stream",
     "text": [
      "CPU times: user 4 µs, sys: 0 ns, total: 4 µs\n",
      "Wall time: 6.68 µs\n"
     ]
    },
    {
     "data": {
      "text/plain": [
       "SequentialFeatureSelector(estimator=LinearRegression(), k_features=20,\n",
       "                          scoring='neg_mean_squared_error', verbose=1)"
      ]
     },
     "execution_count": 41,
     "metadata": {},
     "output_type": "execute_result"
    }
   ],
   "source": [
    "# crear modelo de regresión lineal y aplicarle el Forward Selection Features\n",
    "\n",
    "%time\n",
    "\n",
    "model = LinearRegression()\n",
    "\n",
    "selector = sfs(\n",
    "    model,\n",
    "    k_features=20,\n",
    "    forward=True,\n",
    "    floating=False,\n",
    "    verbose=1,\n",
    "    scoring='neg_mean_squared_error',\n",
    "    cv=5\n",
    ")\n",
    "\n",
    "selector"
   ]
  },
  {
   "cell_type": "code",
   "execution_count": 42,
   "metadata": {},
   "outputs": [
    {
     "name": "stdout",
     "output_type": "stream",
     "text": [
      "CPU times: user 3 µs, sys: 0 ns, total: 3 µs\n",
      "Wall time: 6.2 µs\n"
     ]
    },
    {
     "name": "stderr",
     "output_type": "stream",
     "text": [
      "[Parallel(n_jobs=1)]: Done  49 tasks      | elapsed:    2.4s\n",
      "Features: 1/20[Parallel(n_jobs=1)]: Done  49 tasks      | elapsed:   22.8s\n",
      "Features: 2/20[Parallel(n_jobs=1)]: Done  49 tasks      | elapsed:   26.2s\n",
      "Features: 3/20[Parallel(n_jobs=1)]: Done  49 tasks      | elapsed:   29.3s\n",
      "Features: 4/20[Parallel(n_jobs=1)]: Done  49 tasks      | elapsed:   34.7s\n",
      "Features: 5/20[Parallel(n_jobs=1)]: Done  49 tasks      | elapsed:   40.2s\n",
      "Features: 6/20[Parallel(n_jobs=1)]: Done  49 tasks      | elapsed:   41.5s\n",
      "Features: 7/20[Parallel(n_jobs=1)]: Done  49 tasks      | elapsed:   48.7s\n",
      "[Parallel(n_jobs=1)]: Done  49 tasks      | elapsed:   48.7s\n",
      "Features: 20/20"
     ]
    }
   ],
   "source": [
    "# entrenar \n",
    "\n",
    "%time\n",
    "\n",
    "selector = selector.fit(X_train, y_train)"
   ]
  },
  {
   "cell_type": "code",
   "execution_count": 44,
   "metadata": {},
   "outputs": [
    {
     "name": "stdout",
     "output_type": "stream",
     "text": [
      "neg_mean_square_error: 10601711.4218\n",
      "RMSE: 3256.0269\n"
     ]
    }
   ],
   "source": [
    "# mostrar resultado final del RMSE\n",
    "\n",
    "best_score = -selector.k_score_\n",
    "rmse_sfs = best_score**0.5\n",
    "\n",
    "print('neg_mean_square_error:', round(best_score,4))\n",
    "print('RMSE:',round(rmse_sfs,4))"
   ]
  },
  {
   "cell_type": "code",
   "execution_count": 45,
   "metadata": {},
   "outputs": [
    {
     "data": {
      "text/plain": [
       "['RegistrationYear',\n",
       " 'Power',\n",
       " 'Mileage',\n",
       " 'VehicleType_convertible',\n",
       " 'VehicleType_coupe',\n",
       " 'VehicleType_sedan',\n",
       " 'VehicleType_small',\n",
       " 'VehicleType_suv',\n",
       " 'VehicleType_wagon',\n",
       " 'Gearbox_manual',\n",
       " 'FuelType_gasoline',\n",
       " 'Brand_audi',\n",
       " 'Brand_bmw',\n",
       " 'Brand_mercedes_benz',\n",
       " 'Brand_mini',\n",
       " 'Brand_porsche',\n",
       " 'Brand_skoda',\n",
       " 'Brand_smart',\n",
       " 'Brand_volkswagen',\n",
       " 'NotRepaired_yes']"
      ]
     },
     "execution_count": 45,
     "metadata": {},
     "output_type": "execute_result"
    }
   ],
   "source": [
    "# mostrar columnas seleccionadas como las 10 más miportantes\n",
    "\n",
    "selected_features = list(selector.k_feature_names_)\n",
    "selected_features"
   ]
  },
  {
   "cell_type": "code",
   "execution_count": 48,
   "metadata": {},
   "outputs": [],
   "source": [
    "# definir nuevos conjuntos de entrenamiento y test\n",
    "\n",
    "X = X[selected_features]\n",
    "X_train, X_test, y_train, y_test = train_test_split(\n",
    "    X, y, test_size=0.3, random_state=42\n",
    ")"
   ]
  },
  {
   "cell_type": "markdown",
   "metadata": {},
   "source": [
    "Luego, evaluaremos distintos modelos con la métrica RSME para determinar cuál nos ofrece la mayor precisión según dicha métrica."
   ]
  },
  {
   "cell_type": "code",
   "execution_count": null,
   "metadata": {},
   "outputs": [],
   "source": []
  },
  {
   "cell_type": "markdown",
   "metadata": {},
   "source": [
    "<u>**Modelo de Regresión Lineal**</u>"
   ]
  },
  {
   "cell_type": "code",
   "execution_count": 53,
   "metadata": {},
   "outputs": [
    {
     "name": "stdout",
     "output_type": "stream",
     "text": [
      "RMSE Linear Regression Model:\n",
      "3281.6790215313913\n",
      "-------------------------\n",
      "CPU times: user 6 µs, sys: 7 µs, total: 13 µs\n",
      "Wall time: 6.44 µs\n"
     ]
    }
   ],
   "source": [
    "# entrenar y evaluar modelo de regresión lineal\n",
    "\n",
    "model_lr = LinearRegression()\n",
    "model_lr.fit(X_train,y_train)\n",
    "\n",
    "# predecir precio con el modelo entrenado\n",
    "\n",
    "predictions = model_lr.predict(X_test)\n",
    "\n",
    "# evaluar RMSE\n",
    "\n",
    "rmse_lr = mean_squared_error(y_test, predictions)**0.5\n",
    "print('RMSE Linear Regression Model:')\n",
    "print(rmse_lr)\n",
    "print('-'*25)\n",
    "\n",
    "%time"
   ]
  },
  {
   "cell_type": "code",
   "execution_count": 51,
   "metadata": {},
   "outputs": [
    {
     "name": "stdout",
     "output_type": "stream",
     "text": [
      "RMSE Linear Regression Model:\n",
      "3281.6790215313913\n"
     ]
    }
   ],
   "source": []
  },
  {
   "cell_type": "markdown",
   "metadata": {},
   "source": [
    "<u>**Random Forest Regressor**</u>"
   ]
  },
  {
   "cell_type": "code",
   "execution_count": 54,
   "metadata": {},
   "outputs": [
    {
     "name": "stdout",
     "output_type": "stream",
     "text": [
      "RMSE Random Forest Regressor:\n",
      "2037.365616699744\n",
      "-------------------------\n",
      "CPU times: user 3 µs, sys: 0 ns, total: 3 µs\n",
      "Wall time: 6.44 µs\n"
     ]
    }
   ],
   "source": [
    "# Random Forest Regressor\n",
    "\n",
    "\n",
    "model_rfr = RandomForestRegressor(n_estimators=50,max_depth=10,random_state=42)\n",
    "model_rfr.fit(X_train,y_train)\n",
    "predictions = model_rfr.predict(X_test)\n",
    "\n",
    "rmse_rfr = mean_squared_error(y_test,predictions)**0.5\n",
    "\n",
    "print('RMSE Random Forest Regressor:')\n",
    "print(rmse_rfr)\n",
    "print('-'*25)\n",
    "\n",
    "%time"
   ]
  },
  {
   "cell_type": "markdown",
   "metadata": {},
   "source": [
    "<u>**Modelo CatBoost**</u>"
   ]
  },
  {
   "cell_type": "code",
   "execution_count": 55,
   "metadata": {},
   "outputs": [],
   "source": [
    "# crear función para seleccionar las variables categóricas y guardarlas en una lista\n",
    "\n",
    "cat_features = []\n",
    "\n",
    "def select_cat_features(df):\n",
    "    for col in df.columns:\n",
    "        if df[col].dtypes == 'object':\n",
    "            cat_features.append(col)\n",
    "    print(cat_features)\n",
    "            "
   ]
  },
  {
   "cell_type": "code",
   "execution_count": 56,
   "metadata": {
    "scrolled": true
   },
   "outputs": [
    {
     "name": "stdout",
     "output_type": "stream",
     "text": [
      "['VehicleType', 'Gearbox', 'FuelType', 'Brand', 'NotRepaired']\n"
     ]
    }
   ],
   "source": [
    "# comprobar\n",
    "\n",
    "select_cat_features(df)"
   ]
  },
  {
   "cell_type": "code",
   "execution_count": 60,
   "metadata": {},
   "outputs": [
    {
     "name": "stdout",
     "output_type": "stream",
     "text": [
      "0:\tlearn: 4456.4509743\ttest: 4458.8649038\tbest: 4458.8649038 (0)\ttotal: 36.3ms\tremaining: 7.22s\n",
      "1:\tlearn: 4319.0807750\ttest: 4321.9018905\tbest: 4321.9018905 (1)\ttotal: 71.2ms\tremaining: 7.05s\n",
      "2:\tlearn: 4191.7264975\ttest: 4194.8712483\tbest: 4194.8712483 (2)\ttotal: 105ms\tremaining: 6.92s\n",
      "3:\tlearn: 4075.7700301\ttest: 4078.9779502\tbest: 4078.9779502 (3)\ttotal: 141ms\tremaining: 6.89s\n",
      "4:\tlearn: 3968.6575330\ttest: 3972.3892236\tbest: 3972.3892236 (4)\ttotal: 174ms\tremaining: 6.79s\n",
      "5:\tlearn: 3865.9304571\ttest: 3870.0691187\tbest: 3870.0691187 (5)\ttotal: 210ms\tremaining: 6.78s\n",
      "6:\tlearn: 3763.1761021\ttest: 3767.6406261\tbest: 3767.6406261 (6)\ttotal: 244ms\tremaining: 6.74s\n",
      "7:\tlearn: 3674.2566103\ttest: 3679.2141691\tbest: 3679.2141691 (7)\ttotal: 282ms\tremaining: 6.76s\n",
      "8:\tlearn: 3585.9974126\ttest: 3591.4743810\tbest: 3591.4743810 (8)\ttotal: 322ms\tremaining: 6.83s\n",
      "9:\tlearn: 3504.0798686\ttest: 3510.0654707\tbest: 3510.0654707 (9)\ttotal: 358ms\tremaining: 6.8s\n",
      "10:\tlearn: 3427.8845892\ttest: 3434.2385750\tbest: 3434.2385750 (10)\ttotal: 392ms\tremaining: 6.74s\n",
      "11:\tlearn: 3360.0923291\ttest: 3366.8521835\tbest: 3366.8521835 (11)\ttotal: 428ms\tremaining: 6.7s\n",
      "12:\tlearn: 3291.0174189\ttest: 3298.0808634\tbest: 3298.0808634 (12)\ttotal: 461ms\tremaining: 6.62s\n",
      "13:\tlearn: 3223.3733837\ttest: 3230.7088407\tbest: 3230.7088407 (13)\ttotal: 501ms\tremaining: 6.65s\n",
      "14:\tlearn: 3162.2970419\ttest: 3169.8159679\tbest: 3169.8159679 (14)\ttotal: 535ms\tremaining: 6.6s\n",
      "15:\tlearn: 3104.9656012\ttest: 3112.7910568\tbest: 3112.7910568 (15)\ttotal: 569ms\tremaining: 6.54s\n",
      "16:\tlearn: 3052.2514672\ttest: 3060.3463408\tbest: 3060.3463408 (16)\ttotal: 601ms\tremaining: 6.47s\n",
      "17:\tlearn: 3004.3811859\ttest: 3012.7980596\tbest: 3012.7980596 (17)\ttotal: 636ms\tremaining: 6.43s\n",
      "18:\tlearn: 2956.1458011\ttest: 2964.5964965\tbest: 2964.5964965 (18)\ttotal: 671ms\tremaining: 6.39s\n",
      "19:\tlearn: 2911.5682523\ttest: 2920.1391621\tbest: 2920.1391621 (19)\ttotal: 711ms\tremaining: 6.4s\n",
      "20:\tlearn: 2869.8417614\ttest: 2878.5748466\tbest: 2878.5748466 (20)\ttotal: 746ms\tremaining: 6.36s\n",
      "21:\tlearn: 2833.0806494\ttest: 2841.9752579\tbest: 2841.9752579 (21)\ttotal: 780ms\tremaining: 6.31s\n",
      "22:\tlearn: 2798.0532754\ttest: 2807.0661516\tbest: 2807.0661516 (22)\ttotal: 816ms\tremaining: 6.28s\n",
      "23:\tlearn: 2764.1852728\ttest: 2773.3534985\tbest: 2773.3534985 (23)\ttotal: 850ms\tremaining: 6.23s\n",
      "24:\tlearn: 2730.4414009\ttest: 2739.5454206\tbest: 2739.5454206 (24)\ttotal: 888ms\tremaining: 6.22s\n",
      "25:\tlearn: 2699.9174120\ttest: 2709.1340364\tbest: 2709.1340364 (25)\ttotal: 920ms\tremaining: 6.16s\n",
      "26:\tlearn: 2672.3764100\ttest: 2681.7014732\tbest: 2681.7014732 (26)\ttotal: 952ms\tremaining: 6.1s\n",
      "27:\tlearn: 2645.3315257\ttest: 2654.7058813\tbest: 2654.7058813 (27)\ttotal: 984ms\tremaining: 6.04s\n",
      "28:\tlearn: 2621.5376880\ttest: 2630.9573290\tbest: 2630.9573290 (28)\ttotal: 1.02s\tremaining: 6.02s\n",
      "29:\tlearn: 2598.0892812\ttest: 2608.0979129\tbest: 2608.0979129 (29)\ttotal: 1.05s\tremaining: 5.97s\n",
      "30:\tlearn: 2576.6205571\ttest: 2586.5788338\tbest: 2586.5788338 (30)\ttotal: 1.09s\tremaining: 5.94s\n",
      "31:\tlearn: 2554.4060088\ttest: 2564.4663421\tbest: 2564.4663421 (31)\ttotal: 1.12s\tremaining: 5.89s\n",
      "32:\tlearn: 2534.0699872\ttest: 2544.1668223\tbest: 2544.1668223 (32)\ttotal: 1.16s\tremaining: 5.85s\n",
      "33:\tlearn: 2516.0691695\ttest: 2526.2476697\tbest: 2526.2476697 (33)\ttotal: 1.19s\tremaining: 5.82s\n",
      "34:\tlearn: 2498.4954736\ttest: 2508.7164029\tbest: 2508.7164029 (34)\ttotal: 1.23s\tremaining: 5.79s\n",
      "35:\tlearn: 2482.7721142\ttest: 2493.4813097\tbest: 2493.4813097 (35)\ttotal: 1.26s\tremaining: 5.74s\n",
      "36:\tlearn: 2466.4956448\ttest: 2477.2572401\tbest: 2477.2572401 (36)\ttotal: 1.29s\tremaining: 5.7s\n",
      "37:\tlearn: 2450.8847391\ttest: 2461.8207756\tbest: 2461.8207756 (37)\ttotal: 1.32s\tremaining: 5.65s\n",
      "38:\tlearn: 2436.7789058\ttest: 2447.8278939\tbest: 2447.8278939 (38)\ttotal: 1.36s\tremaining: 5.6s\n",
      "39:\tlearn: 2423.5783013\ttest: 2434.7586828\tbest: 2434.7586828 (39)\ttotal: 1.39s\tremaining: 5.57s\n",
      "40:\tlearn: 2410.2205463\ttest: 2421.4114436\tbest: 2421.4114436 (40)\ttotal: 1.43s\tremaining: 5.54s\n",
      "41:\tlearn: 2396.0890773\ttest: 2407.4366383\tbest: 2407.4366383 (41)\ttotal: 1.46s\tremaining: 5.51s\n",
      "42:\tlearn: 2383.3257079\ttest: 2395.1760842\tbest: 2395.1760842 (42)\ttotal: 1.5s\tremaining: 5.48s\n",
      "43:\tlearn: 2368.1861407\ttest: 2380.0545960\tbest: 2380.0545960 (43)\ttotal: 1.53s\tremaining: 5.44s\n",
      "44:\tlearn: 2356.7806075\ttest: 2369.0648339\tbest: 2369.0648339 (44)\ttotal: 1.57s\tremaining: 5.4s\n",
      "45:\tlearn: 2343.7029872\ttest: 2356.2874967\tbest: 2356.2874967 (45)\ttotal: 1.6s\tremaining: 5.38s\n",
      "46:\tlearn: 2332.4511967\ttest: 2345.0808264\tbest: 2345.0808264 (46)\ttotal: 1.64s\tremaining: 5.33s\n",
      "47:\tlearn: 2322.5464222\ttest: 2335.0873210\tbest: 2335.0873210 (47)\ttotal: 1.67s\tremaining: 5.29s\n",
      "48:\tlearn: 2313.3510244\ttest: 2325.7800499\tbest: 2325.7800499 (48)\ttotal: 1.7s\tremaining: 5.25s\n",
      "49:\tlearn: 2302.8656365\ttest: 2315.1537002\tbest: 2315.1537002 (49)\ttotal: 1.73s\tremaining: 5.2s\n",
      "50:\tlearn: 2293.4677356\ttest: 2305.7369077\tbest: 2305.7369077 (50)\ttotal: 1.76s\tremaining: 5.16s\n",
      "51:\tlearn: 2285.1414151\ttest: 2297.7030177\tbest: 2297.7030177 (51)\ttotal: 1.8s\tremaining: 5.13s\n",
      "52:\tlearn: 2276.3991615\ttest: 2289.3540898\tbest: 2289.3540898 (52)\ttotal: 1.84s\tremaining: 5.1s\n",
      "53:\tlearn: 2268.6910690\ttest: 2281.6160360\tbest: 2281.6160360 (53)\ttotal: 1.87s\tremaining: 5.06s\n",
      "54:\tlearn: 2261.0828691\ttest: 2274.3129484\tbest: 2274.3129484 (54)\ttotal: 1.91s\tremaining: 5.02s\n",
      "55:\tlearn: 2253.9352281\ttest: 2267.4540886\tbest: 2267.4540886 (55)\ttotal: 1.94s\tremaining: 4.98s\n",
      "56:\tlearn: 2247.6343705\ttest: 2261.1309228\tbest: 2261.1309228 (56)\ttotal: 1.97s\tremaining: 4.94s\n",
      "57:\tlearn: 2240.2439860\ttest: 2253.9375249\tbest: 2253.9375249 (57)\ttotal: 2.01s\tremaining: 4.92s\n",
      "58:\tlearn: 2233.9058930\ttest: 2247.8200623\tbest: 2247.8200623 (58)\ttotal: 2.04s\tremaining: 4.88s\n",
      "59:\tlearn: 2225.8628874\ttest: 2239.7498467\tbest: 2239.7498467 (59)\ttotal: 2.07s\tremaining: 4.84s\n",
      "60:\tlearn: 2219.8848122\ttest: 2233.9257183\tbest: 2233.9257183 (60)\ttotal: 2.11s\tremaining: 4.8s\n",
      "61:\tlearn: 2214.8977729\ttest: 2229.1588989\tbest: 2229.1588989 (61)\ttotal: 2.14s\tremaining: 4.76s\n",
      "62:\tlearn: 2208.4984109\ttest: 2222.6760835\tbest: 2222.6760835 (62)\ttotal: 2.17s\tremaining: 4.72s\n",
      "63:\tlearn: 2202.6602629\ttest: 2217.0994161\tbest: 2217.0994161 (63)\ttotal: 2.21s\tremaining: 4.7s\n",
      "64:\tlearn: 2197.1934964\ttest: 2211.5522815\tbest: 2211.5522815 (64)\ttotal: 2.25s\tremaining: 4.66s\n",
      "65:\tlearn: 2191.6487025\ttest: 2206.1421746\tbest: 2206.1421746 (65)\ttotal: 2.28s\tremaining: 4.62s\n",
      "66:\tlearn: 2186.8655379\ttest: 2201.4522739\tbest: 2201.4522739 (66)\ttotal: 2.31s\tremaining: 4.58s\n",
      "67:\tlearn: 2182.4596848\ttest: 2197.0463646\tbest: 2197.0463646 (67)\ttotal: 2.34s\tremaining: 4.54s\n",
      "68:\tlearn: 2177.5800306\ttest: 2192.1467257\tbest: 2192.1467257 (68)\ttotal: 2.37s\tremaining: 4.5s\n",
      "69:\tlearn: 2173.2696180\ttest: 2187.9587674\tbest: 2187.9587674 (69)\ttotal: 2.4s\tremaining: 4.47s\n",
      "70:\tlearn: 2168.3596838\ttest: 2183.0649573\tbest: 2183.0649573 (70)\ttotal: 2.44s\tremaining: 4.43s\n",
      "71:\tlearn: 2164.2454327\ttest: 2179.0095226\tbest: 2179.0095226 (71)\ttotal: 2.47s\tremaining: 4.38s\n",
      "72:\tlearn: 2160.5380405\ttest: 2175.4396776\tbest: 2175.4396776 (72)\ttotal: 2.5s\tremaining: 4.35s\n",
      "73:\tlearn: 2156.5280762\ttest: 2171.6525400\tbest: 2171.6525400 (73)\ttotal: 2.53s\tremaining: 4.31s\n",
      "74:\tlearn: 2151.8947354\ttest: 2166.9977066\tbest: 2166.9977066 (74)\ttotal: 2.56s\tremaining: 4.27s\n",
      "75:\tlearn: 2147.9423963\ttest: 2163.2516137\tbest: 2163.2516137 (75)\ttotal: 2.6s\tremaining: 4.24s\n",
      "76:\tlearn: 2142.9814879\ttest: 2158.2413589\tbest: 2158.2413589 (76)\ttotal: 2.63s\tremaining: 4.2s\n",
      "77:\tlearn: 2138.8756597\ttest: 2154.2278094\tbest: 2154.2278094 (77)\ttotal: 2.66s\tremaining: 4.16s\n",
      "78:\tlearn: 2135.3527148\ttest: 2150.7029279\tbest: 2150.7029279 (78)\ttotal: 2.69s\tremaining: 4.13s\n",
      "79:\tlearn: 2131.6631629\ttest: 2147.1393011\tbest: 2147.1393011 (79)\ttotal: 2.73s\tremaining: 4.09s\n",
      "80:\tlearn: 2127.8071961\ttest: 2143.1404584\tbest: 2143.1404584 (80)\ttotal: 2.76s\tremaining: 4.05s\n",
      "81:\tlearn: 2124.6479471\ttest: 2139.8542831\tbest: 2139.8542831 (81)\ttotal: 2.79s\tremaining: 4.02s\n",
      "82:\tlearn: 2121.2987629\ttest: 2136.6101228\tbest: 2136.6101228 (82)\ttotal: 2.82s\tremaining: 3.98s\n",
      "83:\tlearn: 2116.9180161\ttest: 2132.2109041\tbest: 2132.2109041 (83)\ttotal: 2.86s\tremaining: 3.95s\n",
      "84:\tlearn: 2113.6537912\ttest: 2128.9081104\tbest: 2128.9081104 (84)\ttotal: 2.89s\tremaining: 3.91s\n",
      "85:\tlearn: 2110.9407400\ttest: 2126.3858861\tbest: 2126.3858861 (85)\ttotal: 2.92s\tremaining: 3.87s\n",
      "86:\tlearn: 2107.8985179\ttest: 2123.4377059\tbest: 2123.4377059 (86)\ttotal: 2.95s\tremaining: 3.83s\n"
     ]
    },
    {
     "name": "stdout",
     "output_type": "stream",
     "text": [
      "87:\tlearn: 2104.4845030\ttest: 2120.0880566\tbest: 2120.0880566 (87)\ttotal: 2.99s\tremaining: 3.8s\n",
      "88:\tlearn: 2101.5944730\ttest: 2117.1815707\tbest: 2117.1815707 (88)\ttotal: 3.02s\tremaining: 3.76s\n",
      "89:\tlearn: 2097.6637890\ttest: 2113.1784127\tbest: 2113.1784127 (89)\ttotal: 3.05s\tremaining: 3.73s\n",
      "90:\tlearn: 2095.0813564\ttest: 2110.8327268\tbest: 2110.8327268 (90)\ttotal: 3.08s\tremaining: 3.69s\n",
      "91:\tlearn: 2092.0582138\ttest: 2107.8201321\tbest: 2107.8201321 (91)\ttotal: 3.11s\tremaining: 3.65s\n",
      "92:\tlearn: 2088.5907177\ttest: 2104.2560507\tbest: 2104.2560507 (92)\ttotal: 3.15s\tremaining: 3.62s\n",
      "93:\tlearn: 2085.9948501\ttest: 2101.5885458\tbest: 2101.5885458 (93)\ttotal: 3.18s\tremaining: 3.58s\n",
      "94:\tlearn: 2083.8413753\ttest: 2099.4773728\tbest: 2099.4773728 (94)\ttotal: 3.21s\tremaining: 3.54s\n",
      "95:\tlearn: 2081.5621121\ttest: 2097.1851385\tbest: 2097.1851385 (95)\ttotal: 3.24s\tremaining: 3.51s\n",
      "96:\tlearn: 2078.8736583\ttest: 2094.4634783\tbest: 2094.4634783 (96)\ttotal: 3.28s\tremaining: 3.48s\n",
      "97:\tlearn: 2075.7892454\ttest: 2091.4539782\tbest: 2091.4539782 (97)\ttotal: 3.31s\tremaining: 3.45s\n",
      "98:\tlearn: 2072.7026997\ttest: 2088.4868932\tbest: 2088.4868932 (98)\ttotal: 3.35s\tremaining: 3.42s\n",
      "99:\tlearn: 2070.8108272\ttest: 2086.7026719\tbest: 2086.7026719 (99)\ttotal: 3.38s\tremaining: 3.38s\n",
      "100:\tlearn: 2068.9331809\ttest: 2084.7095508\tbest: 2084.7095508 (100)\ttotal: 3.41s\tremaining: 3.34s\n",
      "101:\tlearn: 2067.1143212\ttest: 2083.0668782\tbest: 2083.0668782 (101)\ttotal: 3.44s\tremaining: 3.31s\n",
      "102:\tlearn: 2065.2576856\ttest: 2081.3793243\tbest: 2081.3793243 (102)\ttotal: 3.48s\tremaining: 3.27s\n",
      "103:\tlearn: 2062.1519993\ttest: 2078.3010956\tbest: 2078.3010956 (103)\ttotal: 3.51s\tremaining: 3.24s\n",
      "104:\tlearn: 2059.9960398\ttest: 2076.2284641\tbest: 2076.2284641 (104)\ttotal: 3.54s\tremaining: 3.2s\n",
      "105:\tlearn: 2056.8874227\ttest: 2073.1768970\tbest: 2073.1768970 (105)\ttotal: 3.57s\tremaining: 3.17s\n",
      "106:\tlearn: 2054.8957881\ttest: 2071.2567616\tbest: 2071.2567616 (106)\ttotal: 3.6s\tremaining: 3.13s\n",
      "107:\tlearn: 2052.4004220\ttest: 2068.8150338\tbest: 2068.8150338 (107)\ttotal: 3.63s\tremaining: 3.1s\n",
      "108:\tlearn: 2050.4941531\ttest: 2066.9638785\tbest: 2066.9638785 (108)\ttotal: 3.67s\tremaining: 3.06s\n",
      "109:\tlearn: 2047.7087189\ttest: 2064.0728173\tbest: 2064.0728173 (109)\ttotal: 3.7s\tremaining: 3.03s\n",
      "110:\tlearn: 2045.9928105\ttest: 2062.3673419\tbest: 2062.3673419 (110)\ttotal: 3.73s\tremaining: 2.99s\n",
      "111:\tlearn: 2043.4656731\ttest: 2059.7310503\tbest: 2059.7310503 (111)\ttotal: 3.77s\tremaining: 2.96s\n",
      "112:\tlearn: 2041.9679035\ttest: 2058.2273931\tbest: 2058.2273931 (112)\ttotal: 3.8s\tremaining: 2.92s\n",
      "113:\tlearn: 2040.3755739\ttest: 2056.7256520\tbest: 2056.7256520 (113)\ttotal: 3.83s\tremaining: 2.89s\n",
      "114:\tlearn: 2038.0996630\ttest: 2054.5651675\tbest: 2054.5651675 (114)\ttotal: 3.86s\tremaining: 2.85s\n",
      "115:\tlearn: 2035.7314085\ttest: 2052.1415625\tbest: 2052.1415625 (115)\ttotal: 3.89s\tremaining: 2.82s\n",
      "116:\tlearn: 2033.4151653\ttest: 2049.8503986\tbest: 2049.8503986 (116)\ttotal: 3.92s\tremaining: 2.78s\n",
      "117:\tlearn: 2032.0870549\ttest: 2048.6120841\tbest: 2048.6120841 (117)\ttotal: 3.95s\tremaining: 2.75s\n",
      "118:\tlearn: 2029.5680920\ttest: 2046.2251121\tbest: 2046.2251121 (118)\ttotal: 3.99s\tremaining: 2.71s\n",
      "119:\tlearn: 2028.0443684\ttest: 2044.7657384\tbest: 2044.7657384 (119)\ttotal: 4.02s\tremaining: 2.68s\n",
      "120:\tlearn: 2026.3094779\ttest: 2043.2616248\tbest: 2043.2616248 (120)\ttotal: 4.05s\tremaining: 2.64s\n",
      "121:\tlearn: 2024.8246025\ttest: 2041.8105509\tbest: 2041.8105509 (121)\ttotal: 4.08s\tremaining: 2.61s\n",
      "122:\tlearn: 2022.7186151\ttest: 2039.7176965\tbest: 2039.7176965 (122)\ttotal: 4.11s\tremaining: 2.57s\n",
      "123:\tlearn: 2021.0951424\ttest: 2038.2794409\tbest: 2038.2794409 (123)\ttotal: 4.14s\tremaining: 2.54s\n",
      "124:\tlearn: 2019.6211645\ttest: 2036.8856946\tbest: 2036.8856946 (124)\ttotal: 4.17s\tremaining: 2.5s\n",
      "125:\tlearn: 2018.1910573\ttest: 2035.4801264\tbest: 2035.4801264 (125)\ttotal: 4.21s\tremaining: 2.47s\n",
      "126:\tlearn: 2017.1191592\ttest: 2034.4819167\tbest: 2034.4819167 (126)\ttotal: 4.24s\tremaining: 2.44s\n",
      "127:\tlearn: 2015.7696367\ttest: 2033.1808265\tbest: 2033.1808265 (127)\ttotal: 4.27s\tremaining: 2.4s\n",
      "128:\tlearn: 2014.0300224\ttest: 2031.5119882\tbest: 2031.5119882 (128)\ttotal: 4.31s\tremaining: 2.37s\n",
      "129:\tlearn: 2012.7680259\ttest: 2030.3347173\tbest: 2030.3347173 (129)\ttotal: 4.34s\tremaining: 2.34s\n",
      "130:\tlearn: 2011.1153280\ttest: 2028.6574310\tbest: 2028.6574310 (130)\ttotal: 4.38s\tremaining: 2.31s\n",
      "131:\tlearn: 2010.1087591\ttest: 2027.6769771\tbest: 2027.6769771 (131)\ttotal: 4.41s\tremaining: 2.27s\n",
      "132:\tlearn: 2008.3022778\ttest: 2025.9652579\tbest: 2025.9652579 (132)\ttotal: 4.45s\tremaining: 2.24s\n",
      "133:\tlearn: 2006.9366184\ttest: 2024.6394975\tbest: 2024.6394975 (133)\ttotal: 4.48s\tremaining: 2.21s\n",
      "134:\tlearn: 2005.4655523\ttest: 2023.2867199\tbest: 2023.2867199 (134)\ttotal: 4.51s\tremaining: 2.17s\n",
      "135:\tlearn: 2003.8210121\ttest: 2021.6355668\tbest: 2021.6355668 (135)\ttotal: 4.54s\tremaining: 2.14s\n",
      "136:\tlearn: 2002.2849330\ttest: 2020.1919630\tbest: 2020.1919630 (136)\ttotal: 4.58s\tremaining: 2.11s\n",
      "137:\tlearn: 2000.4058525\ttest: 2018.4513967\tbest: 2018.4513967 (137)\ttotal: 4.61s\tremaining: 2.07s\n",
      "138:\tlearn: 1999.3506857\ttest: 2017.5055996\tbest: 2017.5055996 (138)\ttotal: 4.64s\tremaining: 2.04s\n",
      "139:\tlearn: 1997.4090590\ttest: 2015.5886281\tbest: 2015.5886281 (139)\ttotal: 4.68s\tremaining: 2s\n",
      "140:\tlearn: 1996.1458173\ttest: 2014.4191781\tbest: 2014.4191781 (140)\ttotal: 4.71s\tremaining: 1.97s\n",
      "141:\tlearn: 1994.9650280\ttest: 2013.2632580\tbest: 2013.2632580 (141)\ttotal: 4.74s\tremaining: 1.94s\n",
      "142:\tlearn: 1994.0830273\ttest: 2012.2878262\tbest: 2012.2878262 (142)\ttotal: 4.77s\tremaining: 1.9s\n",
      "143:\tlearn: 1992.7667866\ttest: 2011.0284445\tbest: 2011.0284445 (143)\ttotal: 4.81s\tremaining: 1.87s\n",
      "144:\tlearn: 1991.4648965\ttest: 2009.8102580\tbest: 2009.8102580 (144)\ttotal: 4.84s\tremaining: 1.83s\n",
      "145:\tlearn: 1989.7840549\ttest: 2008.1587423\tbest: 2008.1587423 (145)\ttotal: 4.87s\tremaining: 1.8s\n",
      "146:\tlearn: 1988.2385672\ttest: 2006.5455761\tbest: 2006.5455761 (146)\ttotal: 4.91s\tremaining: 1.77s\n",
      "147:\tlearn: 1986.7470945\ttest: 2005.2665635\tbest: 2005.2665635 (147)\ttotal: 4.94s\tremaining: 1.73s\n",
      "148:\tlearn: 1985.1320339\ttest: 2003.6514103\tbest: 2003.6514103 (148)\ttotal: 4.97s\tremaining: 1.7s\n",
      "149:\tlearn: 1984.1162210\ttest: 2002.6262174\tbest: 2002.6262174 (149)\ttotal: 5s\tremaining: 1.67s\n",
      "150:\tlearn: 1982.9298684\ttest: 2001.4771688\tbest: 2001.4771688 (150)\ttotal: 5.04s\tremaining: 1.64s\n",
      "151:\tlearn: 1981.6399331\ttest: 2000.2972878\tbest: 2000.2972878 (151)\ttotal: 5.07s\tremaining: 1.6s\n",
      "152:\tlearn: 1980.3250424\ttest: 1999.0726572\tbest: 1999.0726572 (152)\ttotal: 5.1s\tremaining: 1.57s\n",
      "153:\tlearn: 1979.2156224\ttest: 1997.9591308\tbest: 1997.9591308 (153)\ttotal: 5.13s\tremaining: 1.53s\n",
      "154:\tlearn: 1978.3736998\ttest: 1997.1849730\tbest: 1997.1849730 (154)\ttotal: 5.17s\tremaining: 1.5s\n",
      "155:\tlearn: 1976.9571938\ttest: 1995.9515081\tbest: 1995.9515081 (155)\ttotal: 5.2s\tremaining: 1.47s\n",
      "156:\tlearn: 1976.0245792\ttest: 1995.1111822\tbest: 1995.1111822 (156)\ttotal: 5.23s\tremaining: 1.43s\n",
      "157:\tlearn: 1974.9724726\ttest: 1994.0855907\tbest: 1994.0855907 (157)\ttotal: 5.26s\tremaining: 1.4s\n",
      "158:\tlearn: 1974.1122720\ttest: 1993.3662160\tbest: 1993.3662160 (158)\ttotal: 5.29s\tremaining: 1.36s\n",
      "159:\tlearn: 1973.1174835\ttest: 1992.3709877\tbest: 1992.3709877 (159)\ttotal: 5.32s\tremaining: 1.33s\n",
      "160:\tlearn: 1972.0249811\ttest: 1991.3355570\tbest: 1991.3355570 (160)\ttotal: 5.35s\tremaining: 1.3s\n",
      "161:\tlearn: 1971.1967440\ttest: 1990.4454775\tbest: 1990.4454775 (161)\ttotal: 5.39s\tremaining: 1.26s\n",
      "162:\tlearn: 1970.2617590\ttest: 1989.4597681\tbest: 1989.4597681 (162)\ttotal: 5.42s\tremaining: 1.23s\n",
      "163:\tlearn: 1969.2866981\ttest: 1988.7315626\tbest: 1988.7315626 (163)\ttotal: 5.45s\tremaining: 1.2s\n",
      "164:\tlearn: 1968.4477947\ttest: 1987.8866989\tbest: 1987.8866989 (164)\ttotal: 5.5s\tremaining: 1.17s\n",
      "165:\tlearn: 1967.9036517\ttest: 1987.2878902\tbest: 1987.2878902 (165)\ttotal: 5.53s\tremaining: 1.13s\n",
      "166:\tlearn: 1967.1591343\ttest: 1986.5937714\tbest: 1986.5937714 (166)\ttotal: 5.56s\tremaining: 1.1s\n",
      "167:\tlearn: 1966.0869028\ttest: 1985.5139044\tbest: 1985.5139044 (167)\ttotal: 5.6s\tremaining: 1.06s\n",
      "168:\tlearn: 1965.2419866\ttest: 1984.7520278\tbest: 1984.7520278 (168)\ttotal: 5.63s\tremaining: 1.03s\n",
      "169:\tlearn: 1964.3170849\ttest: 1984.1036369\tbest: 1984.1036369 (169)\ttotal: 5.66s\tremaining: 998ms\n",
      "170:\tlearn: 1963.2071134\ttest: 1983.0448064\tbest: 1983.0448064 (170)\ttotal: 5.69s\tremaining: 965ms\n",
      "171:\tlearn: 1962.3253825\ttest: 1982.2378643\tbest: 1982.2378643 (171)\ttotal: 5.72s\tremaining: 931ms\n",
      "172:\tlearn: 1961.3724447\ttest: 1981.4477778\tbest: 1981.4477778 (172)\ttotal: 5.75s\tremaining: 898ms\n",
      "173:\tlearn: 1960.3967785\ttest: 1980.1864272\tbest: 1980.1864272 (173)\ttotal: 5.79s\tremaining: 865ms\n",
      "174:\tlearn: 1959.4211747\ttest: 1978.9673010\tbest: 1978.9673010 (174)\ttotal: 5.82s\tremaining: 831ms\n"
     ]
    },
    {
     "name": "stdout",
     "output_type": "stream",
     "text": [
      "175:\tlearn: 1958.8164850\ttest: 1978.4729767\tbest: 1978.4729767 (175)\ttotal: 5.85s\tremaining: 797ms\n",
      "176:\tlearn: 1957.9196638\ttest: 1977.6572063\tbest: 1977.6572063 (176)\ttotal: 5.88s\tremaining: 764ms\n",
      "177:\tlearn: 1956.7880722\ttest: 1976.6455197\tbest: 1976.6455197 (177)\ttotal: 5.91s\tremaining: 731ms\n",
      "178:\tlearn: 1955.9891601\ttest: 1975.8615502\tbest: 1975.8615502 (178)\ttotal: 5.94s\tremaining: 697ms\n",
      "179:\tlearn: 1954.9341297\ttest: 1974.9633002\tbest: 1974.9633002 (179)\ttotal: 5.97s\tremaining: 664ms\n",
      "180:\tlearn: 1953.8828953\ttest: 1974.0265344\tbest: 1974.0265344 (180)\ttotal: 6.01s\tremaining: 631ms\n",
      "181:\tlearn: 1952.9105885\ttest: 1973.0280358\tbest: 1973.0280358 (181)\ttotal: 6.04s\tremaining: 598ms\n",
      "182:\tlearn: 1952.0428946\ttest: 1972.1669661\tbest: 1972.1669661 (182)\ttotal: 6.08s\tremaining: 565ms\n",
      "183:\tlearn: 1951.4727425\ttest: 1971.7961272\tbest: 1971.7961272 (183)\ttotal: 6.11s\tremaining: 531ms\n",
      "184:\tlearn: 1951.0106392\ttest: 1971.3324516\tbest: 1971.3324516 (184)\ttotal: 6.14s\tremaining: 498ms\n",
      "185:\tlearn: 1950.0065530\ttest: 1970.4487078\tbest: 1970.4487078 (185)\ttotal: 6.17s\tremaining: 464ms\n",
      "186:\tlearn: 1949.3443454\ttest: 1969.9252340\tbest: 1969.9252340 (186)\ttotal: 6.2s\tremaining: 431ms\n",
      "187:\tlearn: 1948.2683127\ttest: 1968.9200573\tbest: 1968.9200573 (187)\ttotal: 6.23s\tremaining: 398ms\n",
      "188:\tlearn: 1946.9594817\ttest: 1967.8098822\tbest: 1967.8098822 (188)\ttotal: 6.26s\tremaining: 365ms\n",
      "189:\tlearn: 1946.4491282\ttest: 1967.4910151\tbest: 1967.4910151 (189)\ttotal: 6.29s\tremaining: 331ms\n",
      "190:\tlearn: 1945.5059714\ttest: 1966.6880153\tbest: 1966.6880153 (190)\ttotal: 6.33s\tremaining: 298ms\n",
      "191:\tlearn: 1944.3565327\ttest: 1965.6384084\tbest: 1965.6384084 (191)\ttotal: 6.36s\tremaining: 265ms\n",
      "192:\tlearn: 1943.7194672\ttest: 1965.0196460\tbest: 1965.0196460 (192)\ttotal: 6.39s\tremaining: 232ms\n",
      "193:\tlearn: 1942.9664037\ttest: 1964.2798668\tbest: 1964.2798668 (193)\ttotal: 6.42s\tremaining: 199ms\n",
      "194:\tlearn: 1942.0085392\ttest: 1963.5213090\tbest: 1963.5213090 (194)\ttotal: 6.45s\tremaining: 165ms\n",
      "195:\tlearn: 1941.1688129\ttest: 1962.7171414\tbest: 1962.7171414 (195)\ttotal: 6.49s\tremaining: 132ms\n",
      "196:\tlearn: 1940.0432599\ttest: 1961.7166876\tbest: 1961.7166876 (196)\ttotal: 6.52s\tremaining: 99.3ms\n",
      "197:\tlearn: 1939.2347766\ttest: 1960.8606053\tbest: 1960.8606053 (197)\ttotal: 6.56s\tremaining: 66.2ms\n",
      "198:\tlearn: 1938.7064766\ttest: 1960.4478849\tbest: 1960.4478849 (198)\ttotal: 6.59s\tremaining: 33.1ms\n",
      "199:\tlearn: 1937.9761425\ttest: 1959.7755063\tbest: 1959.7755063 (199)\ttotal: 6.62s\tremaining: 0us\n",
      "\n",
      "bestTest = 1959.775506\n",
      "bestIteration = 199\n",
      "\n",
      "CPU times: user 4 µs, sys: 0 ns, total: 4 µs\n",
      "Wall time: 8.34 µs\n"
     ]
    }
   ],
   "source": [
    "# crear objeto del modelo CatBoost Regressor, entrenarlo y evaluarlo\n",
    "\n",
    "model_catboost = CatBoostRegressor(\n",
    "    loss_function='RMSE',\n",
    "    iterations=200,\n",
    "    eval_metric='RMSE',\n",
    "    leaf_estimation_method='Gradient',\n",
    "    learning_rate=0.05\n",
    ")\n",
    "\n",
    "model_catboost.fit(X_train, y_train, eval_set=(X_test, y_test))\n",
    "%time"
   ]
  },
  {
   "cell_type": "code",
   "execution_count": 61,
   "metadata": {},
   "outputs": [
    {
     "data": {
      "text/plain": [
       "1959.775506331511"
      ]
     },
     "execution_count": 61,
     "metadata": {},
     "output_type": "execute_result"
    }
   ],
   "source": [
    "# probar modelo con el conjunto de prueba\n",
    "\n",
    "catb_pred = model_catboost.predict(X_test)\n",
    "rmse_catb = mean_squared_error(y_test, catb_pred)**0.5\n",
    "rmse_catb"
   ]
  },
  {
   "cell_type": "code",
   "execution_count": null,
   "metadata": {},
   "outputs": [],
   "source": []
  },
  {
   "cell_type": "markdown",
   "metadata": {},
   "source": [
    "<u>**Modelo LightGMB**</u>"
   ]
  },
  {
   "cell_type": "code",
   "execution_count": 62,
   "metadata": {},
   "outputs": [
    {
     "name": "stdout",
     "output_type": "stream",
     "text": [
      "[1]\tvalid_0's l2: 1.8429e+07\n",
      "[2]\tvalid_0's l2: 1.61625e+07\n",
      "[3]\tvalid_0's l2: 1.43138e+07\n",
      "[4]\tvalid_0's l2: 1.27997e+07\n",
      "[5]\tvalid_0's l2: 1.15377e+07\n",
      "[6]\tvalid_0's l2: 1.04958e+07\n",
      "[7]\tvalid_0's l2: 9.61198e+06\n",
      "[8]\tvalid_0's l2: 8.89759e+06\n",
      "[9]\tvalid_0's l2: 8.24722e+06\n",
      "[10]\tvalid_0's l2: 7.69779e+06\n",
      "[11]\tvalid_0's l2: 7.27811e+06\n",
      "[12]\tvalid_0's l2: 6.87723e+06\n",
      "[13]\tvalid_0's l2: 6.54483e+06\n",
      "[14]\tvalid_0's l2: 6.24724e+06\n",
      "[15]\tvalid_0's l2: 6.00825e+06\n",
      "[16]\tvalid_0's l2: 5.79203e+06\n",
      "[17]\tvalid_0's l2: 5.61359e+06\n",
      "[18]\tvalid_0's l2: 5.45556e+06\n",
      "[19]\tvalid_0's l2: 5.30084e+06\n",
      "[20]\tvalid_0's l2: 5.15616e+06\n",
      "[21]\tvalid_0's l2: 5.03062e+06\n",
      "[22]\tvalid_0's l2: 4.92631e+06\n",
      "[23]\tvalid_0's l2: 4.81755e+06\n",
      "[24]\tvalid_0's l2: 4.71459e+06\n",
      "[25]\tvalid_0's l2: 4.63266e+06\n",
      "[26]\tvalid_0's l2: 4.55025e+06\n",
      "[27]\tvalid_0's l2: 4.47694e+06\n",
      "[28]\tvalid_0's l2: 4.41642e+06\n",
      "[29]\tvalid_0's l2: 4.35995e+06\n",
      "[30]\tvalid_0's l2: 4.30136e+06\n",
      "[31]\tvalid_0's l2: 4.25288e+06\n",
      "[32]\tvalid_0's l2: 4.20241e+06\n",
      "[33]\tvalid_0's l2: 4.1573e+06\n",
      "[34]\tvalid_0's l2: 4.11997e+06\n",
      "[35]\tvalid_0's l2: 4.08681e+06\n",
      "[36]\tvalid_0's l2: 4.05699e+06\n",
      "[37]\tvalid_0's l2: 4.02926e+06\n",
      "[38]\tvalid_0's l2: 4.00477e+06\n",
      "[39]\tvalid_0's l2: 3.98086e+06\n",
      "[40]\tvalid_0's l2: 3.95648e+06\n",
      "[41]\tvalid_0's l2: 3.9335e+06\n",
      "[42]\tvalid_0's l2: 3.9154e+06\n",
      "[43]\tvalid_0's l2: 3.897e+06\n",
      "[44]\tvalid_0's l2: 3.87838e+06\n",
      "[45]\tvalid_0's l2: 3.86076e+06\n",
      "[46]\tvalid_0's l2: 3.84106e+06\n",
      "[47]\tvalid_0's l2: 3.82303e+06\n",
      "[48]\tvalid_0's l2: 3.80817e+06\n",
      "[49]\tvalid_0's l2: 3.79437e+06\n",
      "[50]\tvalid_0's l2: 3.7797e+06\n",
      "[51]\tvalid_0's l2: 3.76602e+06\n",
      "[52]\tvalid_0's l2: 3.75482e+06\n",
      "[53]\tvalid_0's l2: 3.74278e+06\n",
      "[54]\tvalid_0's l2: 3.73317e+06\n",
      "[55]\tvalid_0's l2: 3.72096e+06\n",
      "[56]\tvalid_0's l2: 3.70919e+06\n",
      "[57]\tvalid_0's l2: 3.69902e+06\n",
      "[58]\tvalid_0's l2: 3.68953e+06\n",
      "[59]\tvalid_0's l2: 3.68024e+06\n",
      "[60]\tvalid_0's l2: 3.66937e+06\n",
      "[61]\tvalid_0's l2: 3.66219e+06\n",
      "[62]\tvalid_0's l2: 3.6533e+06\n",
      "[63]\tvalid_0's l2: 3.64636e+06\n",
      "[64]\tvalid_0's l2: 3.63724e+06\n",
      "[65]\tvalid_0's l2: 3.6325e+06\n",
      "[66]\tvalid_0's l2: 3.62711e+06\n",
      "[67]\tvalid_0's l2: 3.62057e+06\n",
      "[68]\tvalid_0's l2: 3.61311e+06\n",
      "[69]\tvalid_0's l2: 3.60649e+06\n",
      "[70]\tvalid_0's l2: 3.60078e+06\n",
      "[71]\tvalid_0's l2: 3.5961e+06\n",
      "[72]\tvalid_0's l2: 3.59034e+06\n",
      "[73]\tvalid_0's l2: 3.58285e+06\n",
      "[74]\tvalid_0's l2: 3.57801e+06\n",
      "[75]\tvalid_0's l2: 3.57418e+06\n",
      "[76]\tvalid_0's l2: 3.57007e+06\n",
      "[77]\tvalid_0's l2: 3.5658e+06\n",
      "[78]\tvalid_0's l2: 3.56348e+06\n",
      "[79]\tvalid_0's l2: 3.55993e+06\n",
      "[80]\tvalid_0's l2: 3.55625e+06\n",
      "[81]\tvalid_0's l2: 3.55309e+06\n",
      "[82]\tvalid_0's l2: 3.54721e+06\n",
      "[83]\tvalid_0's l2: 3.54263e+06\n",
      "[84]\tvalid_0's l2: 3.53689e+06\n",
      "[85]\tvalid_0's l2: 3.53192e+06\n",
      "[86]\tvalid_0's l2: 3.52956e+06\n",
      "[87]\tvalid_0's l2: 3.52673e+06\n",
      "[88]\tvalid_0's l2: 3.52422e+06\n",
      "[89]\tvalid_0's l2: 3.51996e+06\n",
      "[90]\tvalid_0's l2: 3.5174e+06\n",
      "[91]\tvalid_0's l2: 3.5144e+06\n",
      "[92]\tvalid_0's l2: 3.5124e+06\n",
      "[93]\tvalid_0's l2: 3.50849e+06\n",
      "[94]\tvalid_0's l2: 3.50498e+06\n",
      "[95]\tvalid_0's l2: 3.50247e+06\n",
      "[96]\tvalid_0's l2: 3.50007e+06\n",
      "[97]\tvalid_0's l2: 3.49518e+06\n",
      "[98]\tvalid_0's l2: 3.49308e+06\n",
      "[99]\tvalid_0's l2: 3.49127e+06\n",
      "[100]\tvalid_0's l2: 3.48819e+06\n",
      "CPU times: user 4 µs, sys: 0 ns, total: 4 µs\n",
      "Wall time: 6.91 µs\n"
     ]
    }
   ],
   "source": [
    "# crear objeto del modelo CatBoost Regressor, entrenarlo y evaluarlo\n",
    "\n",
    "model_lgbm = LGBMRegressor(\n",
    "    boosting_type='gbdt',\n",
    "    random_state=42,\n",
    "    num_leaves=25,\n",
    "    max_depth=10,\n",
    "    learning_rate=0.1,\n",
    "    n_estimators=100,\n",
    "    reg_alpha=0.0,\n",
    "    reg_lambda=0.0\n",
    ")\n",
    "\n",
    "model_lgbm.fit(X_train, y_train, eval_set=(X_test,y_test))\n",
    "%time"
   ]
  },
  {
   "cell_type": "code",
   "execution_count": 63,
   "metadata": {},
   "outputs": [
    {
     "data": {
      "text/plain": [
       "1867.6704462406374"
      ]
     },
     "execution_count": 63,
     "metadata": {},
     "output_type": "execute_result"
    }
   ],
   "source": [
    "# probar modelo con el conjunto de prueba\n",
    "\n",
    "lgbm_pred = model_lgbm.predict(X_test)\n",
    "rmse_lgbm = mean_squared_error(y_test, lgbm_pred)**0.5\n",
    "\n",
    "rmse_lgbm"
   ]
  },
  {
   "cell_type": "code",
   "execution_count": null,
   "metadata": {
    "scrolled": false
   },
   "outputs": [],
   "source": []
  },
  {
   "cell_type": "markdown",
   "metadata": {},
   "source": [
    "## Análisis del modelo"
   ]
  },
  {
   "cell_type": "code",
   "execution_count": 64,
   "metadata": {},
   "outputs": [
    {
     "name": "stdout",
     "output_type": "stream",
     "text": [
      "Model RSME\n",
      "Linear Regressor: 3281.6790215313913\n",
      "Random Forest Regressor: 2037.365616699744\n",
      "CatBoost: 1959.775506331511\n",
      "LGBM Regressor: 1867.6704462406374\n"
     ]
    }
   ],
   "source": [
    "# comparar resultados del RSME de cada modelo\n",
    "\n",
    "print('Model','RSME')\n",
    "print('Linear Regressor:',rmse_lr)\n",
    "print('Random Forest Regressor:',rmse_rfr)\n",
    "print('CatBoost:',rmse_catb)\n",
    "print('LGBM Regressor:',rmse_lgbm)"
   ]
  },
  {
   "cell_type": "code",
   "execution_count": null,
   "metadata": {},
   "outputs": [],
   "source": []
  },
  {
   "cell_type": "markdown",
   "metadata": {},
   "source": [
    "<u>**Conclusión**</u>"
   ]
  },
  {
   "cell_type": "markdown",
   "metadata": {},
   "source": [
    "Comparando los resultados obtenidos del RMSE y el tiempo de ejecución de cada modelo, notamos que el modelo con el menor RMSE y con menor tiempo fue el modelo de LGBM Regressor.\n"
   ]
  },
  {
   "cell_type": "markdown",
   "metadata": {},
   "source": [
    "Para llegar a esta conclusión, primero llevamos a cabo la etapa de pre procesamiento de los datos, en el cual limpiamos nuestro dataset, eliminamos columnas de baja o nula importancia para nuestro modelo, quitamos duplicados, entre otros pasos.\n",
    "\n",
    "Luego, pasamos al entrenamiento del modelo, pero como tenía variables numéricas y categóricas, fue necesario convertir estas últimas en numéricas utilizando el método OHE (con dummy) antes de entrenar el modelo. Después, para mejorar aún más la precisión de los modelos, seleccionamos las mejores 20 características del dataset para entrenar los modelos de regresión lineal, bosque aletorio de regressión, catboost y lightgbm.\n",
    "\n",
    "Para terminar, utilizamos la métrica RMSE para comparar la calidad de los modelos y el comando `%time` para medir la velocidad de ejecución de los modelos, resultando el de LGBM como el más rápido y con mejor RMSE."
   ]
  },
  {
   "cell_type": "code",
   "execution_count": null,
   "metadata": {},
   "outputs": [],
   "source": []
  },
  {
   "cell_type": "markdown",
   "metadata": {},
   "source": [
    "# Lista de control"
   ]
  },
  {
   "cell_type": "markdown",
   "metadata": {},
   "source": [
    "Escribe 'x' para verificar. Luego presiona Shift+Enter"
   ]
  },
  {
   "cell_type": "markdown",
   "metadata": {},
   "source": [
    "- [x]  Jupyter Notebook está abierto\n",
    "- [ ]  El código no tiene errores\n",
    "- [ ]  Las celdas con el código han sido colocadas en orden de ejecución\n",
    "- [ ]  Los datos han sido descargados y preparados\n",
    "- [ ]  Los modelos han sido entrenados\n",
    "- [ ]  Se realizó el análisis de velocidad y calidad de los modelos"
   ]
  },
  {
   "cell_type": "code",
   "execution_count": null,
   "metadata": {},
   "outputs": [],
   "source": []
  }
 ],
 "metadata": {
  "ExecuteTimeLog": [
   {
    "duration": 457,
    "start_time": "2024-06-24T04:59:30.225Z"
   },
   {
    "duration": 4,
    "start_time": "2024-06-24T05:03:49.729Z"
   },
   {
    "duration": 10098,
    "start_time": "2024-06-24T05:04:02.602Z"
   },
   {
    "duration": 3,
    "start_time": "2024-06-24T05:05:08.720Z"
   },
   {
    "duration": 4,
    "start_time": "2024-06-24T05:05:20.942Z"
   },
   {
    "duration": 4390,
    "start_time": "2024-06-24T05:05:46.391Z"
   },
   {
    "duration": 4,
    "start_time": "2024-06-24T05:14:34.791Z"
   },
   {
    "duration": 4,
    "start_time": "2024-06-24T05:14:50.662Z"
   },
   {
    "duration": 8,
    "start_time": "2024-06-24T05:16:42.416Z"
   },
   {
    "duration": 5,
    "start_time": "2024-06-24T05:16:50.144Z"
   },
   {
    "duration": 7,
    "start_time": "2024-06-24T05:17:01.909Z"
   },
   {
    "duration": 5,
    "start_time": "2024-06-24T05:17:08.263Z"
   },
   {
    "duration": 5,
    "start_time": "2024-06-24T05:17:12.188Z"
   },
   {
    "duration": 4,
    "start_time": "2024-06-24T05:18:34.946Z"
   },
   {
    "duration": 6,
    "start_time": "2024-06-24T05:18:35.592Z"
   },
   {
    "duration": 4,
    "start_time": "2024-06-24T05:18:38.172Z"
   },
   {
    "duration": 5,
    "start_time": "2024-06-24T05:18:48.289Z"
   },
   {
    "duration": 5,
    "start_time": "2024-06-24T05:18:54.349Z"
   },
   {
    "duration": 4616,
    "start_time": "2024-06-24T05:19:02.333Z"
   },
   {
    "duration": 8698,
    "start_time": "2024-06-24T05:19:14.358Z"
   },
   {
    "duration": 5011,
    "start_time": "2024-06-25T21:52:46.798Z"
   },
   {
    "duration": 1181,
    "start_time": "2024-06-25T21:53:26.764Z"
   },
   {
    "duration": 883,
    "start_time": "2024-06-25T21:53:53.022Z"
   },
   {
    "duration": 28,
    "start_time": "2024-06-25T21:54:35.566Z"
   },
   {
    "duration": 20,
    "start_time": "2024-06-25T21:54:40.750Z"
   },
   {
    "duration": 33,
    "start_time": "2024-06-25T21:55:02.493Z"
   },
   {
    "duration": 146,
    "start_time": "2024-06-25T21:56:22.193Z"
   },
   {
    "duration": 149,
    "start_time": "2024-06-25T21:56:52.744Z"
   },
   {
    "duration": 255,
    "start_time": "2024-06-25T21:57:54.813Z"
   },
   {
    "duration": 1101,
    "start_time": "2024-06-25T22:01:04.856Z"
   },
   {
    "duration": 25,
    "start_time": "2024-06-25T22:01:54.225Z"
   },
   {
    "duration": 40681,
    "start_time": "2024-06-25T22:03:13.167Z"
   },
   {
    "duration": 133,
    "start_time": "2024-06-25T22:05:07.136Z"
   },
   {
    "duration": 118,
    "start_time": "2024-06-25T22:05:32.787Z"
   },
   {
    "duration": 113,
    "start_time": "2024-06-25T22:05:48.373Z"
   },
   {
    "duration": 41250,
    "start_time": "2024-06-25T22:07:07.318Z"
   },
   {
    "duration": 107,
    "start_time": "2024-06-25T22:07:48.572Z"
   },
   {
    "duration": 10,
    "start_time": "2024-06-25T22:14:24.361Z"
   },
   {
    "duration": 23,
    "start_time": "2024-06-25T22:15:09.076Z"
   },
   {
    "duration": 24,
    "start_time": "2024-06-25T22:15:16.327Z"
   },
   {
    "duration": 40,
    "start_time": "2024-06-25T22:15:29.667Z"
   },
   {
    "duration": 21,
    "start_time": "2024-06-25T22:15:35.429Z"
   },
   {
    "duration": 46,
    "start_time": "2024-06-25T22:15:42.498Z"
   },
   {
    "duration": 30,
    "start_time": "2024-06-25T23:23:06.642Z"
   },
   {
    "duration": 27,
    "start_time": "2024-06-25T23:28:41.069Z"
   },
   {
    "duration": 26,
    "start_time": "2024-06-25T23:28:59.988Z"
   },
   {
    "duration": 13,
    "start_time": "2024-06-25T23:29:05.288Z"
   },
   {
    "duration": 27,
    "start_time": "2024-06-25T23:29:41.986Z"
   },
   {
    "duration": 452,
    "start_time": "2024-06-25T23:29:51.730Z"
   },
   {
    "duration": 55,
    "start_time": "2024-06-25T23:30:09.664Z"
   },
   {
    "duration": 52,
    "start_time": "2024-06-25T23:30:44.516Z"
   },
   {
    "duration": 13,
    "start_time": "2024-06-25T23:30:51.402Z"
   },
   {
    "duration": 13,
    "start_time": "2024-06-25T23:31:15.509Z"
   },
   {
    "duration": 43,
    "start_time": "2024-06-25T23:32:02.358Z"
   },
   {
    "duration": 32,
    "start_time": "2024-06-25T23:32:07.691Z"
   },
   {
    "duration": 6,
    "start_time": "2024-06-25T23:32:42.914Z"
   },
   {
    "duration": 32,
    "start_time": "2024-06-25T23:32:53.040Z"
   },
   {
    "duration": 38,
    "start_time": "2024-06-25T23:33:02.766Z"
   },
   {
    "duration": 44,
    "start_time": "2024-06-25T23:33:44.504Z"
   },
   {
    "duration": 14,
    "start_time": "2024-06-25T23:36:48.156Z"
   },
   {
    "duration": 12,
    "start_time": "2024-06-25T23:37:02.188Z"
   },
   {
    "duration": 145,
    "start_time": "2024-06-25T23:37:44.684Z"
   },
   {
    "duration": 29,
    "start_time": "2024-06-25T23:37:49.363Z"
   },
   {
    "duration": 18,
    "start_time": "2024-06-25T23:39:51.837Z"
   },
   {
    "duration": 7,
    "start_time": "2024-06-25T23:40:02.088Z"
   },
   {
    "duration": 28,
    "start_time": "2024-06-25T23:40:12.175Z"
   },
   {
    "duration": 7,
    "start_time": "2024-06-25T23:40:17.806Z"
   },
   {
    "duration": 7,
    "start_time": "2024-06-25T23:40:23.363Z"
   },
   {
    "duration": 7,
    "start_time": "2024-06-25T23:40:26.483Z"
   },
   {
    "duration": 12,
    "start_time": "2024-06-25T23:40:46.890Z"
   },
   {
    "duration": 14,
    "start_time": "2024-06-25T23:40:53.931Z"
   },
   {
    "duration": 11,
    "start_time": "2024-06-25T23:41:09.378Z"
   },
   {
    "duration": 9,
    "start_time": "2024-06-25T23:43:39.437Z"
   },
   {
    "duration": 13,
    "start_time": "2024-06-25T23:43:44.984Z"
   },
   {
    "duration": 10,
    "start_time": "2024-06-25T23:43:57.599Z"
   },
   {
    "duration": 29,
    "start_time": "2024-06-25T23:44:08.448Z"
   },
   {
    "duration": 28,
    "start_time": "2024-06-25T23:44:15.763Z"
   },
   {
    "duration": 27,
    "start_time": "2024-06-25T23:44:24.162Z"
   },
   {
    "duration": 28,
    "start_time": "2024-06-25T23:44:44.275Z"
   },
   {
    "duration": 40,
    "start_time": "2024-06-25T23:44:47.344Z"
   },
   {
    "duration": 48,
    "start_time": "2024-06-25T23:45:20.720Z"
   },
   {
    "duration": 26,
    "start_time": "2024-06-25T23:48:58.583Z"
   },
   {
    "duration": 6,
    "start_time": "2024-06-25T23:49:18.373Z"
   },
   {
    "duration": 12,
    "start_time": "2024-06-25T23:49:34.096Z"
   },
   {
    "duration": 12,
    "start_time": "2024-06-25T23:49:50.301Z"
   },
   {
    "duration": 169,
    "start_time": "2024-06-25T23:51:36.406Z"
   },
   {
    "duration": 80,
    "start_time": "2024-06-25T23:52:02.045Z"
   },
   {
    "duration": 87,
    "start_time": "2024-06-25T23:52:09.559Z"
   },
   {
    "duration": 82,
    "start_time": "2024-06-25T23:52:24.292Z"
   },
   {
    "duration": 100,
    "start_time": "2024-06-25T23:52:42.645Z"
   },
   {
    "duration": 89,
    "start_time": "2024-06-25T23:53:58.860Z"
   },
   {
    "duration": 93,
    "start_time": "2024-06-25T23:54:37.135Z"
   },
   {
    "duration": 80,
    "start_time": "2024-06-25T23:54:54.229Z"
   },
   {
    "duration": 101,
    "start_time": "2024-06-25T23:55:00.300Z"
   },
   {
    "duration": 127,
    "start_time": "2024-06-25T23:55:59.549Z"
   },
   {
    "duration": 22,
    "start_time": "2024-06-25T23:56:24.923Z"
   },
   {
    "duration": 24,
    "start_time": "2024-06-25T23:56:28.768Z"
   },
   {
    "duration": 426,
    "start_time": "2024-06-25T23:56:34.396Z"
   },
   {
    "duration": 302,
    "start_time": "2024-06-25T23:56:40.170Z"
   },
   {
    "duration": 22,
    "start_time": "2024-06-25T23:57:11.805Z"
   },
   {
    "duration": 382,
    "start_time": "2024-06-25T23:57:20.160Z"
   },
   {
    "duration": 100,
    "start_time": "2024-06-25T23:57:38.442Z"
   },
   {
    "duration": 25,
    "start_time": "2024-06-25T23:58:12.916Z"
   },
   {
    "duration": 22,
    "start_time": "2024-06-25T23:58:17.715Z"
   },
   {
    "duration": 371,
    "start_time": "2024-06-25T23:59:03.150Z"
   },
   {
    "duration": 329,
    "start_time": "2024-06-25T23:59:08.281Z"
   },
   {
    "duration": 422,
    "start_time": "2024-06-25T23:59:12.957Z"
   },
   {
    "duration": 6,
    "start_time": "2024-06-26T00:00:31.874Z"
   },
   {
    "duration": 113,
    "start_time": "2024-06-26T00:04:00.672Z"
   },
   {
    "duration": 382,
    "start_time": "2024-06-26T00:05:01.218Z"
   },
   {
    "duration": 99,
    "start_time": "2024-06-26T00:05:16.217Z"
   },
   {
    "duration": 166,
    "start_time": "2024-06-26T00:06:15.587Z"
   },
   {
    "duration": 23,
    "start_time": "2024-06-26T00:42:38.907Z"
   },
   {
    "duration": 7,
    "start_time": "2024-06-26T00:42:43.452Z"
   },
   {
    "duration": 5,
    "start_time": "2024-06-26T00:42:54.590Z"
   },
   {
    "duration": 46,
    "start_time": "2024-06-26T00:43:08.125Z"
   },
   {
    "duration": 6,
    "start_time": "2024-06-26T00:43:13.172Z"
   },
   {
    "duration": 8,
    "start_time": "2024-06-26T00:43:42.238Z"
   },
   {
    "duration": 8,
    "start_time": "2024-06-26T00:43:51.820Z"
   },
   {
    "duration": 8,
    "start_time": "2024-06-26T00:45:50.229Z"
   },
   {
    "duration": 25,
    "start_time": "2024-06-26T00:46:06.359Z"
   },
   {
    "duration": 28,
    "start_time": "2024-06-26T00:46:16.756Z"
   },
   {
    "duration": 7,
    "start_time": "2024-06-26T00:46:26.248Z"
   },
   {
    "duration": 1408,
    "start_time": "2024-06-26T00:47:55.996Z"
   },
   {
    "duration": 7,
    "start_time": "2024-06-26T00:48:38.848Z"
   },
   {
    "duration": 960,
    "start_time": "2024-06-26T00:48:52.380Z"
   },
   {
    "duration": 848,
    "start_time": "2024-06-26T00:57:08.819Z"
   },
   {
    "duration": 868,
    "start_time": "2024-06-26T00:58:17.817Z"
   },
   {
    "duration": 947,
    "start_time": "2024-06-26T01:00:57.648Z"
   },
   {
    "duration": 913,
    "start_time": "2024-06-26T01:01:41.159Z"
   },
   {
    "duration": 1111,
    "start_time": "2024-06-26T01:01:47.142Z"
   },
   {
    "duration": 277,
    "start_time": "2024-06-26T01:20:33.014Z"
   },
   {
    "duration": 14,
    "start_time": "2024-06-26T01:23:13.034Z"
   },
   {
    "duration": 4,
    "start_time": "2024-06-26T01:37:44.565Z"
   },
   {
    "duration": 7,
    "start_time": "2024-06-26T01:45:28.366Z"
   },
   {
    "duration": 6,
    "start_time": "2024-06-26T01:45:37.532Z"
   },
   {
    "duration": 5683,
    "start_time": "2024-06-28T23:45:09.056Z"
   },
   {
    "duration": 70,
    "start_time": "2024-06-28T23:45:52.535Z"
   },
   {
    "duration": 7,
    "start_time": "2024-06-28T23:46:08.998Z"
   },
   {
    "duration": 7,
    "start_time": "2024-06-28T23:46:22.968Z"
   },
   {
    "duration": 36,
    "start_time": "2024-06-29T00:01:35.790Z"
   },
   {
    "duration": 8,
    "start_time": "2024-06-29T00:01:44.751Z"
   },
   {
    "duration": 798,
    "start_time": "2024-06-29T00:01:44.763Z"
   },
   {
    "duration": 840,
    "start_time": "2024-06-29T00:01:45.565Z"
   },
   {
    "duration": 781,
    "start_time": "2024-06-29T00:02:59.391Z"
   },
   {
    "duration": 800,
    "start_time": "2024-06-29T00:03:15.931Z"
   },
   {
    "duration": 4,
    "start_time": "2024-06-29T00:22:10.092Z"
   },
   {
    "duration": 18,
    "start_time": "2024-06-29T00:22:22.597Z"
   },
   {
    "duration": 21,
    "start_time": "2024-06-29T00:22:33.754Z"
   },
   {
    "duration": 1340,
    "start_time": "2024-06-29T00:24:48.314Z"
   },
   {
    "duration": 30,
    "start_time": "2024-06-29T00:25:03.931Z"
   },
   {
    "duration": 94,
    "start_time": "2024-06-29T00:25:26.184Z"
   },
   {
    "duration": 39,
    "start_time": "2024-06-29T00:25:47.281Z"
   },
   {
    "duration": 99,
    "start_time": "2024-06-29T00:25:55.508Z"
   },
   {
    "duration": 76,
    "start_time": "2024-06-29T00:26:03.582Z"
   },
   {
    "duration": 8,
    "start_time": "2024-06-29T00:26:15.163Z"
   },
   {
    "duration": 752,
    "start_time": "2024-06-29T00:26:15.175Z"
   },
   {
    "duration": 829,
    "start_time": "2024-06-29T00:26:15.930Z"
   },
   {
    "duration": 5,
    "start_time": "2024-06-29T00:26:16.762Z"
   },
   {
    "duration": 39,
    "start_time": "2024-06-29T00:26:16.773Z"
   },
   {
    "duration": 18,
    "start_time": "2024-06-29T00:26:16.815Z"
   },
   {
    "duration": 33,
    "start_time": "2024-06-29T00:26:16.836Z"
   },
   {
    "duration": 18,
    "start_time": "2024-06-29T00:27:02.072Z"
   },
   {
    "duration": 16,
    "start_time": "2024-06-29T00:27:28.079Z"
   },
   {
    "duration": 31,
    "start_time": "2024-06-29T00:27:36.896Z"
   },
   {
    "duration": 21,
    "start_time": "2024-06-29T00:28:07.759Z"
   },
   {
    "duration": 69,
    "start_time": "2024-06-29T00:28:26.068Z"
   },
   {
    "duration": 7,
    "start_time": "2024-06-29T00:28:29.638Z"
   },
   {
    "duration": 729,
    "start_time": "2024-06-29T00:28:29.649Z"
   },
   {
    "duration": 818,
    "start_time": "2024-06-29T00:28:30.381Z"
   },
   {
    "duration": 30,
    "start_time": "2024-06-29T00:28:31.202Z"
   },
   {
    "duration": 38,
    "start_time": "2024-06-29T00:28:31.237Z"
   },
   {
    "duration": 178,
    "start_time": "2024-06-29T00:29:53.863Z"
   },
   {
    "duration": 7,
    "start_time": "2024-06-29T00:31:01.292Z"
   },
   {
    "duration": 733,
    "start_time": "2024-06-29T00:31:01.304Z"
   },
   {
    "duration": 816,
    "start_time": "2024-06-29T00:31:02.040Z"
   },
   {
    "duration": 38,
    "start_time": "2024-06-29T00:31:02.859Z"
   },
   {
    "duration": 35,
    "start_time": "2024-06-29T00:31:02.912Z"
   },
   {
    "duration": 217,
    "start_time": "2024-06-29T00:31:02.951Z"
   },
   {
    "duration": 62,
    "start_time": "2024-06-29T00:45:37.035Z"
   },
   {
    "duration": 72,
    "start_time": "2024-06-29T00:46:08.986Z"
   },
   {
    "duration": 73,
    "start_time": "2024-06-29T00:46:16.745Z"
   },
   {
    "duration": 72,
    "start_time": "2024-06-29T00:46:39.275Z"
   },
   {
    "duration": 72,
    "start_time": "2024-06-29T00:46:59.497Z"
   },
   {
    "duration": 72,
    "start_time": "2024-06-29T00:48:07.496Z"
   },
   {
    "duration": 310,
    "start_time": "2024-06-29T20:56:27.555Z"
   },
   {
    "duration": 5192,
    "start_time": "2024-06-29T20:56:32.924Z"
   },
   {
    "duration": 786,
    "start_time": "2024-06-29T20:56:38.120Z"
   },
   {
    "duration": 858,
    "start_time": "2024-06-29T20:56:38.909Z"
   },
   {
    "duration": 30,
    "start_time": "2024-06-29T20:56:39.771Z"
   },
   {
    "duration": 57,
    "start_time": "2024-06-29T20:56:39.804Z"
   },
   {
    "duration": 185,
    "start_time": "2024-06-29T20:56:39.864Z"
   },
   {
    "duration": 92,
    "start_time": "2024-06-29T20:56:40.053Z"
   },
   {
    "duration": 264,
    "start_time": "2024-06-29T20:56:40.148Z"
   },
   {
    "duration": 232,
    "start_time": "2024-06-29T20:57:14.029Z"
   },
   {
    "duration": 331,
    "start_time": "2024-06-29T20:58:59.243Z"
   },
   {
    "duration": 328,
    "start_time": "2024-06-29T22:56:58.422Z"
   },
   {
    "duration": 5694,
    "start_time": "2024-06-29T22:57:03.483Z"
   },
   {
    "duration": 868,
    "start_time": "2024-06-29T22:57:09.182Z"
   },
   {
    "duration": 886,
    "start_time": "2024-06-29T22:57:10.053Z"
   },
   {
    "duration": 37,
    "start_time": "2024-06-29T22:57:10.943Z"
   },
   {
    "duration": 68,
    "start_time": "2024-06-29T22:57:10.986Z"
   },
   {
    "duration": 44,
    "start_time": "2024-06-29T22:57:11.057Z"
   },
   {
    "duration": 41,
    "start_time": "2024-06-29T23:00:10.318Z"
   },
   {
    "duration": 10,
    "start_time": "2024-06-29T23:00:11.007Z"
   },
   {
    "duration": 73,
    "start_time": "2024-06-29T23:00:35.101Z"
   },
   {
    "duration": 232,
    "start_time": "2024-06-29T23:01:53.335Z"
   },
   {
    "duration": 76,
    "start_time": "2024-06-29T23:02:04.486Z"
   },
   {
    "duration": 71,
    "start_time": "2024-06-29T23:05:15.931Z"
   },
   {
    "duration": 304,
    "start_time": "2024-06-29T23:05:29.599Z"
   },
   {
    "duration": 95,
    "start_time": "2024-06-29T23:09:47.242Z"
   },
   {
    "duration": 5195,
    "start_time": "2024-07-01T03:29:44.091Z"
   },
   {
    "duration": 810,
    "start_time": "2024-07-01T03:29:49.290Z"
   },
   {
    "duration": 836,
    "start_time": "2024-07-01T03:29:50.103Z"
   },
   {
    "duration": 29,
    "start_time": "2024-07-01T03:29:50.942Z"
   },
   {
    "duration": 61,
    "start_time": "2024-07-01T03:29:50.976Z"
   },
   {
    "duration": 40,
    "start_time": "2024-07-01T03:29:51.040Z"
   },
   {
    "duration": 11,
    "start_time": "2024-07-01T03:29:51.084Z"
   },
   {
    "duration": 106,
    "start_time": "2024-07-01T03:29:51.097Z"
   },
   {
    "duration": 180,
    "start_time": "2024-07-01T03:29:51.207Z"
   },
   {
    "duration": 99,
    "start_time": "2024-07-01T03:29:51.390Z"
   },
   {
    "duration": 315,
    "start_time": "2024-07-01T03:29:51.492Z"
   },
   {
    "duration": 7,
    "start_time": "2024-07-01T03:32:21.908Z"
   },
   {
    "duration": 781,
    "start_time": "2024-07-01T03:32:21.920Z"
   },
   {
    "duration": 831,
    "start_time": "2024-07-01T03:32:22.705Z"
   },
   {
    "duration": 25,
    "start_time": "2024-07-01T03:32:23.539Z"
   },
   {
    "duration": 62,
    "start_time": "2024-07-01T03:32:23.568Z"
   },
   {
    "duration": 38,
    "start_time": "2024-07-01T03:32:23.633Z"
   },
   {
    "duration": 13,
    "start_time": "2024-07-01T03:32:23.674Z"
   },
   {
    "duration": 99,
    "start_time": "2024-07-01T03:32:23.690Z"
   },
   {
    "duration": 350,
    "start_time": "2024-07-01T03:32:36.365Z"
   },
   {
    "duration": 73,
    "start_time": "2024-07-01T03:33:04.755Z"
   },
   {
    "duration": 142,
    "start_time": "2024-07-01T03:44:50.664Z"
   },
   {
    "duration": 101,
    "start_time": "2024-07-01T03:46:47.515Z"
   },
   {
    "duration": 231,
    "start_time": "2024-07-01T03:48:42.392Z"
   },
   {
    "duration": 370,
    "start_time": "2024-07-01T03:49:00.131Z"
   },
   {
    "duration": 22,
    "start_time": "2024-07-01T03:49:19.961Z"
   },
   {
    "duration": 24,
    "start_time": "2024-07-01T03:49:26.686Z"
   },
   {
    "duration": 7,
    "start_time": "2024-07-01T03:51:07.404Z"
   },
   {
    "duration": 146,
    "start_time": "2024-07-01T03:56:52.859Z"
   },
   {
    "duration": 152,
    "start_time": "2024-07-01T04:02:50.490Z"
   },
   {
    "duration": 53,
    "start_time": "2024-07-01T04:03:05.939Z"
   },
   {
    "duration": 68,
    "start_time": "2024-07-01T04:03:22.494Z"
   },
   {
    "duration": 56,
    "start_time": "2024-07-01T04:03:27.166Z"
   },
   {
    "duration": 6,
    "start_time": "2024-07-01T04:03:43.635Z"
   },
   {
    "duration": 25,
    "start_time": "2024-07-01T04:03:46.884Z"
   },
   {
    "duration": 77,
    "start_time": "2024-07-01T04:04:53.286Z"
   },
   {
    "duration": 189,
    "start_time": "2024-07-01T04:05:16.647Z"
   },
   {
    "duration": 48,
    "start_time": "2024-07-01T04:05:51.727Z"
   },
   {
    "duration": 43,
    "start_time": "2024-07-01T04:06:10.903Z"
   },
   {
    "duration": 39,
    "start_time": "2024-07-01T04:06:59.253Z"
   },
   {
    "duration": 377,
    "start_time": "2024-07-01T04:41:11.401Z"
   },
   {
    "duration": 6,
    "start_time": "2024-07-01T04:50:05.090Z"
   },
   {
    "duration": 6,
    "start_time": "2024-07-01T04:50:29.872Z"
   },
   {
    "duration": 27,
    "start_time": "2024-07-01T04:50:48.329Z"
   },
   {
    "duration": 177,
    "start_time": "2024-07-01T04:50:57.627Z"
   },
   {
    "duration": 8,
    "start_time": "2024-07-01T04:51:04.453Z"
   },
   {
    "duration": 842,
    "start_time": "2024-07-01T04:51:04.466Z"
   },
   {
    "duration": 1014,
    "start_time": "2024-07-01T04:51:05.310Z"
   },
   {
    "duration": 29,
    "start_time": "2024-07-01T04:51:06.327Z"
   },
   {
    "duration": 47,
    "start_time": "2024-07-01T04:51:06.359Z"
   },
   {
    "duration": 37,
    "start_time": "2024-07-01T04:51:06.431Z"
   },
   {
    "duration": 12,
    "start_time": "2024-07-01T04:51:06.471Z"
   },
   {
    "duration": 110,
    "start_time": "2024-07-01T04:51:06.485Z"
   },
   {
    "duration": 356,
    "start_time": "2024-07-01T04:51:06.599Z"
   },
   {
    "duration": 6,
    "start_time": "2024-07-01T04:51:06.959Z"
   },
   {
    "duration": 6,
    "start_time": "2024-07-01T04:51:18.940Z"
   },
   {
    "duration": 6,
    "start_time": "2024-07-01T04:51:36.680Z"
   },
   {
    "duration": 192,
    "start_time": "2024-07-01T04:51:42.355Z"
   },
   {
    "duration": 284,
    "start_time": "2024-07-01T04:53:17.833Z"
   },
   {
    "duration": 294,
    "start_time": "2024-07-01T04:53:30.771Z"
   },
   {
    "duration": 41,
    "start_time": "2024-07-01T04:54:15.876Z"
   },
   {
    "duration": 45,
    "start_time": "2024-07-01T04:54:39.481Z"
   },
   {
    "duration": 49,
    "start_time": "2024-07-01T04:55:07.652Z"
   },
   {
    "duration": 44,
    "start_time": "2024-07-01T04:55:12.876Z"
   },
   {
    "duration": 43,
    "start_time": "2024-07-01T04:55:37.143Z"
   },
   {
    "duration": 43,
    "start_time": "2024-07-01T04:55:45.373Z"
   },
   {
    "duration": 49,
    "start_time": "2024-07-01T04:55:57.319Z"
   },
   {
    "duration": 59,
    "start_time": "2024-07-01T04:56:02.810Z"
   },
   {
    "duration": 42,
    "start_time": "2024-07-01T04:56:07.843Z"
   },
   {
    "duration": 43,
    "start_time": "2024-07-01T04:56:16.465Z"
   },
   {
    "duration": 7,
    "start_time": "2024-07-01T04:58:01.596Z"
   },
   {
    "duration": 278,
    "start_time": "2024-07-01T04:58:21.139Z"
   },
   {
    "duration": 69,
    "start_time": "2024-07-01T05:01:01.478Z"
   },
   {
    "duration": 279,
    "start_time": "2024-07-01T05:01:51.022Z"
   },
   {
    "duration": 9,
    "start_time": "2024-07-01T05:02:05.666Z"
   },
   {
    "duration": 727,
    "start_time": "2024-07-01T05:02:05.681Z"
   },
   {
    "duration": 814,
    "start_time": "2024-07-01T05:02:06.411Z"
   },
   {
    "duration": 27,
    "start_time": "2024-07-01T05:02:07.232Z"
   },
   {
    "duration": 35,
    "start_time": "2024-07-01T05:02:07.265Z"
   },
   {
    "duration": 35,
    "start_time": "2024-07-01T05:02:07.332Z"
   },
   {
    "duration": 11,
    "start_time": "2024-07-01T05:02:07.370Z"
   },
   {
    "duration": 95,
    "start_time": "2024-07-01T05:02:07.385Z"
   },
   {
    "duration": 413,
    "start_time": "2024-07-01T05:02:07.483Z"
   },
   {
    "duration": 401,
    "start_time": "2024-07-01T05:02:46.138Z"
   },
   {
    "duration": 6,
    "start_time": "2024-07-01T05:02:49.918Z"
   },
   {
    "duration": 180,
    "start_time": "2024-07-01T05:02:52.926Z"
   },
   {
    "duration": 7,
    "start_time": "2024-07-01T05:05:56.410Z"
   },
   {
    "duration": 9,
    "start_time": "2024-07-01T05:06:28.088Z"
   },
   {
    "duration": 7,
    "start_time": "2024-07-01T05:07:26.725Z"
   },
   {
    "duration": 185,
    "start_time": "2024-07-01T05:07:29.283Z"
   },
   {
    "duration": 5,
    "start_time": "2024-07-01T05:08:05.808Z"
   },
   {
    "duration": 109,
    "start_time": "2024-07-01T05:08:06.390Z"
   },
   {
    "duration": 5,
    "start_time": "2024-07-01T05:11:27.365Z"
   },
   {
    "duration": 176,
    "start_time": "2024-07-01T05:11:29.637Z"
   },
   {
    "duration": 5,
    "start_time": "2024-07-01T05:12:00.193Z"
   },
   {
    "duration": 185,
    "start_time": "2024-07-01T05:12:00.536Z"
   },
   {
    "duration": 4,
    "start_time": "2024-07-01T05:15:29.201Z"
   },
   {
    "duration": 105,
    "start_time": "2024-07-01T05:15:30.572Z"
   },
   {
    "duration": 7,
    "start_time": "2024-07-01T05:15:54.383Z"
   },
   {
    "duration": 176,
    "start_time": "2024-07-01T05:15:54.752Z"
   },
   {
    "duration": 5,
    "start_time": "2024-07-01T05:16:03.915Z"
   },
   {
    "duration": 175,
    "start_time": "2024-07-01T05:16:04.458Z"
   },
   {
    "duration": 3,
    "start_time": "2024-07-01T05:42:43.316Z"
   },
   {
    "duration": 41,
    "start_time": "2024-07-01T05:43:45.061Z"
   },
   {
    "duration": 39,
    "start_time": "2024-07-01T05:43:50.301Z"
   },
   {
    "duration": 39,
    "start_time": "2024-07-01T05:43:54.699Z"
   },
   {
    "duration": 39,
    "start_time": "2024-07-01T05:44:07.082Z"
   },
   {
    "duration": 39,
    "start_time": "2024-07-01T05:44:13.954Z"
   },
   {
    "duration": 37,
    "start_time": "2024-07-01T05:50:22.859Z"
   },
   {
    "duration": 5,
    "start_time": "2024-07-01T05:50:32.321Z"
   },
   {
    "duration": 5,
    "start_time": "2024-07-01T05:50:55.920Z"
   },
   {
    "duration": 7,
    "start_time": "2024-07-01T05:51:35.393Z"
   },
   {
    "duration": 4,
    "start_time": "2024-07-01T05:52:00.644Z"
   },
   {
    "duration": 4,
    "start_time": "2024-07-01T05:52:03.637Z"
   },
   {
    "duration": 5,
    "start_time": "2024-07-01T05:52:05.185Z"
   },
   {
    "duration": 5,
    "start_time": "2024-07-01T05:52:06.584Z"
   },
   {
    "duration": 4,
    "start_time": "2024-07-01T05:52:08.712Z"
   },
   {
    "duration": 87,
    "start_time": "2024-07-01T05:53:13.895Z"
   },
   {
    "duration": 10,
    "start_time": "2024-07-01T05:53:14.224Z"
   },
   {
    "duration": 5,
    "start_time": "2024-07-01T05:53:34.892Z"
   },
   {
    "duration": 4,
    "start_time": "2024-07-01T05:55:46.199Z"
   },
   {
    "duration": 5,
    "start_time": "2024-07-01T05:55:49.532Z"
   },
   {
    "duration": 4,
    "start_time": "2024-07-01T06:03:14.185Z"
   },
   {
    "duration": 27,
    "start_time": "2024-07-01T06:05:42.886Z"
   },
   {
    "duration": 24,
    "start_time": "2024-07-01T06:06:23.453Z"
   },
   {
    "duration": 25,
    "start_time": "2024-07-01T06:07:05.552Z"
   },
   {
    "duration": 23,
    "start_time": "2024-07-01T06:07:22.968Z"
   },
   {
    "duration": 26,
    "start_time": "2024-07-01T06:07:32.668Z"
   },
   {
    "duration": 6,
    "start_time": "2024-07-01T06:07:39.379Z"
   },
   {
    "duration": 5,
    "start_time": "2024-07-01T06:07:44.817Z"
   },
   {
    "duration": 989,
    "start_time": "2024-07-01T06:07:49.367Z"
   },
   {
    "duration": 569,
    "start_time": "2024-07-01T06:08:23.032Z"
   },
   {
    "duration": 197,
    "start_time": "2024-07-01T06:09:30.956Z"
   },
   {
    "duration": 26,
    "start_time": "2024-07-01T06:12:01.328Z"
   },
   {
    "duration": 167,
    "start_time": "2024-07-01T06:12:15.087Z"
   },
   {
    "duration": 8,
    "start_time": "2024-07-01T06:12:23.366Z"
   },
   {
    "duration": 17,
    "start_time": "2024-07-01T06:12:28.454Z"
   },
   {
    "duration": 14,
    "start_time": "2024-07-01T06:12:42.112Z"
   },
   {
    "duration": 45,
    "start_time": "2024-07-01T06:13:00.638Z"
   },
   {
    "duration": 27,
    "start_time": "2024-07-01T06:13:09.488Z"
   },
   {
    "duration": 16,
    "start_time": "2024-07-01T06:13:25.519Z"
   },
   {
    "duration": 29,
    "start_time": "2024-07-01T06:13:32.564Z"
   },
   {
    "duration": 7,
    "start_time": "2024-07-01T06:14:07.948Z"
   },
   {
    "duration": 4,
    "start_time": "2024-07-01T06:15:11.734Z"
   },
   {
    "duration": 71,
    "start_time": "2024-07-01T06:15:12.703Z"
   },
   {
    "duration": 32,
    "start_time": "2024-07-01T06:15:35.253Z"
   },
   {
    "duration": 7,
    "start_time": "2024-07-01T06:17:10.458Z"
   },
   {
    "duration": 714,
    "start_time": "2024-07-01T06:17:10.471Z"
   },
   {
    "duration": 831,
    "start_time": "2024-07-01T06:17:11.188Z"
   },
   {
    "duration": 35,
    "start_time": "2024-07-01T06:17:12.023Z"
   },
   {
    "duration": 34,
    "start_time": "2024-07-01T06:17:12.063Z"
   },
   {
    "duration": 61,
    "start_time": "2024-07-01T06:17:12.100Z"
   },
   {
    "duration": 11,
    "start_time": "2024-07-01T06:17:12.164Z"
   },
   {
    "duration": 129,
    "start_time": "2024-07-01T06:17:12.177Z"
   },
   {
    "duration": 96,
    "start_time": "2024-07-01T06:17:38.146Z"
   },
   {
    "duration": 404,
    "start_time": "2024-07-01T06:17:50.215Z"
   },
   {
    "duration": 5,
    "start_time": "2024-07-01T06:18:30.176Z"
   },
   {
    "duration": 179,
    "start_time": "2024-07-01T06:18:30.916Z"
   },
   {
    "duration": 18,
    "start_time": "2024-07-01T06:18:58.660Z"
   },
   {
    "duration": 6,
    "start_time": "2024-07-01T06:20:15.214Z"
   },
   {
    "duration": 100,
    "start_time": "2024-07-01T06:20:26.086Z"
   },
   {
    "duration": 5,
    "start_time": "2024-07-01T06:20:27.920Z"
   },
   {
    "duration": 41,
    "start_time": "2024-07-01T06:20:42.809Z"
   },
   {
    "duration": 32,
    "start_time": "2024-07-01T06:20:45.839Z"
   },
   {
    "duration": 5,
    "start_time": "2024-07-01T06:20:48.637Z"
   },
   {
    "duration": 69,
    "start_time": "2024-07-01T06:20:58.617Z"
   },
   {
    "duration": 5,
    "start_time": "2024-07-01T06:29:08.718Z"
   },
   {
    "duration": 38,
    "start_time": "2024-07-01T06:29:21.692Z"
   },
   {
    "duration": 6,
    "start_time": "2024-07-01T06:29:46.273Z"
   },
   {
    "duration": 35,
    "start_time": "2024-07-01T06:29:46.894Z"
   },
   {
    "duration": 4,
    "start_time": "2024-07-01T06:32:48.445Z"
   },
   {
    "duration": 37,
    "start_time": "2024-07-01T06:32:49.035Z"
   },
   {
    "duration": 6,
    "start_time": "2024-07-01T06:33:15.420Z"
   },
   {
    "duration": 11,
    "start_time": "2024-07-01T06:34:49.514Z"
   },
   {
    "duration": 9,
    "start_time": "2024-07-01T06:35:20.169Z"
   },
   {
    "duration": 9,
    "start_time": "2024-07-01T06:35:45.504Z"
   },
   {
    "duration": 8,
    "start_time": "2024-07-01T06:35:55.549Z"
   },
   {
    "duration": 714,
    "start_time": "2024-07-01T06:35:55.562Z"
   },
   {
    "duration": 797,
    "start_time": "2024-07-01T06:35:56.279Z"
   },
   {
    "duration": 24,
    "start_time": "2024-07-01T06:35:57.080Z"
   },
   {
    "duration": 54,
    "start_time": "2024-07-01T06:35:57.108Z"
   },
   {
    "duration": 36,
    "start_time": "2024-07-01T06:35:57.165Z"
   },
   {
    "duration": 35,
    "start_time": "2024-07-01T06:35:57.204Z"
   },
   {
    "duration": 105,
    "start_time": "2024-07-01T06:35:57.242Z"
   },
   {
    "duration": 105,
    "start_time": "2024-07-01T06:35:57.349Z"
   },
   {
    "duration": 429,
    "start_time": "2024-07-01T06:35:57.457Z"
   },
   {
    "duration": 5,
    "start_time": "2024-07-01T06:35:57.891Z"
   },
   {
    "duration": 196,
    "start_time": "2024-07-01T06:35:57.900Z"
   },
   {
    "duration": 5,
    "start_time": "2024-07-01T06:35:58.100Z"
   },
   {
    "duration": 89,
    "start_time": "2024-07-01T06:35:58.109Z"
   },
   {
    "duration": 6,
    "start_time": "2024-07-01T06:35:58.201Z"
   },
   {
    "duration": 33,
    "start_time": "2024-07-01T06:35:58.230Z"
   },
   {
    "duration": 32,
    "start_time": "2024-07-01T06:35:58.266Z"
   },
   {
    "duration": 25,
    "start_time": "2024-07-01T06:37:11.612Z"
   },
   {
    "duration": 10,
    "start_time": "2024-07-01T06:37:19.827Z"
   },
   {
    "duration": 10,
    "start_time": "2024-07-01T06:37:21.966Z"
   },
   {
    "duration": 41,
    "start_time": "2024-07-01T06:40:42.508Z"
   },
   {
    "duration": 8,
    "start_time": "2024-07-01T06:42:57.001Z"
   },
   {
    "duration": 680,
    "start_time": "2024-07-01T06:42:57.013Z"
   },
   {
    "duration": 814,
    "start_time": "2024-07-01T06:42:57.696Z"
   },
   {
    "duration": 38,
    "start_time": "2024-07-01T06:42:58.513Z"
   },
   {
    "duration": 34,
    "start_time": "2024-07-01T06:42:58.555Z"
   },
   {
    "duration": 60,
    "start_time": "2024-07-01T06:42:58.592Z"
   },
   {
    "duration": 9,
    "start_time": "2024-07-01T06:42:58.655Z"
   },
   {
    "duration": 105,
    "start_time": "2024-07-01T06:42:58.667Z"
   },
   {
    "duration": 105,
    "start_time": "2024-07-01T06:42:58.775Z"
   },
   {
    "duration": 443,
    "start_time": "2024-07-01T06:42:58.882Z"
   },
   {
    "duration": 4,
    "start_time": "2024-07-01T06:42:59.331Z"
   },
   {
    "duration": 192,
    "start_time": "2024-07-01T06:42:59.338Z"
   },
   {
    "duration": 5,
    "start_time": "2024-07-01T06:42:59.534Z"
   },
   {
    "duration": 90,
    "start_time": "2024-07-01T06:42:59.545Z"
   },
   {
    "duration": 5,
    "start_time": "2024-07-01T06:42:59.637Z"
   },
   {
    "duration": 4,
    "start_time": "2024-07-01T06:43:01.877Z"
   },
   {
    "duration": 51,
    "start_time": "2024-07-01T06:43:03.190Z"
   },
   {
    "duration": 5,
    "start_time": "2024-07-01T06:43:05.234Z"
   },
   {
    "duration": 113,
    "start_time": "2024-07-01T06:43:06.845Z"
   },
   {
    "duration": 30,
    "start_time": "2024-07-01T06:46:17.214Z"
   },
   {
    "duration": 90,
    "start_time": "2024-07-01T06:49:47.444Z"
   },
   {
    "duration": 7,
    "start_time": "2024-07-01T06:51:53.453Z"
   },
   {
    "duration": 673,
    "start_time": "2024-07-01T06:51:53.465Z"
   },
   {
    "duration": 815,
    "start_time": "2024-07-01T06:51:54.141Z"
   },
   {
    "duration": 38,
    "start_time": "2024-07-01T06:51:54.959Z"
   },
   {
    "duration": 51,
    "start_time": "2024-07-01T06:51:55.001Z"
   },
   {
    "duration": 36,
    "start_time": "2024-07-01T06:51:55.055Z"
   },
   {
    "duration": 38,
    "start_time": "2024-07-01T06:51:55.094Z"
   },
   {
    "duration": 60,
    "start_time": "2024-07-01T06:51:55.135Z"
   },
   {
    "duration": 0,
    "start_time": "2024-07-01T06:51:55.199Z"
   },
   {
    "duration": 0,
    "start_time": "2024-07-01T06:51:55.200Z"
   },
   {
    "duration": 0,
    "start_time": "2024-07-01T06:51:55.203Z"
   },
   {
    "duration": 0,
    "start_time": "2024-07-01T06:51:55.232Z"
   },
   {
    "duration": 0,
    "start_time": "2024-07-01T06:51:55.233Z"
   },
   {
    "duration": 0,
    "start_time": "2024-07-01T06:51:55.236Z"
   },
   {
    "duration": 0,
    "start_time": "2024-07-01T06:51:55.238Z"
   },
   {
    "duration": 0,
    "start_time": "2024-07-01T06:51:55.240Z"
   },
   {
    "duration": 0,
    "start_time": "2024-07-01T06:51:55.242Z"
   },
   {
    "duration": 0,
    "start_time": "2024-07-01T06:51:55.245Z"
   },
   {
    "duration": 7,
    "start_time": "2024-07-01T06:54:11.424Z"
   },
   {
    "duration": 744,
    "start_time": "2024-07-01T06:54:11.435Z"
   },
   {
    "duration": 850,
    "start_time": "2024-07-01T06:54:12.182Z"
   },
   {
    "duration": 41,
    "start_time": "2024-07-01T06:54:13.035Z"
   },
   {
    "duration": 60,
    "start_time": "2024-07-01T06:54:13.080Z"
   },
   {
    "duration": 36,
    "start_time": "2024-07-01T06:54:13.143Z"
   },
   {
    "duration": 10,
    "start_time": "2024-07-01T06:54:13.182Z"
   },
   {
    "duration": 116,
    "start_time": "2024-07-01T06:54:13.195Z"
   },
   {
    "duration": 116,
    "start_time": "2024-07-01T06:54:13.314Z"
   },
   {
    "duration": 419,
    "start_time": "2024-07-01T06:54:13.434Z"
   },
   {
    "duration": 5,
    "start_time": "2024-07-01T06:54:13.856Z"
   },
   {
    "duration": 196,
    "start_time": "2024-07-01T06:54:13.864Z"
   },
   {
    "duration": 9,
    "start_time": "2024-07-01T06:54:14.063Z"
   },
   {
    "duration": 94,
    "start_time": "2024-07-01T06:54:14.080Z"
   },
   {
    "duration": 5,
    "start_time": "2024-07-01T06:54:14.176Z"
   },
   {
    "duration": 64,
    "start_time": "2024-07-01T06:54:14.184Z"
   },
   {
    "duration": 5,
    "start_time": "2024-07-01T06:54:14.251Z"
   },
   {
    "duration": 130,
    "start_time": "2024-07-01T06:54:14.260Z"
   },
   {
    "duration": 89,
    "start_time": "2024-07-01T06:54:19.736Z"
   },
   {
    "duration": 194,
    "start_time": "2024-07-01T06:58:37.682Z"
   },
   {
    "duration": 7,
    "start_time": "2024-07-01T06:58:56.558Z"
   },
   {
    "duration": 682,
    "start_time": "2024-07-01T06:58:56.568Z"
   },
   {
    "duration": 840,
    "start_time": "2024-07-01T06:58:57.254Z"
   },
   {
    "duration": 37,
    "start_time": "2024-07-01T06:58:58.098Z"
   },
   {
    "duration": 35,
    "start_time": "2024-07-01T06:58:58.139Z"
   },
   {
    "duration": 61,
    "start_time": "2024-07-01T06:58:58.177Z"
   },
   {
    "duration": 10,
    "start_time": "2024-07-01T06:58:58.241Z"
   },
   {
    "duration": 120,
    "start_time": "2024-07-01T06:58:58.254Z"
   },
   {
    "duration": 111,
    "start_time": "2024-07-01T06:58:58.376Z"
   },
   {
    "duration": 423,
    "start_time": "2024-07-01T06:58:58.491Z"
   },
   {
    "duration": 13,
    "start_time": "2024-07-01T06:58:58.919Z"
   },
   {
    "duration": 189,
    "start_time": "2024-07-01T06:58:58.935Z"
   },
   {
    "duration": 6,
    "start_time": "2024-07-01T06:58:59.131Z"
   },
   {
    "duration": 69,
    "start_time": "2024-07-01T06:58:59.140Z"
   },
   {
    "duration": 5,
    "start_time": "2024-07-01T06:58:59.231Z"
   },
   {
    "duration": 46,
    "start_time": "2024-07-01T06:58:59.240Z"
   },
   {
    "duration": 5,
    "start_time": "2024-07-01T06:58:59.288Z"
   },
   {
    "duration": 144,
    "start_time": "2024-07-01T06:58:59.296Z"
   },
   {
    "duration": 112,
    "start_time": "2024-07-01T06:58:59.443Z"
   },
   {
    "duration": 195,
    "start_time": "2024-07-01T06:59:03.567Z"
   },
   {
    "duration": 312,
    "start_time": "2024-07-01T06:59:19.785Z"
   },
   {
    "duration": 9,
    "start_time": "2024-07-01T07:03:29.279Z"
   },
   {
    "duration": 696,
    "start_time": "2024-07-01T07:03:29.292Z"
   },
   {
    "duration": 834,
    "start_time": "2024-07-01T07:03:29.991Z"
   },
   {
    "duration": 35,
    "start_time": "2024-07-01T07:03:30.833Z"
   },
   {
    "duration": 59,
    "start_time": "2024-07-01T07:03:30.871Z"
   },
   {
    "duration": 45,
    "start_time": "2024-07-01T07:03:30.934Z"
   },
   {
    "duration": 11,
    "start_time": "2024-07-01T07:03:30.982Z"
   },
   {
    "duration": 123,
    "start_time": "2024-07-01T07:03:30.996Z"
   },
   {
    "duration": 108,
    "start_time": "2024-07-01T07:03:31.130Z"
   },
   {
    "duration": 594,
    "start_time": "2024-07-01T07:03:31.243Z"
   },
   {
    "duration": 9,
    "start_time": "2024-07-01T07:03:31.840Z"
   },
   {
    "duration": 217,
    "start_time": "2024-07-01T07:03:31.854Z"
   },
   {
    "duration": 6,
    "start_time": "2024-07-01T07:03:32.075Z"
   },
   {
    "duration": 88,
    "start_time": "2024-07-01T07:03:32.084Z"
   },
   {
    "duration": 4,
    "start_time": "2024-07-01T07:03:32.175Z"
   },
   {
    "duration": 66,
    "start_time": "2024-07-01T07:03:32.182Z"
   },
   {
    "duration": 6,
    "start_time": "2024-07-01T07:03:32.251Z"
   },
   {
    "duration": 144,
    "start_time": "2024-07-01T07:03:32.260Z"
   },
   {
    "duration": 99,
    "start_time": "2024-07-01T07:03:32.408Z"
   },
   {
    "duration": 231,
    "start_time": "2024-07-01T07:03:32.510Z"
   },
   {
    "duration": 305,
    "start_time": "2024-07-01T07:03:32.745Z"
   },
   {
    "duration": 264,
    "start_time": "2024-07-01T07:03:41.751Z"
   },
   {
    "duration": 6,
    "start_time": "2024-07-01T07:03:50.843Z"
   },
   {
    "duration": 5,
    "start_time": "2024-07-01T07:05:51.434Z"
   },
   {
    "duration": 1513,
    "start_time": "2024-07-01T07:05:51.832Z"
   },
   {
    "duration": 746,
    "start_time": "2024-07-01T07:07:41.196Z"
   },
   {
    "duration": 704,
    "start_time": "2024-07-01T07:08:26.196Z"
   },
   {
    "duration": 809,
    "start_time": "2024-07-01T07:08:34.986Z"
   },
   {
    "duration": 1038,
    "start_time": "2024-07-01T07:09:07.445Z"
   },
   {
    "duration": 823,
    "start_time": "2024-07-01T07:09:22.835Z"
   },
   {
    "duration": 826,
    "start_time": "2024-07-01T07:09:35.320Z"
   },
   {
    "duration": 6,
    "start_time": "2024-07-01T07:13:52.720Z"
   },
   {
    "duration": 26,
    "start_time": "2024-07-01T07:14:49.543Z"
   },
   {
    "duration": 204,
    "start_time": "2024-07-01T07:15:34.099Z"
   },
   {
    "duration": 8,
    "start_time": "2024-07-01T07:15:56.202Z"
   },
   {
    "duration": 713,
    "start_time": "2024-07-01T07:15:56.213Z"
   },
   {
    "duration": 808,
    "start_time": "2024-07-01T07:15:56.931Z"
   },
   {
    "duration": 38,
    "start_time": "2024-07-01T07:15:57.742Z"
   },
   {
    "duration": 56,
    "start_time": "2024-07-01T07:15:57.785Z"
   },
   {
    "duration": 39,
    "start_time": "2024-07-01T07:15:57.844Z"
   },
   {
    "duration": 10,
    "start_time": "2024-07-01T07:15:57.887Z"
   },
   {
    "duration": 100,
    "start_time": "2024-07-01T07:15:57.900Z"
   },
   {
    "duration": 115,
    "start_time": "2024-07-01T07:15:58.003Z"
   },
   {
    "duration": 409,
    "start_time": "2024-07-01T07:15:58.130Z"
   },
   {
    "duration": 6,
    "start_time": "2024-07-01T07:15:58.542Z"
   },
   {
    "duration": 214,
    "start_time": "2024-07-01T07:15:58.551Z"
   },
   {
    "duration": 6,
    "start_time": "2024-07-01T07:15:58.768Z"
   },
   {
    "duration": 87,
    "start_time": "2024-07-01T07:15:58.779Z"
   },
   {
    "duration": 9,
    "start_time": "2024-07-01T07:15:58.869Z"
   },
   {
    "duration": 67,
    "start_time": "2024-07-01T07:15:58.881Z"
   },
   {
    "duration": 5,
    "start_time": "2024-07-01T07:15:58.951Z"
   },
   {
    "duration": 126,
    "start_time": "2024-07-01T07:15:58.960Z"
   },
   {
    "duration": 102,
    "start_time": "2024-07-01T07:15:59.089Z"
   },
   {
    "duration": 200,
    "start_time": "2024-07-01T07:15:59.194Z"
   },
   {
    "duration": 193,
    "start_time": "2024-07-01T07:16:02.718Z"
   },
   {
    "duration": 226,
    "start_time": "2024-07-01T07:16:07.079Z"
   },
   {
    "duration": 24,
    "start_time": "2024-07-01T07:16:43.487Z"
   },
   {
    "duration": 263,
    "start_time": "2024-07-01T07:16:50.619Z"
   },
   {
    "duration": 262,
    "start_time": "2024-07-01T07:19:35.286Z"
   },
   {
    "duration": 8,
    "start_time": "2024-07-01T07:19:41.085Z"
   },
   {
    "duration": 712,
    "start_time": "2024-07-01T07:19:41.096Z"
   },
   {
    "duration": 860,
    "start_time": "2024-07-01T07:19:41.811Z"
   },
   {
    "duration": 26,
    "start_time": "2024-07-01T07:19:42.674Z"
   },
   {
    "duration": 53,
    "start_time": "2024-07-01T07:19:42.705Z"
   },
   {
    "duration": 35,
    "start_time": "2024-07-01T07:19:42.761Z"
   },
   {
    "duration": 38,
    "start_time": "2024-07-01T07:19:42.799Z"
   },
   {
    "duration": 97,
    "start_time": "2024-07-01T07:19:42.839Z"
   },
   {
    "duration": 107,
    "start_time": "2024-07-01T07:19:42.938Z"
   },
   {
    "duration": 430,
    "start_time": "2024-07-01T07:19:43.048Z"
   },
   {
    "duration": 5,
    "start_time": "2024-07-01T07:19:43.483Z"
   },
   {
    "duration": 204,
    "start_time": "2024-07-01T07:19:43.492Z"
   },
   {
    "duration": 7,
    "start_time": "2024-07-01T07:19:43.699Z"
   },
   {
    "duration": 86,
    "start_time": "2024-07-01T07:19:43.709Z"
   },
   {
    "duration": 5,
    "start_time": "2024-07-01T07:19:43.798Z"
   },
   {
    "duration": 63,
    "start_time": "2024-07-01T07:19:43.806Z"
   },
   {
    "duration": 5,
    "start_time": "2024-07-01T07:19:43.872Z"
   },
   {
    "duration": 133,
    "start_time": "2024-07-01T07:19:43.880Z"
   },
   {
    "duration": 116,
    "start_time": "2024-07-01T07:19:44.016Z"
   },
   {
    "duration": 205,
    "start_time": "2024-07-01T07:19:44.135Z"
   },
   {
    "duration": 310,
    "start_time": "2024-07-01T07:19:44.343Z"
   },
   {
    "duration": 7,
    "start_time": "2024-07-01T07:20:02.865Z"
   },
   {
    "duration": 808,
    "start_time": "2024-07-01T07:20:03.894Z"
   },
   {
    "duration": 29,
    "start_time": "2024-07-01T07:20:10.295Z"
   },
   {
    "duration": 14,
    "start_time": "2024-07-01T07:20:58.482Z"
   },
   {
    "duration": 11,
    "start_time": "2024-07-01T07:21:12.021Z"
   },
   {
    "duration": 53,
    "start_time": "2024-07-01T07:22:38.726Z"
   },
   {
    "duration": 107,
    "start_time": "2024-07-01T07:22:49.042Z"
   },
   {
    "duration": 10,
    "start_time": "2024-07-01T07:24:06.125Z"
   },
   {
    "duration": 10,
    "start_time": "2024-07-01T07:27:07.305Z"
   },
   {
    "duration": 14,
    "start_time": "2024-07-01T07:27:24.435Z"
   },
   {
    "duration": 28,
    "start_time": "2024-07-01T07:28:02.179Z"
   },
   {
    "duration": 12,
    "start_time": "2024-07-01T07:29:20.789Z"
   },
   {
    "duration": 27,
    "start_time": "2024-07-01T07:31:10.310Z"
   },
   {
    "duration": 11,
    "start_time": "2024-07-01T07:31:20.569Z"
   },
   {
    "duration": 11,
    "start_time": "2024-07-01T07:31:28.094Z"
   },
   {
    "duration": 94,
    "start_time": "2024-07-01T07:34:39.819Z"
   },
   {
    "duration": 35,
    "start_time": "2024-07-01T07:35:23.888Z"
   },
   {
    "duration": 25,
    "start_time": "2024-07-01T07:35:41.100Z"
   },
   {
    "duration": 9,
    "start_time": "2024-07-01T07:35:47.495Z"
   },
   {
    "duration": 1663,
    "start_time": "2024-07-01T07:36:09.007Z"
   },
   {
    "duration": 811,
    "start_time": "2024-07-01T07:36:10.675Z"
   },
   {
    "duration": 888,
    "start_time": "2024-07-01T07:36:11.489Z"
   },
   {
    "duration": 31,
    "start_time": "2024-07-01T07:36:12.380Z"
   },
   {
    "duration": 43,
    "start_time": "2024-07-01T07:36:12.430Z"
   },
   {
    "duration": 59,
    "start_time": "2024-07-01T07:36:12.477Z"
   },
   {
    "duration": 11,
    "start_time": "2024-07-01T07:36:12.540Z"
   },
   {
    "duration": 125,
    "start_time": "2024-07-01T07:36:12.554Z"
   },
   {
    "duration": 104,
    "start_time": "2024-07-01T07:36:12.683Z"
   },
   {
    "duration": 462,
    "start_time": "2024-07-01T07:36:12.791Z"
   },
   {
    "duration": 8,
    "start_time": "2024-07-01T07:36:13.258Z"
   },
   {
    "duration": 202,
    "start_time": "2024-07-01T07:36:13.270Z"
   },
   {
    "duration": 6,
    "start_time": "2024-07-01T07:36:13.475Z"
   },
   {
    "duration": 85,
    "start_time": "2024-07-01T07:36:13.487Z"
   },
   {
    "duration": 6,
    "start_time": "2024-07-01T07:36:13.575Z"
   },
   {
    "duration": 71,
    "start_time": "2024-07-01T07:36:13.584Z"
   },
   {
    "duration": 5,
    "start_time": "2024-07-01T07:36:13.658Z"
   },
   {
    "duration": 122,
    "start_time": "2024-07-01T07:36:13.666Z"
   },
   {
    "duration": 100,
    "start_time": "2024-07-01T07:36:13.791Z"
   },
   {
    "duration": 209,
    "start_time": "2024-07-01T07:36:13.893Z"
   },
   {
    "duration": 319,
    "start_time": "2024-07-01T07:36:14.104Z"
   },
   {
    "duration": 7,
    "start_time": "2024-07-01T07:36:14.426Z"
   },
   {
    "duration": 838,
    "start_time": "2024-07-01T07:36:14.437Z"
   },
   {
    "duration": 11,
    "start_time": "2024-07-01T07:36:15.278Z"
   },
   {
    "duration": 160,
    "start_time": "2024-07-01T07:36:15.292Z"
   },
   {
    "duration": 13,
    "start_time": "2024-07-01T07:36:15.457Z"
   },
   {
    "duration": 30,
    "start_time": "2024-07-01T07:36:15.474Z"
   },
   {
    "duration": 12,
    "start_time": "2024-07-01T07:36:50.089Z"
   },
   {
    "duration": 4,
    "start_time": "2024-07-01T07:38:00.347Z"
   },
   {
    "duration": 423,
    "start_time": "2024-07-01T07:49:20.783Z"
   },
   {
    "duration": 1438,
    "start_time": "2024-07-01T07:49:55.863Z"
   },
   {
    "duration": 101,
    "start_time": "2024-07-01T07:50:04.404Z"
   },
   {
    "duration": 102,
    "start_time": "2024-07-01T07:50:11.476Z"
   },
   {
    "duration": 4,
    "start_time": "2024-07-01T07:55:04.259Z"
   },
   {
    "duration": 104,
    "start_time": "2024-07-01T07:57:10.346Z"
   },
   {
    "duration": 101,
    "start_time": "2024-07-01T08:00:21.955Z"
   },
   {
    "duration": 5100,
    "start_time": "2024-07-02T01:27:15.057Z"
   },
   {
    "duration": 811,
    "start_time": "2024-07-02T01:27:20.161Z"
   },
   {
    "duration": 866,
    "start_time": "2024-07-02T01:27:20.975Z"
   },
   {
    "duration": 30,
    "start_time": "2024-07-02T01:27:21.845Z"
   },
   {
    "duration": 59,
    "start_time": "2024-07-02T01:27:21.879Z"
   },
   {
    "duration": 40,
    "start_time": "2024-07-02T01:27:21.941Z"
   },
   {
    "duration": 35,
    "start_time": "2024-07-02T01:27:21.984Z"
   },
   {
    "duration": 105,
    "start_time": "2024-07-02T01:27:22.022Z"
   },
   {
    "duration": 102,
    "start_time": "2024-07-02T01:27:22.130Z"
   },
   {
    "duration": 425,
    "start_time": "2024-07-02T01:27:22.238Z"
   },
   {
    "duration": 6,
    "start_time": "2024-07-02T01:27:22.666Z"
   },
   {
    "duration": 206,
    "start_time": "2024-07-02T01:27:22.675Z"
   },
   {
    "duration": 6,
    "start_time": "2024-07-02T01:27:22.883Z"
   },
   {
    "duration": 89,
    "start_time": "2024-07-02T01:27:22.893Z"
   },
   {
    "duration": 5,
    "start_time": "2024-07-02T01:27:22.985Z"
   },
   {
    "duration": 68,
    "start_time": "2024-07-02T01:27:22.994Z"
   },
   {
    "duration": 5,
    "start_time": "2024-07-02T01:27:23.065Z"
   },
   {
    "duration": 141,
    "start_time": "2024-07-02T01:27:23.073Z"
   },
   {
    "duration": 106,
    "start_time": "2024-07-02T01:27:23.220Z"
   },
   {
    "duration": 203,
    "start_time": "2024-07-02T01:27:23.331Z"
   },
   {
    "duration": 327,
    "start_time": "2024-07-02T01:27:23.537Z"
   },
   {
    "duration": 7,
    "start_time": "2024-07-02T01:27:23.867Z"
   },
   {
    "duration": 925,
    "start_time": "2024-07-02T01:27:23.878Z"
   },
   {
    "duration": 16,
    "start_time": "2024-07-02T01:27:24.806Z"
   },
   {
    "duration": 141,
    "start_time": "2024-07-02T01:27:24.825Z"
   },
   {
    "duration": 12,
    "start_time": "2024-07-02T01:27:24.969Z"
   },
   {
    "duration": 39,
    "start_time": "2024-07-02T01:27:24.984Z"
   },
   {
    "duration": 4,
    "start_time": "2024-07-02T01:34:18.259Z"
   },
   {
    "duration": 414,
    "start_time": "2024-07-02T01:35:04.866Z"
   },
   {
    "duration": 7,
    "start_time": "2024-07-02T01:35:12.101Z"
   },
   {
    "duration": 716,
    "start_time": "2024-07-02T01:35:12.118Z"
   },
   {
    "duration": 834,
    "start_time": "2024-07-02T01:35:12.838Z"
   },
   {
    "duration": 42,
    "start_time": "2024-07-02T01:35:13.675Z"
   },
   {
    "duration": 33,
    "start_time": "2024-07-02T01:35:13.720Z"
   },
   {
    "duration": 62,
    "start_time": "2024-07-02T01:35:13.758Z"
   },
   {
    "duration": 11,
    "start_time": "2024-07-02T01:35:13.823Z"
   },
   {
    "duration": 111,
    "start_time": "2024-07-02T01:35:13.837Z"
   },
   {
    "duration": 105,
    "start_time": "2024-07-02T01:35:13.952Z"
   },
   {
    "duration": 435,
    "start_time": "2024-07-02T01:35:14.060Z"
   },
   {
    "duration": 14,
    "start_time": "2024-07-02T01:35:14.499Z"
   },
   {
    "duration": 206,
    "start_time": "2024-07-02T01:35:14.517Z"
   },
   {
    "duration": 6,
    "start_time": "2024-07-02T01:35:14.726Z"
   },
   {
    "duration": 88,
    "start_time": "2024-07-02T01:35:14.734Z"
   },
   {
    "duration": 5,
    "start_time": "2024-07-02T01:35:14.828Z"
   },
   {
    "duration": 43,
    "start_time": "2024-07-02T01:35:14.836Z"
   },
   {
    "duration": 29,
    "start_time": "2024-07-02T01:35:14.883Z"
   },
   {
    "duration": 123,
    "start_time": "2024-07-02T01:35:14.915Z"
   },
   {
    "duration": 104,
    "start_time": "2024-07-02T01:35:15.041Z"
   },
   {
    "duration": 218,
    "start_time": "2024-07-02T01:35:15.148Z"
   },
   {
    "duration": 297,
    "start_time": "2024-07-02T01:35:15.372Z"
   },
   {
    "duration": 7,
    "start_time": "2024-07-02T01:35:15.672Z"
   },
   {
    "duration": 838,
    "start_time": "2024-07-02T01:35:15.681Z"
   },
   {
    "duration": 12,
    "start_time": "2024-07-02T01:35:16.522Z"
   },
   {
    "duration": 130,
    "start_time": "2024-07-02T01:35:16.537Z"
   },
   {
    "duration": 12,
    "start_time": "2024-07-02T01:35:16.670Z"
   },
   {
    "duration": 38,
    "start_time": "2024-07-02T01:35:16.685Z"
   },
   {
    "duration": 113,
    "start_time": "2024-07-02T01:35:16.726Z"
   },
   {
    "duration": 113,
    "start_time": "2024-07-02T01:35:16.842Z"
   },
   {
    "duration": 22,
    "start_time": "2024-07-02T01:57:36.975Z"
   },
   {
    "duration": 552,
    "start_time": "2024-07-02T01:58:08.841Z"
   },
   {
    "duration": 574,
    "start_time": "2024-07-02T01:58:15.769Z"
   },
   {
    "duration": 540,
    "start_time": "2024-07-02T01:58:42.539Z"
   },
   {
    "duration": 22,
    "start_time": "2024-07-02T02:22:53.326Z"
   },
   {
    "duration": 22,
    "start_time": "2024-07-02T02:23:36.072Z"
   },
   {
    "duration": 872,
    "start_time": "2024-07-02T02:23:45.904Z"
   },
   {
    "duration": 9,
    "start_time": "2024-07-02T02:24:00.052Z"
   },
   {
    "duration": 7,
    "start_time": "2024-07-02T02:24:05.434Z"
   },
   {
    "duration": 28,
    "start_time": "2024-07-02T02:24:14.308Z"
   },
   {
    "duration": 5230,
    "start_time": "2024-07-02T05:14:41.223Z"
   },
   {
    "duration": 832,
    "start_time": "2024-07-02T05:14:46.457Z"
   },
   {
    "duration": 819,
    "start_time": "2024-07-02T05:14:47.293Z"
   },
   {
    "duration": 29,
    "start_time": "2024-07-02T05:14:48.116Z"
   },
   {
    "duration": 68,
    "start_time": "2024-07-02T05:14:48.153Z"
   },
   {
    "duration": 42,
    "start_time": "2024-07-02T05:14:48.224Z"
   },
   {
    "duration": 33,
    "start_time": "2024-07-02T05:14:48.270Z"
   },
   {
    "duration": 104,
    "start_time": "2024-07-02T05:14:48.306Z"
   },
   {
    "duration": 102,
    "start_time": "2024-07-02T05:14:48.413Z"
   },
   {
    "duration": 441,
    "start_time": "2024-07-02T05:14:48.518Z"
   },
   {
    "duration": 5,
    "start_time": "2024-07-02T05:14:48.962Z"
   },
   {
    "duration": 199,
    "start_time": "2024-07-02T05:14:48.970Z"
   },
   {
    "duration": 6,
    "start_time": "2024-07-02T05:14:49.173Z"
   },
   {
    "duration": 71,
    "start_time": "2024-07-02T05:14:49.204Z"
   },
   {
    "duration": 22,
    "start_time": "2024-07-02T05:14:49.281Z"
   },
   {
    "duration": 49,
    "start_time": "2024-07-02T05:14:49.306Z"
   },
   {
    "duration": 5,
    "start_time": "2024-07-02T05:14:49.358Z"
   },
   {
    "duration": 149,
    "start_time": "2024-07-02T05:14:49.366Z"
   },
   {
    "duration": 108,
    "start_time": "2024-07-02T05:14:49.519Z"
   },
   {
    "duration": 206,
    "start_time": "2024-07-02T05:14:49.630Z"
   },
   {
    "duration": 325,
    "start_time": "2024-07-02T05:14:49.839Z"
   },
   {
    "duration": 7,
    "start_time": "2024-07-02T05:14:50.167Z"
   },
   {
    "duration": 846,
    "start_time": "2024-07-02T05:14:50.177Z"
   },
   {
    "duration": 12,
    "start_time": "2024-07-02T05:14:51.026Z"
   },
   {
    "duration": 152,
    "start_time": "2024-07-02T05:14:51.040Z"
   },
   {
    "duration": 15,
    "start_time": "2024-07-02T05:14:51.195Z"
   },
   {
    "duration": 19,
    "start_time": "2024-07-02T05:14:51.213Z"
   },
   {
    "duration": 563,
    "start_time": "2024-07-02T05:14:51.235Z"
   },
   {
    "duration": 22,
    "start_time": "2024-07-02T05:14:51.801Z"
   },
   {
    "duration": 114,
    "start_time": "2024-07-02T05:14:51.826Z"
   },
   {
    "duration": 109,
    "start_time": "2024-07-02T05:14:57.852Z"
   },
   {
    "duration": 284,
    "start_time": "2024-07-02T05:14:59.911Z"
   },
   {
    "duration": 79,
    "start_time": "2024-07-02T05:15:26.386Z"
   },
   {
    "duration": 833,
    "start_time": "2024-07-02T05:15:52.369Z"
   },
   {
    "duration": 15366,
    "start_time": "2024-07-02T05:16:03.060Z"
   },
   {
    "duration": 513,
    "start_time": "2024-07-02T05:17:06.125Z"
   },
   {
    "duration": 121,
    "start_time": "2024-07-02T05:17:25.222Z"
   },
   {
    "duration": 4,
    "start_time": "2024-07-02T05:18:26.423Z"
   },
   {
    "duration": 8,
    "start_time": "2024-07-02T05:18:32.526Z"
   },
   {
    "duration": 6,
    "start_time": "2024-07-02T05:19:03.352Z"
   },
   {
    "duration": 1655,
    "start_time": "2024-07-02T05:24:04.685Z"
   },
   {
    "duration": 824,
    "start_time": "2024-07-02T05:24:06.345Z"
   },
   {
    "duration": 884,
    "start_time": "2024-07-02T05:24:07.174Z"
   },
   {
    "duration": 40,
    "start_time": "2024-07-02T05:24:08.062Z"
   },
   {
    "duration": 42,
    "start_time": "2024-07-02T05:24:08.106Z"
   },
   {
    "duration": 65,
    "start_time": "2024-07-02T05:24:08.151Z"
   },
   {
    "duration": 11,
    "start_time": "2024-07-02T05:24:08.221Z"
   },
   {
    "duration": 113,
    "start_time": "2024-07-02T05:24:08.235Z"
   },
   {
    "duration": 109,
    "start_time": "2024-07-02T05:24:08.352Z"
   },
   {
    "duration": 487,
    "start_time": "2024-07-02T05:24:08.464Z"
   },
   {
    "duration": 6,
    "start_time": "2024-07-02T05:24:08.954Z"
   },
   {
    "duration": 205,
    "start_time": "2024-07-02T05:24:08.964Z"
   },
   {
    "duration": 7,
    "start_time": "2024-07-02T05:24:09.173Z"
   },
   {
    "duration": 85,
    "start_time": "2024-07-02T05:24:09.202Z"
   },
   {
    "duration": 14,
    "start_time": "2024-07-02T05:24:09.290Z"
   },
   {
    "duration": 49,
    "start_time": "2024-07-02T05:24:09.307Z"
   },
   {
    "duration": 5,
    "start_time": "2024-07-02T05:24:09.359Z"
   },
   {
    "duration": 161,
    "start_time": "2024-07-02T05:24:09.367Z"
   },
   {
    "duration": 108,
    "start_time": "2024-07-02T05:24:09.531Z"
   },
   {
    "duration": 205,
    "start_time": "2024-07-02T05:24:09.642Z"
   },
   {
    "duration": 302,
    "start_time": "2024-07-02T05:24:09.850Z"
   },
   {
    "duration": 7,
    "start_time": "2024-07-02T05:24:10.154Z"
   },
   {
    "duration": 868,
    "start_time": "2024-07-02T05:24:10.164Z"
   },
   {
    "duration": 12,
    "start_time": "2024-07-02T05:24:11.035Z"
   },
   {
    "duration": 149,
    "start_time": "2024-07-02T05:24:11.049Z"
   },
   {
    "duration": 13,
    "start_time": "2024-07-02T05:24:11.202Z"
   },
   {
    "duration": 18,
    "start_time": "2024-07-02T05:24:11.217Z"
   },
   {
    "duration": 577,
    "start_time": "2024-07-02T05:24:11.238Z"
   },
   {
    "duration": 21,
    "start_time": "2024-07-02T05:24:11.818Z"
   },
   {
    "duration": 882,
    "start_time": "2024-07-02T05:24:11.842Z"
   },
   {
    "duration": 15294,
    "start_time": "2024-07-02T05:24:12.728Z"
   },
   {
    "duration": 286,
    "start_time": "2024-07-02T05:24:28.025Z"
   },
   {
    "duration": 10,
    "start_time": "2024-07-02T05:24:28.315Z"
   },
   {
    "duration": 5144,
    "start_time": "2024-07-04T22:14:39.972Z"
   },
   {
    "duration": 793,
    "start_time": "2024-07-04T22:14:45.119Z"
   },
   {
    "duration": 8,
    "start_time": "2024-07-04T22:17:57.640Z"
   },
   {
    "duration": 734,
    "start_time": "2024-07-04T22:17:57.652Z"
   },
   {
    "duration": 824,
    "start_time": "2024-07-04T22:17:58.389Z"
   },
   {
    "duration": 39,
    "start_time": "2024-07-04T22:17:59.216Z"
   },
   {
    "duration": 38,
    "start_time": "2024-07-04T22:17:59.260Z"
   },
   {
    "duration": 63,
    "start_time": "2024-07-04T22:17:59.301Z"
   },
   {
    "duration": 9,
    "start_time": "2024-07-04T22:17:59.367Z"
   },
   {
    "duration": 112,
    "start_time": "2024-07-04T22:17:59.379Z"
   },
   {
    "duration": 100,
    "start_time": "2024-07-04T22:17:59.494Z"
   },
   {
    "duration": 426,
    "start_time": "2024-07-04T22:17:59.596Z"
   },
   {
    "duration": 10,
    "start_time": "2024-07-04T22:18:00.025Z"
   },
   {
    "duration": 202,
    "start_time": "2024-07-04T22:18:00.038Z"
   },
   {
    "duration": 6,
    "start_time": "2024-07-04T22:18:00.245Z"
   },
   {
    "duration": 88,
    "start_time": "2024-07-04T22:18:00.257Z"
   },
   {
    "duration": 5,
    "start_time": "2024-07-04T22:18:00.347Z"
   },
   {
    "duration": 46,
    "start_time": "2024-07-04T22:18:00.356Z"
   },
   {
    "duration": 5,
    "start_time": "2024-07-04T22:18:00.431Z"
   },
   {
    "duration": 129,
    "start_time": "2024-07-04T22:18:00.439Z"
   },
   {
    "duration": 108,
    "start_time": "2024-07-04T22:18:00.571Z"
   },
   {
    "duration": 203,
    "start_time": "2024-07-04T22:18:00.682Z"
   },
   {
    "duration": 318,
    "start_time": "2024-07-04T22:18:00.888Z"
   },
   {
    "duration": 8,
    "start_time": "2024-07-04T22:18:01.209Z"
   },
   {
    "duration": 890,
    "start_time": "2024-07-04T22:18:01.219Z"
   },
   {
    "duration": 24,
    "start_time": "2024-07-04T22:18:02.112Z"
   },
   {
    "duration": 139,
    "start_time": "2024-07-04T22:18:02.139Z"
   },
   {
    "duration": 15,
    "start_time": "2024-07-04T22:18:02.281Z"
   },
   {
    "duration": 47,
    "start_time": "2024-07-04T22:18:02.299Z"
   },
   {
    "duration": 583,
    "start_time": "2024-07-04T22:18:02.349Z"
   },
   {
    "duration": 21,
    "start_time": "2024-07-04T22:18:02.936Z"
   },
   {
    "duration": 973,
    "start_time": "2024-07-04T22:18:02.960Z"
   },
   {
    "duration": 15397,
    "start_time": "2024-07-04T22:18:03.937Z"
   },
   {
    "duration": 203,
    "start_time": "2024-07-04T22:18:19.337Z"
   },
   {
    "duration": 6,
    "start_time": "2024-07-04T22:18:19.543Z"
   },
   {
    "duration": 130278,
    "start_time": "2024-07-04T22:18:19.552Z"
   },
   {
    "duration": 5817,
    "start_time": "2024-07-06T02:00:33.546Z"
   },
   {
    "duration": 932,
    "start_time": "2024-07-06T02:00:39.367Z"
   },
   {
    "duration": 1034,
    "start_time": "2024-07-06T02:00:40.305Z"
   },
   {
    "duration": 35,
    "start_time": "2024-07-06T02:00:41.345Z"
   },
   {
    "duration": 69,
    "start_time": "2024-07-06T02:00:41.382Z"
   },
   {
    "duration": 43,
    "start_time": "2024-07-06T02:00:41.454Z"
   },
   {
    "duration": 12,
    "start_time": "2024-07-06T02:00:41.524Z"
   },
   {
    "duration": 121,
    "start_time": "2024-07-06T02:00:41.539Z"
   },
   {
    "duration": 113,
    "start_time": "2024-07-06T02:00:41.663Z"
   },
   {
    "duration": 611,
    "start_time": "2024-07-06T02:00:41.784Z"
   },
   {
    "duration": 6,
    "start_time": "2024-07-06T02:00:42.399Z"
   },
   {
    "duration": 205,
    "start_time": "2024-07-06T02:00:42.427Z"
   },
   {
    "duration": 11,
    "start_time": "2024-07-06T02:00:42.636Z"
   },
   {
    "duration": 128,
    "start_time": "2024-07-06T02:00:42.655Z"
   },
   {
    "duration": 6,
    "start_time": "2024-07-06T02:00:42.786Z"
   },
   {
    "duration": 69,
    "start_time": "2024-07-06T02:00:42.796Z"
   },
   {
    "duration": 6,
    "start_time": "2024-07-06T02:00:42.871Z"
   },
   {
    "duration": 145,
    "start_time": "2024-07-06T02:00:42.880Z"
   },
   {
    "duration": 108,
    "start_time": "2024-07-06T02:00:43.028Z"
   },
   {
    "duration": 225,
    "start_time": "2024-07-06T02:00:43.139Z"
   },
   {
    "duration": 309,
    "start_time": "2024-07-06T02:00:43.367Z"
   },
   {
    "duration": 7,
    "start_time": "2024-07-06T02:00:43.680Z"
   },
   {
    "duration": 968,
    "start_time": "2024-07-06T02:00:43.691Z"
   },
   {
    "duration": 12,
    "start_time": "2024-07-06T02:00:44.663Z"
   },
   {
    "duration": 154,
    "start_time": "2024-07-06T02:00:44.678Z"
   },
   {
    "duration": 12,
    "start_time": "2024-07-06T02:00:44.835Z"
   },
   {
    "duration": 22,
    "start_time": "2024-07-06T02:00:44.850Z"
   },
   {
    "duration": 644,
    "start_time": "2024-07-06T02:00:44.879Z"
   },
   {
    "duration": 27,
    "start_time": "2024-07-06T02:00:45.528Z"
   },
   {
    "duration": 903,
    "start_time": "2024-07-06T02:00:45.559Z"
   },
   {
    "duration": 16559,
    "start_time": "2024-07-06T02:00:46.465Z"
   },
   {
    "duration": 207,
    "start_time": "2024-07-06T02:01:03.028Z"
   },
   {
    "duration": 6,
    "start_time": "2024-07-06T02:01:03.238Z"
   },
   {
    "duration": 5,
    "start_time": "2024-07-06T02:17:15.939Z"
   },
   {
    "duration": 23,
    "start_time": "2024-07-06T02:18:59.788Z"
   },
   {
    "duration": 6,
    "start_time": "2024-07-06T02:23:26.218Z"
   },
   {
    "duration": 465,
    "start_time": "2024-07-06T02:23:44.875Z"
   },
   {
    "duration": 913,
    "start_time": "2024-07-06T02:25:51.483Z"
   },
   {
    "duration": 8,
    "start_time": "2024-07-06T02:25:57.911Z"
   },
   {
    "duration": 6,
    "start_time": "2024-07-06T02:26:04.084Z"
   },
   {
    "duration": 8,
    "start_time": "2024-07-06T02:26:20.959Z"
   },
   {
    "duration": 5,
    "start_time": "2024-07-06T02:26:26.296Z"
   },
   {
    "duration": 57,
    "start_time": "2024-07-06T02:31:12.308Z"
   },
   {
    "duration": 8,
    "start_time": "2024-07-06T02:31:24.562Z"
   },
   {
    "duration": 5,
    "start_time": "2024-07-06T02:35:56.096Z"
   },
   {
    "duration": 31,
    "start_time": "2024-07-06T02:45:55.984Z"
   },
   {
    "duration": 90,
    "start_time": "2024-07-06T02:46:37.088Z"
   },
   {
    "duration": 10,
    "start_time": "2024-07-06T02:50:32.957Z"
   },
   {
    "duration": 5,
    "start_time": "2024-07-06T02:53:42.559Z"
   },
   {
    "duration": 1093,
    "start_time": "2024-07-06T02:55:11.912Z"
   },
   {
    "duration": 34,
    "start_time": "2024-07-06T03:00:52.771Z"
   },
   {
    "duration": 30,
    "start_time": "2024-07-06T03:01:03.155Z"
   },
   {
    "duration": 2185,
    "start_time": "2024-07-06T03:01:19.768Z"
   },
   {
    "duration": 2641,
    "start_time": "2024-07-06T03:03:31.310Z"
   },
   {
    "duration": 48,
    "start_time": "2024-07-06T03:17:40.558Z"
   },
   {
    "duration": 5588,
    "start_time": "2024-07-06T22:11:38.312Z"
   },
   {
    "duration": 832,
    "start_time": "2024-07-06T22:11:43.904Z"
   },
   {
    "duration": 861,
    "start_time": "2024-07-06T22:11:44.740Z"
   },
   {
    "duration": 44,
    "start_time": "2024-07-06T22:11:45.607Z"
   },
   {
    "duration": 43,
    "start_time": "2024-07-06T22:11:45.654Z"
   },
   {
    "duration": 75,
    "start_time": "2024-07-06T22:11:45.701Z"
   },
   {
    "duration": 18,
    "start_time": "2024-07-06T22:11:45.779Z"
   },
   {
    "duration": 132,
    "start_time": "2024-07-06T22:11:45.800Z"
   },
   {
    "duration": 105,
    "start_time": "2024-07-06T22:11:45.935Z"
   },
   {
    "duration": 432,
    "start_time": "2024-07-06T22:11:46.048Z"
   },
   {
    "duration": 6,
    "start_time": "2024-07-06T22:11:46.483Z"
   },
   {
    "duration": 232,
    "start_time": "2024-07-06T22:11:46.494Z"
   },
   {
    "duration": 7,
    "start_time": "2024-07-06T22:11:46.730Z"
   },
   {
    "duration": 98,
    "start_time": "2024-07-06T22:11:46.741Z"
   },
   {
    "duration": 5,
    "start_time": "2024-07-06T22:11:46.842Z"
   },
   {
    "duration": 81,
    "start_time": "2024-07-06T22:11:46.851Z"
   },
   {
    "duration": 6,
    "start_time": "2024-07-06T22:11:46.935Z"
   },
   {
    "duration": 139,
    "start_time": "2024-07-06T22:11:46.944Z"
   },
   {
    "duration": 105,
    "start_time": "2024-07-06T22:11:47.086Z"
   },
   {
    "duration": 223,
    "start_time": "2024-07-06T22:11:47.195Z"
   },
   {
    "duration": 317,
    "start_time": "2024-07-06T22:11:47.424Z"
   },
   {
    "duration": 8,
    "start_time": "2024-07-06T22:11:47.745Z"
   },
   {
    "duration": 904,
    "start_time": "2024-07-06T22:11:47.757Z"
   },
   {
    "duration": 11,
    "start_time": "2024-07-06T22:11:48.665Z"
   },
   {
    "duration": 148,
    "start_time": "2024-07-06T22:11:48.679Z"
   },
   {
    "duration": 14,
    "start_time": "2024-07-06T22:11:48.830Z"
   },
   {
    "duration": 20,
    "start_time": "2024-07-06T22:11:48.847Z"
   },
   {
    "duration": 643,
    "start_time": "2024-07-06T22:11:48.874Z"
   },
   {
    "duration": 23,
    "start_time": "2024-07-06T22:11:49.524Z"
   },
   {
    "duration": 960,
    "start_time": "2024-07-06T22:11:49.551Z"
   },
   {
    "duration": 9,
    "start_time": "2024-07-06T22:11:50.514Z"
   },
   {
    "duration": 16106,
    "start_time": "2024-07-06T22:11:50.528Z"
   },
   {
    "duration": 238,
    "start_time": "2024-07-06T22:12:06.644Z"
   },
   {
    "duration": 156,
    "start_time": "2024-07-06T22:12:06.932Z"
   },
   {
    "duration": 5419,
    "start_time": "2024-07-06T23:53:27.516Z"
   },
   {
    "duration": 836,
    "start_time": "2024-07-06T23:53:32.939Z"
   },
   {
    "duration": 829,
    "start_time": "2024-07-06T23:53:33.778Z"
   },
   {
    "duration": 32,
    "start_time": "2024-07-06T23:53:34.609Z"
   },
   {
    "duration": 41,
    "start_time": "2024-07-06T23:53:34.647Z"
   },
   {
    "duration": 37,
    "start_time": "2024-07-06T23:53:34.713Z"
   },
   {
    "duration": 11,
    "start_time": "2024-07-06T23:53:34.753Z"
   },
   {
    "duration": 131,
    "start_time": "2024-07-06T23:53:34.766Z"
   },
   {
    "duration": 133,
    "start_time": "2024-07-06T23:53:34.900Z"
   },
   {
    "duration": 425,
    "start_time": "2024-07-06T23:53:35.036Z"
   },
   {
    "duration": 5,
    "start_time": "2024-07-06T23:53:35.464Z"
   },
   {
    "duration": 198,
    "start_time": "2024-07-06T23:53:35.472Z"
   },
   {
    "duration": 5,
    "start_time": "2024-07-06T23:53:35.674Z"
   },
   {
    "duration": 87,
    "start_time": "2024-07-06T23:53:35.689Z"
   },
   {
    "duration": 6,
    "start_time": "2024-07-06T23:53:35.778Z"
   },
   {
    "duration": 64,
    "start_time": "2024-07-06T23:53:35.787Z"
   },
   {
    "duration": 6,
    "start_time": "2024-07-06T23:53:35.854Z"
   },
   {
    "duration": 137,
    "start_time": "2024-07-06T23:53:35.863Z"
   },
   {
    "duration": 83,
    "start_time": "2024-07-06T23:53:36.012Z"
   },
   {
    "duration": 214,
    "start_time": "2024-07-06T23:53:36.098Z"
   },
   {
    "duration": 313,
    "start_time": "2024-07-06T23:53:36.315Z"
   },
   {
    "duration": 10,
    "start_time": "2024-07-06T23:53:36.631Z"
   },
   {
    "duration": 858,
    "start_time": "2024-07-06T23:53:36.643Z"
   },
   {
    "duration": 11,
    "start_time": "2024-07-06T23:53:37.511Z"
   },
   {
    "duration": 137,
    "start_time": "2024-07-06T23:53:37.525Z"
   },
   {
    "duration": 11,
    "start_time": "2024-07-06T23:53:37.665Z"
   },
   {
    "duration": 42,
    "start_time": "2024-07-06T23:53:37.680Z"
   },
   {
    "duration": 561,
    "start_time": "2024-07-06T23:53:37.724Z"
   },
   {
    "duration": 33,
    "start_time": "2024-07-06T23:53:38.288Z"
   },
   {
    "duration": 851,
    "start_time": "2024-07-06T23:53:38.324Z"
   },
   {
    "duration": 4,
    "start_time": "2024-07-06T23:53:39.178Z"
   },
   {
    "duration": 15329,
    "start_time": "2024-07-06T23:53:39.185Z"
   },
   {
    "duration": 213,
    "start_time": "2024-07-06T23:53:54.517Z"
   },
   {
    "duration": 73,
    "start_time": "2024-07-06T23:53:54.739Z"
   },
   {
    "duration": 5,
    "start_time": "2024-07-06T23:54:23.768Z"
   },
   {
    "duration": 5,
    "start_time": "2024-07-06T23:54:28.158Z"
   },
   {
    "duration": 2784,
    "start_time": "2024-07-06T23:54:30.342Z"
   },
   {
    "duration": 4,
    "start_time": "2024-07-06T23:59:45.630Z"
   },
   {
    "duration": 7586,
    "start_time": "2024-07-07T00:09:05.028Z"
   },
   {
    "duration": 1034,
    "start_time": "2024-07-07T00:15:30.702Z"
   },
   {
    "duration": 9,
    "start_time": "2024-07-07T00:25:30.921Z"
   },
   {
    "duration": 735,
    "start_time": "2024-07-07T00:25:30.936Z"
   },
   {
    "duration": 812,
    "start_time": "2024-07-07T00:25:31.674Z"
   },
   {
    "duration": 37,
    "start_time": "2024-07-07T00:25:32.488Z"
   },
   {
    "duration": 33,
    "start_time": "2024-07-07T00:25:32.530Z"
   },
   {
    "duration": 59,
    "start_time": "2024-07-07T00:25:32.567Z"
   },
   {
    "duration": 9,
    "start_time": "2024-07-07T00:25:32.630Z"
   },
   {
    "duration": 106,
    "start_time": "2024-07-07T00:25:32.642Z"
   },
   {
    "duration": 106,
    "start_time": "2024-07-07T00:25:32.752Z"
   },
   {
    "duration": 435,
    "start_time": "2024-07-07T00:25:32.861Z"
   },
   {
    "duration": 18,
    "start_time": "2024-07-07T00:25:33.299Z"
   },
   {
    "duration": 194,
    "start_time": "2024-07-07T00:25:33.321Z"
   },
   {
    "duration": 6,
    "start_time": "2024-07-07T00:25:33.518Z"
   },
   {
    "duration": 98,
    "start_time": "2024-07-07T00:25:33.534Z"
   },
   {
    "duration": 6,
    "start_time": "2024-07-07T00:25:33.634Z"
   },
   {
    "duration": 71,
    "start_time": "2024-07-07T00:25:33.644Z"
   },
   {
    "duration": 7,
    "start_time": "2024-07-07T00:25:33.720Z"
   },
   {
    "duration": 140,
    "start_time": "2024-07-07T00:25:33.730Z"
   },
   {
    "duration": 101,
    "start_time": "2024-07-07T00:25:33.874Z"
   },
   {
    "duration": 204,
    "start_time": "2024-07-07T00:25:33.978Z"
   },
   {
    "duration": 295,
    "start_time": "2024-07-07T00:25:34.185Z"
   },
   {
    "duration": 6,
    "start_time": "2024-07-07T00:25:34.483Z"
   },
   {
    "duration": 858,
    "start_time": "2024-07-07T00:25:34.493Z"
   },
   {
    "duration": 26,
    "start_time": "2024-07-07T00:25:35.354Z"
   },
   {
    "duration": 118,
    "start_time": "2024-07-07T00:25:35.382Z"
   },
   {
    "duration": 15,
    "start_time": "2024-07-07T00:25:35.503Z"
   },
   {
    "duration": 20,
    "start_time": "2024-07-07T00:25:35.521Z"
   },
   {
    "duration": 568,
    "start_time": "2024-07-07T00:25:35.544Z"
   },
   {
    "duration": 21,
    "start_time": "2024-07-07T00:25:36.114Z"
   },
   {
    "duration": 845,
    "start_time": "2024-07-07T00:25:36.138Z"
   },
   {
    "duration": 4,
    "start_time": "2024-07-07T00:25:36.986Z"
   },
   {
    "duration": 1666,
    "start_time": "2024-07-07T00:26:04.291Z"
   },
   {
    "duration": 788,
    "start_time": "2024-07-07T00:26:05.961Z"
   },
   {
    "duration": 831,
    "start_time": "2024-07-07T00:26:06.752Z"
   },
   {
    "duration": 39,
    "start_time": "2024-07-07T00:26:07.586Z"
   },
   {
    "duration": 41,
    "start_time": "2024-07-07T00:26:07.630Z"
   },
   {
    "duration": 57,
    "start_time": "2024-07-07T00:26:07.676Z"
   },
   {
    "duration": 11,
    "start_time": "2024-07-07T00:26:07.735Z"
   },
   {
    "duration": 117,
    "start_time": "2024-07-07T00:26:07.748Z"
   },
   {
    "duration": 99,
    "start_time": "2024-07-07T00:26:07.868Z"
   },
   {
    "duration": 454,
    "start_time": "2024-07-07T00:26:07.970Z"
   },
   {
    "duration": 6,
    "start_time": "2024-07-07T00:26:08.427Z"
   },
   {
    "duration": 202,
    "start_time": "2024-07-07T00:26:08.437Z"
   },
   {
    "duration": 5,
    "start_time": "2024-07-07T00:26:08.642Z"
   },
   {
    "duration": 91,
    "start_time": "2024-07-07T00:26:08.655Z"
   },
   {
    "duration": 4,
    "start_time": "2024-07-07T00:26:08.752Z"
   },
   {
    "duration": 68,
    "start_time": "2024-07-07T00:26:08.759Z"
   },
   {
    "duration": 5,
    "start_time": "2024-07-07T00:26:08.830Z"
   },
   {
    "duration": 127,
    "start_time": "2024-07-07T00:26:08.838Z"
   },
   {
    "duration": 107,
    "start_time": "2024-07-07T00:26:08.967Z"
   },
   {
    "duration": 195,
    "start_time": "2024-07-07T00:26:09.077Z"
   },
   {
    "duration": 311,
    "start_time": "2024-07-07T00:26:09.275Z"
   },
   {
    "duration": 8,
    "start_time": "2024-07-07T00:26:09.588Z"
   },
   {
    "duration": 864,
    "start_time": "2024-07-07T00:26:09.599Z"
   },
   {
    "duration": 14,
    "start_time": "2024-07-07T00:26:10.466Z"
   },
   {
    "duration": 139,
    "start_time": "2024-07-07T00:26:10.484Z"
   },
   {
    "duration": 12,
    "start_time": "2024-07-07T00:26:10.627Z"
   },
   {
    "duration": 19,
    "start_time": "2024-07-07T00:26:10.642Z"
   },
   {
    "duration": 570,
    "start_time": "2024-07-07T00:26:10.664Z"
   },
   {
    "duration": 21,
    "start_time": "2024-07-07T00:26:11.238Z"
   },
   {
    "duration": 886,
    "start_time": "2024-07-07T00:26:11.262Z"
   },
   {
    "duration": 4,
    "start_time": "2024-07-07T00:26:12.151Z"
   },
   {
    "duration": 15366,
    "start_time": "2024-07-07T00:26:12.158Z"
   },
   {
    "duration": 226,
    "start_time": "2024-07-07T00:26:27.531Z"
   },
   {
    "duration": 55,
    "start_time": "2024-07-07T00:26:27.760Z"
   },
   {
    "duration": 129984,
    "start_time": "2024-07-07T00:26:38.549Z"
   },
   {
    "duration": 7,
    "start_time": "2024-07-07T00:29:23.677Z"
   },
   {
    "duration": 4,
    "start_time": "2024-07-07T00:29:25.424Z"
   },
   {
    "duration": 3073,
    "start_time": "2024-07-07T00:29:26.820Z"
   },
   {
    "duration": 2514,
    "start_time": "2024-07-07T00:30:17.412Z"
   },
   {
    "duration": 7198,
    "start_time": "2024-07-07T00:30:48.918Z"
   },
   {
    "duration": 962,
    "start_time": "2024-07-07T00:30:59.565Z"
   },
   {
    "duration": 113,
    "start_time": "2024-07-07T00:43:37.325Z"
   },
   {
    "duration": 2577,
    "start_time": "2024-07-07T00:44:17.998Z"
   },
   {
    "duration": 2510,
    "start_time": "2024-07-07T00:44:26.995Z"
   },
   {
    "duration": 28,
    "start_time": "2024-07-07T00:44:42.489Z"
   },
   {
    "duration": 929,
    "start_time": "2024-07-07T00:44:49.498Z"
   },
   {
    "duration": 6,
    "start_time": "2024-07-07T00:44:52.754Z"
   },
   {
    "duration": 49479,
    "start_time": "2024-07-07T00:49:42.754Z"
   },
   {
    "duration": 2573,
    "start_time": "2024-07-07T00:50:44.173Z"
   },
   {
    "duration": 128977,
    "start_time": "2024-07-07T00:51:02.271Z"
   },
   {
    "duration": 15563,
    "start_time": "2024-07-07T00:53:11.253Z"
   },
   {
    "duration": 5475,
    "start_time": "2024-07-07T04:40:19.224Z"
   },
   {
    "duration": 1052,
    "start_time": "2024-07-07T04:40:24.702Z"
   },
   {
    "duration": 1089,
    "start_time": "2024-07-07T04:40:25.758Z"
   },
   {
    "duration": 27,
    "start_time": "2024-07-07T04:40:26.852Z"
   },
   {
    "duration": 58,
    "start_time": "2024-07-07T04:40:26.882Z"
   },
   {
    "duration": 41,
    "start_time": "2024-07-07T04:40:26.943Z"
   },
   {
    "duration": 9,
    "start_time": "2024-07-07T04:40:26.988Z"
   },
   {
    "duration": 147,
    "start_time": "2024-07-07T04:40:26.999Z"
   },
   {
    "duration": 106,
    "start_time": "2024-07-07T04:40:27.149Z"
   },
   {
    "duration": 549,
    "start_time": "2024-07-07T04:40:27.264Z"
   },
   {
    "duration": 14,
    "start_time": "2024-07-07T04:40:27.817Z"
   },
   {
    "duration": 196,
    "start_time": "2024-07-07T04:40:27.834Z"
   },
   {
    "duration": 8,
    "start_time": "2024-07-07T04:40:28.033Z"
   },
   {
    "duration": 91,
    "start_time": "2024-07-07T04:40:28.046Z"
   },
   {
    "duration": 5,
    "start_time": "2024-07-07T04:40:28.145Z"
   },
   {
    "duration": 47,
    "start_time": "2024-07-07T04:40:28.153Z"
   },
   {
    "duration": 5,
    "start_time": "2024-07-07T04:40:28.203Z"
   },
   {
    "duration": 161,
    "start_time": "2024-07-07T04:40:28.232Z"
   },
   {
    "duration": 108,
    "start_time": "2024-07-07T04:40:28.396Z"
   },
   {
    "duration": 233,
    "start_time": "2024-07-07T04:40:28.510Z"
   },
   {
    "duration": 318,
    "start_time": "2024-07-07T04:40:28.753Z"
   },
   {
    "duration": 6,
    "start_time": "2024-07-07T04:40:29.078Z"
   },
   {
    "duration": 1043,
    "start_time": "2024-07-07T04:40:29.087Z"
   },
   {
    "duration": 12,
    "start_time": "2024-07-07T04:40:30.134Z"
   },
   {
    "duration": 206,
    "start_time": "2024-07-07T04:40:30.149Z"
   },
   {
    "duration": 15,
    "start_time": "2024-07-07T04:40:30.358Z"
   },
   {
    "duration": 26,
    "start_time": "2024-07-07T04:40:30.376Z"
   },
   {
    "duration": 641,
    "start_time": "2024-07-07T04:40:30.435Z"
   },
   {
    "duration": 26,
    "start_time": "2024-07-07T04:40:31.080Z"
   },
   {
    "duration": 866,
    "start_time": "2024-07-07T04:40:31.130Z"
   },
   {
    "duration": 16222,
    "start_time": "2024-07-07T04:40:32.013Z"
   },
   {
    "duration": 7,
    "start_time": "2024-07-07T04:40:48.238Z"
   },
   {
    "duration": 134873,
    "start_time": "2024-07-07T04:40:48.248Z"
   },
   {
    "duration": 9,
    "start_time": "2024-07-07T04:43:03.123Z"
   },
   {
    "duration": 11,
    "start_time": "2024-07-07T04:43:03.137Z"
   },
   {
    "duration": 3022,
    "start_time": "2024-07-07T04:43:03.153Z"
   },
   {
    "duration": 36,
    "start_time": "2024-07-07T04:43:06.178Z"
   },
   {
    "duration": 80047,
    "start_time": "2024-07-07T04:43:06.217Z"
   },
   {
    "duration": 1087,
    "start_time": "2024-07-07T04:44:26.267Z"
   },
   {
    "duration": 5,
    "start_time": "2024-07-07T04:44:27.361Z"
   },
   {
    "duration": 28,
    "start_time": "2024-07-07T04:48:03.119Z"
   },
   {
    "duration": 5427,
    "start_time": "2024-07-10T03:32:51.711Z"
   },
   {
    "duration": 877,
    "start_time": "2024-07-10T03:32:57.143Z"
   },
   {
    "duration": 873,
    "start_time": "2024-07-10T03:32:58.024Z"
   },
   {
    "duration": 37,
    "start_time": "2024-07-10T03:32:58.901Z"
   },
   {
    "duration": 41,
    "start_time": "2024-07-10T03:32:58.944Z"
   },
   {
    "duration": 40,
    "start_time": "2024-07-10T03:32:59.014Z"
   },
   {
    "duration": 12,
    "start_time": "2024-07-10T03:32:59.057Z"
   },
   {
    "duration": 131,
    "start_time": "2024-07-10T03:32:59.072Z"
   },
   {
    "duration": 113,
    "start_time": "2024-07-10T03:32:59.211Z"
   },
   {
    "duration": 444,
    "start_time": "2024-07-10T03:32:59.328Z"
   },
   {
    "duration": 6,
    "start_time": "2024-07-10T03:32:59.776Z"
   },
   {
    "duration": 252,
    "start_time": "2024-07-10T03:32:59.784Z"
   },
   {
    "duration": 5,
    "start_time": "2024-07-10T03:33:00.040Z"
   },
   {
    "duration": 109,
    "start_time": "2024-07-10T03:33:00.054Z"
   },
   {
    "duration": 6,
    "start_time": "2024-07-10T03:33:00.167Z"
   },
   {
    "duration": 72,
    "start_time": "2024-07-10T03:33:00.176Z"
   },
   {
    "duration": 9,
    "start_time": "2024-07-10T03:33:00.251Z"
   },
   {
    "duration": 139,
    "start_time": "2024-07-10T03:33:00.264Z"
   },
   {
    "duration": 107,
    "start_time": "2024-07-10T03:33:00.407Z"
   },
   {
    "duration": 220,
    "start_time": "2024-07-10T03:33:00.517Z"
   },
   {
    "duration": 315,
    "start_time": "2024-07-10T03:33:00.741Z"
   },
   {
    "duration": 7,
    "start_time": "2024-07-10T03:33:01.060Z"
   },
   {
    "duration": 982,
    "start_time": "2024-07-10T03:33:01.071Z"
   },
   {
    "duration": 11,
    "start_time": "2024-07-10T03:33:02.056Z"
   },
   {
    "duration": 145,
    "start_time": "2024-07-10T03:33:02.070Z"
   },
   {
    "duration": 15,
    "start_time": "2024-07-10T03:33:02.219Z"
   },
   {
    "duration": 20,
    "start_time": "2024-07-10T03:33:02.237Z"
   },
   {
    "duration": 601,
    "start_time": "2024-07-10T03:33:02.261Z"
   },
   {
    "duration": 22,
    "start_time": "2024-07-10T03:33:02.867Z"
   },
   {
    "duration": 865,
    "start_time": "2024-07-10T03:43:47.221Z"
   },
   {
    "duration": 1726862,
    "start_time": "2024-07-10T03:44:40.752Z"
   },
   {
    "duration": 5304,
    "start_time": "2024-07-10T22:40:49.014Z"
   },
   {
    "duration": 827,
    "start_time": "2024-07-10T22:40:54.322Z"
   },
   {
    "duration": 835,
    "start_time": "2024-07-10T22:40:55.152Z"
   },
   {
    "duration": 34,
    "start_time": "2024-07-10T22:40:55.993Z"
   },
   {
    "duration": 58,
    "start_time": "2024-07-10T22:40:56.031Z"
   },
   {
    "duration": 38,
    "start_time": "2024-07-10T22:40:56.092Z"
   },
   {
    "duration": 38,
    "start_time": "2024-07-10T22:40:56.134Z"
   },
   {
    "duration": 115,
    "start_time": "2024-07-10T22:40:56.175Z"
   },
   {
    "duration": 104,
    "start_time": "2024-07-10T22:40:56.293Z"
   },
   {
    "duration": 425,
    "start_time": "2024-07-10T22:40:56.403Z"
   },
   {
    "duration": 5,
    "start_time": "2024-07-10T22:40:56.831Z"
   },
   {
    "duration": 197,
    "start_time": "2024-07-10T22:40:56.840Z"
   },
   {
    "duration": 6,
    "start_time": "2024-07-10T22:40:57.040Z"
   },
   {
    "duration": 85,
    "start_time": "2024-07-10T22:40:57.050Z"
   },
   {
    "duration": 5,
    "start_time": "2024-07-10T22:40:57.139Z"
   },
   {
    "duration": 50,
    "start_time": "2024-07-10T22:40:57.168Z"
   },
   {
    "duration": 5,
    "start_time": "2024-07-10T22:40:57.221Z"
   },
   {
    "duration": 141,
    "start_time": "2024-07-10T22:40:57.229Z"
   },
   {
    "duration": 108,
    "start_time": "2024-07-10T22:40:57.373Z"
   },
   {
    "duration": 210,
    "start_time": "2024-07-10T22:40:57.488Z"
   },
   {
    "duration": 319,
    "start_time": "2024-07-10T22:40:57.701Z"
   },
   {
    "duration": 7,
    "start_time": "2024-07-10T22:40:58.023Z"
   },
   {
    "duration": 945,
    "start_time": "2024-07-10T22:40:58.033Z"
   },
   {
    "duration": 10,
    "start_time": "2024-07-10T22:40:58.982Z"
   },
   {
    "duration": 144,
    "start_time": "2024-07-10T22:40:58.995Z"
   },
   {
    "duration": 26,
    "start_time": "2024-07-10T22:40:59.143Z"
   },
   {
    "duration": 18,
    "start_time": "2024-07-10T22:40:59.172Z"
   },
   {
    "duration": 575,
    "start_time": "2024-07-10T22:40:59.197Z"
   },
   {
    "duration": 23,
    "start_time": "2024-07-10T22:40:59.775Z"
   },
   {
    "duration": 882,
    "start_time": "2024-07-10T22:41:09.835Z"
   },
   {
    "duration": 9,
    "start_time": "2024-07-10T22:48:56.877Z"
   },
   {
    "duration": 1516,
    "start_time": "2024-07-10T22:49:02.108Z"
   },
   {
    "duration": 23,
    "start_time": "2024-07-10T22:49:38.975Z"
   },
   {
    "duration": 29,
    "start_time": "2024-07-10T22:50:31.003Z"
   },
   {
    "duration": 8,
    "start_time": "2024-07-10T22:50:44.536Z"
   },
   {
    "duration": 24,
    "start_time": "2024-07-10T22:50:56.048Z"
   },
   {
    "duration": 31,
    "start_time": "2024-07-10T22:51:16.556Z"
   },
   {
    "duration": 6,
    "start_time": "2024-07-10T22:51:24.387Z"
   },
   {
    "duration": 1855,
    "start_time": "2024-07-10T22:52:11.849Z"
   },
   {
    "duration": 802,
    "start_time": "2024-07-10T22:52:13.707Z"
   },
   {
    "duration": 848,
    "start_time": "2024-07-10T22:52:14.513Z"
   },
   {
    "duration": 28,
    "start_time": "2024-07-10T22:52:15.369Z"
   },
   {
    "duration": 41,
    "start_time": "2024-07-10T22:52:15.402Z"
   },
   {
    "duration": 40,
    "start_time": "2024-07-10T22:52:15.469Z"
   },
   {
    "duration": 9,
    "start_time": "2024-07-10T22:52:15.512Z"
   },
   {
    "duration": 134,
    "start_time": "2024-07-10T22:52:15.524Z"
   },
   {
    "duration": 108,
    "start_time": "2024-07-10T22:52:15.670Z"
   },
   {
    "duration": 423,
    "start_time": "2024-07-10T22:52:15.781Z"
   },
   {
    "duration": 5,
    "start_time": "2024-07-10T22:52:16.207Z"
   },
   {
    "duration": 204,
    "start_time": "2024-07-10T22:52:16.216Z"
   },
   {
    "duration": 5,
    "start_time": "2024-07-10T22:52:16.423Z"
   },
   {
    "duration": 89,
    "start_time": "2024-07-10T22:52:16.435Z"
   },
   {
    "duration": 5,
    "start_time": "2024-07-10T22:52:16.526Z"
   },
   {
    "duration": 66,
    "start_time": "2024-07-10T22:52:16.535Z"
   },
   {
    "duration": 6,
    "start_time": "2024-07-10T22:52:16.603Z"
   },
   {
    "duration": 149,
    "start_time": "2024-07-10T22:52:16.612Z"
   },
   {
    "duration": 108,
    "start_time": "2024-07-10T22:52:16.769Z"
   },
   {
    "duration": 218,
    "start_time": "2024-07-10T22:52:16.879Z"
   },
   {
    "duration": 311,
    "start_time": "2024-07-10T22:52:17.099Z"
   },
   {
    "duration": 8,
    "start_time": "2024-07-10T22:52:17.414Z"
   },
   {
    "duration": 880,
    "start_time": "2024-07-10T22:52:17.425Z"
   },
   {
    "duration": 11,
    "start_time": "2024-07-10T22:52:18.309Z"
   },
   {
    "duration": 151,
    "start_time": "2024-07-10T22:52:18.323Z"
   },
   {
    "duration": 13,
    "start_time": "2024-07-10T22:52:18.478Z"
   },
   {
    "duration": 19,
    "start_time": "2024-07-10T22:52:18.494Z"
   },
   {
    "duration": 612,
    "start_time": "2024-07-10T22:52:18.516Z"
   },
   {
    "duration": 21,
    "start_time": "2024-07-10T22:52:19.131Z"
   },
   {
    "duration": 844,
    "start_time": "2024-07-10T22:52:19.169Z"
   },
   {
    "duration": 0,
    "start_time": "2024-07-10T23:05:49.073Z"
   },
   {
    "duration": 8,
    "start_time": "2024-07-10T23:05:58.756Z"
   },
   {
    "duration": 739,
    "start_time": "2024-07-10T23:05:58.769Z"
   },
   {
    "duration": 819,
    "start_time": "2024-07-10T23:05:59.510Z"
   },
   {
    "duration": 38,
    "start_time": "2024-07-10T23:06:00.331Z"
   },
   {
    "duration": 33,
    "start_time": "2024-07-10T23:06:00.374Z"
   },
   {
    "duration": 60,
    "start_time": "2024-07-10T23:06:00.409Z"
   },
   {
    "duration": 11,
    "start_time": "2024-07-10T23:06:00.472Z"
   },
   {
    "duration": 109,
    "start_time": "2024-07-10T23:06:00.486Z"
   },
   {
    "duration": 110,
    "start_time": "2024-07-10T23:06:00.597Z"
   },
   {
    "duration": 433,
    "start_time": "2024-07-10T23:06:00.710Z"
   },
   {
    "duration": 6,
    "start_time": "2024-07-10T23:06:01.146Z"
   },
   {
    "duration": 192,
    "start_time": "2024-07-10T23:06:01.155Z"
   },
   {
    "duration": 19,
    "start_time": "2024-07-10T23:06:01.350Z"
   },
   {
    "duration": 71,
    "start_time": "2024-07-10T23:06:01.375Z"
   },
   {
    "duration": 21,
    "start_time": "2024-07-10T23:06:01.448Z"
   },
   {
    "duration": 46,
    "start_time": "2024-07-10T23:06:01.473Z"
   },
   {
    "duration": 5,
    "start_time": "2024-07-10T23:06:01.521Z"
   },
   {
    "duration": 139,
    "start_time": "2024-07-10T23:06:01.530Z"
   },
   {
    "duration": 100,
    "start_time": "2024-07-10T23:06:01.672Z"
   },
   {
    "duration": 209,
    "start_time": "2024-07-10T23:06:01.775Z"
   },
   {
    "duration": 296,
    "start_time": "2024-07-10T23:06:01.987Z"
   },
   {
    "duration": 8,
    "start_time": "2024-07-10T23:06:02.285Z"
   },
   {
    "duration": 842,
    "start_time": "2024-07-10T23:06:02.295Z"
   },
   {
    "duration": 27,
    "start_time": "2024-07-10T23:06:03.140Z"
   },
   {
    "duration": 119,
    "start_time": "2024-07-10T23:06:03.170Z"
   },
   {
    "duration": 11,
    "start_time": "2024-07-10T23:06:03.293Z"
   },
   {
    "duration": 17,
    "start_time": "2024-07-10T23:06:03.307Z"
   },
   {
    "duration": 584,
    "start_time": "2024-07-10T23:06:03.328Z"
   },
   {
    "duration": 22,
    "start_time": "2024-07-10T23:06:03.915Z"
   },
   {
    "duration": 894,
    "start_time": "2024-07-10T23:06:03.941Z"
   },
   {
    "duration": 7,
    "start_time": "2024-07-10T23:06:04.837Z"
   },
   {
    "duration": 1849,
    "start_time": "2024-07-10T23:08:11.490Z"
   },
   {
    "duration": 1967,
    "start_time": "2024-07-10T23:10:08.557Z"
   },
   {
    "duration": 1896,
    "start_time": "2024-07-10T23:10:26.484Z"
   },
   {
    "duration": 1131,
    "start_time": "2024-07-10T23:10:45.976Z"
   },
   {
    "duration": 8,
    "start_time": "2024-07-10T23:10:47.112Z"
   },
   {
    "duration": 848,
    "start_time": "2024-07-10T23:10:47.123Z"
   },
   {
    "duration": 865,
    "start_time": "2024-07-10T23:10:47.976Z"
   },
   {
    "duration": 46,
    "start_time": "2024-07-10T23:10:48.844Z"
   },
   {
    "duration": 43,
    "start_time": "2024-07-10T23:10:48.893Z"
   },
   {
    "duration": 68,
    "start_time": "2024-07-10T23:10:48.939Z"
   },
   {
    "duration": 11,
    "start_time": "2024-07-10T23:10:49.010Z"
   },
   {
    "duration": 118,
    "start_time": "2024-07-10T23:10:49.024Z"
   },
   {
    "duration": 104,
    "start_time": "2024-07-10T23:10:49.149Z"
   },
   {
    "duration": 440,
    "start_time": "2024-07-10T23:10:49.256Z"
   },
   {
    "duration": 5,
    "start_time": "2024-07-10T23:10:49.699Z"
   },
   {
    "duration": 204,
    "start_time": "2024-07-10T23:10:49.708Z"
   },
   {
    "duration": 6,
    "start_time": "2024-07-10T23:10:49.916Z"
   },
   {
    "duration": 88,
    "start_time": "2024-07-10T23:10:49.925Z"
   },
   {
    "duration": 5,
    "start_time": "2024-07-10T23:10:50.016Z"
   },
   {
    "duration": 65,
    "start_time": "2024-07-10T23:10:50.024Z"
   },
   {
    "duration": 8,
    "start_time": "2024-07-10T23:10:50.092Z"
   },
   {
    "duration": 129,
    "start_time": "2024-07-10T23:10:50.102Z"
   },
   {
    "duration": 105,
    "start_time": "2024-07-10T23:10:50.233Z"
   },
   {
    "duration": 209,
    "start_time": "2024-07-10T23:10:50.341Z"
   },
   {
    "duration": 314,
    "start_time": "2024-07-10T23:10:50.553Z"
   },
   {
    "duration": 6,
    "start_time": "2024-07-10T23:10:50.871Z"
   },
   {
    "duration": 869,
    "start_time": "2024-07-10T23:10:50.880Z"
   },
   {
    "duration": 22,
    "start_time": "2024-07-10T23:10:51.752Z"
   },
   {
    "duration": 141,
    "start_time": "2024-07-10T23:10:51.778Z"
   },
   {
    "duration": 12,
    "start_time": "2024-07-10T23:10:51.922Z"
   },
   {
    "duration": 37,
    "start_time": "2024-07-10T23:10:51.941Z"
   },
   {
    "duration": 557,
    "start_time": "2024-07-10T23:10:51.981Z"
   },
   {
    "duration": 32,
    "start_time": "2024-07-10T23:10:52.542Z"
   },
   {
    "duration": 892,
    "start_time": "2024-07-10T23:10:52.577Z"
   },
   {
    "duration": 7,
    "start_time": "2024-07-10T23:10:53.472Z"
   },
   {
    "duration": 7,
    "start_time": "2024-07-10T23:11:50.505Z"
   },
   {
    "duration": 1253,
    "start_time": "2024-07-11T06:40:58.440Z"
   },
   {
    "duration": 1577,
    "start_time": "2024-07-11T06:40:59.697Z"
   },
   {
    "duration": 776,
    "start_time": "2024-07-11T06:41:01.276Z"
   },
   {
    "duration": 831,
    "start_time": "2024-07-11T06:41:02.056Z"
   },
   {
    "duration": 29,
    "start_time": "2024-07-11T06:41:02.891Z"
   },
   {
    "duration": 57,
    "start_time": "2024-07-11T06:41:02.923Z"
   },
   {
    "duration": 43,
    "start_time": "2024-07-11T06:41:02.985Z"
   },
   {
    "duration": 10,
    "start_time": "2024-07-11T06:41:03.031Z"
   },
   {
    "duration": 93,
    "start_time": "2024-07-11T06:41:03.068Z"
   },
   {
    "duration": 104,
    "start_time": "2024-07-11T06:41:03.174Z"
   },
   {
    "duration": 427,
    "start_time": "2024-07-11T06:41:03.283Z"
   },
   {
    "duration": 5,
    "start_time": "2024-07-11T06:41:03.712Z"
   },
   {
    "duration": 199,
    "start_time": "2024-07-11T06:41:03.720Z"
   },
   {
    "duration": 7,
    "start_time": "2024-07-11T06:41:03.922Z"
   },
   {
    "duration": 96,
    "start_time": "2024-07-11T06:41:03.933Z"
   },
   {
    "duration": 5,
    "start_time": "2024-07-11T06:41:04.032Z"
   },
   {
    "duration": 63,
    "start_time": "2024-07-11T06:41:04.040Z"
   },
   {
    "duration": 5,
    "start_time": "2024-07-11T06:41:04.105Z"
   },
   {
    "duration": 129,
    "start_time": "2024-07-11T06:41:04.113Z"
   },
   {
    "duration": 100,
    "start_time": "2024-07-11T06:41:04.245Z"
   },
   {
    "duration": 222,
    "start_time": "2024-07-11T06:41:04.349Z"
   },
   {
    "duration": 312,
    "start_time": "2024-07-11T06:41:04.573Z"
   },
   {
    "duration": 10,
    "start_time": "2024-07-11T06:41:04.892Z"
   },
   {
    "duration": 860,
    "start_time": "2024-07-11T06:41:04.905Z"
   },
   {
    "duration": 13,
    "start_time": "2024-07-11T06:41:05.771Z"
   },
   {
    "duration": 134,
    "start_time": "2024-07-11T06:41:05.787Z"
   },
   {
    "duration": 12,
    "start_time": "2024-07-11T06:41:05.924Z"
   },
   {
    "duration": 40,
    "start_time": "2024-07-11T06:41:05.942Z"
   },
   {
    "duration": 557,
    "start_time": "2024-07-11T06:41:05.989Z"
   },
   {
    "duration": 38,
    "start_time": "2024-07-11T06:41:06.549Z"
   },
   {
    "duration": 895,
    "start_time": "2024-07-11T06:41:06.592Z"
   },
   {
    "duration": 5,
    "start_time": "2024-07-11T06:41:14.880Z"
   },
   {
    "duration": 1091,
    "start_time": "2024-07-11T07:24:22.317Z"
   },
   {
    "duration": 1572,
    "start_time": "2024-07-11T07:24:23.412Z"
   },
   {
    "duration": 751,
    "start_time": "2024-07-11T07:24:24.990Z"
   },
   {
    "duration": 855,
    "start_time": "2024-07-11T07:24:25.747Z"
   },
   {
    "duration": 31,
    "start_time": "2024-07-11T07:24:26.606Z"
   },
   {
    "duration": 54,
    "start_time": "2024-07-11T07:24:26.639Z"
   },
   {
    "duration": 41,
    "start_time": "2024-07-11T07:24:26.697Z"
   },
   {
    "duration": 34,
    "start_time": "2024-07-11T07:24:26.741Z"
   },
   {
    "duration": 101,
    "start_time": "2024-07-11T07:24:26.777Z"
   },
   {
    "duration": 104,
    "start_time": "2024-07-11T07:24:26.884Z"
   },
   {
    "duration": 432,
    "start_time": "2024-07-11T07:24:26.995Z"
   },
   {
    "duration": 6,
    "start_time": "2024-07-11T07:24:27.432Z"
   },
   {
    "duration": 198,
    "start_time": "2024-07-11T07:24:27.441Z"
   },
   {
    "duration": 6,
    "start_time": "2024-07-11T07:24:27.642Z"
   },
   {
    "duration": 88,
    "start_time": "2024-07-11T07:24:27.650Z"
   },
   {
    "duration": 5,
    "start_time": "2024-07-11T07:24:27.740Z"
   },
   {
    "duration": 62,
    "start_time": "2024-07-11T07:24:27.748Z"
   },
   {
    "duration": 6,
    "start_time": "2024-07-11T07:24:27.813Z"
   },
   {
    "duration": 153,
    "start_time": "2024-07-11T07:24:27.827Z"
   },
   {
    "duration": 97,
    "start_time": "2024-07-11T07:24:27.984Z"
   },
   {
    "duration": 212,
    "start_time": "2024-07-11T07:24:28.086Z"
   },
   {
    "duration": 303,
    "start_time": "2024-07-11T07:24:28.305Z"
   },
   {
    "duration": 9,
    "start_time": "2024-07-11T07:24:28.612Z"
   },
   {
    "duration": 863,
    "start_time": "2024-07-11T07:24:28.623Z"
   },
   {
    "duration": 12,
    "start_time": "2024-07-11T07:24:29.495Z"
   },
   {
    "duration": 128,
    "start_time": "2024-07-11T07:24:29.511Z"
   },
   {
    "duration": 27,
    "start_time": "2024-07-11T07:24:29.642Z"
   },
   {
    "duration": 30,
    "start_time": "2024-07-11T07:24:29.674Z"
   },
   {
    "duration": 520,
    "start_time": "2024-07-11T07:24:29.707Z"
   },
   {
    "duration": 39,
    "start_time": "2024-07-11T07:24:30.230Z"
   },
   {
    "duration": 855,
    "start_time": "2024-07-11T07:24:30.275Z"
   },
   {
    "duration": 8,
    "start_time": "2024-07-11T07:24:33.534Z"
   },
   {
    "duration": 606,
    "start_time": "2024-07-11T07:25:31.797Z"
   },
   {
    "duration": 1129,
    "start_time": "2024-07-11T07:58:22.675Z"
   },
   {
    "duration": 9,
    "start_time": "2024-07-11T07:58:23.808Z"
   },
   {
    "duration": 725,
    "start_time": "2024-07-11T07:58:23.822Z"
   },
   {
    "duration": 809,
    "start_time": "2024-07-11T07:58:24.550Z"
   },
   {
    "duration": 32,
    "start_time": "2024-07-11T07:58:25.371Z"
   },
   {
    "duration": 33,
    "start_time": "2024-07-11T07:58:25.405Z"
   },
   {
    "duration": 76,
    "start_time": "2024-07-11T07:58:25.441Z"
   },
   {
    "duration": 11,
    "start_time": "2024-07-11T07:58:25.520Z"
   },
   {
    "duration": 111,
    "start_time": "2024-07-11T07:58:25.534Z"
   },
   {
    "duration": 106,
    "start_time": "2024-07-11T07:58:25.648Z"
   },
   {
    "duration": 1370,
    "start_time": "2024-07-11T07:59:18.650Z"
   },
   {
    "duration": 1800,
    "start_time": "2024-07-11T07:59:20.024Z"
   },
   {
    "duration": 806,
    "start_time": "2024-07-11T07:59:21.827Z"
   },
   {
    "duration": 825,
    "start_time": "2024-07-11T07:59:22.638Z"
   },
   {
    "duration": 33,
    "start_time": "2024-07-11T07:59:23.468Z"
   },
   {
    "duration": 40,
    "start_time": "2024-07-11T07:59:23.504Z"
   },
   {
    "duration": 39,
    "start_time": "2024-07-11T07:59:23.567Z"
   },
   {
    "duration": 9,
    "start_time": "2024-07-11T07:59:23.609Z"
   },
   {
    "duration": 119,
    "start_time": "2024-07-11T07:59:23.621Z"
   },
   {
    "duration": 102,
    "start_time": "2024-07-11T07:59:23.745Z"
   },
   {
    "duration": 437,
    "start_time": "2024-07-11T07:59:23.849Z"
   },
   {
    "duration": 9,
    "start_time": "2024-07-11T07:59:24.290Z"
   },
   {
    "duration": 185,
    "start_time": "2024-07-11T07:59:24.301Z"
   },
   {
    "duration": 7,
    "start_time": "2024-07-11T07:59:24.489Z"
   },
   {
    "duration": 93,
    "start_time": "2024-07-11T07:59:24.498Z"
   },
   {
    "duration": 5,
    "start_time": "2024-07-11T07:59:24.593Z"
   },
   {
    "duration": 43,
    "start_time": "2024-07-11T07:59:24.603Z"
   },
   {
    "duration": 5,
    "start_time": "2024-07-11T07:59:24.649Z"
   },
   {
    "duration": 124,
    "start_time": "2024-07-11T07:59:24.668Z"
   },
   {
    "duration": 102,
    "start_time": "2024-07-11T07:59:24.796Z"
   },
   {
    "duration": 209,
    "start_time": "2024-07-11T07:59:24.900Z"
   },
   {
    "duration": 313,
    "start_time": "2024-07-11T07:59:25.112Z"
   },
   {
    "duration": 7,
    "start_time": "2024-07-11T07:59:25.427Z"
   },
   {
    "duration": 861,
    "start_time": "2024-07-11T07:59:25.437Z"
   },
   {
    "duration": 13,
    "start_time": "2024-07-11T07:59:26.300Z"
   },
   {
    "duration": 148,
    "start_time": "2024-07-11T07:59:26.316Z"
   },
   {
    "duration": 13,
    "start_time": "2024-07-11T07:59:26.470Z"
   },
   {
    "duration": 22,
    "start_time": "2024-07-11T07:59:26.489Z"
   },
   {
    "duration": 563,
    "start_time": "2024-07-11T07:59:26.513Z"
   },
   {
    "duration": 19,
    "start_time": "2024-07-11T07:59:27.079Z"
   },
   {
    "duration": 896,
    "start_time": "2024-07-11T07:59:27.102Z"
   },
   {
    "duration": 9,
    "start_time": "2024-07-11T07:59:28.004Z"
   },
   {
    "duration": 6,
    "start_time": "2024-07-11T07:59:35.104Z"
   },
   {
    "duration": 5,
    "start_time": "2024-07-11T07:59:51.346Z"
   },
   {
    "duration": 1139,
    "start_time": "2024-07-11T08:02:25.085Z"
   },
   {
    "duration": 1648,
    "start_time": "2024-07-11T08:02:26.228Z"
   },
   {
    "duration": 781,
    "start_time": "2024-07-11T08:02:27.880Z"
   },
   {
    "duration": 833,
    "start_time": "2024-07-11T08:02:28.665Z"
   },
   {
    "duration": 30,
    "start_time": "2024-07-11T08:02:29.501Z"
   },
   {
    "duration": 54,
    "start_time": "2024-07-11T08:02:29.534Z"
   },
   {
    "duration": 41,
    "start_time": "2024-07-11T08:02:29.593Z"
   },
   {
    "duration": 32,
    "start_time": "2024-07-11T08:02:29.638Z"
   },
   {
    "duration": 99,
    "start_time": "2024-07-11T08:02:29.672Z"
   },
   {
    "duration": 106,
    "start_time": "2024-07-11T08:02:29.777Z"
   },
   {
    "duration": 412,
    "start_time": "2024-07-11T08:02:29.886Z"
   },
   {
    "duration": 7,
    "start_time": "2024-07-11T08:02:30.301Z"
   },
   {
    "duration": 203,
    "start_time": "2024-07-11T08:02:30.311Z"
   },
   {
    "duration": 6,
    "start_time": "2024-07-11T08:02:30.517Z"
   },
   {
    "duration": 96,
    "start_time": "2024-07-11T08:02:30.527Z"
   },
   {
    "duration": 5,
    "start_time": "2024-07-11T08:02:30.625Z"
   },
   {
    "duration": 69,
    "start_time": "2024-07-11T08:02:30.633Z"
   },
   {
    "duration": 4,
    "start_time": "2024-07-11T08:02:30.705Z"
   },
   {
    "duration": 131,
    "start_time": "2024-07-11T08:02:30.713Z"
   },
   {
    "duration": 98,
    "start_time": "2024-07-11T08:02:30.847Z"
   },
   {
    "duration": 204,
    "start_time": "2024-07-11T08:02:30.948Z"
   },
   {
    "duration": 302,
    "start_time": "2024-07-11T08:02:31.155Z"
   },
   {
    "duration": 14,
    "start_time": "2024-07-11T08:02:31.459Z"
   },
   {
    "duration": 844,
    "start_time": "2024-07-11T08:02:31.479Z"
   },
   {
    "duration": 11,
    "start_time": "2024-07-11T08:02:32.326Z"
   },
   {
    "duration": 141,
    "start_time": "2024-07-11T08:02:32.340Z"
   },
   {
    "duration": 13,
    "start_time": "2024-07-11T08:02:32.483Z"
   },
   {
    "duration": 18,
    "start_time": "2024-07-11T08:02:32.504Z"
   },
   {
    "duration": 562,
    "start_time": "2024-07-11T08:02:32.525Z"
   },
   {
    "duration": 27,
    "start_time": "2024-07-11T08:02:33.090Z"
   },
   {
    "duration": 870,
    "start_time": "2024-07-11T08:02:33.120Z"
   },
   {
    "duration": 10,
    "start_time": "2024-07-11T08:02:33.993Z"
   },
   {
    "duration": 3,
    "start_time": "2024-07-11T08:02:37.163Z"
   },
   {
    "duration": 14,
    "start_time": "2024-07-11T08:02:37.751Z"
   },
   {
    "duration": 4,
    "start_time": "2024-07-11T08:04:31.425Z"
   },
   {
    "duration": 1512,
    "start_time": "2024-07-11T08:04:59.958Z"
   },
   {
    "duration": 1838,
    "start_time": "2024-07-11T08:05:01.479Z"
   },
   {
    "duration": 843,
    "start_time": "2024-07-11T08:05:03.320Z"
   },
   {
    "duration": 831,
    "start_time": "2024-07-11T08:05:04.168Z"
   },
   {
    "duration": 31,
    "start_time": "2024-07-11T08:05:05.005Z"
   },
   {
    "duration": 60,
    "start_time": "2024-07-11T08:05:05.039Z"
   },
   {
    "duration": 39,
    "start_time": "2024-07-11T08:05:05.104Z"
   },
   {
    "duration": 27,
    "start_time": "2024-07-11T08:05:05.147Z"
   },
   {
    "duration": 117,
    "start_time": "2024-07-11T08:05:05.177Z"
   },
   {
    "duration": 103,
    "start_time": "2024-07-11T08:05:05.301Z"
   },
   {
    "duration": 436,
    "start_time": "2024-07-11T08:05:05.407Z"
   },
   {
    "duration": 6,
    "start_time": "2024-07-11T08:05:05.847Z"
   },
   {
    "duration": 187,
    "start_time": "2024-07-11T08:05:05.875Z"
   },
   {
    "duration": 7,
    "start_time": "2024-07-11T08:05:06.069Z"
   },
   {
    "duration": 70,
    "start_time": "2024-07-11T08:05:06.081Z"
   },
   {
    "duration": 18,
    "start_time": "2024-07-11T08:05:06.153Z"
   },
   {
    "duration": 44,
    "start_time": "2024-07-11T08:05:06.173Z"
   },
   {
    "duration": 5,
    "start_time": "2024-07-11T08:05:06.220Z"
   },
   {
    "duration": 145,
    "start_time": "2024-07-11T08:05:06.229Z"
   },
   {
    "duration": 101,
    "start_time": "2024-07-11T08:05:06.377Z"
   },
   {
    "duration": 213,
    "start_time": "2024-07-11T08:05:06.481Z"
   },
   {
    "duration": 296,
    "start_time": "2024-07-11T08:05:06.700Z"
   },
   {
    "duration": 6,
    "start_time": "2024-07-11T08:05:06.999Z"
   },
   {
    "duration": 867,
    "start_time": "2024-07-11T08:05:07.009Z"
   },
   {
    "duration": 15,
    "start_time": "2024-07-11T08:05:07.878Z"
   },
   {
    "duration": 141,
    "start_time": "2024-07-11T08:05:07.896Z"
   },
   {
    "duration": 12,
    "start_time": "2024-07-11T08:05:08.040Z"
   },
   {
    "duration": 40,
    "start_time": "2024-07-11T08:05:08.054Z"
   },
   {
    "duration": 537,
    "start_time": "2024-07-11T08:05:08.098Z"
   },
   {
    "duration": 39,
    "start_time": "2024-07-11T08:05:08.638Z"
   },
   {
    "duration": 870,
    "start_time": "2024-07-11T08:05:08.680Z"
   },
   {
    "duration": 16,
    "start_time": "2024-07-11T08:05:09.553Z"
   },
   {
    "duration": 27,
    "start_time": "2024-07-11T08:05:09.574Z"
   },
   {
    "duration": 1167,
    "start_time": "2024-07-11T08:13:16.644Z"
   },
   {
    "duration": 1627,
    "start_time": "2024-07-11T08:13:17.816Z"
   },
   {
    "duration": 752,
    "start_time": "2024-07-11T08:13:19.446Z"
   },
   {
    "duration": 830,
    "start_time": "2024-07-11T08:13:20.201Z"
   },
   {
    "duration": 45,
    "start_time": "2024-07-11T08:13:21.035Z"
   },
   {
    "duration": 41,
    "start_time": "2024-07-11T08:13:21.083Z"
   },
   {
    "duration": 64,
    "start_time": "2024-07-11T08:13:21.126Z"
   },
   {
    "duration": 9,
    "start_time": "2024-07-11T08:13:21.194Z"
   },
   {
    "duration": 104,
    "start_time": "2024-07-11T08:13:21.206Z"
   },
   {
    "duration": 101,
    "start_time": "2024-07-11T08:13:21.313Z"
   },
   {
    "duration": 499,
    "start_time": "2024-07-11T08:13:21.417Z"
   },
   {
    "duration": 6,
    "start_time": "2024-07-11T08:13:21.919Z"
   },
   {
    "duration": 202,
    "start_time": "2024-07-11T08:13:21.928Z"
   },
   {
    "duration": 6,
    "start_time": "2024-07-11T08:13:22.136Z"
   },
   {
    "duration": 110,
    "start_time": "2024-07-11T08:13:22.145Z"
   },
   {
    "duration": 4,
    "start_time": "2024-07-11T08:13:22.257Z"
   },
   {
    "duration": 53,
    "start_time": "2024-07-11T08:13:22.270Z"
   },
   {
    "duration": 5,
    "start_time": "2024-07-11T08:13:22.326Z"
   },
   {
    "duration": 128,
    "start_time": "2024-07-11T08:13:22.334Z"
   },
   {
    "duration": 107,
    "start_time": "2024-07-11T08:13:22.465Z"
   },
   {
    "duration": 198,
    "start_time": "2024-07-11T08:13:22.574Z"
   },
   {
    "duration": 305,
    "start_time": "2024-07-11T08:13:22.779Z"
   },
   {
    "duration": 11,
    "start_time": "2024-07-11T08:13:23.087Z"
   },
   {
    "duration": 840,
    "start_time": "2024-07-11T08:13:23.103Z"
   },
   {
    "duration": 22,
    "start_time": "2024-07-11T08:13:23.947Z"
   },
   {
    "duration": 129,
    "start_time": "2024-07-11T08:13:23.973Z"
   },
   {
    "duration": 12,
    "start_time": "2024-07-11T08:13:24.105Z"
   },
   {
    "duration": 21,
    "start_time": "2024-07-11T08:13:24.120Z"
   },
   {
    "duration": 552,
    "start_time": "2024-07-11T08:13:24.168Z"
   },
   {
    "duration": 22,
    "start_time": "2024-07-11T08:13:24.723Z"
   },
   {
    "duration": 882,
    "start_time": "2024-07-11T08:13:24.748Z"
   },
   {
    "duration": 4,
    "start_time": "2024-07-11T08:13:25.632Z"
   },
   {
    "duration": 7,
    "start_time": "2024-07-11T08:13:25.639Z"
   },
   {
    "duration": 8,
    "start_time": "2024-07-11T08:13:25.668Z"
   },
   {
    "duration": 4,
    "start_time": "2024-07-11T08:13:27.860Z"
   },
   {
    "duration": 1344,
    "start_time": "2024-07-11T08:14:52.990Z"
   },
   {
    "duration": 1814,
    "start_time": "2024-07-11T08:14:54.338Z"
   },
   {
    "duration": 848,
    "start_time": "2024-07-11T08:14:56.156Z"
   },
   {
    "duration": 841,
    "start_time": "2024-07-11T08:14:57.008Z"
   },
   {
    "duration": 40,
    "start_time": "2024-07-11T08:14:57.855Z"
   },
   {
    "duration": 43,
    "start_time": "2024-07-11T08:14:57.898Z"
   },
   {
    "duration": 66,
    "start_time": "2024-07-11T08:14:57.943Z"
   },
   {
    "duration": 10,
    "start_time": "2024-07-11T08:14:58.015Z"
   },
   {
    "duration": 125,
    "start_time": "2024-07-11T08:14:58.028Z"
   },
   {
    "duration": 118,
    "start_time": "2024-07-11T08:14:58.157Z"
   },
   {
    "duration": 419,
    "start_time": "2024-07-11T08:14:58.277Z"
   },
   {
    "duration": 7,
    "start_time": "2024-07-11T08:14:58.698Z"
   },
   {
    "duration": 202,
    "start_time": "2024-07-11T08:14:58.709Z"
   },
   {
    "duration": 8,
    "start_time": "2024-07-11T08:14:58.917Z"
   },
   {
    "duration": 85,
    "start_time": "2024-07-11T08:14:58.928Z"
   },
   {
    "duration": 5,
    "start_time": "2024-07-11T08:14:59.016Z"
   },
   {
    "duration": 69,
    "start_time": "2024-07-11T08:14:59.024Z"
   },
   {
    "duration": 7,
    "start_time": "2024-07-11T08:14:59.096Z"
   },
   {
    "duration": 129,
    "start_time": "2024-07-11T08:14:59.107Z"
   },
   {
    "duration": 105,
    "start_time": "2024-07-11T08:14:59.239Z"
   },
   {
    "duration": 203,
    "start_time": "2024-07-11T08:14:59.346Z"
   },
   {
    "duration": 314,
    "start_time": "2024-07-11T08:14:59.551Z"
   },
   {
    "duration": 13,
    "start_time": "2024-07-11T08:14:59.873Z"
   },
   {
    "duration": 825,
    "start_time": "2024-07-11T08:14:59.894Z"
   },
   {
    "duration": 10,
    "start_time": "2024-07-11T08:15:00.723Z"
   },
   {
    "duration": 151,
    "start_time": "2024-07-11T08:15:00.737Z"
   },
   {
    "duration": 13,
    "start_time": "2024-07-11T08:15:00.892Z"
   },
   {
    "duration": 17,
    "start_time": "2024-07-11T08:15:00.908Z"
   },
   {
    "duration": 569,
    "start_time": "2024-07-11T08:15:00.928Z"
   },
   {
    "duration": 20,
    "start_time": "2024-07-11T08:15:01.500Z"
   },
   {
    "duration": 915,
    "start_time": "2024-07-11T08:15:01.523Z"
   },
   {
    "duration": 4,
    "start_time": "2024-07-11T08:15:02.441Z"
   },
   {
    "duration": 46,
    "start_time": "2024-07-11T08:15:02.449Z"
   },
   {
    "duration": 4,
    "start_time": "2024-07-11T08:15:02.498Z"
   },
   {
    "duration": 305,
    "start_time": "2024-07-11T08:15:22.497Z"
   },
   {
    "duration": 1319,
    "start_time": "2024-07-11T08:15:35.026Z"
   },
   {
    "duration": 1858,
    "start_time": "2024-07-11T08:15:36.350Z"
   },
   {
    "duration": 822,
    "start_time": "2024-07-11T08:15:38.210Z"
   },
   {
    "duration": 822,
    "start_time": "2024-07-11T08:15:39.036Z"
   },
   {
    "duration": 33,
    "start_time": "2024-07-11T08:15:39.869Z"
   },
   {
    "duration": 65,
    "start_time": "2024-07-11T08:15:39.904Z"
   },
   {
    "duration": 38,
    "start_time": "2024-07-11T08:15:39.972Z"
   },
   {
    "duration": 10,
    "start_time": "2024-07-11T08:15:40.013Z"
   },
   {
    "duration": 124,
    "start_time": "2024-07-11T08:15:40.026Z"
   },
   {
    "duration": 104,
    "start_time": "2024-07-11T08:15:40.156Z"
   },
   {
    "duration": 413,
    "start_time": "2024-07-11T08:15:40.269Z"
   },
   {
    "duration": 8,
    "start_time": "2024-07-11T08:15:40.685Z"
   },
   {
    "duration": 195,
    "start_time": "2024-07-11T08:15:40.696Z"
   },
   {
    "duration": 7,
    "start_time": "2024-07-11T08:15:40.894Z"
   },
   {
    "duration": 91,
    "start_time": "2024-07-11T08:15:40.904Z"
   },
   {
    "duration": 5,
    "start_time": "2024-07-11T08:15:40.998Z"
   },
   {
    "duration": 63,
    "start_time": "2024-07-11T08:15:41.007Z"
   },
   {
    "duration": 5,
    "start_time": "2024-07-11T08:15:41.073Z"
   },
   {
    "duration": 125,
    "start_time": "2024-07-11T08:15:41.082Z"
   },
   {
    "duration": 107,
    "start_time": "2024-07-11T08:15:41.210Z"
   },
   {
    "duration": 199,
    "start_time": "2024-07-11T08:15:41.322Z"
   },
   {
    "duration": 314,
    "start_time": "2024-07-11T08:15:41.533Z"
   },
   {
    "duration": 7,
    "start_time": "2024-07-11T08:15:41.850Z"
   },
   {
    "duration": 845,
    "start_time": "2024-07-11T08:15:41.869Z"
   },
   {
    "duration": 12,
    "start_time": "2024-07-11T08:15:42.718Z"
   },
   {
    "duration": 148,
    "start_time": "2024-07-11T08:15:42.732Z"
   },
   {
    "duration": 12,
    "start_time": "2024-07-11T08:15:42.883Z"
   },
   {
    "duration": 19,
    "start_time": "2024-07-11T08:15:42.902Z"
   },
   {
    "duration": 576,
    "start_time": "2024-07-11T08:15:42.924Z"
   },
   {
    "duration": 22,
    "start_time": "2024-07-11T08:15:43.503Z"
   },
   {
    "duration": 849,
    "start_time": "2024-07-11T08:15:43.528Z"
   },
   {
    "duration": 3,
    "start_time": "2024-07-11T08:15:44.380Z"
   },
   {
    "duration": 14,
    "start_time": "2024-07-11T08:15:44.386Z"
   },
   {
    "duration": 7,
    "start_time": "2024-07-11T08:15:44.402Z"
   },
   {
    "duration": 6,
    "start_time": "2024-07-11T08:18:25.722Z"
   },
   {
    "duration": 318,
    "start_time": "2024-07-11T08:24:35.034Z"
   },
   {
    "duration": 1289,
    "start_time": "2024-07-11T08:24:44.168Z"
   },
   {
    "duration": 1800,
    "start_time": "2024-07-11T08:24:45.462Z"
   },
   {
    "duration": 837,
    "start_time": "2024-07-11T08:24:47.266Z"
   },
   {
    "duration": 826,
    "start_time": "2024-07-11T08:24:48.107Z"
   },
   {
    "duration": 43,
    "start_time": "2024-07-11T08:24:48.937Z"
   },
   {
    "duration": 40,
    "start_time": "2024-07-11T08:24:48.983Z"
   },
   {
    "duration": 64,
    "start_time": "2024-07-11T08:24:49.025Z"
   },
   {
    "duration": 10,
    "start_time": "2024-07-11T08:24:49.092Z"
   },
   {
    "duration": 118,
    "start_time": "2024-07-11T08:24:49.105Z"
   },
   {
    "duration": 115,
    "start_time": "2024-07-11T08:24:49.226Z"
   },
   {
    "duration": 424,
    "start_time": "2024-07-11T08:24:49.345Z"
   },
   {
    "duration": 6,
    "start_time": "2024-07-11T08:24:49.772Z"
   },
   {
    "duration": 197,
    "start_time": "2024-07-11T08:24:49.781Z"
   },
   {
    "duration": 5,
    "start_time": "2024-07-11T08:24:49.987Z"
   },
   {
    "duration": 86,
    "start_time": "2024-07-11T08:24:49.996Z"
   },
   {
    "duration": 6,
    "start_time": "2024-07-11T08:24:50.085Z"
   },
   {
    "duration": 42,
    "start_time": "2024-07-11T08:24:50.096Z"
   },
   {
    "duration": 27,
    "start_time": "2024-07-11T08:24:50.141Z"
   },
   {
    "duration": 120,
    "start_time": "2024-07-11T08:24:50.171Z"
   },
   {
    "duration": 109,
    "start_time": "2024-07-11T08:24:50.293Z"
   },
   {
    "duration": 202,
    "start_time": "2024-07-11T08:24:50.405Z"
   },
   {
    "duration": 313,
    "start_time": "2024-07-11T08:24:50.611Z"
   },
   {
    "duration": 6,
    "start_time": "2024-07-11T08:24:50.927Z"
   },
   {
    "duration": 855,
    "start_time": "2024-07-11T08:24:50.936Z"
   },
   {
    "duration": 11,
    "start_time": "2024-07-11T08:24:51.794Z"
   },
   {
    "duration": 146,
    "start_time": "2024-07-11T08:24:51.807Z"
   },
   {
    "duration": 20,
    "start_time": "2024-07-11T08:24:51.956Z"
   },
   {
    "duration": 19,
    "start_time": "2024-07-11T08:24:51.979Z"
   },
   {
    "duration": 572,
    "start_time": "2024-07-11T08:24:52.000Z"
   },
   {
    "duration": 21,
    "start_time": "2024-07-11T08:24:52.575Z"
   },
   {
    "duration": 847,
    "start_time": "2024-07-11T08:24:52.599Z"
   },
   {
    "duration": 4,
    "start_time": "2024-07-11T08:24:53.449Z"
   },
   {
    "duration": 11,
    "start_time": "2024-07-11T08:24:53.467Z"
   },
   {
    "duration": 151,
    "start_time": "2024-07-11T08:26:44.505Z"
   },
   {
    "duration": 10,
    "start_time": "2024-07-11T08:26:57.845Z"
   },
   {
    "duration": 1107,
    "start_time": "2024-07-11T08:29:04.650Z"
   },
   {
    "duration": 1652,
    "start_time": "2024-07-11T08:29:05.762Z"
   },
   {
    "duration": 775,
    "start_time": "2024-07-11T08:29:07.416Z"
   },
   {
    "duration": 839,
    "start_time": "2024-07-11T08:29:08.194Z"
   },
   {
    "duration": 46,
    "start_time": "2024-07-11T08:29:09.037Z"
   },
   {
    "duration": 41,
    "start_time": "2024-07-11T08:29:09.086Z"
   },
   {
    "duration": 59,
    "start_time": "2024-07-11T08:29:09.130Z"
   },
   {
    "duration": 10,
    "start_time": "2024-07-11T08:29:09.192Z"
   },
   {
    "duration": 116,
    "start_time": "2024-07-11T08:29:09.205Z"
   },
   {
    "duration": 98,
    "start_time": "2024-07-11T08:29:09.324Z"
   },
   {
    "duration": 423,
    "start_time": "2024-07-11T08:29:09.425Z"
   },
   {
    "duration": 6,
    "start_time": "2024-07-11T08:29:09.851Z"
   },
   {
    "duration": 194,
    "start_time": "2024-07-11T08:29:09.869Z"
   },
   {
    "duration": 5,
    "start_time": "2024-07-11T08:29:10.072Z"
   },
   {
    "duration": 88,
    "start_time": "2024-07-11T08:29:10.081Z"
   },
   {
    "duration": 4,
    "start_time": "2024-07-11T08:29:10.172Z"
   },
   {
    "duration": 44,
    "start_time": "2024-07-11T08:29:10.180Z"
   },
   {
    "duration": 6,
    "start_time": "2024-07-11T08:29:10.226Z"
   },
   {
    "duration": 116,
    "start_time": "2024-07-11T08:29:10.269Z"
   },
   {
    "duration": 106,
    "start_time": "2024-07-11T08:29:10.388Z"
   },
   {
    "duration": 204,
    "start_time": "2024-07-11T08:29:10.497Z"
   },
   {
    "duration": 297,
    "start_time": "2024-07-11T08:29:10.704Z"
   },
   {
    "duration": 7,
    "start_time": "2024-07-11T08:29:11.004Z"
   },
   {
    "duration": 844,
    "start_time": "2024-07-11T08:29:11.014Z"
   },
   {
    "duration": 12,
    "start_time": "2024-07-11T08:29:11.868Z"
   },
   {
    "duration": 141,
    "start_time": "2024-07-11T08:29:11.884Z"
   },
   {
    "duration": 15,
    "start_time": "2024-07-11T08:29:12.029Z"
   },
   {
    "duration": 36,
    "start_time": "2024-07-11T08:29:12.047Z"
   },
   {
    "duration": 567,
    "start_time": "2024-07-11T08:29:12.086Z"
   },
   {
    "duration": 33,
    "start_time": "2024-07-11T08:29:12.656Z"
   },
   {
    "duration": 846,
    "start_time": "2024-07-11T08:29:12.692Z"
   },
   {
    "duration": 4,
    "start_time": "2024-07-11T08:29:13.541Z"
   },
   {
    "duration": 24,
    "start_time": "2024-07-11T08:29:13.548Z"
   },
   {
    "duration": 10,
    "start_time": "2024-07-11T08:29:13.575Z"
   },
   {
    "duration": 2003662,
    "start_time": "2024-07-11T08:29:29.815Z"
   },
   {
    "duration": 1648,
    "start_time": "2024-07-12T13:55:05.931Z"
   },
   {
    "duration": 5194,
    "start_time": "2024-07-12T13:55:07.583Z"
   },
   {
    "duration": 822,
    "start_time": "2024-07-12T13:55:12.780Z"
   },
   {
    "duration": 857,
    "start_time": "2024-07-12T13:55:13.604Z"
   },
   {
    "duration": 49,
    "start_time": "2024-07-12T13:55:14.467Z"
   },
   {
    "duration": 45,
    "start_time": "2024-07-12T13:55:14.520Z"
   },
   {
    "duration": 72,
    "start_time": "2024-07-12T13:55:14.567Z"
   },
   {
    "duration": 10,
    "start_time": "2024-07-12T13:55:14.642Z"
   },
   {
    "duration": 123,
    "start_time": "2024-07-12T13:55:14.655Z"
   },
   {
    "duration": 103,
    "start_time": "2024-07-12T13:55:14.781Z"
   },
   {
    "duration": 446,
    "start_time": "2024-07-12T13:55:14.887Z"
   },
   {
    "duration": 5,
    "start_time": "2024-07-12T13:55:15.337Z"
   },
   {
    "duration": 206,
    "start_time": "2024-07-12T13:55:15.345Z"
   },
   {
    "duration": 6,
    "start_time": "2024-07-12T13:55:15.558Z"
   },
   {
    "duration": 105,
    "start_time": "2024-07-12T13:55:15.568Z"
   },
   {
    "duration": 5,
    "start_time": "2024-07-12T13:55:15.676Z"
   },
   {
    "duration": 69,
    "start_time": "2024-07-12T13:55:15.684Z"
   },
   {
    "duration": 5,
    "start_time": "2024-07-12T13:55:15.757Z"
   },
   {
    "duration": 158,
    "start_time": "2024-07-12T13:55:15.765Z"
   },
   {
    "duration": 121,
    "start_time": "2024-07-12T13:55:15.926Z"
   },
   {
    "duration": 222,
    "start_time": "2024-07-12T13:55:16.050Z"
   },
   {
    "duration": 325,
    "start_time": "2024-07-12T13:55:16.275Z"
   },
   {
    "duration": 8,
    "start_time": "2024-07-12T13:55:16.603Z"
   },
   {
    "duration": 915,
    "start_time": "2024-07-12T13:55:16.615Z"
   },
   {
    "duration": 14,
    "start_time": "2024-07-12T13:55:17.535Z"
   },
   {
    "duration": 139,
    "start_time": "2024-07-12T13:55:17.552Z"
   },
   {
    "duration": 26,
    "start_time": "2024-07-12T13:55:17.694Z"
   },
   {
    "duration": 21,
    "start_time": "2024-07-12T13:55:17.723Z"
   },
   {
    "duration": 534,
    "start_time": "2024-07-12T13:55:17.749Z"
   },
   {
    "duration": 32,
    "start_time": "2024-07-12T13:55:18.286Z"
   },
   {
    "duration": 889,
    "start_time": "2024-07-12T13:55:18.320Z"
   },
   {
    "duration": 5,
    "start_time": "2024-07-12T13:55:19.214Z"
   },
   {
    "duration": 20,
    "start_time": "2024-07-12T13:55:19.223Z"
   },
   {
    "duration": 11,
    "start_time": "2024-07-12T13:55:35.382Z"
   },
   {
    "duration": 2013858,
    "start_time": "2024-07-12T13:55:54.057Z"
   },
   {
    "duration": 425,
    "start_time": "2024-07-12T15:08:08.849Z"
   },
   {
    "duration": 24,
    "start_time": "2024-07-12T15:12:20.734Z"
   },
   {
    "duration": 25,
    "start_time": "2024-07-12T15:12:42.787Z"
   },
   {
    "duration": 24,
    "start_time": "2024-07-12T15:12:52.209Z"
   },
   {
    "duration": 24,
    "start_time": "2024-07-12T15:13:15.589Z"
   },
   {
    "duration": 5,
    "start_time": "2024-07-12T15:13:19.379Z"
   },
   {
    "duration": 6,
    "start_time": "2024-07-12T15:13:29.907Z"
   },
   {
    "duration": 6,
    "start_time": "2024-07-12T15:13:41.579Z"
   },
   {
    "duration": 26,
    "start_time": "2024-07-12T15:14:15.102Z"
   },
   {
    "duration": 4,
    "start_time": "2024-07-12T15:14:23.428Z"
   },
   {
    "duration": 6,
    "start_time": "2024-07-12T15:14:29.646Z"
   },
   {
    "duration": 6,
    "start_time": "2024-07-12T15:14:41.454Z"
   },
   {
    "duration": 6,
    "start_time": "2024-07-12T15:33:24.514Z"
   },
   {
    "duration": 5,
    "start_time": "2024-07-12T15:35:48.168Z"
   },
   {
    "duration": 4,
    "start_time": "2024-07-12T15:36:34.134Z"
   },
   {
    "duration": 5,
    "start_time": "2024-07-12T15:36:44.628Z"
   },
   {
    "duration": 11,
    "start_time": "2024-07-12T15:37:44.301Z"
   },
   {
    "duration": 10,
    "start_time": "2024-07-12T15:37:57.761Z"
   },
   {
    "duration": 1568006,
    "start_time": "2024-07-12T15:38:15.639Z"
   },
   {
    "duration": 1178,
    "start_time": "2024-07-12T16:04:36.734Z"
   },
   {
    "duration": 1723,
    "start_time": "2024-07-12T16:04:37.916Z"
   },
   {
    "duration": 785,
    "start_time": "2024-07-12T16:04:39.642Z"
   },
   {
    "duration": 891,
    "start_time": "2024-07-12T16:04:40.432Z"
   },
   {
    "duration": 32,
    "start_time": "2024-07-12T16:04:41.327Z"
   },
   {
    "duration": 67,
    "start_time": "2024-07-12T16:04:41.362Z"
   },
   {
    "duration": 42,
    "start_time": "2024-07-12T16:04:41.432Z"
   },
   {
    "duration": 35,
    "start_time": "2024-07-12T16:04:41.477Z"
   },
   {
    "duration": 116,
    "start_time": "2024-07-12T16:04:41.515Z"
   },
   {
    "duration": 106,
    "start_time": "2024-07-12T16:04:41.636Z"
   },
   {
    "duration": 447,
    "start_time": "2024-07-12T16:04:41.745Z"
   },
   {
    "duration": 14,
    "start_time": "2024-07-12T16:04:42.195Z"
   },
   {
    "duration": 201,
    "start_time": "2024-07-12T16:04:42.213Z"
   },
   {
    "duration": 6,
    "start_time": "2024-07-12T16:04:42.418Z"
   },
   {
    "duration": 87,
    "start_time": "2024-07-12T16:04:42.427Z"
   },
   {
    "duration": 6,
    "start_time": "2024-07-12T16:04:42.517Z"
   },
   {
    "duration": 46,
    "start_time": "2024-07-12T16:04:42.527Z"
   },
   {
    "duration": 34,
    "start_time": "2024-07-12T16:04:42.576Z"
   },
   {
    "duration": 162,
    "start_time": "2024-07-12T16:04:42.614Z"
   },
   {
    "duration": 107,
    "start_time": "2024-07-12T16:04:42.779Z"
   },
   {
    "duration": 221,
    "start_time": "2024-07-12T16:04:42.889Z"
   },
   {
    "duration": 333,
    "start_time": "2024-07-12T16:04:43.114Z"
   },
   {
    "duration": 9,
    "start_time": "2024-07-12T16:04:43.450Z"
   },
   {
    "duration": 899,
    "start_time": "2024-07-12T16:04:43.465Z"
   },
   {
    "duration": 11,
    "start_time": "2024-07-12T16:04:44.368Z"
   },
   {
    "duration": 164,
    "start_time": "2024-07-12T16:04:44.385Z"
   },
   {
    "duration": 14,
    "start_time": "2024-07-12T16:04:44.552Z"
   },
   {
    "duration": 50,
    "start_time": "2024-07-12T16:04:44.574Z"
   },
   {
    "duration": 597,
    "start_time": "2024-07-12T16:04:44.627Z"
   },
   {
    "duration": 27,
    "start_time": "2024-07-12T16:04:45.227Z"
   },
   {
    "duration": 898,
    "start_time": "2024-07-12T16:04:45.260Z"
   },
   {
    "duration": 4,
    "start_time": "2024-07-12T16:04:46.160Z"
   },
   {
    "duration": 9,
    "start_time": "2024-07-12T16:04:46.168Z"
   },
   {
    "duration": 32,
    "start_time": "2024-07-12T16:04:46.180Z"
   },
   {
    "duration": 14,
    "start_time": "2024-07-12T16:08:50.112Z"
   },
   {
    "duration": 336,
    "start_time": "2024-07-12T17:28:27.596Z"
   },
   {
    "duration": 1235,
    "start_time": "2024-07-12T17:28:34.287Z"
   },
   {
    "duration": 1810,
    "start_time": "2024-07-12T17:28:35.526Z"
   },
   {
    "duration": 795,
    "start_time": "2024-07-12T17:28:37.339Z"
   },
   {
    "duration": 946,
    "start_time": "2024-07-12T17:28:38.138Z"
   },
   {
    "duration": 44,
    "start_time": "2024-07-12T17:28:39.087Z"
   },
   {
    "duration": 44,
    "start_time": "2024-07-12T17:28:39.134Z"
   },
   {
    "duration": 66,
    "start_time": "2024-07-12T17:28:39.181Z"
   },
   {
    "duration": 11,
    "start_time": "2024-07-12T17:28:39.250Z"
   },
   {
    "duration": 117,
    "start_time": "2024-07-12T17:28:39.265Z"
   },
   {
    "duration": 138,
    "start_time": "2024-07-12T17:28:39.389Z"
   },
   {
    "duration": 438,
    "start_time": "2024-07-12T17:28:39.530Z"
   },
   {
    "duration": 6,
    "start_time": "2024-07-12T17:28:39.971Z"
   },
   {
    "duration": 226,
    "start_time": "2024-07-12T17:28:39.982Z"
   },
   {
    "duration": 6,
    "start_time": "2024-07-12T17:28:40.213Z"
   },
   {
    "duration": 98,
    "start_time": "2024-07-12T17:28:40.223Z"
   },
   {
    "duration": 9,
    "start_time": "2024-07-12T17:28:40.324Z"
   },
   {
    "duration": 45,
    "start_time": "2024-07-12T17:28:40.337Z"
   },
   {
    "duration": 25,
    "start_time": "2024-07-12T17:28:40.385Z"
   },
   {
    "duration": 136,
    "start_time": "2024-07-12T17:28:40.415Z"
   },
   {
    "duration": 112,
    "start_time": "2024-07-12T17:28:40.554Z"
   },
   {
    "duration": 232,
    "start_time": "2024-07-12T17:28:40.669Z"
   },
   {
    "duration": 366,
    "start_time": "2024-07-12T17:28:40.909Z"
   },
   {
    "duration": 7,
    "start_time": "2024-07-12T17:28:41.278Z"
   },
   {
    "duration": 886,
    "start_time": "2024-07-12T17:28:41.288Z"
   },
   {
    "duration": 11,
    "start_time": "2024-07-12T17:28:42.178Z"
   },
   {
    "duration": 178,
    "start_time": "2024-07-12T17:28:42.209Z"
   },
   {
    "duration": 21,
    "start_time": "2024-07-12T17:28:42.391Z"
   },
   {
    "duration": 20,
    "start_time": "2024-07-12T17:28:42.419Z"
   },
   {
    "duration": 278,
    "start_time": "2024-07-12T17:28:50.045Z"
   },
   {
    "duration": 14,
    "start_time": "2024-07-12T17:30:27.353Z"
   },
   {
    "duration": 141,
    "start_time": "2024-07-12T17:30:40.176Z"
   },
   {
    "duration": 40,
    "start_time": "2024-07-12T17:30:43.878Z"
   },
   {
    "duration": 28,
    "start_time": "2024-07-12T17:31:13.369Z"
   },
   {
    "duration": 23,
    "start_time": "2024-07-12T17:31:20.197Z"
   },
   {
    "duration": 26,
    "start_time": "2024-07-12T17:31:32.317Z"
   },
   {
    "duration": 36,
    "start_time": "2024-07-12T17:31:51.668Z"
   },
   {
    "duration": 36,
    "start_time": "2024-07-12T17:32:08.283Z"
   },
   {
    "duration": 36,
    "start_time": "2024-07-12T17:33:11.977Z"
   },
   {
    "duration": 39,
    "start_time": "2024-07-12T17:33:19.360Z"
   },
   {
    "duration": 37,
    "start_time": "2024-07-12T17:33:26.130Z"
   },
   {
    "duration": 25,
    "start_time": "2024-07-12T17:33:49.190Z"
   },
   {
    "duration": 7,
    "start_time": "2024-07-12T17:34:05.161Z"
   },
   {
    "duration": 215,
    "start_time": "2024-07-12T17:34:16.405Z"
   },
   {
    "duration": 327,
    "start_time": "2024-07-12T17:36:24.037Z"
   },
   {
    "duration": 261,
    "start_time": "2024-07-12T17:36:55.600Z"
   },
   {
    "duration": 7,
    "start_time": "2024-07-12T17:37:19.551Z"
   },
   {
    "duration": 12,
    "start_time": "2024-07-12T17:37:31.387Z"
   },
   {
    "duration": 8,
    "start_time": "2024-07-12T17:37:54.393Z"
   },
   {
    "duration": 309,
    "start_time": "2024-07-12T17:38:12.653Z"
   },
   {
    "duration": 6,
    "start_time": "2024-07-12T17:38:44.069Z"
   },
   {
    "duration": 384,
    "start_time": "2024-07-12T17:38:59.816Z"
   },
   {
    "duration": 4,
    "start_time": "2024-07-12T18:13:01.894Z"
   },
   {
    "duration": 4,
    "start_time": "2024-07-12T18:14:12.414Z"
   },
   {
    "duration": 6,
    "start_time": "2024-07-12T18:14:13.536Z"
   },
   {
    "duration": 26,
    "start_time": "2024-07-12T18:14:32.161Z"
   },
   {
    "duration": 4,
    "start_time": "2024-07-12T18:14:42.317Z"
   },
   {
    "duration": 5,
    "start_time": "2024-07-12T18:15:03.458Z"
   },
   {
    "duration": 5,
    "start_time": "2024-07-12T18:15:04.297Z"
   },
   {
    "duration": 5,
    "start_time": "2024-07-12T18:15:13.845Z"
   },
   {
    "duration": 5,
    "start_time": "2024-07-12T18:15:14.440Z"
   },
   {
    "duration": 5,
    "start_time": "2024-07-12T18:15:24.611Z"
   },
   {
    "duration": 5,
    "start_time": "2024-07-12T18:15:26.349Z"
   },
   {
    "duration": 5,
    "start_time": "2024-07-12T18:16:39.336Z"
   },
   {
    "duration": 4,
    "start_time": "2024-07-12T18:16:39.981Z"
   },
   {
    "duration": 4,
    "start_time": "2024-07-12T18:16:56.933Z"
   },
   {
    "duration": 3,
    "start_time": "2024-07-12T18:16:58.092Z"
   },
   {
    "duration": 4,
    "start_time": "2024-07-12T18:17:30.148Z"
   },
   {
    "duration": 4,
    "start_time": "2024-07-12T18:17:30.970Z"
   },
   {
    "duration": 5,
    "start_time": "2024-07-12T18:17:50.897Z"
   },
   {
    "duration": 5,
    "start_time": "2024-07-12T18:17:52.951Z"
   },
   {
    "duration": 5,
    "start_time": "2024-07-12T18:18:33.376Z"
   },
   {
    "duration": 4,
    "start_time": "2024-07-12T18:18:54.422Z"
   },
   {
    "duration": 5,
    "start_time": "2024-07-12T18:19:05.653Z"
   },
   {
    "duration": 5,
    "start_time": "2024-07-12T18:19:37.335Z"
   },
   {
    "duration": 4,
    "start_time": "2024-07-12T18:21:59.657Z"
   },
   {
    "duration": 1523,
    "start_time": "2024-07-12T18:26:23.123Z"
   },
   {
    "duration": 118,
    "start_time": "2024-07-12T18:26:32.073Z"
   },
   {
    "duration": 25,
    "start_time": "2024-07-12T18:26:52.607Z"
   },
   {
    "duration": 25,
    "start_time": "2024-07-12T18:26:58.776Z"
   },
   {
    "duration": 26,
    "start_time": "2024-07-12T18:28:12.276Z"
   },
   {
    "duration": 24,
    "start_time": "2024-07-12T18:28:17.162Z"
   },
   {
    "duration": 26,
    "start_time": "2024-07-12T18:28:26.492Z"
   },
   {
    "duration": 34,
    "start_time": "2024-07-12T18:29:37.362Z"
   },
   {
    "duration": 27,
    "start_time": "2024-07-12T18:30:55.201Z"
   },
   {
    "duration": 1245,
    "start_time": "2024-07-12T18:31:01.313Z"
   },
   {
    "duration": 9,
    "start_time": "2024-07-12T18:31:02.562Z"
   },
   {
    "duration": 739,
    "start_time": "2024-07-12T18:31:02.575Z"
   },
   {
    "duration": 875,
    "start_time": "2024-07-12T18:31:03.318Z"
   },
   {
    "duration": 32,
    "start_time": "2024-07-12T18:31:04.196Z"
   },
   {
    "duration": 35,
    "start_time": "2024-07-12T18:31:04.231Z"
   },
   {
    "duration": 71,
    "start_time": "2024-07-12T18:31:04.268Z"
   },
   {
    "duration": 11,
    "start_time": "2024-07-12T18:31:04.341Z"
   },
   {
    "duration": 108,
    "start_time": "2024-07-12T18:31:04.355Z"
   },
   {
    "duration": 131,
    "start_time": "2024-07-12T18:31:04.471Z"
   },
   {
    "duration": 443,
    "start_time": "2024-07-12T18:31:04.605Z"
   },
   {
    "duration": 5,
    "start_time": "2024-07-12T18:31:05.052Z"
   },
   {
    "duration": 219,
    "start_time": "2024-07-12T18:31:05.060Z"
   },
   {
    "duration": 6,
    "start_time": "2024-07-12T18:31:05.282Z"
   },
   {
    "duration": 77,
    "start_time": "2024-07-12T18:31:05.308Z"
   },
   {
    "duration": 6,
    "start_time": "2024-07-12T18:31:05.388Z"
   },
   {
    "duration": 46,
    "start_time": "2024-07-12T18:31:05.411Z"
   },
   {
    "duration": 6,
    "start_time": "2024-07-12T18:31:05.460Z"
   },
   {
    "duration": 152,
    "start_time": "2024-07-12T18:31:05.469Z"
   },
   {
    "duration": 115,
    "start_time": "2024-07-12T18:31:05.625Z"
   },
   {
    "duration": 214,
    "start_time": "2024-07-12T18:31:05.747Z"
   },
   {
    "duration": 506,
    "start_time": "2024-07-12T18:31:05.964Z"
   },
   {
    "duration": 10,
    "start_time": "2024-07-12T18:31:06.476Z"
   },
   {
    "duration": 875,
    "start_time": "2024-07-12T18:31:06.489Z"
   },
   {
    "duration": 19,
    "start_time": "2024-07-12T18:31:07.371Z"
   },
   {
    "duration": 130,
    "start_time": "2024-07-12T18:31:07.393Z"
   },
   {
    "duration": 12,
    "start_time": "2024-07-12T18:31:07.527Z"
   },
   {
    "duration": 19,
    "start_time": "2024-07-12T18:31:07.547Z"
   },
   {
    "duration": 309,
    "start_time": "2024-07-12T18:31:07.569Z"
   },
   {
    "duration": 305,
    "start_time": "2024-07-12T18:31:07.881Z"
   },
   {
    "duration": 7,
    "start_time": "2024-07-12T18:31:08.189Z"
   },
   {
    "duration": 6,
    "start_time": "2024-07-12T18:31:08.210Z"
   },
   {
    "duration": 6,
    "start_time": "2024-07-12T18:31:08.218Z"
   },
   {
    "duration": 27,
    "start_time": "2024-07-12T18:31:08.228Z"
   },
   {
    "duration": 52,
    "start_time": "2024-07-12T18:31:08.258Z"
   },
   {
    "duration": 30,
    "start_time": "2024-07-12T18:31:17.916Z"
   },
   {
    "duration": 5,
    "start_time": "2024-07-12T18:31:19.923Z"
   },
   {
    "duration": 189,
    "start_time": "2024-07-12T18:35:07.552Z"
   },
   {
    "duration": 22,
    "start_time": "2024-07-12T18:35:12.185Z"
   },
   {
    "duration": 224,
    "start_time": "2024-07-12T18:35:19.307Z"
   },
   {
    "duration": 3,
    "start_time": "2024-07-12T18:35:22.820Z"
   },
   {
    "duration": 12,
    "start_time": "2024-07-12T18:36:07.538Z"
   },
   {
    "duration": 149253,
    "start_time": "2024-07-12T18:36:16.578Z"
   },
   {
    "duration": 1343,
    "start_time": "2024-07-12T18:38:54.587Z"
   },
   {
    "duration": 1746,
    "start_time": "2024-07-12T18:38:55.935Z"
   },
   {
    "duration": 858,
    "start_time": "2024-07-12T18:38:57.684Z"
   },
   {
    "duration": 891,
    "start_time": "2024-07-12T18:38:58.547Z"
   },
   {
    "duration": 29,
    "start_time": "2024-07-12T18:38:59.441Z"
   },
   {
    "duration": 63,
    "start_time": "2024-07-12T18:38:59.473Z"
   },
   {
    "duration": 43,
    "start_time": "2024-07-12T18:38:59.540Z"
   },
   {
    "duration": 11,
    "start_time": "2024-07-12T18:38:59.610Z"
   },
   {
    "duration": 125,
    "start_time": "2024-07-12T18:38:59.624Z"
   },
   {
    "duration": 108,
    "start_time": "2024-07-12T18:38:59.755Z"
   },
   {
    "duration": 449,
    "start_time": "2024-07-12T18:38:59.866Z"
   },
   {
    "duration": 6,
    "start_time": "2024-07-12T18:39:00.318Z"
   },
   {
    "duration": 200,
    "start_time": "2024-07-12T18:39:00.328Z"
   },
   {
    "duration": 7,
    "start_time": "2024-07-12T18:39:00.530Z"
   },
   {
    "duration": 91,
    "start_time": "2024-07-12T18:39:00.541Z"
   },
   {
    "duration": 6,
    "start_time": "2024-07-12T18:39:00.636Z"
   },
   {
    "duration": 73,
    "start_time": "2024-07-12T18:39:00.645Z"
   },
   {
    "duration": 6,
    "start_time": "2024-07-12T18:39:00.721Z"
   },
   {
    "duration": 131,
    "start_time": "2024-07-12T18:39:00.731Z"
   },
   {
    "duration": 110,
    "start_time": "2024-07-12T18:39:00.866Z"
   },
   {
    "duration": 209,
    "start_time": "2024-07-12T18:39:00.979Z"
   },
   {
    "duration": 323,
    "start_time": "2024-07-12T18:39:01.192Z"
   },
   {
    "duration": 11,
    "start_time": "2024-07-12T18:39:01.518Z"
   },
   {
    "duration": 956,
    "start_time": "2024-07-12T18:39:01.532Z"
   },
   {
    "duration": 24,
    "start_time": "2024-07-12T18:39:02.492Z"
   },
   {
    "duration": 145,
    "start_time": "2024-07-12T18:39:02.519Z"
   },
   {
    "duration": 14,
    "start_time": "2024-07-12T18:39:02.667Z"
   },
   {
    "duration": 26,
    "start_time": "2024-07-12T18:39:02.708Z"
   },
   {
    "duration": 380,
    "start_time": "2024-07-12T18:39:02.738Z"
   },
   {
    "duration": 317,
    "start_time": "2024-07-12T18:39:03.122Z"
   },
   {
    "duration": 7,
    "start_time": "2024-07-12T18:39:03.442Z"
   },
   {
    "duration": 8,
    "start_time": "2024-07-12T18:39:03.452Z"
   },
   {
    "duration": 5,
    "start_time": "2024-07-12T18:39:03.464Z"
   },
   {
    "duration": 68,
    "start_time": "2024-07-12T18:39:03.473Z"
   },
   {
    "duration": 7,
    "start_time": "2024-07-12T18:39:03.545Z"
   },
   {
    "duration": 236,
    "start_time": "2024-07-12T18:39:03.555Z"
   },
   {
    "duration": 35,
    "start_time": "2024-07-12T18:39:03.794Z"
   },
   {
    "duration": 241,
    "start_time": "2024-07-12T18:39:03.832Z"
   },
   {
    "duration": 3,
    "start_time": "2024-07-12T18:39:04.076Z"
   },
   {
    "duration": 25,
    "start_time": "2024-07-12T18:39:04.087Z"
   },
   {
    "duration": 10,
    "start_time": "2024-07-12T18:39:24.821Z"
   },
   {
    "duration": 936864,
    "start_time": "2024-07-12T18:40:03.662Z"
   },
   {
    "duration": 6,
    "start_time": "2024-07-12T19:22:15.807Z"
   },
   {
    "duration": 6,
    "start_time": "2024-07-12T19:23:28.779Z"
   },
   {
    "duration": 6,
    "start_time": "2024-07-12T19:23:41.477Z"
   },
   {
    "duration": 11,
    "start_time": "2024-07-12T20:26:52.192Z"
   },
   {
    "duration": 8,
    "start_time": "2024-07-12T20:27:31.273Z"
   },
   {
    "duration": 77,
    "start_time": "2024-07-12T20:29:23.899Z"
   },
   {
    "duration": 256,
    "start_time": "2024-07-12T20:32:06.768Z"
   },
   {
    "duration": 7,
    "start_time": "2024-07-12T20:32:12.534Z"
   },
   {
    "duration": 5,
    "start_time": "2024-07-12T20:33:07.494Z"
   },
   {
    "duration": 313,
    "start_time": "2024-07-12T20:33:36.408Z"
   },
   {
    "duration": 327,
    "start_time": "2024-07-12T20:33:47.191Z"
   },
   {
    "duration": 20938,
    "start_time": "2024-07-12T20:34:11.537Z"
   },
   {
    "duration": 4,
    "start_time": "2024-07-12T20:34:41.560Z"
   },
   {
    "duration": 5,
    "start_time": "2024-07-12T20:34:43.271Z"
   },
   {
    "duration": 808,
    "start_time": "2024-07-12T20:35:00.142Z"
   },
   {
    "duration": 3792,
    "start_time": "2024-07-12T20:35:16.858Z"
   },
   {
    "duration": 3707,
    "start_time": "2024-07-12T20:35:48.149Z"
   },
   {
    "duration": 7010,
    "start_time": "2024-07-12T20:36:02.821Z"
   },
   {
    "duration": 36,
    "start_time": "2024-07-12T20:36:50.356Z"
   },
   {
    "duration": 3942,
    "start_time": "2024-07-12T20:38:15.778Z"
   },
   {
    "duration": 650,
    "start_time": "2024-07-12T20:38:29.380Z"
   },
   {
    "duration": 4,
    "start_time": "2024-07-12T20:39:04.559Z"
   }
  ],
  "kernelspec": {
   "display_name": "Python 3 (ipykernel)",
   "language": "python",
   "name": "python3"
  },
  "language_info": {
   "codemirror_mode": {
    "name": "ipython",
    "version": 3
   },
   "file_extension": ".py",
   "mimetype": "text/x-python",
   "name": "python",
   "nbconvert_exporter": "python",
   "pygments_lexer": "ipython3",
   "version": "3.9.19"
  },
  "toc": {
   "base_numbering": 1,
   "nav_menu": {},
   "number_sections": true,
   "sideBar": true,
   "skip_h1_title": true,
   "title_cell": "Table of Contents",
   "title_sidebar": "Contents",
   "toc_cell": false,
   "toc_position": {},
   "toc_section_display": true,
   "toc_window_display": false
  }
 },
 "nbformat": 4,
 "nbformat_minor": 2
}
